{
 "cells": [
  {
   "cell_type": "markdown",
   "metadata": {
    "id": "ENsR4_1CeJb7"
   },
   "source": [
    "1. Print out words that start with 's'"
   ]
  },
  {
   "cell_type": "code",
   "execution_count": 8,
   "metadata": {
    "colab": {
     "base_uri": "https://localhost:8080/"
    },
    "executionInfo": {
     "elapsed": 370,
     "status": "ok",
     "timestamp": 1699071275739,
     "user": {
      "displayName": "Suhas H",
      "userId": "02592582202730422462"
     },
     "user_tz": -330
    },
    "id": "r9vxKTFXef3I",
    "outputId": "0e3b960a-af82-4755-e287-e050cdd499a9"
   },
   "outputs": [
    {
     "name": "stdout",
     "output_type": "stream",
     "text": [
      "start\n",
      "s\n",
      "sentence\n"
     ]
    }
   ],
   "source": [
    "str1 = 'Print only the words that start with s in this sentence'\n",
    "list1 = str1.split(' ')\n",
    "\n",
    "for i in list1:\n",
    "  if i[0] == 's':\n",
    "    print(i)\n",
    "  else:\n",
    "    continue"
   ]
  },
  {
   "cell_type": "markdown",
   "metadata": {
    "id": "UtpPtq9yhLLX"
   },
   "source": [
    "2. Use range() to print all the even numbers from 0 to 10."
   ]
  },
  {
   "cell_type": "code",
   "execution_count": 9,
   "metadata": {
    "colab": {
     "base_uri": "https://localhost:8080/"
    },
    "executionInfo": {
     "elapsed": 8,
     "status": "ok",
     "timestamp": 1699071055264,
     "user": {
      "displayName": "Suhas H",
      "userId": "02592582202730422462"
     },
     "user_tz": -330
    },
    "id": "t3Z_6GMJhP3a",
    "outputId": "c30d8c0b-348a-499f-d7db-d646ffee2969"
   },
   "outputs": [
    {
     "name": "stdout",
     "output_type": "stream",
     "text": [
      "0\n",
      "2\n",
      "4\n",
      "6\n",
      "8\n",
      "10\n"
     ]
    }
   ],
   "source": [
    "for i in range(0, 11):\n",
    "  if i % 2 == 0:\n",
    "    print(i)\n",
    "  else:\n",
    "    continue"
   ]
  },
  {
   "cell_type": "markdown",
   "metadata": {
    "id": "lxEk4dfthu60"
   },
   "source": [
    "3. Use a List Comprehension to create a list of all numbers between 1 and 50 that are divisible by 3."
   ]
  },
  {
   "cell_type": "code",
   "execution_count": 10,
   "metadata": {
    "colab": {
     "base_uri": "https://localhost:8080/"
    },
    "executionInfo": {
     "elapsed": 395,
     "status": "ok",
     "timestamp": 1699072246040,
     "user": {
      "displayName": "Suhas H",
      "userId": "02592582202730422462"
     },
     "user_tz": -330
    },
    "id": "niPMbyeZh1bo",
    "outputId": "5e4370cc-4c2f-4e78-f53f-0dbf83762ec1"
   },
   "outputs": [
    {
     "name": "stdout",
     "output_type": "stream",
     "text": [
      "[3, 6, 9, 12, 15, 18, 21, 24, 27, 30, 33, 36, 39, 42, 45, 48]\n",
      "[3, 6, 9, 12, 15, 18, 21, 24, 27, 30, 33, 36, 39, 42, 45, 48]\n"
     ]
    }
   ],
   "source": [
    "list1 = [i for i in range(1, 51) if i % 3 == 0]\n",
    "print(list1)\n",
    "\n",
    "# Aliter:\n",
    "\n",
    "list1 = []\n",
    "for i in range(1, 51):\n",
    "  if i % 3 == 0:\n",
    "    list1.append(i)\n",
    "  else:\n",
    "    continue\n",
    "\n",
    "print(list1)"
   ]
  },
  {
   "cell_type": "markdown",
   "metadata": {
    "id": "Gpcpcsojilpf"
   },
   "source": [
    "4. Go through the string below and if the length of a word is even print \"even!\""
   ]
  },
  {
   "cell_type": "code",
   "execution_count": 11,
   "metadata": {
    "colab": {
     "base_uri": "https://localhost:8080/"
    },
    "executionInfo": {
     "elapsed": 358,
     "status": "ok",
     "timestamp": 1699071586260,
     "user": {
      "displayName": "Suhas H",
      "userId": "02592582202730422462"
     },
     "user_tz": -330
    },
    "id": "9zoFzNDMiqS8",
    "outputId": "3928dd65-3b01-4df1-dc58-7b7748865851"
   },
   "outputs": [
    {
     "name": "stdout",
     "output_type": "stream",
     "text": [
      "only: Even word length!\n",
      "that: Even word length!\n",
      "with: Even word length!\n",
      "in: Even word length!\n",
      "this: Even word length!\n",
      "sentence: Even word length!\n"
     ]
    }
   ],
   "source": [
    "str1 = 'Print only the words that start with s in this sentence'\n",
    "\n",
    "list1 = str1.split(' ')\n",
    "\n",
    "for i in list1:\n",
    "  if len(i) % 2 == 0:\n",
    "    print(f'{i}: Even word length!')\n",
    "  else:\n",
    "    continue"
   ]
  },
  {
   "cell_type": "markdown",
   "metadata": {
    "id": "M0Faa8S1jyFI"
   },
   "source": [
    "5.\n",
    "Write a program that prints the integers from 1 to 100. But for multiples of three print \"Fizz\" instead of the number, and for the multiples of five print \"Buzz\". For numbers which are multiples of both three and five print \"FizzBuzz\"."
   ]
  },
  {
   "cell_type": "code",
   "execution_count": 12,
   "metadata": {
    "colab": {
     "base_uri": "https://localhost:8080/"
    },
    "executionInfo": {
     "elapsed": 8,
     "status": "ok",
     "timestamp": 1699072019482,
     "user": {
      "displayName": "Suhas H",
      "userId": "02592582202730422462"
     },
     "user_tz": -330
    },
    "id": "N3nvPKqokGOH",
    "outputId": "343e2c38-c634-4b03-bc12-67f9aa2631b3"
   },
   "outputs": [
    {
     "name": "stdout",
     "output_type": "stream",
     "text": [
      "1\n",
      "2\n",
      "Fizz\n",
      "4\n",
      "Buzz\n",
      "Fizz\n",
      "7\n",
      "8\n",
      "Fizz\n",
      "Buzz\n",
      "11\n",
      "Fizz\n",
      "13\n",
      "14\n",
      "FizzBuzz\n",
      "16\n",
      "17\n",
      "Fizz\n",
      "19\n",
      "Buzz\n",
      "Fizz\n",
      "22\n",
      "23\n",
      "Fizz\n",
      "Buzz\n",
      "26\n",
      "Fizz\n",
      "28\n",
      "29\n",
      "FizzBuzz\n",
      "31\n",
      "32\n",
      "Fizz\n",
      "34\n",
      "Buzz\n",
      "Fizz\n",
      "37\n",
      "38\n",
      "Fizz\n",
      "Buzz\n",
      "41\n",
      "Fizz\n",
      "43\n",
      "44\n",
      "FizzBuzz\n",
      "46\n",
      "47\n",
      "Fizz\n",
      "49\n",
      "Buzz\n",
      "Fizz\n",
      "52\n",
      "53\n",
      "Fizz\n",
      "Buzz\n",
      "56\n",
      "Fizz\n",
      "58\n",
      "59\n",
      "FizzBuzz\n",
      "61\n",
      "62\n",
      "Fizz\n",
      "64\n",
      "Buzz\n",
      "Fizz\n",
      "67\n",
      "68\n",
      "Fizz\n",
      "Buzz\n",
      "71\n",
      "Fizz\n",
      "73\n",
      "74\n",
      "FizzBuzz\n",
      "76\n",
      "77\n",
      "Fizz\n",
      "79\n",
      "Buzz\n",
      "Fizz\n",
      "82\n",
      "83\n",
      "Fizz\n",
      "Buzz\n",
      "86\n",
      "Fizz\n",
      "88\n",
      "89\n",
      "FizzBuzz\n",
      "91\n",
      "92\n",
      "Fizz\n",
      "94\n",
      "Buzz\n",
      "Fizz\n",
      "97\n",
      "98\n",
      "Fizz\n",
      "Buzz\n"
     ]
    }
   ],
   "source": [
    "for i in range(1, 101):\n",
    "  if (i % 3 == 0) and (i % 5 != 0):\n",
    "    print('Fizz')\n",
    "  elif (i % 3 != 0) and (i % 5 == 0):\n",
    "    print('Buzz')\n",
    "  elif (i % 15 == 0):\n",
    "    print('FizzBuzz')\n",
    "  else:\n",
    "    print(i)"
   ]
  },
  {
   "cell_type": "markdown",
   "metadata": {
    "id": "ocqTyLXQmUqt"
   },
   "source": [
    "6. Use List Comprehension to create a list of the first letters of every word in the string below:"
   ]
  },
  {
   "cell_type": "code",
   "execution_count": 13,
   "metadata": {
    "colab": {
     "base_uri": "https://localhost:8080/"
    },
    "executionInfo": {
     "elapsed": 370,
     "status": "ok",
     "timestamp": 1699072684099,
     "user": {
      "displayName": "Suhas H",
      "userId": "02592582202730422462"
     },
     "user_tz": -330
    },
    "id": "y_fyjDW1mah8",
    "outputId": "46ce8eaf-87f9-49a9-d6f4-f019f91fb00e"
   },
   "outputs": [
    {
     "name": "stdout",
     "output_type": "stream",
     "text": [
      "['C', 'a', 'l', 'o', 't', 'f', 'l', 'o', 'e', 'w', 'i', 't', 's']\n",
      "['C', 'a', 'l', 'o', 't', 'f', 'l', 'o', 'e', 'w', 'i', 't', 's']\n"
     ]
    }
   ],
   "source": [
    "str2 = 'Create a list of the first letters of every word in this string'\n",
    "\n",
    "list2 = str2.split(' ')\n",
    "\n",
    "list3 = [i[0] for i in list2]\n",
    "\n",
    "print(list3)\n",
    "\n",
    "# Aliter:\n",
    "\n",
    "list3 = []\n",
    "for i in list2:\n",
    "  list3.append(i[0])\n",
    "\n",
    "print(list3)"
   ]
  },
  {
   "cell_type": "code",
   "execution_count": null,
   "metadata": {},
   "outputs": [],
   "source": []
  }
 ],
 "metadata": {
  "colab": {
   "authorship_tag": "ABX9TyP5/Sp+9ARHDCjmFGp1dAqk",
   "provenance": []
  },
  "kernelspec": {
   "display_name": "Python 3 (ipykernel)",
   "language": "python",
   "name": "python3"
  },
  "language_info": {
   "codemirror_mode": {
    "name": "ipython",
    "version": 3
   },
   "file_extension": ".py",
   "mimetype": "text/x-python",
   "name": "python",
   "nbconvert_exporter": "python",
   "pygments_lexer": "ipython3",
   "version": "3.8.18"
  }
 },
 "nbformat": 4,
 "nbformat_minor": 1
}
