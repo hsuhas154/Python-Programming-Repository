{
 "cells": [
  {
   "cell_type": "markdown",
   "id": "d2017f62",
   "metadata": {},
   "source": [
    "# Python Foundation Mandatory Project\n",
    "\n",
    "## Name: Suhas H"
   ]
  },
  {
   "cell_type": "markdown",
   "id": "6de71ebb",
   "metadata": {},
   "source": [
    "## Part 1"
   ]
  },
  {
   "cell_type": "markdown",
   "id": "692a3f65",
   "metadata": {},
   "source": [
    "### Questions 1 to 3"
   ]
  },
  {
   "cell_type": "markdown",
   "id": "f689ad87",
   "metadata": {},
   "source": [
    "Q1: You are working in a bank, and you have been given two lists of the employees who worked in 2021. Employees’ names in list 1 are Ramesh, Suresh, Mahesh, Ali, Jacob, and Saritha. List 2 contains the names of Ali, Mukesh, Mahesh, Jacob, Sai, and Sarita. Please write a program that helps to identify people who are common in both lists. Please do not use any in-built function. "
   ]
  },
  {
   "cell_type": "code",
   "execution_count": 1,
   "id": "27233a7d",
   "metadata": {},
   "outputs": [
    {
     "name": "stdout",
     "output_type": "stream",
     "text": [
      "You are required to enter the names of the employees who worked for DBS Bank in the year 2021 in two parts.\n",
      "You will be prompted to enter the names for the first part initially and then, subsequently the second part.\n",
      "\n",
      "\n",
      "First part:\n",
      "Enter the names of the employees who worked in 2021 separated by whitespace and press Enter key when finished: ramesh suresh mahesh ali jacob saritha\n",
      "\n",
      "\n",
      "Second part:\n",
      "Enter the names of the employees who worked in 2021 separated by whitespace and press Enter key when finished: ali mukesh mahesh jacob sai sarita\n",
      "\n",
      "\n",
      "Output begins here:\n",
      "Duplicate entries in both the lists (or parts) are: \n",
      "Mahesh\n",
      "Ali\n",
      "Jacob\n"
     ]
    }
   ],
   "source": [
    "'''\n",
    "Note: Python in - built functions have not been used to compare the duplicate values in both lists (which is the main focus of\n",
    "the problem). However, this program uses sleep() function and accepts user input in order to make it more dynamic in nature.\n",
    "For those extraneous tasks some methods or data type specific built - in functions have been used.\n",
    "'''\n",
    "'''\n",
    "When prompted for the input for the first time, please enter the sample input string:\n",
    "ramesh suresh mahesh ali jacob saritha\n",
    "\n",
    "When prompted for the input for the second time, please enter the sample input string:\n",
    "ali mukesh mahesh jacob sai sarita\n",
    "'''\n",
    "# CAUTION: Statements will be executed with delays because sleep() function has been used interspersedly\n",
    "\n",
    "import time\n",
    "\n",
    "print('You are required to enter the names of the employees who worked for DBS Bank in the year 2021 in two parts.')\n",
    "\n",
    "time.sleep(8)\n",
    "\n",
    "print('You will be prompted to enter the names for the first part initially and then, subsequently the second part.')\n",
    "\n",
    "time.sleep(8)\n",
    "\n",
    "print('\\n')\n",
    "\n",
    "print('First part:')\n",
    "\n",
    "time.sleep(3)\n",
    "\n",
    "list1 = input('Enter the names of the employees who worked in 2021 separated by whitespace and press Enter key when finished: ').split(' ')\n",
    "\n",
    "print('\\n')\n",
    "\n",
    "print('Second part:')\n",
    "\n",
    "time.sleep(3)\n",
    "\n",
    "list2 = input('Enter the names of the employees who worked in 2021 separated by whitespace and press Enter key when finished: ').split(' ')\n",
    "\n",
    "print('\\n')\n",
    "\n",
    "print('Output begins here:')\n",
    "\n",
    "w = len(list1)\n",
    "x = len(list2)\n",
    "\n",
    "\n",
    "for i in range(0, w):\n",
    "    list1.append(list1[i].capitalize())\n",
    "    \n",
    "y = len(list1) // 2\n",
    "    \n",
    "list1 = list1[y : : ]\n",
    "\n",
    "for j in range(0, x):\n",
    "    list2.append(list2[j].capitalize())\n",
    "    \n",
    "z = len(list2) // 2\n",
    "\n",
    "list2 = list2[z : : ]\n",
    "\n",
    "duplicate_names = []\n",
    "\n",
    "for t in list1:\n",
    "    if t in list2: \n",
    "        duplicate_names.append(t)\n",
    "    else:\n",
    "        continue\n",
    "            \n",
    "print('Duplicate entries in both the lists (or parts) are: ')\n",
    "for var in duplicate_names:\n",
    "    print(var)"
   ]
  },
  {
   "cell_type": "markdown",
   "id": "82f679cf",
   "metadata": {},
   "source": [
    "### -------------------------------------------------------------------------------------------------------------------------------------------------------------"
   ]
  },
  {
   "cell_type": "markdown",
   "id": "1505250b",
   "metadata": {},
   "source": [
    "Q2: While entering data, someone entered a few names as a common string “Ramesh Suresh Mohit”. Please write a program which separates all the names and converts them into a list. Once converted into a list, please write a program that adds their age. "
   ]
  },
  {
   "cell_type": "code",
   "execution_count": 2,
   "id": "686f23e8",
   "metadata": {},
   "outputs": [
    {
     "name": "stdout",
     "output_type": "stream",
     "text": [
      "Enter the names of the employees: Ramesh Suresh Mohit\n",
      "Enter their respective ages: 22 25 27\n",
      "\n",
      "\n",
      "The names and the respective ages of the employees are:\n",
      "Ramesh : 22\n",
      "Suresh : 25\n",
      "Mohit : 27\n"
     ]
    }
   ],
   "source": [
    "emp_names = input('Enter the names of the employees: ').split(' ')\n",
    "\n",
    "emp_age = input('Enter their respective ages: ').split(' ')\n",
    "\n",
    "emp_age = list(map(int, emp_age))\n",
    "\n",
    "key_value_pairs = zip(emp_names, emp_age)\n",
    "\n",
    "name_age_details = dict(key_value_pairs)\n",
    "\n",
    "print('\\n')\n",
    "\n",
    "print('The names and the respective ages of the employees are:')\n",
    "for (key, value) in name_age_details.items():\n",
    "    print(f'{key} : {value}')"
   ]
  },
  {
   "cell_type": "markdown",
   "id": "d089dd08",
   "metadata": {},
   "source": [
    "### -----------------------------------------------------------------------------------------------------------------------------------------------------------"
   ]
  },
  {
   "cell_type": "markdown",
   "id": "5b6aaf86",
   "metadata": {},
   "source": [
    "Q3: You are working in a medical store. A patient came to your medical store and asked to buy 2 strips of paracetamol, 3 strips of azithromycin, and 5 strips of Vitamin C. One strip of paracetamol costs Rs 35, one strip of azithromycin costs Rs 49, and one strip of vitamin c costs Rs. 33. Patient gave you Rs 2000. Please tell us what is the total cost of each medicine, the total cost of all medicine, and how much money you refunded to the patient."
   ]
  },
  {
   "cell_type": "code",
   "execution_count": 3,
   "id": "d39aaa04",
   "metadata": {},
   "outputs": [
    {
     "name": "stdout",
     "output_type": "stream",
     "text": [
      "The total cost of 2 strips of Paracetamol tablets is 70\n",
      "The total cost of 3 strips of Azithromycin tablets is 147\n",
      "The total cost of 5 strips of Vitamin C tablets is 165\n",
      "\n",
      "\n",
      "The total price of all the above strips of medicine is 382\n",
      "Money refunded to the patient = Rs. 1618\n"
     ]
    }
   ],
   "source": [
    "price_paracetamol = 35\n",
    "price_azithromycin = 49\n",
    "price_vitaminC = 33\n",
    "\n",
    "print('The total cost of 2 strips of Paracetamol tablets is {}'.format(2 * price_paracetamol))\n",
    "print('The total cost of 3 strips of Azithromycin tablets is {}'.format(3 * price_azithromycin))\n",
    "print('The total cost of 5 strips of Vitamin C tablets is {}'.format(5 * price_vitaminC))\n",
    "\n",
    "total_price = 2 * price_paracetamol + 3 * price_azithromycin + 5 * price_vitaminC\n",
    "\n",
    "print('\\n')\n",
    "print('The total price of all the above strips of medicine is {}'.format(total_price))\n",
    "print('Money refunded to the patient = Rs. {}'.format(2000 - total_price))\n"
   ]
  },
  {
   "cell_type": "code",
   "execution_count": null,
   "id": "b74ca142",
   "metadata": {},
   "outputs": [],
   "source": []
  }
 ],
 "metadata": {
  "kernelspec": {
   "display_name": "Python 3 (ipykernel)",
   "language": "python",
   "name": "python3"
  },
  "language_info": {
   "codemirror_mode": {
    "name": "ipython",
    "version": 3
   },
   "file_extension": ".py",
   "mimetype": "text/x-python",
   "name": "python",
   "nbconvert_exporter": "python",
   "pygments_lexer": "ipython3",
   "version": "3.11.5"
  }
 },
 "nbformat": 4,
 "nbformat_minor": 5
}
