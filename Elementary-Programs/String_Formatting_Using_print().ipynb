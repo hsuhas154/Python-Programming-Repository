{
 "cells": [
  {
   "cell_type": "markdown",
   "id": "c95e4464",
   "metadata": {},
   "source": [
    "# Different ways of printing output in Python"
   ]
  },
  {
   "cell_type": "markdown",
   "id": "d5ebdaa1",
   "metadata": {},
   "source": [
    "## Method 1:"
   ]
  },
  {
   "cell_type": "code",
   "execution_count": 1,
   "id": "045cd3f2",
   "metadata": {},
   "outputs": [
    {
     "name": "stdout",
     "output_type": "stream",
     "text": [
      "Press 1 for Addition\n",
      "Press 2 for Subtraction\n",
      "Press 3 for Multiplication\n",
      "Press 4 for Division\n",
      "Press 5 for Remainder Computation\n",
      "Press 6 for absolute value computation\n",
      "Choose the operation (1 - 6): 6\n",
      "Enter the first number: -9\n",
      "Enter the second number: -5\n",
      "The absolute values of -9 and -5 are 9 and 5. \n"
     ]
    }
   ],
   "source": [
    "print('Press 1 for Addition')\n",
    "print('Press 2 for Subtraction')\n",
    "print('Press 3 for Multiplication')\n",
    "print('Press 4 for Division')\n",
    "print('Press 5 for Remainder Computation')\n",
    "print('Press 6 for absolute value computation')\n",
    "\n",
    "var = int(input('Choose the operation (1 - 6): '))\n",
    "\n",
    "num1 = int(input('Enter the first number: '))\n",
    "num2 = int(input('Enter the second number: '))\n",
    "\n",
    "\n",
    "if var == 1:\n",
    "    print('The sum of {} and {} is {}.'.format(num1, num2, num1 + num2))\n",
    "elif var == 2:\n",
    "    print('The difference of {} and {} is {}.'.format(num1, num2, num1 - num2))\n",
    "elif var == 3:\n",
    "    print('The product of {} and {} is {}.'.format(num1, num2, num1 * num2))\n",
    "elif var == 4:\n",
    "    print('The quotient when {} is divided by {} is {}.'.format(num1, num2, num1 / num2))\n",
    "elif var == 5:\n",
    "    print('The remainder when {} is divided by {} is {}.'.format(num1, num2, num1 % num2))\n",
    "else:\n",
    "    if num1 < 0 and num2 < 0:\n",
    "        print('The absolute values of {} and {} are {} and {}. '.format(num1, num2, -num1, -num2))\n",
    "    elif num1 > 0 and num2 < 0:\n",
    "        print('The absolute values of {} and {} are {} and {}. '.format(num1, num2, num1, -num2))\n",
    "    elif num1 < 0 and num2 > 0:\n",
    "        print('The absolute values of {} and {} are {} and {}. '.format(num1, num2, -num1, num2))\n",
    "    elif num1 > 0 and num2 > 0:\n",
    "        print('The absolute values of {} and {} are {} and {}. '.format(num1, num2, num1, num2))\n",
    "    else:\n",
    "        print('The absolute values of {} and {} are {} and {}. '.format(num1, num2, num1, num2))"
   ]
  },
  {
   "cell_type": "markdown",
   "id": "73e3c01e",
   "metadata": {},
   "source": [
    "## Method 2:"
   ]
  },
  {
   "cell_type": "markdown",
   "id": "d52ef57a",
   "metadata": {},
   "source": [
    "Here we are going to see the usage of format specifiers. Here are some of the format specifiers:\n",
    "1. `%d`: `%d` denotes integer values.\n",
    "2. `%f`: `%f` denotes floating point values. \n",
    "3. `%s`: `%s` denotes strings. This format specifier makes use of the method `str()`.\n",
    "4. `%r`: `%r` denotes string representation including quotation marks and any escape sequences. This format specifier makes use of the method `repr()`."
   ]
  },
  {
   "cell_type": "code",
   "execution_count": 3,
   "id": "d520fb47",
   "metadata": {},
   "outputs": [
    {
     "name": "stdout",
     "output_type": "stream",
     "text": [
      "The name of the employee is John Doe and their email ID is john.doe@example.com.\n"
     ]
    }
   ],
   "source": [
    "str1 = 'John Doe'\n",
    "str2 = 'john.doe@example.com'\n",
    "print('The name of the employee is %s and their email ID is %s.' % (str1, str2))"
   ]
  },
  {
   "cell_type": "code",
   "execution_count": 6,
   "id": "390790c4",
   "metadata": {},
   "outputs": [
    {
     "name": "stdout",
     "output_type": "stream",
     "text": [
      "Heavy to very heavy rain are expected due to cyclone 'Nilofar'.\n"
     ]
    }
   ],
   "source": [
    "print('Heavy to very heavy %s are expected due to cyclone %r.' % ('rain', 'Nilofar'))"
   ]
  },
  {
   "cell_type": "code",
   "execution_count": 7,
   "id": "0d1f2398",
   "metadata": {},
   "outputs": [
    {
     "name": "stdout",
     "output_type": "stream",
     "text": [
      "Illustration of an escape sequence 'tab':\t\n",
      "Illustration of an escape sequence 'tab':'\\t'\n"
     ]
    }
   ],
   "source": [
    "print('Illustration of an escape sequence %r:%s' %('tab', '\\t'))\n",
    "print('Illustration of an escape sequence %r:%r' %('tab', '\\t'))"
   ]
  },
  {
   "cell_type": "code",
   "execution_count": 8,
   "id": "757dcc49",
   "metadata": {},
   "outputs": [
    {
     "name": "stdout",
     "output_type": "stream",
     "text": [
      "I have covered a distance of 10.75 kms today on foot.\n",
      "I have covered a distance of 10 kms today on foot.\n"
     ]
    }
   ],
   "source": [
    "print('I have covered a distance of %s kms today on foot.' % 10.75)\n",
    "print('I have covered a distance of %d kms today on foot.' % 10.75)"
   ]
  },
  {
   "cell_type": "code",
   "execution_count": 9,
   "id": "048019fd",
   "metadata": {},
   "outputs": [
    {
     "name": "stdout",
     "output_type": "stream",
     "text": [
      "12.500000 multiplied by 15.750000 gives the result 196.875000.\n",
      "65535 divided by 27 gives the remainder 6.\n"
     ]
    }
   ],
   "source": [
    "print('%f multiplied by %f gives the result %f.' % (12.50, 15.75, 12.50 * 15.75))\n",
    "print('%d divided by %d gives the remainder %d.' % (65535, 27, 65535 % 27))"
   ]
  },
  {
   "cell_type": "markdown",
   "id": "e963341e",
   "metadata": {},
   "source": [
    "### Precision and formatting floating point values\n",
    "Floating point numbers in Python use the format `%m.nf`. Here `m` represents the minimum number of characters the floating point value must contain. If the number does not meet this minimality condition, then the number will be padded with whitespaces until the minimality condition is satisfied. `n` specifies the precision of the floating point number after its decimal point, that is, how many digits after the decimal point should the floating point value contain. `f` represents the format specifier for floating point numbers. "
   ]
  },
  {
   "cell_type": "code",
   "execution_count": 11,
   "id": "2daeb517",
   "metadata": {},
   "outputs": [
    {
     "name": "stdout",
     "output_type": "stream",
     "text": [
      "Illustration of floating point numbers: 123.45\n",
      "Illustration of floating point numbers: 123.45\n",
      "Illustration of floating point numbers:    10.75\n",
      "Illustration of floating point numbers:    10.76\n",
      "Illustration of floating point numbers:     22.553\n",
      "Illustration of floating point numbers:     12.75000\n",
      "Illustration of floating point numbers:    8.75000\n"
     ]
    }
   ],
   "source": [
    "print('Illustration of floating point numbers: %6.2f' % 123.45)\n",
    "print('Illustration of floating point numbers: %4.2f' % 123.45)\n",
    "print('Illustration of floating point numbers: %8.2f' % 10.75)\n",
    "print('Illustration of floating point numbers: %8.2f' % 10.7588)\n",
    "print('Illustration of floating point numbers: %10.3f' % 22.55332)\n",
    "print('Illustration of floating point numbers: %12.5f' % 12.75)\n",
    "print('Illustration of floating point numbers: %10.5f' % 8.75)"
   ]
  },
  {
   "cell_type": "markdown",
   "id": "4517a763",
   "metadata": {},
   "source": [
    "#### Conclusion:\n",
    "By default, numeric values in Python follow right alignment formatting by left padding."
   ]
  },
  {
   "cell_type": "markdown",
   "id": "7b82d2d3",
   "metadata": {},
   "source": [
    "### Multiple formatting:"
   ]
  },
  {
   "cell_type": "code",
   "execution_count": 13,
   "id": "f15c07f7",
   "metadata": {},
   "outputs": [
    {
     "name": "stdout",
     "output_type": "stream",
     "text": [
      "Element 1: String, Element 2:  25.259, Element 3: 'String Representation', Element 4: 100\n"
     ]
    }
   ],
   "source": [
    "print('Element 1: %s, Element 2: %7.3f, Element 3: %r, Element 4: %d' % ('String', 25.25879, 'String Representation', 100))"
   ]
  },
  {
   "cell_type": "markdown",
   "id": "7b724828",
   "metadata": {},
   "source": [
    "### More on `.format()` method"
   ]
  },
  {
   "cell_type": "code",
   "execution_count": 16,
   "id": "14d6a687",
   "metadata": {},
   "outputs": [
    {
     "name": "stdout",
     "output_type": "stream",
     "text": [
      "We can use this method even with literal string values.\n",
      "We can use this method to call the objects by their index position: A, B, C, D\n",
      "We can use this method to call the objects by their index position: W, X, Y, Z\n",
      "Objects can be assigned to variables: 4, 2, 10\n",
      "Objects can be assigned to variables: String, 2.625, 10\n",
      "Repetitions can be avoided, such as this: MySQL 8 is more advanced than MySQL 4.\n",
      "C and C++ are high level languages, whereas Assembly language is a low level language\n"
     ]
    }
   ],
   "source": [
    "print('We can use this method even with literal {}'.format('string values.'))\n",
    "print('We can use this method to call the objects by their index position: {0}, {1}, {2}, {3}'.format('A', 'B', 'C', 'D'))\n",
    "print('We can use this method to call the objects by their index position: {1}, {3}, {2}, {0}'.format('Z', 'W', 'Y', 'X'))\n",
    "print('Objects can be assigned to variables: {x}, {y}, {z}'.format(x = 4, y = 2, z = 10))\n",
    "print('Objects can be assigned to variables: {x}, {y}, {z}'.format(x = 'String', y = 2.625, z = 10))\n",
    "print('Repetitions can be avoided, such as this: %s 8 is more advanced than %s 4.' % ('MySQL', 'MySQL'))\n",
    "print('{x} and {x}++ are high {y} {z}s, whereas Assembly {z} is a low {y} {z}'.format(x = 'C', y = 'level', z = 'language'))"
   ]
  },
  {
   "cell_type": "code",
   "execution_count": null,
   "id": "5b74698e",
   "metadata": {},
   "outputs": [],
   "source": []
  }
 ],
 "metadata": {
  "kernelspec": {
   "display_name": "Python 3 (ipykernel)",
   "language": "python",
   "name": "python3"
  },
  "language_info": {
   "codemirror_mode": {
    "name": "ipython",
    "version": 3
   },
   "file_extension": ".py",
   "mimetype": "text/x-python",
   "name": "python",
   "nbconvert_exporter": "python",
   "pygments_lexer": "ipython3",
   "version": "3.11.5"
  }
 },
 "nbformat": 4,
 "nbformat_minor": 5
}
