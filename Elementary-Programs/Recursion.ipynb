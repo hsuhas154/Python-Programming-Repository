{
 "cells": [
  {
   "cell_type": "markdown",
   "id": "77fc9494",
   "metadata": {},
   "source": [
    "### Beginner level program to understand recursion"
   ]
  },
  {
   "cell_type": "code",
   "execution_count": 19,
   "id": "079666e9",
   "metadata": {},
   "outputs": [
    {
     "name": "stdout",
     "output_type": "stream",
     "text": [
      "10\n",
      "9\n",
      "8\n",
      "7\n",
      "6\n",
      "5\n",
      "4\n",
      "3\n",
      "2\n",
      "1\n",
      "LAUNCH!\n"
     ]
    }
   ],
   "source": [
    "def recursive_program_1(var):\n",
    "    \n",
    "    if var <= 0:\n",
    "        print('LAUNCH!')\n",
    "    else:\n",
    "        print(var)\n",
    "        recursive_program_1(var - 1)\n",
    "        \n",
    "recursive_program_1(10)"
   ]
  },
  {
   "cell_type": "code",
   "execution_count": 21,
   "id": "be932fb6",
   "metadata": {},
   "outputs": [
    {
     "name": "stdout",
     "output_type": "stream",
     "text": [
      "START!\n",
      "1\n",
      "2\n",
      "3\n",
      "4\n",
      "5\n",
      "6\n",
      "7\n",
      "8\n",
      "9\n",
      "10\n"
     ]
    }
   ],
   "source": [
    "def f(x):\n",
    "    if x <= 0:\n",
    "        print('START!')\n",
    "    else:\n",
    "        f(x - 1) # Whatever is executed after the recursive function call, is stored in the stack.\n",
    "        print(x)\n",
    "        \n",
    "f(10) # Elements are moved out of the stack in LIFO order after the execution ends completely."
   ]
  },
  {
   "cell_type": "code",
   "execution_count": 22,
   "id": "b1ddddec",
   "metadata": {},
   "outputs": [
    {
     "name": "stdout",
     "output_type": "stream",
     "text": [
      "9\n",
      "8\n",
      "7\n",
      "6\n",
      "5\n",
      "4\n",
      "3\n",
      "2\n",
      "1\n",
      "0\n",
      "COMMAND ONE\n",
      "2\n",
      "3\n",
      "4\n",
      "5\n",
      "6\n",
      "7\n",
      "8\n",
      "9\n",
      "10\n",
      "11\n"
     ]
    }
   ],
   "source": [
    "def f(x):\n",
    "    if x <= 0:\n",
    "        print('COMMAND ONE')\n",
    "    else:\n",
    "        print(x - 1)\n",
    "        f(x - 1)\n",
    "        print(x + 1)\n",
    "        \n",
    "f(10)"
   ]
  },
  {
   "cell_type": "code",
   "execution_count": 23,
   "id": "8820c9ab",
   "metadata": {},
   "outputs": [
    {
     "name": "stdout",
     "output_type": "stream",
     "text": [
      "COMMAND ONE\n",
      "0\n",
      "2\n",
      "1\n",
      "3\n",
      "2\n",
      "4\n",
      "3\n",
      "5\n",
      "4\n",
      "6\n",
      "5\n",
      "7\n",
      "6\n",
      "8\n",
      "7\n",
      "9\n",
      "8\n",
      "10\n",
      "9\n",
      "11\n"
     ]
    }
   ],
   "source": [
    "def f(x):\n",
    "    if x <= 0:\n",
    "        print('COMMAND ONE')\n",
    "    else:\n",
    "        f(x - 1)\n",
    "        print(x - 1)\n",
    "        print(x + 1)\n",
    "        \n",
    "f(10)"
   ]
  },
  {
   "cell_type": "markdown",
   "id": "65c55940",
   "metadata": {},
   "source": [
    "### Factorial of a number"
   ]
  },
  {
   "cell_type": "code",
   "execution_count": 1,
   "id": "c6e0d939",
   "metadata": {},
   "outputs": [
    {
     "name": "stdout",
     "output_type": "stream",
     "text": [
      "Enter a number: 10\n"
     ]
    },
    {
     "data": {
      "text/plain": [
       "3628800"
      ]
     },
     "execution_count": 1,
     "metadata": {},
     "output_type": "execute_result"
    }
   ],
   "source": [
    "def factorial_recursion(x):\n",
    "    \n",
    "    if x == 1:\n",
    "        return 1\n",
    "    else:\n",
    "        return x * factorial_recursion(x - 1)\n",
    "\n",
    "factorial_recursion(int(input('Enter a number: ')))"
   ]
  },
  {
   "cell_type": "markdown",
   "id": "7e968c11",
   "metadata": {},
   "source": [
    "### Sum of n natural numbers"
   ]
  },
  {
   "cell_type": "code",
   "execution_count": 3,
   "id": "fc05df33",
   "metadata": {},
   "outputs": [
    {
     "name": "stdout",
     "output_type": "stream",
     "text": [
      "Enter a number: 20\n"
     ]
    },
    {
     "data": {
      "text/plain": [
       "210"
      ]
     },
     "execution_count": 3,
     "metadata": {},
     "output_type": "execute_result"
    }
   ],
   "source": [
    "def sum_1ton_recursion(n):\n",
    "    \n",
    "    if n == 1:\n",
    "        return 1\n",
    "    else:\n",
    "        return n + sum_1ton_recursion(n - 1)\n",
    "    \n",
    "sum_1ton_recursion(int(input('Enter a number: ')))"
   ]
  },
  {
   "cell_type": "markdown",
   "id": "605d2d20",
   "metadata": {},
   "source": [
    "### Smallest number in a list"
   ]
  },
  {
   "cell_type": "code",
   "execution_count": 7,
   "id": "2df03c3e",
   "metadata": {},
   "outputs": [
    {
     "data": {
      "text/plain": [
       "-78"
      ]
     },
     "execution_count": 7,
     "metadata": {},
     "output_type": "execute_result"
    }
   ],
   "source": [
    "def minimum_recursion(num_array, n):\n",
    "    \n",
    "    if n == 0:\n",
    "        return num_array[0]\n",
    "    else:\n",
    "        return min(num_array[n - 1], minimum_recursion(num_array, n - 1))\n",
    "    \n",
    "num_array = [1, 4, 24, 17, -5, 10, -22, 34, 56, -78, 0, 1, 2, 3, 55] \n",
    "n = len(num_array) \n",
    "\n",
    "minimum_recursion(num_array, n) "
   ]
  },
  {
   "cell_type": "markdown",
   "id": "87b93a73",
   "metadata": {},
   "source": [
    "### Largest number in a list"
   ]
  },
  {
   "cell_type": "code",
   "execution_count": 8,
   "id": "0cd9f845",
   "metadata": {},
   "outputs": [
    {
     "data": {
      "text/plain": [
       "56"
      ]
     },
     "execution_count": 8,
     "metadata": {},
     "output_type": "execute_result"
    }
   ],
   "source": [
    "def maximum_recursion(num_array, n):\n",
    "    \n",
    "    if n == 0:\n",
    "        return num_array[0]\n",
    "    else:\n",
    "        return max(num_array[n - 1], maximum_recursion(num_array, n - 1))\n",
    "    \n",
    "num_array = [1, 4, 24, 17, -5, 10, -22, 34, 56, -78, 0, 1, 2, 3, 55] \n",
    "n = len(num_array) \n",
    "\n",
    "maximum_recursion(num_array, n) "
   ]
  },
  {
   "cell_type": "markdown",
   "id": "1cb402ef",
   "metadata": {},
   "source": [
    "### Fibonacci Series using `while` loop and recursion"
   ]
  },
  {
   "cell_type": "code",
   "execution_count": 17,
   "id": "29f56f8a",
   "metadata": {},
   "outputs": [
    {
     "name": "stdout",
     "output_type": "stream",
     "text": [
      "Enter the number of terms to be printed in the series: 10\n",
      "0\n",
      "1\n",
      "1\n",
      "2\n",
      "3\n",
      "5\n",
      "8\n",
      "13\n",
      "21\n",
      "34\n"
     ]
    }
   ],
   "source": [
    "# Using while loop\n",
    "\n",
    "# Fn = Fn-1 + Fn-2\n",
    "\n",
    "terms = int(input('Enter the number of terms to be printed in the series: '))\n",
    "f0 = 0\n",
    "f1 = 1\n",
    "sum_f = 0\n",
    "\n",
    "i = 0\n",
    "\n",
    "while i <= terms - 1:\n",
    "    print(sum_f)\n",
    "    f0 = f1\n",
    "    f1 = sum_f\n",
    "    sum_f = f0 + f1\n",
    "    i = i + 1\n"
   ]
  },
  {
   "cell_type": "code",
   "execution_count": 34,
   "id": "69aaca65",
   "metadata": {},
   "outputs": [
    {
     "data": {
      "text/plain": [
       "34"
      ]
     },
     "execution_count": 34,
     "metadata": {},
     "output_type": "execute_result"
    }
   ],
   "source": [
    "# Using recursion\n",
    "\n",
    "def fibonacci_recursion(x):\n",
    "    \n",
    "    if x <= 1:\n",
    "        return x\n",
    "    else:\n",
    "        return (fibonacci_recursion(x - 1) + fibonacci_recursion(x - 2))\n",
    "\n",
    "\n",
    "# Let us try and give values to x one by one and observe what the output will be.\n",
    "\n",
    "# x = 0\n",
    "fibonacci_recursion(0) # Output: 0\n",
    "\n",
    "# x = 1\n",
    "fibonacci_recursion(1) # Output: 1\n",
    "\n",
    "# x = 2\n",
    "fibonacci_recursion(2) # Output: 1\n",
    "\n",
    "# x = 3\n",
    "fibonacci_recursion(3) # Output: 2\n",
    "\n",
    "# x = 4\n",
    "fibonacci_recursion(4) # Output: 3\n",
    "\n",
    "# x = 5\n",
    "fibonacci_recursion(5) # Output: 5\n",
    "\n",
    "# x = 6\n",
    "fibonacci_recursion(6) # Output: 8\n",
    "\n",
    "# x = 7\n",
    "fibonacci_recursion(7) # Output: 13\n",
    "\n",
    "# x = 8\n",
    "fibonacci_recursion(8) # Output: 21\n",
    "\n",
    "# x = 9\n",
    "fibonacci_recursion(9) # Output: 34\n",
    "\n",
    "# Observe the successive outputs, they form the fibonacci series. \n",
    "# But observe that, the input variable x has to be supplied continuously in order to get the complete series\n",
    "# We can do the same by writing a looping statement outside the fibonacci_recursion function. \n",
    "# It is demonstrated in the next cell below"
   ]
  },
  {
   "cell_type": "code",
   "execution_count": 53,
   "id": "1cea829b",
   "metadata": {},
   "outputs": [
    {
     "name": "stdout",
     "output_type": "stream",
     "text": [
      "Enter the number of terms till which the series has to  be printed: 10\n",
      "Fibonacci Series:\n",
      "0\n",
      "1\n",
      "1\n",
      "2\n",
      "3\n",
      "5\n",
      "8\n",
      "13\n",
      "21\n",
      "34\n"
     ]
    }
   ],
   "source": [
    "def fibonacci_recursion(i):\n",
    "    \n",
    "    if i <= 1:\n",
    "        return i\n",
    "    else:\n",
    "        return (fibonacci_recursion(i - 1) + fibonacci_recursion(i - 2))\n",
    "    \n",
    "\n",
    "# Driver statements which will supply the value of x continuously to fibonacci_recursion function\n",
    "\n",
    "x = int(input('Enter the number of terms till which the series has to be printed: '))\n",
    "\n",
    "# Let us perform a quick check that x has to be greater than equal to 1.\n",
    "\n",
    "if x < 1:\n",
    "    print(f'Please enter valid number of terms. x = {x} is invalid')\n",
    "else:\n",
    "    print('Fibonacci Series:')\n",
    "    for i in range(0, x):\n",
    "        print(fibonacci_recursion(i))"
   ]
  }
 ],
 "metadata": {
  "kernelspec": {
   "display_name": "Python 3 (ipykernel)",
   "language": "python",
   "name": "python3"
  },
  "language_info": {
   "codemirror_mode": {
    "name": "ipython",
    "version": 3
   },
   "file_extension": ".py",
   "mimetype": "text/x-python",
   "name": "python",
   "nbconvert_exporter": "python",
   "pygments_lexer": "ipython3",
   "version": "3.11.5"
  }
 },
 "nbformat": 4,
 "nbformat_minor": 5
}
