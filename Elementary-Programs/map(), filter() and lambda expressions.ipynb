{
 "cells": [
  {
   "cell_type": "markdown",
   "id": "0f7b7193",
   "metadata": {},
   "source": [
    "## `map()` function, `filter()` function and `lambda` expressions"
   ]
  },
  {
   "cell_type": "code",
   "execution_count": 4,
   "id": "6e598daa",
   "metadata": {},
   "outputs": [
    {
     "name": "stdout",
     "output_type": "stream",
     "text": [
      "1\n",
      "4\n",
      "9\n",
      "16\n",
      "25\n",
      "36\n",
      "49\n",
      "64\n",
      "81\n",
      "100\n",
      "[1, 4, 9, 16, 25, 36, 49, 64, 81, 100]\n",
      "(1, 4, 9, 16, 25, 36, 49, 64, 81, 100)\n"
     ]
    }
   ],
   "source": [
    "# Introduction to map() function\n",
    "\n",
    "def square_of_a_number(num):\n",
    "    return num ** 2\n",
    "\n",
    "num_list = [1, 2, 3, 4, 5, 6, 7, 8, 9, 10]\n",
    "\n",
    "map(square_of_a_number, num_list) \n",
    "# This statement applies the function square_of_a_number to each element of num_list and returns a map object which is an iterator.\n",
    "\n",
    "# Since it has returned an object which is an iterator, we have to iterate thorugh that object to access the elements of the map object.\n",
    "\n",
    "for element in map(square_of_a_number, num_list):\n",
    "    print(element)\n",
    "    \n",
    "# We can also convert the map object obtained, to any in - built iterable python data structure such as a list or a tuple.\n",
    "\n",
    "square_list = list(map(square_of_a_number, num_list))\n",
    "square_tuple = tuple(map(square_of_a_number, num_list))\n",
    "\n",
    "print(square_list)\n",
    "print(square_tuple)"
   ]
  },
  {
   "cell_type": "code",
   "execution_count": 6,
   "id": "45decaca",
   "metadata": {},
   "outputs": [
    {
     "name": "stdout",
     "output_type": "stream",
     "text": [
      "ECIRP\n",
      "TSOHG\n",
      "PAOS\n",
      "ZAG\n",
      "['ECIRP', 'TSOHG', 'PAOS', 'ZAG']\n"
     ]
    }
   ],
   "source": [
    "# Let us try another example:\n",
    "\n",
    "def string_reversal(string):\n",
    "    reversed_string = ''\n",
    "    \n",
    "    for char in string:\n",
    "        reversed_string = char + reversed_string\n",
    "        \n",
    "    return reversed_string\n",
    "\n",
    "tf141_tuple = ('PRICE', 'GHOST', 'SOAP', 'GAZ')\n",
    "\n",
    "for element in map(string_reversal, tf141_tuple):\n",
    "    print(element)\n",
    "    \n",
    "tf141_tuple_reversed = list(map(string_reversal, tf141_tuple))\n",
    "\n",
    "print(tf141_tuple_reversed)"
   ]
  },
  {
   "cell_type": "code",
   "execution_count": 12,
   "id": "ff22d773",
   "metadata": {},
   "outputs": [
    {
     "name": "stdout",
     "output_type": "stream",
     "text": [
      "2\n",
      "4\n",
      "6\n",
      "8\n",
      "10\n",
      "(2, 4, 6, 8, 10)\n"
     ]
    }
   ],
   "source": [
    "# Introduction to filter function:\n",
    "\n",
    "def parity_check(numbers):\n",
    "    return True if numbers % 2 == 0 else False\n",
    "\n",
    "list_numbers = [1, 2, 3, 4, 5, 6, 7, 8, 9, 10]\n",
    "\n",
    "filter(parity_check, list_numbers)\n",
    "# This statement applies the function parity_check to each element of list_number and returns a filter object which is an iterator.\n",
    "# The iterator is returned consists of only those values of list_numbers which evaluate to True when parity_check is applied to them.\n",
    "# Since it has returned an object which is an iterator, we have to iterate thorugh that object to access the elements of the filter object.\n",
    "\n",
    "for element in filter(parity_check, list_numbers):\n",
    "    print(element)\n",
    "\n",
    "# We can also convert the filter object obtained, to any in - built iterable python data structure such as a list or a tuple.    \n",
    "    \n",
    "filter_number_tuple = tuple(filter(parity_check, list_numbers))\n",
    "\n",
    "print(filter_number_tuple)"
   ]
  },
  {
   "cell_type": "code",
   "execution_count": 18,
   "id": "3aee46d9",
   "metadata": {},
   "outputs": [
    {
     "name": "stdout",
     "output_type": "stream",
     "text": [
      "2\n",
      "3\n",
      "5\n",
      "7\n",
      "11\n",
      "13\n",
      "17\n",
      "19\n",
      "23\n",
      "[2, 3, 5, 7, 11, 13, 17, 19, 23]\n"
     ]
    }
   ],
   "source": [
    "# Let us try another example: \n",
    "import math\n",
    "\n",
    "def prime_number_check(num):\n",
    "    \n",
    "    if num == 0 or num == 1: \n",
    "        return False\n",
    "    else:\n",
    "        pass \n",
    "    \n",
    "    for i in range(2, math.floor(num ** 0.5 + 1)):\n",
    "        if num % i == 0:\n",
    "            return False\n",
    "        else:\n",
    "            continue\n",
    "    else:\n",
    "        return True\n",
    "    \n",
    "int_tuple = (x for x in range(1, 26))\n",
    "\n",
    "for element in filter(prime_number_check, int_tuple):\n",
    "    print(element)\n",
    "\n",
    "filter_prime_list = list(filter(prime_number_check, int_list))\n",
    "\n",
    "print(filter_prime_list)"
   ]
  },
  {
   "cell_type": "markdown",
   "id": "9418dc42",
   "metadata": {},
   "source": [
    "### `lambda` expressions: <br>\n",
    "`lambda` functions are user defined functions in Python, but without any name or alias. `lambda` functions are also known as anonymous functions. Whenever we want to create a simple, one - time - usage function with one or more arguments but a only single expression, `lambda` functions prove to be useful. \n",
    "<br>\n",
    "`lambda` function definition:\n",
    "<br>\n",
    "A `lambda` function is defined as:\n",
    "<br>\n",
    "`lambda argument(s) : expression`\n",
    "<br>\n",
    "1. `lambda` is a reserved keyword in Python used for the declaration and definition of a `lambda` function. \n",
    "2. `argument(s)` is a placeholder for variables. These variables will be passed as arguments into the function expression, thus the function expression will be evaluated for the variables mentioned. \n",
    "3. `expression` dictates the operation that is to be performed on the variables mentioned in the `argument(s)` section."
   ]
  },
  {
   "cell_type": "code",
   "execution_count": 23,
   "id": "c8c37dbf",
   "metadata": {},
   "outputs": [
    {
     "name": "stdout",
     "output_type": "stream",
     "text": [
      "10000\n",
      "False\n",
      "12\n",
      "0\n",
      "3\n",
      "81\n",
      "3\n",
      "87\n",
      "244\n",
      "0\n",
      "-2\n"
     ]
    }
   ],
   "source": [
    "# Let us see some examples of lambda expressions or functions:\n",
    "\n",
    "# Lambda expressions for calculating the square of a number:\n",
    "\n",
    "result = (lambda x : x ** 2)(100)\n",
    "print(result)\n",
    "\n",
    "# Lambda expression for checking if a number is even or odd:\n",
    "flag = (lambda y : y % 2 == 0)(15625) # Prints True if even, prints False if odd.\n",
    "print(flag)\n",
    "\n",
    "# We can also use lambda expression in the below mentioned way:\n",
    "result1 = lambda x, y : x * y\n",
    "print(result1(3, 4))\n",
    "\n",
    "result2 = lambda x, y : x // y\n",
    "print(result2(3, 4))\n",
    "\n",
    "result3 = lambda x, y : x % y\n",
    "print(result3(3, 4))\n",
    "\n",
    "result4 = lambda x, y : x ** y\n",
    "print(result4(3, 4))\n",
    "\n",
    "result5 = lambda x, y, z : (x if (x > y and x > z) else (y if y > z else z))\n",
    "print(result5(1, 2, 3))\n",
    "print(result5(87, 45, 33))\n",
    "print(result5(14, 244, 32))\n",
    "print(result5(0, -2, -3))\n",
    "print(result5(-11, -2, -333))"
   ]
  },
  {
   "cell_type": "code",
   "execution_count": 44,
   "id": "6b93a9bd",
   "metadata": {},
   "outputs": [
    {
     "name": "stdout",
     "output_type": "stream",
     "text": [
      "(1, 4, 9, 16, 25, 36, 49, 64, 81, 100)\n",
      "['ECIRP', 'ZAG', 'TSOHG', 'PAOS']\n",
      "{1, 3, 5, 7, 9, 11, 13, 15, 17, 19}\n",
      "{'FARAH': 0, 'LASWELL': 1, 'YURI': 2, 'NIKOLAI': 3}\n",
      "('LEVEL', 'CIVIC', 'RADAR', 'REFER', 'KAYAK')\n"
     ]
    }
   ],
   "source": [
    "# Lambda expressions are generally not used in the way shown above. They are usually used in conjunction with map() and filter()\n",
    "\n",
    "# Example 1:\n",
    "list1 = [x for x in range(1, 11)]\n",
    "tuple1 = tuple(map(lambda x : x ** 2, list1))\n",
    "print(tuple1)\n",
    "\n",
    "# Example 2:\n",
    "tuple2 = ('PRICE', 'GAZ', 'GHOST', 'SOAP')\n",
    "list2 = list(map(lambda word : word[ : : -1], tuple2))\n",
    "print(list2)\n",
    "\n",
    "# Example 3:\n",
    "tuple3 = (i for i in range(1, 21))\n",
    "even_set = set(filter(lambda num : num % 2 == 1, tuple3))\n",
    "print(even_set)\n",
    "\n",
    "# Example 4:\n",
    "list_names_pos = ['FARAH', 0, 'LASWELL', 1, 'YURI', 2, 'NIKOLAI', 3]\n",
    "first_char_dict = dict(map(lambda i : (list_names_pos[i], list_names_pos[i + 1]), range(0, len(list_names_pos) - 1, 2)))\n",
    "print(first_char_dict)\n",
    "\n",
    "# Example 5:\n",
    "object_set = {'CIVIC', 'REFER', 'LEVEL', 'KAYAK', 'RADAR', 'TREE', 'GUNS', 'ROSES', 'GAMES'}\n",
    "palindrome_tuple = tuple(filter(lambda word : word == ''.join(reversed(word)), object_set))\n",
    "print(palindrome_tuple)"
   ]
  },
  {
   "cell_type": "code",
   "execution_count": null,
   "id": "f7020a8b",
   "metadata": {},
   "outputs": [],
   "source": []
  }
 ],
 "metadata": {
  "kernelspec": {
   "display_name": "Python 3 (ipykernel)",
   "language": "python",
   "name": "python3"
  },
  "language_info": {
   "codemirror_mode": {
    "name": "ipython",
    "version": 3
   },
   "file_extension": ".py",
   "mimetype": "text/x-python",
   "name": "python",
   "nbconvert_exporter": "python",
   "pygments_lexer": "ipython3",
   "version": "3.8.18"
  }
 },
 "nbformat": 4,
 "nbformat_minor": 5
}
