{
 "cells": [
  {
   "cell_type": "code",
   "execution_count": 1,
   "id": "27529015",
   "metadata": {},
   "outputs": [
    {
     "name": "stdout",
     "output_type": "stream",
     "text": [
      "[(0, 'P'), (1, 'r'), (2, 'o'), (3, 'g'), (4, 'r'), (5, 'a'), (6, 'm'), (7, 'm'), (8, 'i'), (9, 'n'), (10, 'g')]\n"
     ]
    }
   ],
   "source": [
    "vardatastructure = enumerate('Programming')\n",
    "\n",
    "print(list(vardatastructure))"
   ]
  },
  {
   "cell_type": "code",
   "execution_count": 2,
   "id": "16c909c6",
   "metadata": {},
   "outputs": [
    {
     "data": {
      "text/plain": [
       "True"
      ]
     },
     "execution_count": 2,
     "metadata": {},
     "output_type": "execute_result"
    }
   ],
   "source": [
    "dict1 = {'Embedded Systems' : 'C', 'Web Development' : 'Java', 'Data Science' : 'Python'}\n",
    "\n",
    "'Data Science' in dict1"
   ]
  },
  {
   "cell_type": "code",
   "execution_count": 3,
   "id": "d9c7338c",
   "metadata": {},
   "outputs": [
    {
     "name": "stdout",
     "output_type": "stream",
     "text": [
      "Embedded Systems\n",
      "Web Development\n",
      "Data Science\n"
     ]
    }
   ],
   "source": [
    "for var in dict1:\n",
    "    print(var)\n"
   ]
  },
  {
   "cell_type": "code",
   "execution_count": 9,
   "id": "d25c1d2d",
   "metadata": {},
   "outputs": [
    {
     "name": "stdout",
     "output_type": "stream",
     "text": [
      "Enter the gender: m\n",
      "Enter the age: 21\n",
      "Enter the gender: f\n",
      "Enter the age: 22\n",
      "Enter the gender: m\n",
      "Enter the age: 23\n",
      "[{'gender': 'm', 'age': 21}, {'gender': 'f', 'age': 22}, {'gender': 'm', 'age': 23}]\n"
     ]
    }
   ],
   "source": [
    "# Create a list of dictionaries dynamically.\n",
    "gender_age_list = []\n",
    "\n",
    "for i in range(0, 3):\n",
    "    input_dict = {}\n",
    "    gender_input = input('Enter the gender: ')\n",
    "    age_input = input('Enter the age: ')\n",
    "    \n",
    "    input_dict['gender'] = gender_input\n",
    "    input_dict['age'] = int(age_input) \n",
    "    \n",
    "    gender_age_list.append(input_dict)\n",
    "    \n",
    "print(gender_age_list)"
   ]
  },
  {
   "cell_type": "code",
   "execution_count": 10,
   "id": "2b3159b7",
   "metadata": {},
   "outputs": [
    {
     "name": "stdout",
     "output_type": "stream",
     "text": [
      "[21, 22, 23]\n"
     ]
    }
   ],
   "source": [
    "# Retrieve all the numerical values of the key 'age' contained in the dict in each element of the list.\n",
    "age_list = []\n",
    "\n",
    "for element in gender_age_list:\n",
    "    for (key, value) in element.items():\n",
    "        if key == 'age':\n",
    "            age_list.append(element['age'])\n",
    "        else:\n",
    "            continue\n",
    "\n",
    "print(age_list)"
   ]
  },
  {
   "cell_type": "markdown",
   "id": "b95058e4",
   "metadata": {},
   "source": [
    "### `.get()` method in Python Dictionaries:<br>\n",
    "The `.get()` method is a built-in method in Python that is used to retrieve the value of a specified key from a dictionary. The advantage of using `.get()` is that it won't raise a `KeyError` if the key is not present in the dictionary. Instead, it will return a default value (which defaults to `None` if not specified).<br><br>\n",
    "Syntax of `.get()` method:<br>\n",
    "`value = dictionary.get(key, default_value)`\n",
    "\n",
    "`key`: The key you want to retrieve the value for.<br>\n",
    "`default_value` (optional): The value to be returned if the key is not found. If not specified, it defaults to `None`.<br>\n",
    "\n",
    "In the below code (which is an alternative code of the above code snippet), we have: <br>\n",
    "`age = element.get('age')`\n",
    "<br>This line attempts to get the value associated with the key `'age'` from the dictionary `element`. If the key is present, it returns the corresponding value; otherwise, it returns `None`. This is useful in cases where you want to avoid a `KeyError` if the key doesn't exist in the dictionary.<br> \n",
    "\n",
    "Here's a simple example:<br>\n",
    "```python\n",
    "person = {'name': 'John', 'age': 30}\n",
    "\n",
    "# Using get to retrieve values\n",
    "name = person.get('name')\n",
    "print(f\"Name: {name}\")\n",
    "\n",
    "# Using get with a default value\n",
    "city = person.get('city', 'Unknown')\n",
    "print(f\"City: {city}\")\n",
    "```\n",
    "<br>In this example, `name` will be assigned the value `'John'`, and `city` will be assigned the default value `'Unknown'` because the key `'city'` does not exist in the dictionary."
   ]
  },
  {
   "cell_type": "code",
   "execution_count": 11,
   "id": "5169d89a",
   "metadata": {},
   "outputs": [
    {
     "name": "stdout",
     "output_type": "stream",
     "text": [
      "[21, 22, 23]\n"
     ]
    }
   ],
   "source": [
    "# Aliter, we can also write the above code in a simple way: \n",
    "\n",
    "age_list = []\n",
    "\n",
    "for element in gender_age_list:\n",
    "    age = element.get('age')\n",
    "    if age:\n",
    "        age_list.append(age)\n",
    "        \n",
    "print(age_list)"
   ]
  },
  {
   "cell_type": "code",
   "execution_count": 12,
   "id": "c7583bc1",
   "metadata": {},
   "outputs": [
    {
     "name": "stdout",
     "output_type": "stream",
     "text": [
      "[{'gender': 'm', 'age': 21}, {'gender': 'm', 'age': 23}]\n"
     ]
    }
   ],
   "source": [
    "# Remove those elements in gender_age_list which contain information about gender 'f' \n",
    "\n",
    "filtered_gender_age_list = [element for element in gender_age_list if element['gender'] != 'f']\n",
    "\n",
    "print(filtered_gender_age_list)"
   ]
  },
  {
   "cell_type": "markdown",
   "id": "f3c66ce1",
   "metadata": {},
   "source": [
    "It is not recommended to use the below written code for the above problem:\n",
    "<br>\n",
    "```python\n",
    "for element in gender_age_list:\n",
    "    if element['gender'] == 'f':\n",
    "        gender_age_list.remove(element)\n",
    "    else:\n",
    "        continue\n",
    "    \n",
    "print(gender_age_list)\n",
    "```\n",
    "<br>\n",
    "It is not recommended to modify a list while iterating over it at the same time. This often leads to unexpected behaviour and such coding practices are discouraged. More information about it can be found in this stack overflow link:"
   ]
  },
  {
   "cell_type": "markdown",
   "id": "e529774f",
   "metadata": {},
   "source": [
    "https://stackoverflow.com/questions/6260089/strange-result-when-removing-item-from-a-list-while-iterating-over-it-in-python"
   ]
  },
  {
   "cell_type": "code",
   "execution_count": 13,
   "id": "6f8a93c7",
   "metadata": {},
   "outputs": [
    {
     "name": "stdout",
     "output_type": "stream",
     "text": [
      "Enter key (or 'exit' to stop): Manufacturer\n",
      "Enter value: Yamaha\n",
      "Enter key (or 'exit' to stop): Model\n",
      "Enter value: YZF - R3\n",
      "Enter key (or 'exit' to stop): Class\n",
      "Enter value: Entry Level Sportbike\n",
      "Enter key (or 'exit' to stop): Displacement\n",
      "Enter value: 320cc\n",
      "Enter key (or 'exit' to stop): exit\n",
      "Final dictionary: {'Manufacturer': 'Yamaha', 'Model': 'YZF - R3', 'Class': 'Entry Level Sportbike', 'Displacement': '320cc'}\n"
     ]
    }
   ],
   "source": [
    "# Here's how we can insert values into a dictionary dynamically:\n",
    "\n",
    "my_dict = {}\n",
    "\n",
    "while True:\n",
    "    key = input(\"Enter key (or 'exit' to stop): \")\n",
    "    \n",
    "    # Check if the user wants to exit\n",
    "    if key.lower() == 'exit':\n",
    "        break\n",
    "    \n",
    "    value = input(\"Enter value: \")\n",
    "    \n",
    "    # Add the key-value pair to the dictionary\n",
    "    my_dict[key] = value\n",
    "\n",
    "print(\"Final dictionary:\", my_dict)\n"
   ]
  },
  {
   "cell_type": "code",
   "execution_count": null,
   "id": "db1aa7ad",
   "metadata": {},
   "outputs": [],
   "source": []
  }
 ],
 "metadata": {
  "kernelspec": {
   "display_name": "Python 3 (ipykernel)",
   "language": "python",
   "name": "python3"
  },
  "language_info": {
   "codemirror_mode": {
    "name": "ipython",
    "version": 3
   },
   "file_extension": ".py",
   "mimetype": "text/x-python",
   "name": "python",
   "nbconvert_exporter": "python",
   "pygments_lexer": "ipython3",
   "version": "3.8.18"
  }
 },
 "nbformat": 4,
 "nbformat_minor": 5
}
