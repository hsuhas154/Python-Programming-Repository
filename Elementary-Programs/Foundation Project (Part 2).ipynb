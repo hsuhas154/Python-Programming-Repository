{
 "cells": [
  {
   "cell_type": "markdown",
   "id": "022c7883",
   "metadata": {},
   "source": [
    "# Python Foundation Mandatory Project\n",
    "\n",
    "## Name: Suhas H"
   ]
  },
  {
   "cell_type": "markdown",
   "id": "5cf72028",
   "metadata": {},
   "source": [
    "## Part 2"
   ]
  },
  {
   "cell_type": "markdown",
   "id": "d2935820",
   "metadata": {},
   "source": [
    "### Questions 4 to 6"
   ]
  },
  {
   "cell_type": "markdown",
   "id": "886fc1f2",
   "metadata": {},
   "source": [
    "Q4: Accept a sentence as input and find the number of vowels in it. Assume that the sentence has no punctuation marks. For example, I am learning python contains 6 vowels. This function should be applicable for all other different sentences."
   ]
  },
  {
   "cell_type": "code",
   "execution_count": 1,
   "id": "a6c5c6a0",
   "metadata": {},
   "outputs": [
    {
     "name": "stdout",
     "output_type": "stream",
     "text": [
      "Enter a sentence: Python programming is extremely difficult. However, with continuous practice, one can get better at it.\n",
      "\n",
      "\n",
      "Sentence without punctuation marks: python programming is extremely difficult however with continuous practice one can get better at it\n",
      "\n",
      "\n",
      "The number of vowels in the sentence(text) is 31\n"
     ]
    }
   ],
   "source": [
    "'''\n",
    "The question asks us to ignore punctuation marks. Since it would be too easy of a problem with that assumption,\n",
    "punctuation marks will be considered and hence removed in this solution.\n",
    "'''\n",
    "\n",
    "def vowel_counter_function(sentence):\n",
    "\n",
    "    punctuation = '?.,\\'\"!-/():;'\n",
    "\n",
    "    for word in sentence:\n",
    "        if word in punctuation:\n",
    "            sentence = sentence.replace(word, '')\n",
    "        else:\n",
    "            continue\n",
    "\n",
    "    print('\\n')\n",
    "    print(f'Sentence without punctuation marks: {sentence}')\n",
    "    print('\\n')\n",
    "            \n",
    "    count = 0\n",
    "\n",
    "    vowels = 'aeiou'\n",
    "\n",
    "    for letter in sentence:\n",
    "        if letter in vowels:\n",
    "            count = count + 1\n",
    "        else:\n",
    "            continue\n",
    "\n",
    "    return count\n",
    "    \n",
    "    \n",
    "text = input('Enter a sentence: ').lower()\n",
    "vowel_count = vowel_counter_function(text)\n",
    "print(f'The number of vowels in the sentence(text) is {vowel_count}')\n"
   ]
  },
  {
   "cell_type": "markdown",
   "id": "8facdd25",
   "metadata": {},
   "source": [
    "### ------------------------------------------------------------------------------------------------------------------------------------------------------------"
   ]
  },
  {
   "cell_type": "markdown",
   "id": "87bcc2ce",
   "metadata": {},
   "source": [
    "Q5: You have been appointed by the election commission to create a website. Your first task is to work on a program which tells candidates if they are eligible for voting or not. If they are eligible, your output should be ‘Congrats! You are eligible’; otherwise, it should tell that you have to return after X number of years. The eligibility criteria for voting is 18 years. "
   ]
  },
  {
   "cell_type": "code",
   "execution_count": 1,
   "id": "e2497a39",
   "metadata": {},
   "outputs": [
    {
     "name": "stdout",
     "output_type": "stream",
     "text": [
      "Eligibility Criteria for General Elections 2024 - Eligibility of age is calculated as on 1 - April - 2024\n",
      "Enter your age as on today: 16\n",
      "Sorry! You have to return after 1.6328767123287662 years from 1 - April - 2024 to vote.\n",
      "That is return after 595.9999999999997 days after 1 - April - 2024 to vote.\n",
      "That is return after 729 days from now to vote\n",
      "That is return after 2 years from now to vote.\n"
     ]
    }
   ],
   "source": [
    "from datetime import date\n",
    "import math\n",
    "\n",
    "print('Eligibility Criteria for General Elections 2024 - Eligibility of age is calculated as on 1 - April - 2024')\n",
    "\n",
    "age = int(input('Enter your age as on today: '))\n",
    "\n",
    "date_final = date(2024, 4, 1)\n",
    "date_diff = date_final - date.today()\n",
    "\n",
    "add_age = (date_diff.days) / 365\n",
    "\n",
    "eligible_age = age + add_age\n",
    "\n",
    "if eligible_age >= 18.0:\n",
    "    print('Congrats! You are eligible.')\n",
    "else:\n",
    "    x = 18.0 - eligible_age\n",
    "    print(f'Sorry! You have to return after {x} years from 1 - April - 2024 to vote.')\n",
    "    print(f'That is return after {x * 365.0} days after 1 - April - 2024 to vote.')\n",
    "    print(f'That is return after {int(x * 365.0 + date_diff.days)} days from now to vote')\n",
    "    print(f'That is return after {math.ceil((x * 365.0 + date_diff.days) / 365)} years from now to vote.')"
   ]
  },
  {
   "cell_type": "markdown",
   "id": "c9b0b120",
   "metadata": {},
   "source": [
    "### -------------------------------------------------------------------------------------------------------------------------------------------------------------"
   ]
  },
  {
   "cell_type": "markdown",
   "id": "3e8cc0a8",
   "metadata": {},
   "source": [
    "Q6: Given a list of integers, find the cumulative sum of the elements of the list and store them in another list.\n",
    "\n",
    "\n",
    "\n",
    "A = [1, 2, 3, 4, 5]\n",
    "\n",
    "\n",
    "\n",
    "Output: \n",
    "\n",
    "[1, 3, 6, 10, 15]"
   ]
  },
  {
   "cell_type": "code",
   "execution_count": 3,
   "id": "79d94623",
   "metadata": {},
   "outputs": [
    {
     "name": "stdout",
     "output_type": "stream",
     "text": [
      "Enter some positive integers separated by whitespace: 1 2 3 4 5 6 7 8 9\n",
      "The list of integers is [1, 2, 3, 4, 5, 6, 7, 8, 9]\n",
      "The list containing the cumulative sum of the elements of the integer list is [1, 3, 6, 10, 15, 21, 28, 36, 45]\n"
     ]
    }
   ],
   "source": [
    "num_list = input('Enter some positive integers separated by whitespace: ').split(' ')\n",
    "\n",
    "integer_list = list(map(int, num_list))\n",
    "\n",
    "cumulative_list = []\n",
    "\n",
    "print(f'The list of integers is {integer_list}')\n",
    "\n",
    "i = 0\n",
    "running_sum = 0\n",
    "\n",
    "while i < len(integer_list):\n",
    "    running_sum = running_sum + integer_list[i]\n",
    "    cumulative_list.append(running_sum)\n",
    "    i = i + 1\n",
    "\n",
    "print(f'The list containing the cumulative sum of the elements of the integer list is {cumulative_list}')"
   ]
  },
  {
   "cell_type": "code",
   "execution_count": null,
   "id": "b6570ac5",
   "metadata": {},
   "outputs": [],
   "source": []
  }
 ],
 "metadata": {
  "kernelspec": {
   "display_name": "Python 3 (ipykernel)",
   "language": "python",
   "name": "python3"
  },
  "language_info": {
   "codemirror_mode": {
    "name": "ipython",
    "version": 3
   },
   "file_extension": ".py",
   "mimetype": "text/x-python",
   "name": "python",
   "nbconvert_exporter": "python",
   "pygments_lexer": "ipython3",
   "version": "3.11.5"
  }
 },
 "nbformat": 4,
 "nbformat_minor": 5
}
