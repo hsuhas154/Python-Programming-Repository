{
 "cells": [
  {
   "cell_type": "markdown",
   "id": "2bafbae5-ee73-4ab8-b7c7-67543b3e1ee9",
   "metadata": {},
   "source": [
    "## 1. HCF of two numbers"
   ]
  },
  {
   "cell_type": "code",
   "execution_count": 19,
   "id": "5264e9bf-cbfd-4939-9699-eff2c8f44d6d",
   "metadata": {},
   "outputs": [
    {
     "name": "stdin",
     "output_type": "stream",
     "text": [
      "Enter the first number:  55\n",
      "Enter the second number:  55\n"
     ]
    },
    {
     "name": "stdout",
     "output_type": "stream",
     "text": [
      "55\n"
     ]
    }
   ],
   "source": [
    "def hcf_function(small, large):\n",
    "\n",
    "    dividend = large\n",
    "    divisor = small\n",
    "\n",
    "    while True:\n",
    "        remainder = dividend % divisor\n",
    "\n",
    "        if remainder == 0:\n",
    "            break\n",
    "        else:\n",
    "            dividend = divisor\n",
    "            divisor = remainder\n",
    "\n",
    "    hcf = divisor\n",
    "    return hcf\n",
    "\n",
    "x = int(input('Enter the first number: '))\n",
    "y = int(input('Enter the second number: '))\n",
    "\n",
    "if x <= y:\n",
    "    result = hcf_function(small = x, large = y)\n",
    "    print(result)\n",
    "else:\n",
    "    result = hcf_function(small = y, large = x)\n",
    "    print(result)"
   ]
  },
  {
   "cell_type": "code",
   "execution_count": 1,
   "id": "101eea2f-0321-4ad3-afda-309e03e92cf1",
   "metadata": {},
   "outputs": [
    {
     "name": "stdin",
     "output_type": "stream",
     "text": [
      "Enter the first number:  853\n",
      "Enter the second number:  17\n"
     ]
    },
    {
     "name": "stdout",
     "output_type": "stream",
     "text": [
      "HCF: 1\n"
     ]
    }
   ],
   "source": [
    "# Optimized version:\n",
    "\n",
    "def hcf_optimized_function(x, y): \n",
    "    while y:\n",
    "        x, y = y, x % y\n",
    "\n",
    "    return x\n",
    "\n",
    "x = int(input('Enter the first number: '))\n",
    "y = int(input('Enter the second number: '))\n",
    "\n",
    "result = hcf_optimized_function(min(x, y), max(x, y))\n",
    "print(\"HCF:\", result)"
   ]
  },
  {
   "cell_type": "code",
   "execution_count": 24,
   "id": "f5b4e2ff-f086-4e35-aef8-8c81f63fe438",
   "metadata": {},
   "outputs": [
    {
     "name": "stdin",
     "output_type": "stream",
     "text": [
      "Enter the first number:  17\n",
      "Enter the second number:  53\n"
     ]
    },
    {
     "name": "stdout",
     "output_type": "stream",
     "text": [
      "HCF: 1\n"
     ]
    }
   ],
   "source": [
    "# HCF using recursion:\n",
    "\n",
    "def hcf(a, b):\n",
    "    if a == 0:\n",
    "        return b\n",
    "    else:\n",
    "        return hcf(b % a, a)\n",
    "\n",
    "x = int(input('Enter the first number: '))\n",
    "y = int(input('Enter the second number: '))\n",
    "\n",
    "print(\"HCF:\", hcf(x, y))"
   ]
  },
  {
   "cell_type": "markdown",
   "id": "dc4c63d1-38e6-43d4-8bb3-02b7fff5ab61",
   "metadata": {},
   "source": [
    "## 2. LCM of two numbers"
   ]
  },
  {
   "cell_type": "code",
   "execution_count": 6,
   "id": "8150ac26-d83e-4530-b94a-ca2fa329282b",
   "metadata": {},
   "outputs": [
    {
     "name": "stdin",
     "output_type": "stream",
     "text": [
      "Enter the first number:  99\n",
      "Enter the second number:  11\n"
     ]
    },
    {
     "name": "stdout",
     "output_type": "stream",
     "text": [
      "LCM: 99.0\n"
     ]
    }
   ],
   "source": [
    "def hcf(x, y):\n",
    "    while y:\n",
    "        (x, y) = (y, x % y)\n",
    "\n",
    "    return x \n",
    "\n",
    "def lcm(a, b):\n",
    "    result = (a * b) / hcf(min(a, b), max(a, b))\n",
    "    return result\n",
    "\n",
    "u = int(input('Enter the first number: '))\n",
    "v = int(input('Enter the second number: '))\n",
    "\n",
    "print('LCM:', lcm(u, v))"
   ]
  },
  {
   "cell_type": "code",
   "execution_count": 13,
   "id": "d6ad0c3e-a5e8-4d42-b407-60ff7b6ea547",
   "metadata": {},
   "outputs": [
    {
     "name": "stdin",
     "output_type": "stream",
     "text": [
      "Enter the first number:  14654\n",
      "Enter the second number:  12\n"
     ]
    },
    {
     "name": "stdout",
     "output_type": "stream",
     "text": [
      "LCM: 87924\n"
     ]
    }
   ],
   "source": [
    "# Aliter:\n",
    "\n",
    "def lcm(a, b):\n",
    "    greater = max(a, b)\n",
    "    lesser = min(a, b) \n",
    "\n",
    "    for i in range(greater, a * (b + 1), greater):\n",
    "        if i % lesser == 0:\n",
    "            break\n",
    "\n",
    "    return i \n",
    "\n",
    "x = int(input('Enter the first number: '))\n",
    "y = int(input('Enter the second number: '))\n",
    "\n",
    "print('LCM:', lcm(x, y))"
   ]
  },
  {
   "cell_type": "code",
   "execution_count": null,
   "id": "9fc374e7-4f61-4bff-b6da-66248307b7ab",
   "metadata": {},
   "outputs": [],
   "source": []
  }
 ],
 "metadata": {
  "kernelspec": {
   "display_name": "Python 3 (ipykernel)",
   "language": "python",
   "name": "python3"
  },
  "language_info": {
   "codemirror_mode": {
    "name": "ipython",
    "version": 3
   },
   "file_extension": ".py",
   "mimetype": "text/x-python",
   "name": "python",
   "nbconvert_exporter": "python",
   "pygments_lexer": "ipython3",
   "version": "3.11.5"
  }
 },
 "nbformat": 4,
 "nbformat_minor": 5
}
