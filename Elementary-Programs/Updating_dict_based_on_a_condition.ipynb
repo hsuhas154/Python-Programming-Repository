{
 "cells": [
  {
   "cell_type": "code",
   "execution_count": 1,
   "metadata": {
    "colab": {
     "base_uri": "https://localhost:8080/"
    },
    "id": "aPoEDO9l4qbv",
    "outputId": "a7a2ea3b-fd80-4dc1-9177-6c26268b2f57"
   },
   "outputs": [
    {
     "data": {
      "text/plain": [
       "[{'name': 'John', 'marks': 80, 'status': 'pass'},\n",
       " {'name': 'Jane', 'marks': 45, 'status': 'fail'},\n",
       " {'name': 'Bob', 'marks': 70, 'status': 'pass'},\n",
       " {'name': 'Alice', 'marks': 35, 'status': 'fail'}]"
      ]
     },
     "execution_count": 1,
     "metadata": {},
     "output_type": "execute_result"
    }
   ],
   "source": [
    "students = [\n",
    "    {'name': 'John', 'marks': 80},\n",
    "    {'name': 'Jane', 'marks': 45},\n",
    "    {'name': 'Bob', 'marks': 70},\n",
    "    {'name': 'Alice', 'marks': 35}\n",
    "]\n",
    "\n",
    "update_status = lambda student: student.update({'status': 'pass'}) if student['marks'] >= 60 else student.update({'status': 'fail'})\n",
    "\n",
    "list(map(update_status, students))\n",
    "\n",
    "students"
   ]
  },
  {
   "cell_type": "code",
   "execution_count": 2,
   "metadata": {
    "colab": {
     "base_uri": "https://localhost:8080/"
    },
    "id": "SHEidXam4un4",
    "outputId": "001cb15d-dc6f-4896-aa67-b7865df6e557"
   },
   "outputs": [
    {
     "data": {
      "text/plain": [
       "[{'name': 'John', 'marks': 80, 'status': 'pass'},\n",
       " {'name': 'Jane', 'marks': 45, 'status': 'fail'},\n",
       " {'name': 'Bob', 'marks': 70, 'status': 'pass'},\n",
       " {'name': 'Alice', 'marks': 35, 'status': 'fail'}]"
      ]
     },
     "execution_count": 2,
     "metadata": {},
     "output_type": "execute_result"
    }
   ],
   "source": [
    "# Aliter:\n",
    "\n",
    "for element in students:\n",
    "  if element['marks'] >= 60:\n",
    "    element.update({'status' : 'pass'})\n",
    "  else:\n",
    "    element.update({'status' : 'fail'})\n",
    "\n",
    "students"
   ]
  },
  {
   "cell_type": "code",
   "execution_count": 3,
   "metadata": {
    "colab": {
     "base_uri": "https://localhost:8080/"
    },
    "id": "bnt3jGOT5iHM",
    "outputId": "f0a10151-2d63-4537-b01c-516fd5ac7bef"
   },
   "outputs": [
    {
     "data": {
      "text/plain": [
       "[{'name': 'John', 'marks': 80, 'status': 'pass'},\n",
       " {'name': 'Jane', 'marks': 45, 'status': 'fail'},\n",
       " {'name': 'Bob', 'marks': 70, 'status': 'pass'},\n",
       " {'name': 'Alice', 'marks': 35, 'status': 'fail'}]"
      ]
     },
     "execution_count": 3,
     "metadata": {},
     "output_type": "execute_result"
    }
   ],
   "source": [
    "# Aliter:\n",
    "\n",
    "students = [\n",
    "  {'name': 'John', 'marks': 80},\n",
    "  {'name': 'Jane', 'marks': 45},\n",
    "  {'name': 'Bob', 'marks': 70},\n",
    "  {'name': 'Alice', 'marks': 35}\n",
    "]\n",
    "\n",
    "for student in students:\n",
    "    student.update({'status': 'pass'} if student['marks'] >= 60 else {'status': 'fail'})\n",
    "\n",
    "students"
   ]
  },
  {
   "cell_type": "code",
   "execution_count": 4,
   "metadata": {
    "colab": {
     "base_uri": "https://localhost:8080/"
    },
    "id": "n174oq508TXY",
    "outputId": "fd1c1268-b087-47e7-b708-a8f4d3ac288e"
   },
   "outputs": [
    {
     "data": {
      "text/plain": [
       "[{'name': 'John', 'marks': 80, 'status': 'pass'},\n",
       " {'name': 'Jane', 'marks': 45, 'status': 'fail'},\n",
       " {'name': 'Bob', 'marks': 70, 'status': 'pass'},\n",
       " {'name': 'Alice', 'marks': 35, 'status': 'fail'}]"
      ]
     },
     "execution_count": 4,
     "metadata": {},
     "output_type": "execute_result"
    }
   ],
   "source": [
    "# Aliter:\n",
    "\n",
    "students = [\n",
    "    {'name': 'John', 'marks': 80},\n",
    "    {'name': 'Jane', 'marks': 45},\n",
    "    {'name': 'Bob', 'marks': 70},\n",
    "    {'name': 'Alice', 'marks': 35}\n",
    "]\n",
    "\n",
    "update_status = lambda student : {'name': student['name'], 'marks': student['marks'], 'status': 'pass'} if student['marks'] >= 60 else {'name': student['name'], 'marks': student['marks'], 'status': 'fail'}\n",
    "\n",
    "final_list = list(map(update_status, students))\n",
    "\n",
    "final_list"
   ]
  },
  {
   "cell_type": "code",
   "execution_count": 5,
   "metadata": {
    "colab": {
     "base_uri": "https://localhost:8080/"
    },
    "id": "LLlm14XiDtw9",
    "outputId": "747c697b-bbde-4387-afc6-9d772f0fd245"
   },
   "outputs": [],
   "source": [
    "people = [\n",
    "    {\"name\": \"John\", \"age\": 25, \"gender\": \"male\"},\n",
    "    {\"name\": \"Emily\", \"age\": 35, \"gender\": \"female\"},\n",
    "    {\"name\": \"Alex\", \"age\": 28, \"gender\": \"male\"},\n",
    "    {\"name\": \"Sarah\", \"age\": 30, \"gender\": \"female\"},\n",
    "    {\"name\": \"Max\", \"age\": 42, \"gender\": \"male\"},\n",
    "]\n",
    "\n",
    "age_filter = lambda item : item['age'] >= 30\n",
    "\n",
    "people_geq30 = list(filter(age_filter, people))\n",
    "\n",
    "name_prefix = lambda item : 'Mr. ' + item['name'] if item['gender'] == 'male' else 'Ms. ' + item['name']\n",
    "\n",
    "name_geq30 = list(map(name_prefix, people_geq30))\n"
   ]
  },
  {
   "cell_type": "code",
   "execution_count": 6,
   "metadata": {},
   "outputs": [
    {
     "data": {
      "text/plain": [
       "[{'name': 'Emily', 'age': 35, 'gender': 'female'},\n",
       " {'name': 'Sarah', 'age': 30, 'gender': 'female'},\n",
       " {'name': 'Max', 'age': 42, 'gender': 'male'}]"
      ]
     },
     "execution_count": 6,
     "metadata": {},
     "output_type": "execute_result"
    }
   ],
   "source": [
    "people_geq30"
   ]
  },
  {
   "cell_type": "code",
   "execution_count": 7,
   "metadata": {},
   "outputs": [
    {
     "data": {
      "text/plain": [
       "['Ms. Emily', 'Ms. Sarah', 'Mr. Max']"
      ]
     },
     "execution_count": 7,
     "metadata": {},
     "output_type": "execute_result"
    }
   ],
   "source": [
    "name_geq30"
   ]
  },
  {
   "cell_type": "code",
   "execution_count": 8,
   "metadata": {
    "colab": {
     "base_uri": "https://localhost:8080/"
    },
    "id": "A_ARZ0XcGXGy",
    "outputId": "6666dd65-2ecc-44b3-96c9-0837626e4501"
   },
   "outputs": [],
   "source": [
    "# Aliter:\n",
    "\n",
    "people = [\n",
    "    {\"name\": \"John\", \"age\": 25, \"gender\": \"male\"},\n",
    "    {\"name\": \"Emily\", \"age\": 35, \"gender\": \"female\"},\n",
    "    {\"name\": \"Alex\", \"age\": 28, \"gender\": \"male\"},\n",
    "    {\"name\": \"Sarah\", \"age\": 30, \"gender\": \"female\"},\n",
    "    {\"name\": \"Max\", \"age\": 42, \"gender\": \"male\"},\n",
    "]\n",
    "\n",
    "# Use a function instead of lambda for clarity\n",
    "def is_age_geq_30(person):\n",
    "    return person['age'] >= 30\n",
    "\n",
    "people_geq30 = list(filter(is_age_geq_30, people))\n",
    "\n",
    "# Use a function instead of lambda for clarity\n",
    "def get_name_prefix(person):\n",
    "    return f\"Mr. {person['name']}\" if person['gender'] == 'male' else f\"Ms. {person['name']}\"\n",
    "\n",
    "name_geq30 = list(map(get_name_prefix, people_geq30))"
   ]
  },
  {
   "cell_type": "code",
   "execution_count": 9,
   "metadata": {},
   "outputs": [
    {
     "data": {
      "text/plain": [
       "[{'name': 'Emily', 'age': 35, 'gender': 'female'},\n",
       " {'name': 'Sarah', 'age': 30, 'gender': 'female'},\n",
       " {'name': 'Max', 'age': 42, 'gender': 'male'}]"
      ]
     },
     "execution_count": 9,
     "metadata": {},
     "output_type": "execute_result"
    }
   ],
   "source": [
    "people_geq30"
   ]
  },
  {
   "cell_type": "code",
   "execution_count": 10,
   "metadata": {
    "id": "T0SqNOWkGanN"
   },
   "outputs": [
    {
     "data": {
      "text/plain": [
       "['Ms. Emily', 'Ms. Sarah', 'Mr. Max']"
      ]
     },
     "execution_count": 10,
     "metadata": {},
     "output_type": "execute_result"
    }
   ],
   "source": [
    "name_geq30"
   ]
  }
 ],
 "metadata": {
  "colab": {
   "provenance": []
  },
  "kernelspec": {
   "display_name": "Python 3 (ipykernel)",
   "language": "python",
   "name": "python3"
  },
  "language_info": {
   "codemirror_mode": {
    "name": "ipython",
    "version": 3
   },
   "file_extension": ".py",
   "mimetype": "text/x-python",
   "name": "python",
   "nbconvert_exporter": "python",
   "pygments_lexer": "ipython3",
   "version": "3.11.5"
  }
 },
 "nbformat": 4,
 "nbformat_minor": 4
}
