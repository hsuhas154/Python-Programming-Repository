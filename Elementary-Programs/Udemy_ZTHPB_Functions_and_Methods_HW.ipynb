{
 "cells": [
  {
   "cell_type": "markdown",
   "id": "a349fe96",
   "metadata": {},
   "source": [
    "<b>1. Write a function which computes the volume of a sphere."
   ]
  },
  {
   "cell_type": "code",
   "execution_count": 3,
   "id": "eef54ad8",
   "metadata": {},
   "outputs": [
    {
     "data": {
      "text/plain": [
       "33.510321638291124"
      ]
     },
     "execution_count": 3,
     "metadata": {},
     "output_type": "execute_result"
    }
   ],
   "source": [
    "import math\n",
    "\n",
    "def volume_sphere(radius):\n",
    "    \n",
    "    volume = (4 / 3) * math.pi * (radius ** 3)\n",
    "    \n",
    "    return volume\n",
    "\n",
    "volume_sphere(2)"
   ]
  },
  {
   "cell_type": "markdown",
   "id": "212d02d2",
   "metadata": {},
   "source": [
    "<b>2. Write a function that checks whether a number is in a given range (inclusive of high and low)"
   ]
  },
  {
   "cell_type": "code",
   "execution_count": 5,
   "id": "a6039f2d",
   "metadata": {},
   "outputs": [
    {
     "name": "stdout",
     "output_type": "stream",
     "text": [
      "5 is in the range between 2 and 7\n"
     ]
    }
   ],
   "source": [
    "def range_check(num, low, high):\n",
    "    \n",
    "    if low <= num <= high:\n",
    "        print(f'{num} is in the range between {low} and {high}')\n",
    "    else:\n",
    "        print(f'{num} is NOT in the range between {low} and {high}')\n",
    "        \n",
    "range_check(5, 2, 7)"
   ]
  },
  {
   "cell_type": "code",
   "execution_count": 7,
   "id": "18b911ed",
   "metadata": {},
   "outputs": [
    {
     "data": {
      "text/plain": [
       "False"
      ]
     },
     "execution_count": 7,
     "metadata": {},
     "output_type": "execute_result"
    }
   ],
   "source": [
    "# Using booleans:\n",
    "\n",
    "def range_check(num, low, high):\n",
    "    \n",
    "    return True if low <= num <= high else False\n",
    "\n",
    "range_check(14, 1, 10)"
   ]
  },
  {
   "cell_type": "markdown",
   "id": "6527965d",
   "metadata": {},
   "source": [
    "<b>3. Write a Python function that accepts a string and calculates the number of upper case letters and lower case letters."
   ]
  },
  {
   "cell_type": "code",
   "execution_count": 69,
   "id": "68fcbd3f",
   "metadata": {},
   "outputs": [
    {
     "name": "stdout",
     "output_type": "stream",
     "text": [
      "Original String : Hello Mr. Rogers, how are you this fine Tuesday?\n",
      "No. of Upper case characters : 4\n",
      "No. of Lower case characters : 33\n"
     ]
    }
   ],
   "source": [
    "def upper_lower(string1):\n",
    "    count_lcase = 0\n",
    "    count_ucase = 0\n",
    "    \n",
    "    for char in string1:\n",
    "        if char.isupper() == True:\n",
    "            count_ucase = count_ucase + 1\n",
    "        elif char.islower() == True:\n",
    "            count_lcase = count_lcase + 1 \n",
    "        else:\n",
    "            continue \n",
    "             \n",
    "    print('Original String : %s' % string1)\n",
    "    print('No. of Upper case characters : %d' % count_ucase)\n",
    "    print('No. of Lower case characters : %d' % count_lcase)\n",
    "    \n",
    "upper_lower('Hello Mr. Rogers, how are you this fine Tuesday?')"
   ]
  },
  {
   "cell_type": "code",
   "execution_count": 70,
   "id": "56f8038f",
   "metadata": {},
   "outputs": [
    {
     "name": "stdout",
     "output_type": "stream",
     "text": [
      "Original String : Soap allegedly killed Philip Graves and Ghost killed Hassan Zyani in COD MW 2.\n",
      "No. of Upper case characters : 11\n",
      "No. of Lower case characters : 52\n"
     ]
    }
   ],
   "source": [
    "# Aliter:\n",
    "\n",
    "def upper_lower(string1):\n",
    "    count_lcase = 0\n",
    "    count_ucase = 0\n",
    "    \n",
    "    for char in string1:\n",
    "        if 65 <= ord(char) <= 90:\n",
    "            count_ucase = count_ucase + 1\n",
    "        elif 97 <= ord(char) <= 122:\n",
    "            count_lcase = count_lcase + 1\n",
    "        else:\n",
    "            continue\n",
    "            \n",
    "    print('Original String : %s' % string1)\n",
    "    print('No. of Upper case characters : %d' % count_ucase)\n",
    "    print('No. of Lower case characters : %d' % count_lcase)\n",
    "    \n",
    "upper_lower('Soap allegedly killed Philip Graves and Ghost killed Hassan Zyani in COD MW 2.')"
   ]
  },
  {
   "cell_type": "markdown",
   "id": "87c337e5",
   "metadata": {},
   "source": [
    "<b>4. Write a Python function that takes a list and returns a new list with unique elements of the first list."
   ]
  },
  {
   "cell_type": "code",
   "execution_count": 10,
   "id": "1b76dd56",
   "metadata": {},
   "outputs": [
    {
     "data": {
      "text/plain": [
       "[1, 2, 3, 4, 5]"
      ]
     },
     "execution_count": 10,
     "metadata": {},
     "output_type": "execute_result"
    }
   ],
   "source": [
    "def unique_list_function(original_list):\n",
    "    unique_list = []\n",
    "        \n",
    "    for element in original_list:\n",
    "        if element not in unique_list:\n",
    "            unique_list.append(element)\n",
    "        else:\n",
    "            continue\n",
    "        \n",
    "    return unique_list\n",
    "\n",
    "\n",
    "unique_list_function([1, 1, 1, 1, 2, 2, 3, 3, 3, 3, 4, 5])"
   ]
  },
  {
   "cell_type": "code",
   "execution_count": 15,
   "id": "e55e6a99",
   "metadata": {},
   "outputs": [
    {
     "data": {
      "text/plain": [
       "[1, 2, 3, 4, 5]"
      ]
     },
     "execution_count": 15,
     "metadata": {},
     "output_type": "execute_result"
    }
   ],
   "source": [
    "# Aliter:\n",
    "\n",
    "def unique_list_function(original_list):\n",
    "    \n",
    "    unique_set = set(original_list)\n",
    "    unique_list = list(unique_set)\n",
    "    \n",
    "    return unique_list\n",
    "\n",
    "unique_list_function([1, 1, 1, 1, 2, 2, 3, 3, 3, 3, 4, 5])"
   ]
  },
  {
   "cell_type": "markdown",
   "id": "56b359d3",
   "metadata": {},
   "source": [
    "<b>5. Write a Python function to multiply all the numbers in a list."
   ]
  },
  {
   "cell_type": "code",
   "execution_count": 4,
   "id": "0deec115",
   "metadata": {},
   "outputs": [
    {
     "data": {
      "text/plain": [
       "-24"
      ]
     },
     "execution_count": 4,
     "metadata": {},
     "output_type": "execute_result"
    }
   ],
   "source": [
    "def list_elements_product(num_list):\n",
    "    \n",
    "    product = 1\n",
    "    \n",
    "    for element in num_list:\n",
    "        product = product * element\n",
    "                \n",
    "    return product\n",
    "\n",
    "\n",
    "list_elements_product([1, 2, 3, -4])"
   ]
  },
  {
   "cell_type": "markdown",
   "id": "d93874d2",
   "metadata": {},
   "source": [
    "<b>6. Write a Python function that checks whether a word or phrase is palindrome or not."
   ]
  },
  {
   "cell_type": "code",
   "execution_count": 71,
   "id": "2e1c0dcd",
   "metadata": {},
   "outputs": [
    {
     "data": {
      "text/plain": [
       "True"
      ]
     },
     "execution_count": 71,
     "metadata": {},
     "output_type": "execute_result"
    }
   ],
   "source": [
    "def palindrome_check(string1):\n",
    "    upper_string = string1.upper()\n",
    "    \n",
    "    if ' ' in upper_string:\n",
    "        upper_string = upper_string.replace(' ', '')\n",
    "    else:\n",
    "        pass\n",
    "    \n",
    "    l = 0\n",
    "    h = len(upper_string) - 1\n",
    "    \n",
    "    while l < h:\n",
    "        if upper_string[l] == upper_string[h]:\n",
    "            l = l + 1\n",
    "            h = h - 1\n",
    "            continue\n",
    "        else:\n",
    "            return False \n",
    "    else:\n",
    "        return True\n",
    "    \n",
    "\n",
    "palindrome_check('level')"
   ]
  },
  {
   "cell_type": "code",
   "execution_count": 73,
   "id": "71c1b29e",
   "metadata": {},
   "outputs": [
    {
     "data": {
      "text/plain": [
       "False"
      ]
     },
     "execution_count": 73,
     "metadata": {},
     "output_type": "execute_result"
    }
   ],
   "source": [
    "# Aliter:\n",
    "\n",
    "def palindrome_check(string1):\n",
    "    upper_string = string1.upper()\n",
    "    \n",
    "    if ' ' in upper_string:\n",
    "        upper_string = upper_string.replace(' ', '')\n",
    "    else:\n",
    "        pass\n",
    "    \n",
    "    reversed_string = ''\n",
    "    \n",
    "    for char in upper_string:\n",
    "        reversed_string = char + reversed_string\n",
    "        \n",
    "    return True if upper_string == reversed_string else False\n",
    "\n",
    "\n",
    "palindrome_check('water')"
   ]
  },
  {
   "cell_type": "code",
   "execution_count": 74,
   "id": "3ef4ad61",
   "metadata": {},
   "outputs": [
    {
     "data": {
      "text/plain": [
       "True"
      ]
     },
     "execution_count": 74,
     "metadata": {},
     "output_type": "execute_result"
    }
   ],
   "source": [
    "# Aliter:\n",
    "\n",
    "def palindrome_check(string1):\n",
    "    upper_string = string1.upper()\n",
    "    \n",
    "    if ' ' in upper_string:\n",
    "        upper_string = upper_string.replace(' ', '')\n",
    "    else:\n",
    "        pass\n",
    "    \n",
    "    reversed_string = upper_string[ : : -1]\n",
    "    \n",
    "    return True if upper_string == reversed_string else False\n",
    "\n",
    "palindrome_check('radar')"
   ]
  },
  {
   "cell_type": "code",
   "execution_count": 75,
   "id": "5ad09450",
   "metadata": {},
   "outputs": [
    {
     "data": {
      "text/plain": [
       "False"
      ]
     },
     "execution_count": 75,
     "metadata": {},
     "output_type": "execute_result"
    }
   ],
   "source": [
    "# Aliter:\n",
    "\n",
    "def palindrome_check(string1):\n",
    "    upper_string = string1.upper()\n",
    "    \n",
    "    if ' ' in upper_string:\n",
    "        upper_string = upper_string.replace(' ', '')\n",
    "    else:\n",
    "        pass\n",
    "    \n",
    "    reversed_string = ''\n",
    "    \n",
    "    for char in reversed(upper_string):\n",
    "        reversed_string = reversed_string + char\n",
    "    \n",
    "    return True if upper_string == reversed_string else False\n",
    "\n",
    "palindrome_check('finished')"
   ]
  },
  {
   "cell_type": "markdown",
   "id": "bda1d2ba",
   "metadata": {},
   "source": [
    "<b>7. Write a Python function to check whether a string is pangram or not. (Assume the string passed in does not have any punctuation)"
   ]
  },
  {
   "cell_type": "code",
   "execution_count": 94,
   "id": "0e1fd7dd",
   "metadata": {},
   "outputs": [
    {
     "name": "stdout",
     "output_type": "stream",
     "text": [
      "True\n",
      "True\n",
      "False\n",
      "False\n"
     ]
    }
   ],
   "source": [
    "import string \n",
    "\n",
    "def ispangram(input_str):\n",
    "    \n",
    "    input_str = input_str.lower().replace(' ', '')\n",
    "    \n",
    "    for char in string.ascii_lowercase:\n",
    "        if char in input_str:\n",
    "            continue\n",
    "        else:\n",
    "            return False\n",
    "    else:\n",
    "        return True\n",
    "    \n",
    "print(ispangram('The quick brown fox jumps over the lazy dog'))\n",
    "print(ispangram('When zombies arrive quickly fax Judge Pat'))\n",
    "print(ispangram('Python programming is outrageously difficult'))\n",
    "print(ispangram('I want to drink water'))"
   ]
  },
  {
   "cell_type": "code",
   "execution_count": null,
   "id": "963ccac9",
   "metadata": {},
   "outputs": [],
   "source": []
  }
 ],
 "metadata": {
  "kernelspec": {
   "display_name": "Python 3 (ipykernel)",
   "language": "python",
   "name": "python3"
  },
  "language_info": {
   "codemirror_mode": {
    "name": "ipython",
    "version": 3
   },
   "file_extension": ".py",
   "mimetype": "text/x-python",
   "name": "python",
   "nbconvert_exporter": "python",
   "pygments_lexer": "ipython3",
   "version": "3.8.18"
  }
 },
 "nbformat": 4,
 "nbformat_minor": 5
}
