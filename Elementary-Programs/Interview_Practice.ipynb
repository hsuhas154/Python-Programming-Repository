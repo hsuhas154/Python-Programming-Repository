{
 "cells": [
  {
   "cell_type": "markdown",
   "id": "f2f96585-d6a6-45bc-85f8-8e64032c0343",
   "metadata": {},
   "source": [
    "### Question 1: Write a Python program to check if a string is a palindrome."
   ]
  },
  {
   "cell_type": "code",
   "execution_count": 1,
   "id": "f7c61446-a05a-4b8f-a289-d8996641f1a6",
   "metadata": {},
   "outputs": [
    {
     "name": "stdin",
     "output_type": "stream",
     "text": [
      "Enter a string:  qwerty\n"
     ]
    },
    {
     "name": "stdout",
     "output_type": "stream",
     "text": [
      "qwerty is not a palindrome string.\n"
     ]
    }
   ],
   "source": [
    "# Solution 1:\n",
    "\n",
    "input_str = input('Enter a string: ').lower()\n",
    "\n",
    "reversed_str = ''\n",
    "\n",
    "for char in input_str:\n",
    "    reversed_str = char + reversed_str\n",
    "\n",
    "if input_str == reversed_str:\n",
    "    print(f'{input_str} is a palindrome string.')\n",
    "else:\n",
    "    print(f'{input_str} is not a palindrome string.') "
   ]
  },
  {
   "cell_type": "code",
   "execution_count": 2,
   "id": "67ea2ff2-76ee-466a-9cce-3e90f940515f",
   "metadata": {},
   "outputs": [
    {
     "name": "stdin",
     "output_type": "stream",
     "text": [
      "Enter a string:  madam\n"
     ]
    },
    {
     "name": "stdout",
     "output_type": "stream",
     "text": [
      "madam is a palindrome string.\n"
     ]
    }
   ],
   "source": [
    "# Solution 2:\n",
    "\n",
    "input_str = input('Enter a string: ').lower()\n",
    "\n",
    "if input_str == input_str[ : : -1]:\n",
    "    print(f'{input_str} is a palindrome string.')\n",
    "else:\n",
    "    print(f'{input_str} is not a palindrome string.')"
   ]
  },
  {
   "cell_type": "markdown",
   "id": "1762d877-2849-40f1-a9c0-d2ad7abe82be",
   "metadata": {},
   "source": [
    "### Question 2: Write a Python program to find the factorial of a number."
   ]
  },
  {
   "cell_type": "code",
   "execution_count": 3,
   "id": "c2a97e70-3497-4834-9d5b-62e12a49770c",
   "metadata": {},
   "outputs": [
    {
     "name": "stdin",
     "output_type": "stream",
     "text": [
      "Enter a number:  10\n"
     ]
    },
    {
     "name": "stdout",
     "output_type": "stream",
     "text": [
      "The factorial of 10 is 3628800.\n"
     ]
    }
   ],
   "source": [
    "# Solution 1:\n",
    "\n",
    "def factorial(num):\n",
    "    result = 1\n",
    "\n",
    "    for i in range(num, 0, -1):\n",
    "        result = result * i\n",
    "\n",
    "    return result\n",
    "\n",
    "x = int(input('Enter a number: '))\n",
    "print(f'The factorial of {x} is {factorial(x)}.')"
   ]
  },
  {
   "cell_type": "code",
   "execution_count": 4,
   "id": "542f6b89-87c9-42f4-b966-428a72594e29",
   "metadata": {},
   "outputs": [
    {
     "name": "stdin",
     "output_type": "stream",
     "text": [
      "Enter a number:  10\n"
     ]
    },
    {
     "name": "stdout",
     "output_type": "stream",
     "text": [
      "The factorial of 10 is 3628800.\n"
     ]
    }
   ],
   "source": [
    "# Solution 2:\n",
    "\n",
    "def recursive_factorial(num):\n",
    "    if num == 1:\n",
    "        return 1\n",
    "    else:\n",
    "        return num * recursive_factorial(num - 1)\n",
    "\n",
    "x = int(input('Enter a number: '))\n",
    "print(f'The factorial of {x} is {recursive_factorial(x)}.')"
   ]
  },
  {
   "cell_type": "markdown",
   "id": "51a8095c-b02d-4b0f-a5d7-f2fbc7f13816",
   "metadata": {},
   "source": [
    "### Question 3: Write a Python program to find the largest element in a list."
   ]
  },
  {
   "cell_type": "code",
   "execution_count": 5,
   "id": "f8b7667d-7f0a-4736-ae5c-b07dfec2115a",
   "metadata": {},
   "outputs": [
    {
     "data": {
      "text/plain": [
       "100"
      ]
     },
     "execution_count": 5,
     "metadata": {},
     "output_type": "execute_result"
    }
   ],
   "source": [
    "# Solution 1:\n",
    "\n",
    "def largest_element_1(num_list):\n",
    "    num_list.sort(reverse = True)\n",
    "    return num_list[0]\n",
    "\n",
    "largest_element_1([23, 1, 78, 12, 99, 97, 3, 2, 7, 4, 100, 24])"
   ]
  },
  {
   "cell_type": "code",
   "execution_count": 6,
   "id": "f85addec-65a3-45aa-96f1-afa053c7d658",
   "metadata": {},
   "outputs": [
    {
     "data": {
      "text/plain": [
       "100"
      ]
     },
     "execution_count": 6,
     "metadata": {},
     "output_type": "execute_result"
    }
   ],
   "source": [
    "# Solution 2:\n",
    "\n",
    "def largest_element_2(num_list):\n",
    "    return max(num_list)\n",
    "\n",
    "largest_element_2([23, 1, 78, 12, 99, 97, 3, 2, 7, 4, 100, 24])"
   ]
  },
  {
   "cell_type": "code",
   "execution_count": 7,
   "id": "921cbe23-3d84-4b47-82d6-b8d3e992eb43",
   "metadata": {},
   "outputs": [
    {
     "data": {
      "text/plain": [
       "100"
      ]
     },
     "execution_count": 7,
     "metadata": {},
     "output_type": "execute_result"
    }
   ],
   "source": [
    "# Solution 3:\n",
    "\n",
    "def largest_element_3(num_list):\n",
    "\n",
    "    largest = num_list[0]\n",
    "\n",
    "    for element in num_list:\n",
    "        if element > largest:\n",
    "            largest = element\n",
    "\n",
    "    return largest\n",
    "\n",
    "largest_element_3([23, 1, 78, 12, 99, 97, 3, 2, 7, 4, 100, 24])"
   ]
  },
  {
   "cell_type": "code",
   "execution_count": 8,
   "id": "d2eb79e9-6a00-4e62-b464-348ca5c92bdc",
   "metadata": {},
   "outputs": [
    {
     "data": {
      "text/plain": [
       "56"
      ]
     },
     "execution_count": 8,
     "metadata": {},
     "output_type": "execute_result"
    }
   ],
   "source": [
    "# Solution 4:\n",
    "\n",
    "def max_element_recursion(num_list, n):\n",
    "    if n == 0:\n",
    "        return num_list[0]\n",
    "    else:\n",
    "        return max(num_list[n - 1], max_element_recursion(num_list, n - 1))\n",
    "\n",
    "num_array = [1, 4, 24, 17, -5, 10, -22, 34, 56, -78, 0, 1, 2, 3, 55] \n",
    "n = len(num_array) \n",
    "\n",
    "max_element_recursion(num_array, n) "
   ]
  },
  {
   "cell_type": "markdown",
   "id": "f1bf8f69-7dd2-406c-9d42-88b39528865d",
   "metadata": {},
   "source": [
    "### Question 4: Write a Python program to reverse a string."
   ]
  },
  {
   "cell_type": "code",
   "execution_count": 9,
   "id": "133a7989-e5d2-49ae-b868-f785951dec48",
   "metadata": {},
   "outputs": [
    {
     "name": "stdout",
     "output_type": "stream",
     "text": [
      "WEIVRETNI\n"
     ]
    }
   ],
   "source": [
    "# Solution 1:\n",
    "\n",
    "def reversed_str_slicing(input_str):\n",
    "    return input_str[ : : -1]\n",
    "\n",
    "print(reversed_str_slicing('INTERVIEW'))"
   ]
  },
  {
   "cell_type": "code",
   "execution_count": 10,
   "id": "0a1fe6bf-78b2-49a1-802f-3780ff32de5b",
   "metadata": {},
   "outputs": [
    {
     "name": "stdout",
     "output_type": "stream",
     "text": [
      "YADNUS\n"
     ]
    }
   ],
   "source": [
    "# Solution 2:\n",
    "\n",
    "def reversed_str_logical(input_str):\n",
    "    reversed_str = ''\n",
    "\n",
    "    for char in input_str:\n",
    "        reversed_str = char + reversed_str\n",
    "\n",
    "    return reversed_str\n",
    "\n",
    "print(reversed_str_logical('SUNDAY'))"
   ]
  },
  {
   "cell_type": "markdown",
   "id": "32b4af83-7626-41b6-8441-a230214fd836",
   "metadata": {},
   "source": [
    "### Question 5: Write a Python program to count the frequency of each element in a list.\n"
   ]
  },
  {
   "cell_type": "code",
   "execution_count": 11,
   "id": "b2405e67-b1b3-43a9-b86b-95894526ba58",
   "metadata": {},
   "outputs": [
    {
     "name": "stdout",
     "output_type": "stream",
     "text": [
      "The count of the element 34 is = 3.\n",
      "The count of the element 3 is = 2.\n",
      "The count of the element 2 is = 2.\n",
      "The count of the element 4 is = 4.\n",
      "The count of the element 5 is = 3.\n",
      "The count of the element 6 is = 2.\n",
      "The count of the element 42 is = 1.\n",
      "The count of the element 12 is = 4.\n",
      "The count of the element 55 is = 2.\n"
     ]
    }
   ],
   "source": [
    "# Solution 1:\n",
    "\n",
    "def element_freq_counter(input_lst):\n",
    "\n",
    "    for x in set(input_lst):\n",
    "        count = 0\n",
    "        for y in input_lst:\n",
    "            if x == y:\n",
    "                count = count + 1\n",
    "        print(f'The count of the element {x} is = {count}.')\n",
    "\n",
    "    return \n",
    "\n",
    "element_freq_counter([12, 34, 12, 12, 12, 34, 55, 55, 2, 3, 4, 5, 6, 2, 3, 4, 4, 4, 5, 5, 6, 34, 42])"
   ]
  },
  {
   "cell_type": "code",
   "execution_count": 12,
   "id": "f0136abc-8506-4352-900d-a8a3f22ba7cb",
   "metadata": {},
   "outputs": [
    {
     "name": "stdout",
     "output_type": "stream",
     "text": [
      "The count of 12 = 4\n",
      "The count of 34 = 3\n",
      "The count of 55 = 2\n",
      "The count of 2 = 2\n",
      "The count of 3 = 2\n",
      "The count of 4 = 4\n",
      "The count of 5 = 3\n",
      "The count of 6 = 2\n",
      "The count of 42 = 1\n"
     ]
    }
   ],
   "source": [
    "# Solution 2:\n",
    "\n",
    "def main():\n",
    "    num_lst = [12, 34, 12, 12, 12, 34, 55, 55, 2, 3, 4, 5, 6, 2, 3, 4, 4, 4, 5, 5, 6, 34, 42]\n",
    "    length = len(num_lst)\n",
    "    counted = [] \n",
    "\n",
    "    for i in range(0, length, 1):\n",
    "        num = num_lst[i]\n",
    "        count = 0\n",
    "        already_counted = False\n",
    "\n",
    "        if num in counted:\n",
    "            already_counted = True\n",
    "\n",
    "        if already_counted == False:\n",
    "            count = num_lst.count(num)\n",
    "            print(f'The count of {num} = {count}')\n",
    "            counted.append(num)\n",
    "\n",
    "if __name__ == '__main__':\n",
    "    main()"
   ]
  },
  {
   "cell_type": "code",
   "execution_count": 13,
   "id": "9873383d-50f0-4276-8eed-475410466c63",
   "metadata": {},
   "outputs": [
    {
     "name": "stdout",
     "output_type": "stream",
     "text": [
      "The count of 12 = 4\n",
      "The count of 34 = 3\n",
      "The count of 55 = 2\n",
      "The count of 2 = 2\n",
      "The count of 3 = 2\n",
      "The count of 4 = 4\n",
      "The count of 5 = 3\n",
      "The count of 6 = 2\n",
      "The count of 42 = 1\n"
     ]
    },
    {
     "data": {
      "text/plain": [
       "{12: 4, 34: 3, 55: 2, 2: 2, 3: 2, 4: 4, 5: 3, 6: 2, 42: 1}"
      ]
     },
     "execution_count": 13,
     "metadata": {},
     "output_type": "execute_result"
    }
   ],
   "source": [
    "# Solution 3:\n",
    "num_lst = [12, 34, 12, 12, 12, 34, 55, 55, 2, 3, 4, 5, 6, 2, 3, 4, 4, 4, 5, 5, 6, 34, 42]\n",
    "count_dict = {}\n",
    "\n",
    "for num in num_lst:\n",
    "    if num in count_dict:\n",
    "        count_dict[num] = count_dict[num] + 1\n",
    "    else:\n",
    "        count_dict[num] = 1\n",
    "\n",
    "for (key, value) in count_dict.items():\n",
    "    print(f'The count of {key} = {value}')\n",
    "\n",
    "count_dict"
   ]
  },
  {
   "cell_type": "markdown",
   "id": "83ee238e-dc24-4209-8764-27fd9ac811f1",
   "metadata": {},
   "source": [
    "### Question 6: Write a Python program to check if a number is prime."
   ]
  },
  {
   "cell_type": "code",
   "execution_count": 14,
   "id": "8ad1d5c7-cf33-401e-b7ec-5ddc65c25eb7",
   "metadata": {},
   "outputs": [
    {
     "name": "stdout",
     "output_type": "stream",
     "text": [
      "Prime number.\n"
     ]
    }
   ],
   "source": [
    "from math import ceil, sqrt\n",
    "\n",
    "def is_prime(num):\n",
    "    if num < 0:\n",
    "        return 'Enter a valid positive number.'\n",
    "    elif num == 1:\n",
    "        return 'Neither prime, nor composite.'\n",
    "    elif num % 2 == 0 and num != 2:\n",
    "        return 'Composite number.'\n",
    "    else:\n",
    "        for i in range(3, ceil(sqrt(num)) + 1, 2):\n",
    "            if num % i == 0:\n",
    "                return 'Composite Number.'\n",
    "        else:\n",
    "            return 'Prime number.'\n",
    "\n",
    "print(is_prime(2))"
   ]
  },
  {
   "cell_type": "markdown",
   "id": "89e76da3-7b03-4f36-b52e-a839c27a497e",
   "metadata": {},
   "source": [
    "### Question 7: Write a Python program to find the common elements between two lists."
   ]
  },
  {
   "cell_type": "code",
   "execution_count": 15,
   "id": "a8bb1c8e-2f2f-4f0b-8b93-4abea69e46a4",
   "metadata": {},
   "outputs": [
    {
     "data": {
      "text/plain": [
       "[1, 5, 9, 4, 13]"
      ]
     },
     "execution_count": 15,
     "metadata": {},
     "output_type": "execute_result"
    }
   ],
   "source": [
    "# Solution 1:\n",
    "\n",
    "def common_elements(lst1, lst2):\n",
    "    unique_lst1 = []\n",
    "    unique_lst2 = []\n",
    "    common = []\n",
    "\n",
    "    for num in lst1:\n",
    "        if num not in unique_lst1:\n",
    "            unique_lst1.append(num)\n",
    "\n",
    "    for num in lst2:\n",
    "        if num not in unique_lst2:\n",
    "            unique_lst2.append(num)\n",
    "\n",
    "    for num1 in unique_lst2:\n",
    "        for num2 in unique_lst1:\n",
    "            if num1 == num2:\n",
    "                common.append(num1)\n",
    "\n",
    "    return common\n",
    "\n",
    "common_elements([1, 4, 2, 5, 4, 6, 9, 11, 13, 4, 17], [1, 3, 5, 7, 9, 4, 13, 16, 1, 3]) "
   ]
  },
  {
   "cell_type": "code",
   "execution_count": 16,
   "id": "5bef6305-abc0-41b9-8e82-947c67e812d5",
   "metadata": {},
   "outputs": [
    {
     "data": {
      "text/plain": [
       "[1, 4, 5, 9, 13]"
      ]
     },
     "execution_count": 16,
     "metadata": {},
     "output_type": "execute_result"
    }
   ],
   "source": [
    "# Solution 2:\n",
    "\n",
    "def remove_duplicates(lst):\n",
    "    unique_lst = []\n",
    "\n",
    "    for num in lst:\n",
    "        if num not in unique_lst:\n",
    "            unique_lst.append(num)\n",
    "\n",
    "    return unique_lst\n",
    "\n",
    "def common_elements(lst1, lst2):\n",
    "    unique_lst1 = remove_duplicates(lst1)\n",
    "    unique_lst2 = remove_duplicates(lst2)\n",
    "\n",
    "    common = [num for num in unique_lst1 if num in unique_lst2] \n",
    "\n",
    "    return common\n",
    "\n",
    "common_elements([1, 4, 2, 5, 4, 6, 9, 11, 13, 4, 17], [1, 3, 5, 7, 9, 4, 13, 16, 1, 3]) "
   ]
  },
  {
   "cell_type": "code",
   "execution_count": 17,
   "id": "e98b0f1b-c0db-4f07-af84-00a00461ed45",
   "metadata": {},
   "outputs": [
    {
     "data": {
      "text/plain": [
       "[1, 4, 5, 9, 13]"
      ]
     },
     "execution_count": 17,
     "metadata": {},
     "output_type": "execute_result"
    }
   ],
   "source": [
    "# Solution 3: Best solution.\n",
    "\n",
    "def common_elements(lst1, lst2):\n",
    "    set1 = set(lst1)\n",
    "    set2 = set(lst2)\n",
    "\n",
    "    common = list(set1 & set2)\n",
    "\n",
    "    return common\n",
    "\n",
    "common_elements([1, 4, 2, 5, 4, 6, 9, 11, 13, 4, 17], [1, 3, 5, 7, 9, 4, 13, 16, 1, 3])"
   ]
  },
  {
   "cell_type": "code",
   "execution_count": 18,
   "id": "9f570dbb-768e-405c-aa1b-7292c2831ad6",
   "metadata": {},
   "outputs": [
    {
     "data": {
      "text/plain": [
       "[1, 5, 9, 4, 13]"
      ]
     },
     "execution_count": 18,
     "metadata": {},
     "output_type": "execute_result"
    }
   ],
   "source": [
    "# Solution 4: Using dicts.\n",
    "\n",
    "def common_elements(lst1, lst2):\n",
    "    unique_dict = {}\n",
    "    common = [] \n",
    "\n",
    "    # Populate dictionary with elements from lst1\n",
    "    for num in lst1:\n",
    "        if num not in unique_dict:\n",
    "            unique_dict[num] = True \n",
    "\n",
    "    for num in lst2:\n",
    "        if num in unique_dict and num not in common:\n",
    "            common.append(num)\n",
    "\n",
    "    return common\n",
    "\n",
    "common_elements([1, 4, 2, 5, 4, 6, 9, 11, 13, 4, 17], [1, 3, 5, 7, 9, 4, 13, 16, 1, 3])"
   ]
  },
  {
   "cell_type": "markdown",
   "id": "b39aff6c-6363-4874-b6cf-58038353c43e",
   "metadata": {},
   "source": [
    "### Question 8: Write a Python program to sort a list of elements using the bubble sort algorithm."
   ]
  },
  {
   "cell_type": "code",
   "execution_count": 19,
   "id": "d9eb7ac2-05e8-4cbe-98e1-1d025de6927b",
   "metadata": {},
   "outputs": [
    {
     "data": {
      "text/plain": [
       "[1, 4, 12, 20, 23, 24, 33, 53, 53, 65]"
      ]
     },
     "execution_count": 19,
     "metadata": {},
     "output_type": "execute_result"
    }
   ],
   "source": [
    "unsorted_data = [20, 33, 12, 53, 24, 65, 23, 4, 53, 1]\n",
    "\n",
    "def bubble_sort(data):\n",
    "    length = len(data)\n",
    "\n",
    "    for i in range(0, length - 1, 1):\n",
    "        for j in range(0, length - 1 - i, 1):\n",
    "            if data[j] > data[j + 1]:\n",
    "                data[j], data[j + 1] = data[j + 1], data[j]\n",
    "\n",
    "    return data\n",
    "    \n",
    "sorted_data = bubble_sort(unsorted_data)\n",
    "sorted_data"
   ]
  },
  {
   "cell_type": "markdown",
   "id": "20ffff1b-1211-49d2-bd7b-3be40ead0c9c",
   "metadata": {},
   "source": [
    "### Question 9: Write a Python program to find the second largest number in a list."
   ]
  },
  {
   "cell_type": "code",
   "execution_count": 20,
   "id": "620eaedb-5e70-4b3a-90f7-59474d0ea850",
   "metadata": {},
   "outputs": [
    {
     "data": {
      "text/plain": [
       "348"
      ]
     },
     "execution_count": 20,
     "metadata": {},
     "output_type": "execute_result"
    }
   ],
   "source": [
    "# Solution 1:\n",
    "\n",
    "def second_largest_num1(input_list):\n",
    "    input_list.sort(reverse = True)\n",
    "    return input_list[1]\n",
    "\n",
    "second_largest_num1([283, 348, 244, 340, 270, 319, 258, 300, 266, 395])"
   ]
  },
  {
   "cell_type": "code",
   "execution_count": 21,
   "id": "7c4dd014-adbc-40e1-b9bb-4c61433d0251",
   "metadata": {},
   "outputs": [
    {
     "name": "stdout",
     "output_type": "stream",
     "text": [
      "348\n"
     ]
    }
   ],
   "source": [
    "# Solution 2:\n",
    "\n",
    "def second_largest_num(input_list):\n",
    "    if len(input_list) < 2:\n",
    "        return None  # Not enough elements for the second largest\n",
    "    \n",
    "    largest = second_largest = float('-inf')\n",
    "    \n",
    "    for num in input_list:\n",
    "        if num > largest:\n",
    "            second_largest = largest\n",
    "            largest = num\n",
    "        elif num > second_largest and num != largest:\n",
    "            second_largest = num\n",
    "    \n",
    "    return second_largest\n",
    "\n",
    "# Example usage\n",
    "print(second_largest_num([283, 348, 244, 340, 270, 319, 258, 300, 266, 395]))"
   ]
  },
  {
   "cell_type": "markdown",
   "id": "55290775-2a1a-41c7-89e4-a8e852745704",
   "metadata": {},
   "source": [
    "### Question 10: Write a Python program to remove duplicates from a list."
   ]
  },
  {
   "cell_type": "code",
   "execution_count": 22,
   "id": "3fb76d16-1d56-4f98-86e2-297e419da02f",
   "metadata": {},
   "outputs": [
    {
     "data": {
      "text/plain": [
       "[23, 54, 67, 10, 55, 89, 12]"
      ]
     },
     "execution_count": 22,
     "metadata": {},
     "output_type": "execute_result"
    }
   ],
   "source": [
    "def remove_duplicates(duplicates):\n",
    "    unique = []\n",
    "\n",
    "    for item in duplicates:\n",
    "        if item not in unique:\n",
    "            unique.append(item)\n",
    "            \n",
    "    return unique\n",
    "\n",
    "remove_duplicates([23, 54, 67, 23, 23, 23, 67, 10, 55, 54, 89, 12, 10])"
   ]
  },
  {
   "cell_type": "markdown",
   "id": "4a486819-f48f-4492-97a3-6fe331bfa15a",
   "metadata": {},
   "source": [
    "### Question 11: Write a program to print “Hello, World!”. "
   ]
  },
  {
   "cell_type": "code",
   "execution_count": 23,
   "id": "b9e0e87f-dd2e-4750-85b3-46008aa15d78",
   "metadata": {},
   "outputs": [
    {
     "name": "stdout",
     "output_type": "stream",
     "text": [
      "Hello World!\n"
     ]
    }
   ],
   "source": [
    "print(\"Hello World!\")"
   ]
  },
  {
   "cell_type": "markdown",
   "id": "f2b34bfb-7633-4623-b4ba-839ee12f9077",
   "metadata": {},
   "source": [
    "### Question 12: Write a program to check if a number is even or odd."
   ]
  },
  {
   "cell_type": "code",
   "execution_count": 24,
   "id": "2898325c-c52f-4e09-a375-ffe71654e0fd",
   "metadata": {},
   "outputs": [
    {
     "name": "stdout",
     "output_type": "stream",
     "text": [
      "Odd\n"
     ]
    }
   ],
   "source": [
    "def even_odd(num):\n",
    "    return 'Odd' if num % 2 != 0 else 'Even'\n",
    "\n",
    "print(even_odd(101))"
   ]
  },
  {
   "cell_type": "markdown",
   "id": "d4432a8e-831f-4cf8-a42f-267795b199cc",
   "metadata": {},
   "source": [
    "### Question 13: Write a program to find the sum of all numbers in a list."
   ]
  },
  {
   "cell_type": "code",
   "execution_count": 25,
   "id": "dfc3f448-5f55-4476-84a2-8de9e4593445",
   "metadata": {},
   "outputs": [
    {
     "data": {
      "text/plain": [
       "64"
      ]
     },
     "execution_count": 25,
     "metadata": {},
     "output_type": "execute_result"
    }
   ],
   "source": [
    "def sum_numbers_list(input_list):\n",
    "    result = 0\n",
    "    \n",
    "    for num in input_list:\n",
    "        result = result + num \n",
    "\n",
    "    return result\n",
    "\n",
    "sum_numbers_list([1, 3, 5, 7, 9, 11, 13, 15])"
   ]
  },
  {
   "cell_type": "markdown",
   "id": "681a11b5-2810-4a67-9336-66935690a615",
   "metadata": {},
   "source": [
    "### Question 14: Write a program to find the Fibonacci series."
   ]
  },
  {
   "cell_type": "code",
   "execution_count": 26,
   "id": "e9080d58-2ec0-4f8e-a97e-0ce594269a8b",
   "metadata": {},
   "outputs": [
    {
     "name": "stdout",
     "output_type": "stream",
     "text": [
      "0\n",
      "1\n",
      "1\n",
      "2\n",
      "3\n",
      "5\n",
      "8\n",
      "13\n",
      "21\n",
      "34\n"
     ]
    }
   ],
   "source": [
    "# Solution 1:\n",
    "\n",
    "def fibonacci_series(term):\n",
    "    f0 = 0\n",
    "    f1 = 1 \n",
    "    sum = 0\n",
    "\n",
    "    for i in range(term):\n",
    "        print(sum)\n",
    "        f0 = f1\n",
    "        f1 = sum\n",
    "        sum = f0 + f1\n",
    "\n",
    "fibonacci_series(10)"
   ]
  },
  {
   "cell_type": "code",
   "execution_count": 27,
   "id": "99f82c2d-da72-4e2d-81e8-52b1c98dc894",
   "metadata": {},
   "outputs": [
    {
     "name": "stdin",
     "output_type": "stream",
     "text": [
      "Enter the number of terms to print: 10\n"
     ]
    },
    {
     "name": "stdout",
     "output_type": "stream",
     "text": [
      "0\n",
      "1\n",
      "1\n",
      "2\n",
      "3\n",
      "5\n",
      "8\n",
      "13\n",
      "21\n",
      "34\n"
     ]
    }
   ],
   "source": [
    "# Solution 2:\n",
    "\n",
    "def recursive_fibonacci_series(term):\n",
    "    if term <= 1:\n",
    "        return term\n",
    "    else:\n",
    "        return (recursive_fibonacci_series(term - 1) + recursive_fibonacci_series(term - 2))\n",
    "\n",
    "num = int(input('Enter the number of terms to print:'))\n",
    "\n",
    "if num < 0:\n",
    "    print('Enter a valid positive number.')\n",
    "else:\n",
    "    for i in range(num):\n",
    "        print(recursive_fibonacci_series(i))"
   ]
  },
  {
   "cell_type": "markdown",
   "id": "d6d2eea8-3f41-49ef-98d9-562b22bd0c48",
   "metadata": {},
   "source": [
    "### Question 15: Write a program to find the Fibonacci series up to a given number."
   ]
  },
  {
   "cell_type": "code",
   "execution_count": 28,
   "id": "916197ee-ba3d-4cd7-895c-e3e3be800ae2",
   "metadata": {},
   "outputs": [
    {
     "name": "stdout",
     "output_type": "stream",
     "text": [
      "0\n",
      "1\n",
      "1\n",
      "2\n",
      "3\n",
      "5\n",
      "8\n",
      "13\n",
      "21\n",
      "34\n",
      "55\n"
     ]
    }
   ],
   "source": [
    "def fibonacci_series_number(num):\n",
    "    f0 = 0\n",
    "    f1 = 1\n",
    "    sum = 0\n",
    "\n",
    "    while sum <= num:\n",
    "        print(sum)\n",
    "        f0 = f1\n",
    "        f1 = sum\n",
    "        sum = f0 + f1\n",
    "\n",
    "fibonacci_series_number(60) # Print Fibonacci Series up to 60."
   ]
  },
  {
   "cell_type": "markdown",
   "id": "73be112f-fce4-47d5-b4f5-cb85246ccaec",
   "metadata": {},
   "source": [
    "### Question 16: Write a program to convert Celsius to Fahrenheit. "
   ]
  },
  {
   "cell_type": "code",
   "execution_count": 29,
   "id": "ae690b0d-2fd5-4f55-9c29-cabcd7a4d7ba",
   "metadata": {},
   "outputs": [
    {
     "data": {
      "text/plain": [
       "98.60000000000001"
      ]
     },
     "execution_count": 29,
     "metadata": {},
     "output_type": "execute_result"
    }
   ],
   "source": [
    "def celsius_to_fahrenheit(celsius):\n",
    "    fahrenheit = ((9 / 5) * celsius) + 32\n",
    "    return fahrenheit\n",
    "\n",
    "celsius_to_fahrenheit(37)"
   ]
  },
  {
   "cell_type": "markdown",
   "id": "fcf1da08-2204-4dac-a701-46ba12d6538c",
   "metadata": {},
   "source": [
    "### Question 17: How can you replace string space with a given character in Python?\n",
    "Example: A user has provided the string “D t C mpBl ckFrid yS le” and the character “a”, and the output will be “DataCampBlackFridaySale”."
   ]
  },
  {
   "cell_type": "code",
   "execution_count": 30,
   "id": "dee5be22-5c1a-43bb-8e7b-d3e0ce129b5f",
   "metadata": {},
   "outputs": [
    {
     "name": "stdout",
     "output_type": "stream",
     "text": [
      "DataCampBlackFridaySale\n"
     ]
    }
   ],
   "source": [
    "# Solution 1:\n",
    "\n",
    "def replace_space_with_char(text, char):\n",
    "    text = text.replace(' ', char)\n",
    "    return text\n",
    "\n",
    "print(replace_space_with_char('D t C mpBl ckFrid yS le', 'a'))"
   ]
  },
  {
   "cell_type": "code",
   "execution_count": 31,
   "id": "d0723df9-f3e8-467f-8b06-e4316c1173bb",
   "metadata": {},
   "outputs": [
    {
     "name": "stdout",
     "output_type": "stream",
     "text": [
      "DataCampBlackFridaySale\n"
     ]
    }
   ],
   "source": [
    "# Solution 2:\n",
    "\n",
    "def replace_space(text, char):\n",
    "    char_list = []\n",
    "    text_list = []\n",
    "\n",
    "    for letter in text:\n",
    "        char_list.append(letter)\n",
    "\n",
    "    for item in char_list:\n",
    "        if item == ' ':\n",
    "            text_list.append(char)\n",
    "        else:\n",
    "            text_list.append(item)\n",
    "\n",
    "    result = ''.join(text_list)\n",
    "\n",
    "    return result\n",
    "    \n",
    "print(replace_space('D t C mpBl ckFrid yS le', 'a'))"
   ]
  },
  {
   "cell_type": "markdown",
   "id": "42b08d11-8319-494b-883d-3a0557aa1177",
   "metadata": {},
   "source": [
    "### Question 18: Given a positive integer num, write a function that returns True if num is a perfect square else False."
   ]
  },
  {
   "cell_type": "code",
   "execution_count": 32,
   "id": "7a414ee7-5d59-4371-9642-f29d7a362c3a",
   "metadata": {},
   "outputs": [
    {
     "name": "stdout",
     "output_type": "stream",
     "text": [
      "True\n",
      "False\n",
      "True\n",
      "False\n"
     ]
    }
   ],
   "source": [
    "# Solution 1:\n",
    "\n",
    "from math import isqrt\n",
    "\n",
    "def is_perfect_square(x):\n",
    "    y = isqrt(x)\n",
    "\n",
    "    if y * y == x:\n",
    "        return True\n",
    "    else:\n",
    "        return False\n",
    "\n",
    "print(is_perfect_square(289))\n",
    "print(is_perfect_square(191))\n",
    "print(is_perfect_square(625))\n",
    "print(is_perfect_square(404))"
   ]
  },
  {
   "cell_type": "code",
   "execution_count": 33,
   "id": "f933c0f5-6d88-4b72-be4b-962cf4441dfe",
   "metadata": {},
   "outputs": [
    {
     "name": "stdout",
     "output_type": "stream",
     "text": [
      "True\n",
      "False\n",
      "True\n",
      "False\n"
     ]
    }
   ],
   "source": [
    "# Solution 2:\n",
    "\n",
    "def is_perfect_square(x):\n",
    "    y = 1\n",
    "\n",
    "    while y * y <= x:\n",
    "        if y * y == x:\n",
    "            return True\n",
    "        y = y + 1\n",
    "    else:\n",
    "        return False\n",
    "\n",
    "print(is_perfect_square(289))\n",
    "print(is_perfect_square(191))\n",
    "print(is_perfect_square(625))\n",
    "print(is_perfect_square(404))"
   ]
  },
  {
   "cell_type": "markdown",
   "id": "d59bba11-6b47-4a5e-9b95-aa9681d51e1b",
   "metadata": {},
   "source": [
    "### Question 19: Given an integer n, return the number of trailing zeroes in n factorial, n!"
   ]
  },
  {
   "cell_type": "code",
   "execution_count": 34,
   "id": "eae5d8a3-b9ba-4917-8a49-318ce7036d97",
   "metadata": {},
   "outputs": [
    {
     "name": "stdout",
     "output_type": "stream",
     "text": [
      "15! = 1307674368000\n",
      "Number of trailing zeroes in 15! = 3\n"
     ]
    }
   ],
   "source": [
    "# Solution 1:\n",
    "\n",
    "def factorial(n):\n",
    "    if n == 0:\n",
    "        return 1\n",
    "\n",
    "    result = 1\n",
    "\n",
    "    while n > 0:\n",
    "        result = result * n\n",
    "        n = n - 1\n",
    "\n",
    "    return result\n",
    "\n",
    "\n",
    "def trailing_zeroes(x):\n",
    "    m = factorial(x)\n",
    "    print(f'{x}! = {m}')\n",
    "    zero_counter = 0\n",
    "    flag = True\n",
    "\n",
    "    while flag:\n",
    "        rem = m % 10\n",
    "        if rem != 0:\n",
    "            flag = False\n",
    "        else:\n",
    "            zero_counter = zero_counter + 1\n",
    "        m = m // 10\n",
    "\n",
    "    print(f'Number of trailing zeroes in {x}! = {zero_counter}')\n",
    "\n",
    "trailing_zeroes(15)"
   ]
  },
  {
   "cell_type": "code",
   "execution_count": 35,
   "id": "a1bd4840-1f36-4c58-9769-097ff14c20e5",
   "metadata": {},
   "outputs": [
    {
     "name": "stdout",
     "output_type": "stream",
     "text": [
      "20! = 2432902008176640000\n",
      "Number of trailing zeros in 20! = 4\n"
     ]
    }
   ],
   "source": [
    "# Solution 2: \n",
    "\n",
    "from math import floor\n",
    "\n",
    "def factorial(k):\n",
    "    fact = 1 \n",
    "\n",
    "    for num in range(k, 0, -1):\n",
    "        fact = fact * num\n",
    "\n",
    "    return fact\n",
    "\n",
    "def trailing_zero_legendre(x):\n",
    "    n = factorial(x)\n",
    "    print(f'{x}! = {n}')\n",
    "\n",
    "    i = 1\n",
    "    zero_count = 0\n",
    "    flag = True\n",
    "    \n",
    "    while flag:\n",
    "        term = floor((x / (5 ** i)))\n",
    "        if term == 0:\n",
    "            flag = False\n",
    "        else:\n",
    "            zero_count = zero_count + term\n",
    "        i = i + 1\n",
    "\n",
    "    print(f'Number of trailing zeros in {x}! = {zero_count}')\n",
    "\n",
    "trailing_zero_legendre(20)"
   ]
  },
  {
   "cell_type": "markdown",
   "id": "091c2e29-c9d8-4b80-9bbd-89b369a3051f",
   "metadata": {},
   "source": [
    "### Question 20: Write a program to check if a given positive integer is a palindrome or not."
   ]
  },
  {
   "cell_type": "code",
   "execution_count": 36,
   "id": "f77de6f4-7908-4dd9-af95-495ec28b653e",
   "metadata": {},
   "outputs": [
    {
     "name": "stdout",
     "output_type": "stream",
     "text": [
      "1234 is not a palindrome number.\n",
      "12321 is a palindrome number.\n",
      "15625 is not a palindrome number.\n",
      "11411 is a palindrome number.\n",
      "12 is not a palindrome number.\n",
      "1 is a palindrome number.\n",
      "0 is a palindrome number.\n",
      "123454321 is a palindrome number.\n",
      "846251 is not a palindrome number.\n"
     ]
    }
   ],
   "source": [
    "# Solution 1:\n",
    "\n",
    "def digit_counter(dividend):\n",
    "    flag = True\n",
    "    count = 0\n",
    "    while flag:\n",
    "        remainder = dividend % 10\n",
    "        count = count + 1\n",
    "        quotient = dividend // 10\n",
    "        if quotient == 0:\n",
    "            flag = False\n",
    "        else:\n",
    "            dividend = dividend // 10\n",
    "\n",
    "    return count\n",
    "        \n",
    "def is_numeric_palindrome(x):\n",
    "    y = x\n",
    "    rev_x = 0\n",
    "\n",
    "    i = digit_counter(x) - 1\n",
    "\n",
    "    while True:\n",
    "        rem = x % 10\n",
    "        rev_x = rev_x + (rem * (10 ** i)) \n",
    "        if i == 0:\n",
    "            break\n",
    "        else:\n",
    "            i = i - 1\n",
    "            x = x // 10\n",
    "\n",
    "    if rev_x == y:\n",
    "        return f'{y} is a palindrome number.'\n",
    "    else:\n",
    "        return f'{y} is not a palindrome number.'\n",
    "\n",
    "print(is_numeric_palindrome(1234))\n",
    "print(is_numeric_palindrome(12321))\n",
    "print(is_numeric_palindrome(15625))\n",
    "print(is_numeric_palindrome(11411))\n",
    "print(is_numeric_palindrome(12))\n",
    "print(is_numeric_palindrome(1))\n",
    "print(is_numeric_palindrome(0))\n",
    "print(is_numeric_palindrome(123454321))\n",
    "print(is_numeric_palindrome(846251))"
   ]
  },
  {
   "cell_type": "code",
   "execution_count": 37,
   "id": "a9642a49-6cb8-4ff3-8546-1a2c6270ddf9",
   "metadata": {},
   "outputs": [
    {
     "name": "stdout",
     "output_type": "stream",
     "text": [
      "1234 is not a palindrome number.\n",
      "12321 is a palindrome number.\n",
      "15625 is not a palindrome number.\n",
      "11411 is a palindrome number.\n",
      "12 is not a palindrome number.\n",
      "1 is a palindrome number.\n",
      "0 is a palindrome number.\n",
      "123454321 is a palindrome number.\n",
      "846251 is not a palindrome number.\n"
     ]
    }
   ],
   "source": [
    "# Solution 2:\n",
    "\n",
    "def digit_counter(dividend):\n",
    "    if dividend == 0:\n",
    "        return 1\n",
    "    \n",
    "    count = 0\n",
    "    while dividend > 0:\n",
    "        count = count + 1\n",
    "        dividend = dividend // 10\n",
    "        \n",
    "    return count\n",
    "\n",
    "def is_numeric_palindrome(x):\n",
    "    original = str(x)\n",
    "    reversed_x = original[ : : -1]\n",
    "\n",
    "    if original == reversed_x:\n",
    "        return f'{x} is a palindrome number.'\n",
    "    else:\n",
    "        return f'{x} is not a palindrome number.'\n",
    "\n",
    "print(is_numeric_palindrome(1234))\n",
    "print(is_numeric_palindrome(12321))\n",
    "print(is_numeric_palindrome(15625))\n",
    "print(is_numeric_palindrome(11411))\n",
    "print(is_numeric_palindrome(12))\n",
    "print(is_numeric_palindrome(1))\n",
    "print(is_numeric_palindrome(0))\n",
    "print(is_numeric_palindrome(123454321))\n",
    "print(is_numeric_palindrome(846251))"
   ]
  },
  {
   "cell_type": "code",
   "execution_count": null,
   "id": "9766196b-61e5-455d-92ac-fa3983011b80",
   "metadata": {},
   "outputs": [],
   "source": []
  }
 ],
 "metadata": {
  "kernelspec": {
   "display_name": "Python 3 (ipykernel)",
   "language": "python",
   "name": "python3"
  },
  "language_info": {
   "codemirror_mode": {
    "name": "ipython",
    "version": 3
   },
   "file_extension": ".py",
   "mimetype": "text/x-python",
   "name": "python",
   "nbconvert_exporter": "python",
   "pygments_lexer": "ipython3",
   "version": "3.11.5"
  }
 },
 "nbformat": 4,
 "nbformat_minor": 5
}
