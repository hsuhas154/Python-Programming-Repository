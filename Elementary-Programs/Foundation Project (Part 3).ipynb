{
 "cells": [
  {
   "cell_type": "markdown",
   "id": "fb014ac1",
   "metadata": {},
   "source": [
    "# Python Foundation Mandatory Project\n",
    "\n",
    "## Name: Suhas H"
   ]
  },
  {
   "cell_type": "markdown",
   "id": "2eb48dce",
   "metadata": {},
   "source": [
    "## Part 3"
   ]
  },
  {
   "cell_type": "markdown",
   "id": "e0c60175",
   "metadata": {},
   "source": [
    "### Questions 7 and 8"
   ]
  },
  {
   "cell_type": "markdown",
   "id": "e78270d5",
   "metadata": {},
   "source": [
    "Q7:\n",
    "\n",
    "Write a program to encode a message entered by user as per below conditions:\n",
    "\n",
    "\n",
    "\n",
    "For every word in the sentence, \n",
    "\n",
    "1. If the word starts with a vowel, encode it as the first and last letter of the word.\n",
    "\n",
    "2. If the word starts with a consonant, remove all vowels from it.\n",
    "\n",
    "\n",
    "\n",
    "Ensure the case insensitive comparisons/checks are performed.\n",
    "\n",
    "\n",
    "\n",
    "Please enter your text:The quick brown fox used to sleep inside this box\n",
    "\n",
    "Encoded Msg: Th qck brwn fx ud t slp ie ths bx"
   ]
  },
  {
   "cell_type": "code",
   "execution_count": 1,
   "id": "54fa23e5",
   "metadata": {},
   "outputs": [
    {
     "name": "stdout",
     "output_type": "stream",
     "text": [
      "Please enter your text: The quick brown fox used to sleep inside this box\n",
      "Encoded message: Th qck brwn fx ud t slp ie ths bx\n"
     ]
    }
   ],
   "source": [
    "# Defining a function which performs one of the encoding tasks:\n",
    "\n",
    "def word_without_vowels(char_str):\n",
    "    \n",
    "    vowels_string = 'aeiouAEIOU'\n",
    "    \n",
    "    for char in char_str:\n",
    "        if char in vowels_string:\n",
    "            char_str = char_str.replace(char, '')\n",
    "        else:\n",
    "            continue\n",
    "            \n",
    "    return char_str\n",
    "\n",
    "\n",
    "# Main body of the program begins here: \n",
    "\n",
    "raw_text = input('Please enter your text: ')\n",
    "\n",
    "punctuation_string = '?.,\\'\"!-()/;:'\n",
    "\n",
    "for character in raw_text:\n",
    "    if character in punctuation_string:\n",
    "        raw_text = raw_text.replace(character, '')\n",
    "    else:\n",
    "        continue\n",
    "        \n",
    "text_list = raw_text.split(' ')\n",
    "\n",
    "vowels_string = 'aeiouAEIOU'\n",
    "\n",
    "encoded_list = []\n",
    "\n",
    "for word in text_list:\n",
    "    if word[0] in vowels_string:\n",
    "        enc_word = word[0] + word[len(word) - 1]\n",
    "    else:\n",
    "        enc_word = word_without_vowels(word)\n",
    "    \n",
    "    encoded_list.append(enc_word)\n",
    "    \n",
    "encoded_text = ' '.join(encoded_list)\n",
    "\n",
    "print(f'Encoded message: {encoded_text}')"
   ]
  },
  {
   "cell_type": "markdown",
   "id": "c155b3b1",
   "metadata": {},
   "source": [
    "### -------------------------------------------------------------------------------------------------------------------------------------------------------------"
   ]
  },
  {
   "cell_type": "markdown",
   "id": "61703576",
   "metadata": {},
   "source": [
    "Q8:\n",
    "\n",
    "Write a program to implement run length encoding of a string\n",
    "\n",
    "\n",
    "\n",
    "RLE:Consecutive repetition of a character has to be replaced with the count of occurrences and the character.\n",
    "\n",
    "\n",
    "\n",
    "Enter your string :aabbbccdddae\n",
    "\n",
    "Encoded: 2a3b2c3d1a1e"
   ]
  },
  {
   "cell_type": "code",
   "execution_count": 2,
   "id": "46eef338",
   "metadata": {},
   "outputs": [
    {
     "name": "stdout",
     "output_type": "stream",
     "text": [
      "Enter your string: aabbbccdddae\n",
      "Encoded string: 2a3b2c3d1a1e\n"
     ]
    }
   ],
   "source": [
    "input_string = input('Enter your string: ')\n",
    "\n",
    "encoded_string = ''\n",
    "count = 1\n",
    "\n",
    "for i in range(len(input_string) - 1):\n",
    "    if input_string[i] == input_string[i + 1]:\n",
    "        count = count + 1\n",
    "    else:\n",
    "        encoded_string = encoded_string + str(count) + input_string[i]\n",
    "        count = 1\n",
    "\n",
    "# Since the last character was not included in the above loop, we have to concatenate it. \n",
    "encoded_string = encoded_string + str(count) + input_string[-1]\n",
    "\n",
    "print('Encoded string: {}'.format(encoded_string))"
   ]
  },
  {
   "cell_type": "code",
   "execution_count": 4,
   "id": "33c17342",
   "metadata": {},
   "outputs": [
    {
     "name": "stdout",
     "output_type": "stream",
     "text": [
      "Enter your string: aabbbccdddae\n",
      "Encoded string: 2a3b2c3d1a1e\n"
     ]
    }
   ],
   "source": [
    "# Aliter, we can do the same problem using while loop:\n",
    "\n",
    "input_string = input('Enter your string: ')\n",
    "\n",
    "encoded_string = ''\n",
    "i = 0\n",
    "\n",
    "while i <= (len(input_string) - 1):\n",
    "    count = 1\n",
    "    j = i\n",
    "\n",
    "    while j < (len(input_string) - 1):\n",
    "        if input_string[j] == input_string[j + 1]:\n",
    "            count = count + 1\n",
    "            j = j + 1\n",
    "        else:\n",
    "            break\n",
    "    \n",
    "    encoded_string = encoded_string + str(count) + input_string[i]\n",
    "    i = j + 1\n",
    "\n",
    "print('Encoded string: {}'.format(encoded_string))\n"
   ]
  },
  {
   "cell_type": "code",
   "execution_count": null,
   "id": "c3208f34",
   "metadata": {},
   "outputs": [],
   "source": []
  }
 ],
 "metadata": {
  "kernelspec": {
   "display_name": "Python 3 (ipykernel)",
   "language": "python",
   "name": "python3"
  },
  "language_info": {
   "codemirror_mode": {
    "name": "ipython",
    "version": 3
   },
   "file_extension": ".py",
   "mimetype": "text/x-python",
   "name": "python",
   "nbconvert_exporter": "python",
   "pygments_lexer": "ipython3",
   "version": "3.11.5"
  }
 },
 "nbformat": 4,
 "nbformat_minor": 5
}
