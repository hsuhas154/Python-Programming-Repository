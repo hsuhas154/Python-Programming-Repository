{
 "cells": [
  {
   "cell_type": "markdown",
   "metadata": {},
   "source": [
    "# Objects and Data Structures Assessment Test"
   ]
  },
  {
   "cell_type": "markdown",
   "metadata": {},
   "source": [
    "## 1. Definitions:\n",
    "\n",
    "### Numbers:\n",
    "Numbers in Python encapsulate and consist of all numeric data types in order store, manipulate and store numeric data. Python supports three kinds of numeric data types. They are: \n",
    "1. `int`: Also known as the integer data type. This data type includes all the numbers in the set of integers. `int` data type consists of numbers (positive and negative) without any fractional part. There's no limit to how long an integer value can be in Python. The only constraint is your computer's memory — beyond that, an integer can be as long as you need.\n",
    "2. `float`: This data type encapsulates and includes all the real numbers (positive and negative) with a floating point representation. Floating point values in Python are represented as 64 - bit double precision values. 1.8 x 10^(308) is approximately the maximum value for any floating-point number. The minimum value is approximately 2.23 x 10^(-308).\n",
    "3. `complex`: `complex` data type in Python encapsulate complex numbers containing real and imaginary parts. Both the real and the imaginary parts are floating point numbers. It is possible to extract real and imaginary parts of a complex number using the commands `z.real` and `z.imag`, where `z` is any complex number.  Appending `'j'` or `'J'` to a numeric literal yields an imaginary number (a complex number with a zero real part) which can be added to an integer or float to get a complex number with real and imaginary parts.\n",
    "\n",
    "### Strings: \n",
    "Strings are objects in Python which comprise of an ordered sequences of characters. Strings are immutable sequences of Unicode characters. Strings support indexing in Python.\n",
    "\n",
    "### Lists:\n",
    "In Python, lists are a built in data type which consist of a collection of (typically homogeneous, but can be heterogeneous too) elements (data) enclosed in `[]` separated by `,`. Lists are mutable and support indexing. Lists can contain duplicate elements.\n",
    "\n",
    "### Tuples:\n",
    "Tuples are a built in data type in Python consisting of sequences of elements (data) enclosed in `()` separated by `,`. Tuples are typically a collection of heterogenous elements (data), but, can be homogeneous too (sometimes). Tuples in Python are immutable and support indexing. Tuples can contain duplicate elements. \n",
    "\n",
    "### Dictionaries:\n",
    "Dictionaries or `dict` are built in data type or a data structure in Python which store data or items in `key:value` pairs. `dict` are enclosed in `{}` and each `key:value` pair is separated by `,`. Keys in a dictionary uniquely identify each data element or item. A value in a `key:value` pair is the data associated with a particular key. Dictionaries are ordered - in the sense that they are indexed by key values. Dictionaries are mutable and cannot contain duplicate data items or elements.  "
   ]
  },
  {
   "cell_type": "markdown",
   "metadata": {},
   "source": [
    "### Numbers"
   ]
  },
  {
   "cell_type": "code",
   "execution_count": 3,
   "metadata": {},
   "outputs": [
    {
     "data": {
      "text/plain": [
       "100.25"
      ]
     },
     "execution_count": 3,
     "metadata": {},
     "output_type": "execute_result"
    }
   ],
   "source": [
    "# 1.  Expression that results in the value 100.25\n",
    "\n",
    "5 ** 2 + 25 + 10 * 2 + 80 / 2 - 10 + 0.25"
   ]
  },
  {
   "cell_type": "code",
   "execution_count": 8,
   "metadata": {},
   "outputs": [
    {
     "data": {
      "text/plain": [
       "44"
      ]
     },
     "execution_count": 8,
     "metadata": {},
     "output_type": "execute_result"
    }
   ],
   "source": [
    "# 2. What is the value of the expression 4 * (6 + 5)\n",
    "\n",
    "4 * (6 + 5)"
   ]
  },
  {
   "cell_type": "code",
   "execution_count": 9,
   "metadata": {},
   "outputs": [
    {
     "data": {
      "text/plain": [
       "29"
      ]
     },
     "execution_count": 9,
     "metadata": {},
     "output_type": "execute_result"
    }
   ],
   "source": [
    "# 3. What is the value of the expression 4 * 6 + 5 \n",
    "\n",
    "4 * 6 + 5"
   ]
  },
  {
   "cell_type": "code",
   "execution_count": 10,
   "metadata": {},
   "outputs": [
    {
     "data": {
      "text/plain": [
       "34"
      ]
     },
     "execution_count": 10,
     "metadata": {},
     "output_type": "execute_result"
    }
   ],
   "source": [
    "# 4. What is the value of the expression 4 + 6 * 5 \n",
    "\n",
    "4 + 6 * 5"
   ]
  },
  {
   "cell_type": "code",
   "execution_count": 11,
   "metadata": {},
   "outputs": [
    {
     "data": {
      "text/plain": [
       "float"
      ]
     },
     "execution_count": 11,
     "metadata": {},
     "output_type": "execute_result"
    }
   ],
   "source": [
    "# 5. What is the type of the result of the expression 3 + 1.5 + 4?\n",
    "\n",
    "type(3 + 1.5 + 4)"
   ]
  },
  {
   "cell_type": "code",
   "execution_count": 12,
   "metadata": {},
   "outputs": [
    {
     "name": "stdout",
     "output_type": "stream",
     "text": [
      "5.0\n"
     ]
    }
   ],
   "source": [
    "# 6. What would you use to find a number’s square root, as well as its square?\n",
    "\n",
    "# Square root: Exponentiation Operator\n",
    "\n",
    "print(25 ** 0.5)"
   ]
  },
  {
   "cell_type": "code",
   "execution_count": 14,
   "metadata": {},
   "outputs": [
    {
     "name": "stdout",
     "output_type": "stream",
     "text": [
      "25\n"
     ]
    }
   ],
   "source": [
    "# Square: Exponentiation Operator\n",
    "\n",
    "print(5 ** 2)"
   ]
  },
  {
   "cell_type": "markdown",
   "metadata": {},
   "source": [
    "### Strings"
   ]
  },
  {
   "cell_type": "code",
   "execution_count": 15,
   "metadata": {},
   "outputs": [
    {
     "name": "stdout",
     "output_type": "stream",
     "text": [
      "e\n"
     ]
    }
   ],
   "source": [
    "# 1. Print out 'e' using indexing\n",
    "\n",
    "s = 'hello'\n",
    "print(s[1])"
   ]
  },
  {
   "cell_type": "code",
   "execution_count": 23,
   "metadata": {},
   "outputs": [
    {
     "name": "stdout",
     "output_type": "stream",
     "text": [
      "olleh\n"
     ]
    }
   ],
   "source": [
    "# 2. Reverse the string 'hello' using slicing\n",
    "# Format of string indexing and slicing:\n",
    "# varname = 'SampleString'\n",
    "# varname[start: stop: step]\n",
    "# start indicates the starting position of the string. Assumed 0 if left blank.\n",
    "# stop indicates the stopping position or index of the string, but, it won't include that particular position in the operation.\n",
    "# stop is assumed to retrieve the entire (sub)string if left empty.\n",
    "# step is the step size in slicing and indexing. When left empty, it assumes 1, that is consecutive characters.\n",
    "\n",
    "s = 'hello'\n",
    "print(s[::-1])"
   ]
  },
  {
   "cell_type": "code",
   "execution_count": 28,
   "metadata": {},
   "outputs": [
    {
     "name": "stdout",
     "output_type": "stream",
     "text": [
      "o\n"
     ]
    }
   ],
   "source": [
    "# 3. Given the string hello, give two methods of producing the letter 'o' using indexing\n",
    "\n",
    "# Method 1:\n",
    "\n",
    "s = 'hello'\n",
    "print(s[-1::])"
   ]
  },
  {
   "cell_type": "code",
   "execution_count": 29,
   "metadata": {},
   "outputs": [
    {
     "name": "stdout",
     "output_type": "stream",
     "text": [
      "o\n"
     ]
    }
   ],
   "source": [
    "# Method 2:\n",
    "\n",
    "s = 'hello'\n",
    "print(s[4::])"
   ]
  },
  {
   "cell_type": "markdown",
   "metadata": {},
   "source": [
    "### Lists"
   ]
  },
  {
   "cell_type": "code",
   "execution_count": 1,
   "metadata": {},
   "outputs": [
    {
     "name": "stdout",
     "output_type": "stream",
     "text": [
      "[0, 0, 0]\n",
      "[0, 0, 0]\n",
      "[0, 0, 0]\n"
     ]
    }
   ],
   "source": [
    "# 1. Build this list [0,0,0] two separate ways\n",
    "\n",
    "# Method 1:\n",
    "\n",
    "list1 = [0, 0, 0]\n",
    "print(list1)\n",
    "\n",
    "# OR\n",
    "\n",
    "list_prim = [0]\n",
    "list2 = list_prim + list_prim + list_prim\n",
    "print(list2)\n",
    "\n",
    "# OR \n",
    "\n",
    "list2A = list_prim * 3\n",
    "print(list2A)"
   ]
  },
  {
   "cell_type": "code",
   "execution_count": 38,
   "metadata": {},
   "outputs": [
    {
     "name": "stdout",
     "output_type": "stream",
     "text": [
      "[0, 0, 0]\n"
     ]
    }
   ],
   "source": [
    "# Method 2:\n",
    "\n",
    "tuple1 = (0, 0, 0)\n",
    "list1 = list(tuple1)\n",
    "print(list1)"
   ]
  },
  {
   "cell_type": "code",
   "execution_count": 3,
   "metadata": {},
   "outputs": [
    {
     "name": "stdout",
     "output_type": "stream",
     "text": [
      "[1, 2, [3, 4, 'goodbye']]\n"
     ]
    }
   ],
   "source": [
    "# 2. Reassign 'hello' in this nested list to say 'goodbye' instead\n",
    "\n",
    "list3 = [1, 2, [3, 4, 'HELLO']]\n",
    "list3[2][2] = 'goodbye'\n",
    "print(list3)"
   ]
  },
  {
   "cell_type": "code",
   "execution_count": 11,
   "metadata": {},
   "outputs": [
    {
     "name": "stdout",
     "output_type": "stream",
     "text": [
      "[1, 3, 4, 5, 6]\n"
     ]
    }
   ],
   "source": [
    "# 3. Sort the given list\n",
    "\n",
    "list4 = [5, 3, 4, 6, 1]\n",
    "list4.sort()\n",
    "print(list4)"
   ]
  },
  {
   "cell_type": "markdown",
   "metadata": {},
   "source": [
    "### Dictionaries"
   ]
  },
  {
   "cell_type": "markdown",
   "metadata": {},
   "source": [
    "Using keys and indexing, grab the 'hello' from the following dictionaries:"
   ]
  },
  {
   "cell_type": "code",
   "execution_count": 12,
   "metadata": {},
   "outputs": [
    {
     "name": "stdout",
     "output_type": "stream",
     "text": [
      "hello\n"
     ]
    }
   ],
   "source": [
    "# 1. \n",
    "\n",
    "d = {'simple_key' : 'hello'}\n",
    "print(d['simple_key'])\n"
   ]
  },
  {
   "cell_type": "code",
   "execution_count": 13,
   "metadata": {},
   "outputs": [
    {
     "name": "stdout",
     "output_type": "stream",
     "text": [
      "hello\n"
     ]
    }
   ],
   "source": [
    "# 2.\n",
    "\n",
    "d = {'k1' : {'k2' : 'hello'}}\n",
    "print(d['k1']['k2'])"
   ]
  },
  {
   "cell_type": "code",
   "execution_count": 15,
   "metadata": {},
   "outputs": [
    {
     "name": "stdout",
     "output_type": "stream",
     "text": [
      "hello\n"
     ]
    }
   ],
   "source": [
    "# 3.\n",
    "\n",
    "d = {'k1' : [{'nest_key' : ['this is deep', ['hello']]}]}\n",
    "print(d['k1'][0]['nest_key'][1][0])"
   ]
  },
  {
   "cell_type": "code",
   "execution_count": 1,
   "metadata": {},
   "outputs": [
    {
     "name": "stdout",
     "output_type": "stream",
     "text": [
      "hello\n"
     ]
    }
   ],
   "source": [
    "# 4. \n",
    "\n",
    "d = {'k1' : [1, 2, {'k2' : ['this is tricky', {'tough' : [1, 2, ['hello']]}]}]}\n",
    "print(d['k1'][2]['k2'][1]['tough'][2][0])"
   ]
  },
  {
   "cell_type": "markdown",
   "metadata": {},
   "source": [
    "Can you sort a dictionary? Why or Why not?\n",
    "\n",
    "No, dictionaries cannot be sorted because they are indexed based on their keys of their respective data items or elements. Hence it is not possible to conventionally sort a dictionary. However, it is possible to sort a dictionary by key or value, but those are slightly advanced concepts which is beyond the scope of this test."
   ]
  },
  {
   "cell_type": "markdown",
   "metadata": {},
   "source": [
    "### Tuples"
   ]
  },
  {
   "cell_type": "markdown",
   "metadata": {},
   "source": [
    "What is the major difference between tuples and lists?\n",
    "\n",
    "In Python, lists are a built in data type which consist of a collection of (typically homogeneous, but can be heterogeneous too) elements (data) enclosed in `[]` separated by `,`. Lists are mutable and support indexing. Lists can contain duplicate elements. Lists have attributes like `.sort()`, `.reverse()`, `.append()`, `.pop()`, `.index()` and `count()` etc.\n",
    "\n",
    "Tuples are a built in data type in Python consisting of sequences of elements (data) enclosed in `()` separated by `,`. Tuples are typically a collection of heterogenous elements (data), but, can be homogeneous too (sometimes). Tuples in Python are immutable and support indexing. Tuples can contain duplicate elements. Tuples have only two attributes `.index()` and `count()`."
   ]
  },
  {
   "cell_type": "code",
   "execution_count": 17,
   "metadata": {},
   "outputs": [
    {
     "name": "stdout",
     "output_type": "stream",
     "text": [
      "(1, 3, 5, 7, 9)\n",
      "('A', 'B', 'C', 'D', 'E', 'F', 'G')\n",
      "(23, 456, 21, 77, 100)\n"
     ]
    }
   ],
   "source": [
    "# How do we create a tuple?\n",
    "\n",
    "# Method 1:\n",
    "tuple1 = (1, 3, 5, 7, 9)\n",
    "print(tuple1)\n",
    "\n",
    "# Method 2:\n",
    "# If we want to create a tuple consisting of single characters as its elements, then we can also perform the below operation\n",
    "varstr = 'ABCDEFG'\n",
    "tuple2 = tuple(varstr)\n",
    "print(tuple2)\n",
    "\n",
    "# Method 3:\n",
    "varlist = [23, 456, 21, 77, 100]\n",
    "tuple3 = tuple(varlist)\n",
    "print(tuple3)"
   ]
  },
  {
   "cell_type": "markdown",
   "metadata": {},
   "source": [
    "### Sets"
   ]
  },
  {
   "cell_type": "markdown",
   "metadata": {},
   "source": [
    "What is unique about a set?\n",
    "A set is a built in data type in Python which is an unordered collection of data elements. All the data elements in a set are unique, which implies that duplicate data elements are not allowed. Since sets are unordered, indexing is not allowed. The elements in a set are immutable, but a set itself can be changed, altered or modified by operations like union and intersection etc. The elements of a set are enclosed in `{}` and each element is separated by a `,`."
   ]
  },
  {
   "cell_type": "code",
   "execution_count": 19,
   "metadata": {},
   "outputs": [
    {
     "name": "stdout",
     "output_type": "stream",
     "text": [
      "{1, 2, 33, 4, 3, 11, 22}\n"
     ]
    }
   ],
   "source": [
    "# 1. Use a set to find the unique values of the list below\n",
    "\n",
    "list5 = [1, 2, 2, 33, 4, 4, 11, 22, 3, 3, 2]\n",
    "set1 = set(list5)\n",
    "print(set1)"
   ]
  },
  {
   "cell_type": "markdown",
   "metadata": {},
   "source": [
    "### Booleans"
   ]
  },
  {
   "cell_type": "code",
   "execution_count": 20,
   "metadata": {},
   "outputs": [
    {
     "data": {
      "text/plain": [
       "False"
      ]
     },
     "execution_count": 20,
     "metadata": {},
     "output_type": "execute_result"
    }
   ],
   "source": [
    "# 1. Answer before running cell\n",
    "\n",
    "2 > 3 # Output: False"
   ]
  },
  {
   "cell_type": "code",
   "execution_count": 22,
   "metadata": {},
   "outputs": [
    {
     "data": {
      "text/plain": [
       "False"
      ]
     },
     "execution_count": 22,
     "metadata": {},
     "output_type": "execute_result"
    }
   ],
   "source": [
    "# 2. Answer before running cell\n",
    "\n",
    "3 <= 2 # Output: False"
   ]
  },
  {
   "cell_type": "code",
   "execution_count": 23,
   "metadata": {},
   "outputs": [
    {
     "data": {
      "text/plain": [
       "False"
      ]
     },
     "execution_count": 23,
     "metadata": {},
     "output_type": "execute_result"
    }
   ],
   "source": [
    "# 3. Answer before running cell\n",
    "\n",
    "3.0 == 2 # Output: False"
   ]
  },
  {
   "cell_type": "code",
   "execution_count": 26,
   "metadata": {},
   "outputs": [
    {
     "data": {
      "text/plain": [
       "True"
      ]
     },
     "execution_count": 26,
     "metadata": {},
     "output_type": "execute_result"
    }
   ],
   "source": [
    "# 4. Answer before running cell\n",
    "\n",
    "3.0 == 3 # Output: True\n",
    "\n",
    "# However, note that Python may not always output the result as True in such cases as floating point values are stored \n",
    "# according to floating point precision rules in Python and due to the precision, 3.0 for instance may be stored as 3.0000001\n",
    "# depending on certain situations."
   ]
  },
  {
   "cell_type": "code",
   "execution_count": 27,
   "metadata": {},
   "outputs": [
    {
     "data": {
      "text/plain": [
       "False"
      ]
     },
     "execution_count": 27,
     "metadata": {},
     "output_type": "execute_result"
    }
   ],
   "source": [
    "# 5. Answer before running cell\n",
    "\n",
    "4 ** 0.5 != 2 # Output: False"
   ]
  },
  {
   "cell_type": "code",
   "execution_count": 28,
   "metadata": {},
   "outputs": [
    {
     "data": {
      "text/plain": [
       "False"
      ]
     },
     "execution_count": 28,
     "metadata": {},
     "output_type": "execute_result"
    }
   ],
   "source": [
    "# 6. What is the boolean output of the cell block below?\n",
    "\n",
    "l_one = [1, 2, [3, 4]]\n",
    "l_two = [1, 2, {'k1' : 4}]\n",
    "\n",
    "# True or False?\n",
    "l_one[2][0] >= l_two[2]['k1'] # Output: False"
   ]
  },
  {
   "cell_type": "markdown",
   "metadata": {},
   "source": [
    "## END OF ASSESSMENT TEST"
   ]
  }
 ],
 "metadata": {
  "kernelspec": {
   "display_name": "Python 3 (ipykernel)",
   "language": "python",
   "name": "python3"
  },
  "language_info": {
   "codemirror_mode": {
    "name": "ipython",
    "version": 3
   },
   "file_extension": ".py",
   "mimetype": "text/x-python",
   "name": "python",
   "nbconvert_exporter": "python",
   "pygments_lexer": "ipython3",
   "version": "3.8.18"
  }
 },
 "nbformat": 4,
 "nbformat_minor": 4
}
