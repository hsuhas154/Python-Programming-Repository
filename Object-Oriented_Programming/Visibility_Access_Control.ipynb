{
 "cells": [
  {
   "cell_type": "code",
   "execution_count": 1,
   "id": "6a4f6b52-eb15-42e1-8a1b-f49ccacc9a34",
   "metadata": {},
   "outputs": [],
   "source": [
    "class VisibilityAccessControl:\n",
    "    def __init__(self):\n",
    "        self.public_var = 'I am public'\n",
    "        self._protected_var = 'I am protected'\n",
    "        self.__private_var = 'I am private'\n",
    "\n",
    "    def get_private_var(self):\n",
    "        return self.__private_var\n",
    "\n",
    "class SubClass(VisibilityAccessControl):\n",
    "    def print_protected_var(self):\n",
    "        return self._protected_var"
   ]
  },
  {
   "cell_type": "code",
   "execution_count": 2,
   "id": "48b0ebe7-6644-4d2d-984e-6ebe6e8cb3e4",
   "metadata": {},
   "outputs": [],
   "source": [
    "object1 = VisibilityAccessControl()\n",
    "object2 = SubClass()"
   ]
  },
  {
   "cell_type": "code",
   "execution_count": 3,
   "id": "b8aa9c9f-3283-4802-acc9-f96fab9659b5",
   "metadata": {},
   "outputs": [
    {
     "name": "stdout",
     "output_type": "stream",
     "text": [
      "I am public\n"
     ]
    }
   ],
   "source": [
    "# Public variables are accessible from anywhere, both inside and outside the class. They are the default in Python.\n",
    "print(object1.public_var)"
   ]
  },
  {
   "cell_type": "markdown",
   "id": "1083de61-f636-4e9d-aab2-666603aa0097",
   "metadata": {},
   "source": [
    "<b>Private variables are intended to be accessible only within the class they are defined in. In Python, there is no strict enforcement of private variables like in some other languages, but a naming convention is used to indicate that a variable is intended to be private.</b> This is done by prefixing the variable name with two underscores (`__`).\n",
    "\n",
    "When we define a variable with a double underscore prefix, Python performs name mangling to make it harder to accidentally access or modify it from outside the class. However, it is still possible to access the variable if we know the mangled name."
   ]
  },
  {
   "cell_type": "markdown",
   "id": "c4aaef6b-fa18-4475-8a8c-52ece4bb42c5",
   "metadata": {},
   "source": [
    "```Python\n",
    "print(object1.__private_var)\n",
    "```\n",
    "\n",
    "The above code will raise an AttributeError as shown below:\n",
    "\n",
    "```Python\n",
    "---------------------------------------------------------------------------\n",
    "AttributeError                            Traceback (most recent call last)\n",
    "Cell In[4], line 1\n",
    "----> 1 print(object1.__private_var)\n",
    "\n",
    "AttributeError: 'VisibilityAccessControl' object has no attribute '__private_var'\n",
    "```"
   ]
  },
  {
   "cell_type": "code",
   "execution_count": 4,
   "id": "0ba6c818-af62-41da-969c-1b018bd81c94",
   "metadata": {},
   "outputs": [
    {
     "name": "stdout",
     "output_type": "stream",
     "text": [
      "I am private\n"
     ]
    }
   ],
   "source": [
    "# Accessing private variable via a public method.\n",
    "print(object1.get_private_var()) # Correct way to access a private variable."
   ]
  },
  {
   "cell_type": "markdown",
   "id": "d09f0d48-d26e-4aaf-ab9d-a1b63237e9e1",
   "metadata": {},
   "source": [
    "Directly accessing a private variable using name mangling is generally not recommended. <br>\n",
    "The double underscore prefix and resulting name mangling are intended to indicate that a variable is private and should not be accessed directly from outside the class."
   ]
  },
  {
   "cell_type": "code",
   "execution_count": 5,
   "id": "a1cf638c-02b1-43f9-8686-8b74250db929",
   "metadata": {},
   "outputs": [
    {
     "name": "stdout",
     "output_type": "stream",
     "text": [
      "I am protected\n"
     ]
    }
   ],
   "source": [
    "print(object2.print_protected_var())"
   ]
  },
  {
   "cell_type": "code",
   "execution_count": null,
   "id": "e2c337a3-3eab-47f1-82c6-6a9676aae103",
   "metadata": {},
   "outputs": [],
   "source": []
  }
 ],
 "metadata": {
  "kernelspec": {
   "display_name": "Python 3 (ipykernel)",
   "language": "python",
   "name": "python3"
  },
  "language_info": {
   "codemirror_mode": {
    "name": "ipython",
    "version": 3
   },
   "file_extension": ".py",
   "mimetype": "text/x-python",
   "name": "python",
   "nbconvert_exporter": "python",
   "pygments_lexer": "ipython3",
   "version": "3.11.5"
  }
 },
 "nbformat": 4,
 "nbformat_minor": 5
}
