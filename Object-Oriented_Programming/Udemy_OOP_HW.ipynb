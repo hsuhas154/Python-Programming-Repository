{
 "cells": [
  {
   "cell_type": "code",
   "execution_count": 1,
   "id": "c9b9960a",
   "metadata": {},
   "outputs": [],
   "source": [
    "import math\n",
    "class Line: \n",
    "\n",
    "    def __init__(self, point1, point2):\n",
    "        self.point1 = point1 \n",
    "        self.point2 = point2\n",
    "        \n",
    "    def distance(self):\n",
    "        d = math.sqrt((self.point2[0] - self.point1[0]) ** 2 + (self.point2[1] - self.point1[1]) ** 2)\n",
    "        return d \n",
    "    \n",
    "    def slope(self):\n",
    "        m = (self.point2[1] - self.point1[1]) / (self.point2[0] - self.point1[0]) \n",
    "        return m "
   ]
  },
  {
   "cell_type": "code",
   "execution_count": 2,
   "id": "60938f20",
   "metadata": {},
   "outputs": [],
   "source": [
    "coordinate1 = (3, 2)\n",
    "coordinate2 = (8, 10) \n",
    "\n",
    "line1 = Line(coordinate1, coordinate2)"
   ]
  },
  {
   "cell_type": "code",
   "execution_count": 3,
   "id": "3cc8e0f0",
   "metadata": {},
   "outputs": [
    {
     "data": {
      "text/plain": [
       "9.433981132056603"
      ]
     },
     "execution_count": 3,
     "metadata": {},
     "output_type": "execute_result"
    }
   ],
   "source": [
    "line1.distance()"
   ]
  },
  {
   "cell_type": "code",
   "execution_count": 4,
   "id": "3d4bd457",
   "metadata": {},
   "outputs": [
    {
     "data": {
      "text/plain": [
       "1.6"
      ]
     },
     "execution_count": 4,
     "metadata": {},
     "output_type": "execute_result"
    }
   ],
   "source": [
    "line1.slope() "
   ]
  },
  {
   "cell_type": "code",
   "execution_count": 14,
   "id": "9699091f",
   "metadata": {},
   "outputs": [],
   "source": [
    "class Cylinder:\n",
    "    \n",
    "    def __init__(self, height = 1, radius = 1):\n",
    "        self.height = height\n",
    "        self.radius = radius \n",
    "        \n",
    "    def curved_surface_area(self):\n",
    "        csa = 2 * math.pi * self.radius * self.height \n",
    "        return csa \n",
    "    \n",
    "    def total_surface_area(self):\n",
    "        tsa = 2 * math.pi * self.radius * (self.height + self.radius) \n",
    "        return tsa \n",
    "    \n",
    "    def volume(self):\n",
    "        v = math.pi * (self.radius ** 2) * self.height\n",
    "        return v"
   ]
  },
  {
   "cell_type": "code",
   "execution_count": 15,
   "id": "da17c561",
   "metadata": {},
   "outputs": [],
   "source": [
    "cylinder1 = Cylinder(2, 3)"
   ]
  },
  {
   "cell_type": "code",
   "execution_count": 16,
   "id": "dccc3cb4",
   "metadata": {},
   "outputs": [
    {
     "data": {
      "text/plain": [
       "37.69911184307752"
      ]
     },
     "execution_count": 16,
     "metadata": {},
     "output_type": "execute_result"
    }
   ],
   "source": [
    "cylinder1.curved_surface_area()"
   ]
  },
  {
   "cell_type": "code",
   "execution_count": 17,
   "id": "8db2f4f1",
   "metadata": {},
   "outputs": [
    {
     "data": {
      "text/plain": [
       "94.24777960769379"
      ]
     },
     "execution_count": 17,
     "metadata": {},
     "output_type": "execute_result"
    }
   ],
   "source": [
    "cylinder1.total_surface_area()"
   ]
  },
  {
   "cell_type": "code",
   "execution_count": 18,
   "id": "36ab5f75",
   "metadata": {},
   "outputs": [
    {
     "data": {
      "text/plain": [
       "56.548667764616276"
      ]
     },
     "execution_count": 18,
     "metadata": {},
     "output_type": "execute_result"
    }
   ],
   "source": [
    "cylinder1.volume()"
   ]
  },
  {
   "cell_type": "code",
   "execution_count": null,
   "id": "6d7a61c3",
   "metadata": {},
   "outputs": [],
   "source": []
  }
 ],
 "metadata": {
  "kernelspec": {
   "display_name": "Python 3 (ipykernel)",
   "language": "python",
   "name": "python3"
  },
  "language_info": {
   "codemirror_mode": {
    "name": "ipython",
    "version": 3
   },
   "file_extension": ".py",
   "mimetype": "text/x-python",
   "name": "python",
   "nbconvert_exporter": "python",
   "pygments_lexer": "ipython3",
   "version": "3.8.18"
  }
 },
 "nbformat": 4,
 "nbformat_minor": 5
}
