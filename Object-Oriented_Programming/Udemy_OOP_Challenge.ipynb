{
 "cells": [
  {
   "cell_type": "code",
   "execution_count": 1,
   "id": "0dda40a4",
   "metadata": {},
   "outputs": [],
   "source": [
    "class StateBankOfIndiaAccount:\n",
    "    \n",
    "    def __init__(self, acc_no, acc_name, acc_bal, ifsc_code, mob_no):\n",
    "        self.__acc_no = acc_no\n",
    "        self._acc_name = acc_name\n",
    "        self.__acc_bal = acc_bal\n",
    "        self._ifsc_code = ifsc_code\n",
    "        self.__mob_no = mob_no \n",
    "        \n",
    "    def deposit(self, deposit_amount):\n",
    "        if deposit_amount < 0:\n",
    "            raise ValueError(\"Deposit amount cannot be negative.\")\n",
    "        \n",
    "        self.__acc_bal = self.__acc_bal + deposit_amount\n",
    "        print('Transaction Successful!')\n",
    "        print(f'Your account {self.__acc_no} has been credited {deposit_amount} and your current balance is {self.__acc_bal}.')\n",
    "        return\n",
    "        \n",
    "    def withdraw(self, withdraw_amount):\n",
    "        if withdraw_amount < 0:\n",
    "            raise ValueError(\"Withdrawal amount cannot be negative.\")\n",
    "        \n",
    "        if withdraw_amount > self.__acc_bal:\n",
    "            print('Transaction Failed!')\n",
    "            print(f'Insufficient Balance.')\n",
    "            return\n",
    "        else:\n",
    "            self.__acc_bal = self.__acc_bal - withdraw_amount\n",
    "            print('Transaction Successful!')\n",
    "            print(f'Your account {self.__acc_no} has been debited {withdraw_amount} and your current balance is {self.__acc_bal}.')\n",
    "            return\n",
    "    \n",
    "    @property\n",
    "    def account_number(self):\n",
    "        return self.__acc_no \n",
    "    \n",
    "    @property\n",
    "    def account_balance(self):\n",
    "        return self.__acc_bal\n",
    "    \n",
    "    @property\n",
    "    def phone_number(self):\n",
    "        return self.__mob_no"
   ]
  },
  {
   "cell_type": "code",
   "execution_count": 2,
   "id": "1f5ce999",
   "metadata": {},
   "outputs": [],
   "source": [
    "class SavingsAccount(StateBankOfIndiaAccount):\n",
    "    \n",
    "    def __init__(self, acc_no, acc_name, acc_bal, ifsc_code, mob_no, acc_type):\n",
    "        super().__init__(acc_no, acc_name, acc_bal, ifsc_code, mob_no)\n",
    "        self.__acc_type = acc_type\n",
    "        \n",
    "    @property\n",
    "    def customer_name(self):\n",
    "        return self._acc_name \n",
    "    \n",
    "    @property\n",
    "    def branch_ifsc_code(self):\n",
    "        return self._ifsc_code \n",
    "    \n",
    "    @property\n",
    "    def account_type(self):\n",
    "        return self.__acc_type\n",
    "    \n",
    "    def __str__(self):\n",
    "        return f'Customer Name: {self.customer_name}\\n' \\\n",
    "               f'Account Number: {self.account_number}\\n' \\\n",
    "               f'Account Balance: {self.account_balance}\\n' \\\n",
    "               f'IFSC Code: {self.branch_ifsc_code}\\n' \\\n",
    "               f'Phone Number: {self.phone_number}\\n' \\\n",
    "               f'Account Type: {self.account_type}'"
   ]
  },
  {
   "cell_type": "code",
   "execution_count": 3,
   "id": "ebddeaf0",
   "metadata": {},
   "outputs": [],
   "source": [
    "savings_account_1 = SavingsAccount(4586210102, 'Suhas H', 75000.00, 'SBIN009999', 9000658722, 'Savings Account')"
   ]
  },
  {
   "cell_type": "code",
   "execution_count": 4,
   "id": "eca7d79c",
   "metadata": {},
   "outputs": [
    {
     "name": "stdout",
     "output_type": "stream",
     "text": [
      "Customer Name: Suhas H\n",
      "Account Number: 4586210102\n",
      "Account Balance: 75000.0\n",
      "IFSC Code: SBIN009999\n",
      "Phone Number: 9000658722\n",
      "Account Type: Savings Account\n"
     ]
    }
   ],
   "source": [
    "print(savings_account_1)"
   ]
  },
  {
   "cell_type": "code",
   "execution_count": 5,
   "id": "d916dfd9",
   "metadata": {},
   "outputs": [
    {
     "data": {
      "text/plain": [
       "'Suhas H'"
      ]
     },
     "execution_count": 5,
     "metadata": {},
     "output_type": "execute_result"
    }
   ],
   "source": [
    "savings_account_1.customer_name"
   ]
  },
  {
   "cell_type": "code",
   "execution_count": 6,
   "id": "d49f2679",
   "metadata": {},
   "outputs": [
    {
     "data": {
      "text/plain": [
       "4586210102"
      ]
     },
     "execution_count": 6,
     "metadata": {},
     "output_type": "execute_result"
    }
   ],
   "source": [
    "savings_account_1.account_number"
   ]
  },
  {
   "cell_type": "code",
   "execution_count": 7,
   "id": "688057f2",
   "metadata": {},
   "outputs": [
    {
     "data": {
      "text/plain": [
       "'SBIN009999'"
      ]
     },
     "execution_count": 7,
     "metadata": {},
     "output_type": "execute_result"
    }
   ],
   "source": [
    "savings_account_1.branch_ifsc_code"
   ]
  },
  {
   "cell_type": "code",
   "execution_count": 8,
   "id": "b333eb20",
   "metadata": {},
   "outputs": [
    {
     "data": {
      "text/plain": [
       "'Savings Account'"
      ]
     },
     "execution_count": 8,
     "metadata": {},
     "output_type": "execute_result"
    }
   ],
   "source": [
    "savings_account_1.account_type"
   ]
  },
  {
   "cell_type": "code",
   "execution_count": 9,
   "id": "7a1c441b",
   "metadata": {},
   "outputs": [
    {
     "data": {
      "text/plain": [
       "75000.0"
      ]
     },
     "execution_count": 9,
     "metadata": {},
     "output_type": "execute_result"
    }
   ],
   "source": [
    "savings_account_1.account_balance"
   ]
  },
  {
   "cell_type": "code",
   "execution_count": 10,
   "id": "c874eae2",
   "metadata": {},
   "outputs": [
    {
     "data": {
      "text/plain": [
       "9000658722"
      ]
     },
     "execution_count": 10,
     "metadata": {},
     "output_type": "execute_result"
    }
   ],
   "source": [
    "savings_account_1.phone_number"
   ]
  },
  {
   "cell_type": "code",
   "execution_count": 11,
   "id": "350f67d6",
   "metadata": {},
   "outputs": [
    {
     "name": "stdout",
     "output_type": "stream",
     "text": [
      "Transaction Successful!\n",
      "Your account 4586210102 has been credited 25000 and your current balance is 100000.0.\n"
     ]
    }
   ],
   "source": [
    "savings_account_1.deposit(25000)"
   ]
  },
  {
   "cell_type": "code",
   "execution_count": 12,
   "id": "fc732e25",
   "metadata": {},
   "outputs": [
    {
     "name": "stdout",
     "output_type": "stream",
     "text": [
      "Transaction Successful!\n",
      "Your account 4586210102 has been debited 45000 and your current balance is 55000.0.\n"
     ]
    }
   ],
   "source": [
    "savings_account_1.withdraw(45000)"
   ]
  },
  {
   "cell_type": "code",
   "execution_count": 13,
   "id": "8663fe5a",
   "metadata": {},
   "outputs": [
    {
     "name": "stdout",
     "output_type": "stream",
     "text": [
      "Transaction Failed!\n",
      "Insufficient Balance.\n"
     ]
    }
   ],
   "source": [
    "savings_account_1.withdraw(2000000)"
   ]
  },
  {
   "cell_type": "code",
   "execution_count": 14,
   "id": "d4400fbc",
   "metadata": {},
   "outputs": [
    {
     "data": {
      "text/plain": [
       "55000.0"
      ]
     },
     "execution_count": 14,
     "metadata": {},
     "output_type": "execute_result"
    }
   ],
   "source": [
    "savings_account_1.account_balance"
   ]
  },
  {
   "cell_type": "code",
   "execution_count": null,
   "id": "2a5d16f3",
   "metadata": {},
   "outputs": [],
   "source": []
  }
 ],
 "metadata": {
  "kernelspec": {
   "display_name": "Python 3 (ipykernel)",
   "language": "python",
   "name": "python3"
  },
  "language_info": {
   "codemirror_mode": {
    "name": "ipython",
    "version": 3
   },
   "file_extension": ".py",
   "mimetype": "text/x-python",
   "name": "python",
   "nbconvert_exporter": "python",
   "pygments_lexer": "ipython3",
   "version": "3.11.5"
  }
 },
 "nbformat": 4,
 "nbformat_minor": 5
}
