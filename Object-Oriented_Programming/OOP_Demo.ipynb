{
 "cells": [
  {
   "cell_type": "code",
   "execution_count": 1,
   "id": "2da4b98a-3ef8-4f0a-b3a8-3803808e1b82",
   "metadata": {},
   "outputs": [],
   "source": [
    "class Employee: # Class declaration\n",
    "\n",
    "    # Class variables\n",
    "    raise_amount = 1.04\n",
    "    emp_count = 0\n",
    "    \n",
    "    def __init__(self, first_name, last_name, salary): # This is a constructor used to initialize the objects of the class\n",
    "        self.first_name = first_name\n",
    "        self.last_name = last_name\n",
    "        self.email = first_name.replace(' ', '').lower() + '.' + last_name.replace(' ', '').lower() + '@example.com'\n",
    "        self.salary = salary\n",
    "        Employee.emp_count += 1\n",
    "\n",
    "    def full_name(self):\n",
    "        return self.first_name + ' ' + self.last_name\n",
    "\n",
    "    def apply_increment(self):\n",
    "        self.salary = int(self.salary * self.raise_amount)\n",
    "\n",
    "    @classmethod\n",
    "    def set_raise_amount(cls, amount):\n",
    "        cls.raise_amount = amount\n",
    "\n",
    "    @classmethod\n",
    "    def from_string(cls, emp_str):\n",
    "        first, last, pay = emp_str.split('-') # Parse the string.\n",
    "        return cls(first, last, pay) # Create a class object and return it.\n",
    "\n",
    "    # A method which neither takes the class nor any instance of the class as an argument, but, somehow is logically connected to the class.\n",
    "    @staticmethod \n",
    "    def is_workday(day):\n",
    "        if day.weekday() == 5 or day.weekday() == 6:\n",
    "            return False\n",
    "        else:\n",
    "            return True\n",
    "\n",
    "    # Special methods\n",
    "    def __repr__(self): \n",
    "        return f'{self.__class__.__name__}(\\'{self.first_name}\\', \\'{self.last_name}\\', {self.salary})'\n",
    "\n",
    "    def __str__(self):\n",
    "        return f'Employee Name: {self.full_name()}\\n' \\\n",
    "               f'Salary: {self.salary}'"
   ]
  },
  {
   "cell_type": "code",
   "execution_count": 2,
   "id": "90e54e02-ebc6-458a-b88b-8a2aaa0cd5a2",
   "metadata": {},
   "outputs": [],
   "source": [
    "class Developer(Employee):\n",
    "\n",
    "    # Class variables\n",
    "    raise_amount = 1.10\n",
    "\n",
    "    def __init__(self, first_name, last_name, salary, lang):\n",
    "        super().__init__(first_name, last_name, salary)\n",
    "        self.programming_language = lang\n",
    "\n",
    "    def __repr__(self):\n",
    "        return f'{self.__class__.__name__}(\\'{self.first_name}\\', \\'{self.last_name}\\', {self.salary}, \\'{self.programming_language}\\')'\n",
    "\n",
    "    def __str__(self):\n",
    "        return f'Employee Name: {self.full_name()}\\n' \\\n",
    "               f'Salary: {self.salary}\\n' \\\n",
    "               f'Role: {self.programming_language} {self.__class__.__name__}'"
   ]
  },
  {
   "cell_type": "code",
   "execution_count": 3,
   "id": "e9767fc3-d33b-4e2c-86f6-4c38b34b43f7",
   "metadata": {},
   "outputs": [],
   "source": [
    "class Manager(Employee):\n",
    "\n",
    "    # Class variables\n",
    "    raise_amount = 1.15\n",
    "\n",
    "    def __init__(self, first_name, last_name, salary, *args):\n",
    "        super().__init__(first_name, last_name, salary)\n",
    "        if len(args) == 0:\n",
    "            self.subordinates = []\n",
    "        else:\n",
    "            self.subordinates = list(args)\n",
    "\n",
    "    def add_employee(self, emp_name):\n",
    "        if emp_name not in self.subordinates:\n",
    "            self.subordinates.append(emp_name)\n",
    "\n",
    "    def remove_employee(self, emp_name):\n",
    "        if emp_name in self.subordinates:\n",
    "            self.subordinates.remove(emp_name)\n",
    "\n",
    "    def display_subordinates(self):\n",
    "        print(f'Manager\\'s Name: {self.full_name()}')\n",
    "        print('Subordinates:')\n",
    "        for item in self.subordinates:\n",
    "            print(item.full_name())\n",
    "\n",
    "    def __repr__(self):\n",
    "        return f'{self.__class__.__name__}(\\'{self.first_name}\\', \\'{self.last_name}\\', {self.salary}, {self.subordinates})'\n",
    "\n",
    "    def __str__(self):\n",
    "        return f'Employee Name: {self.full_name()}\\n' \\\n",
    "               f'Role: {self.__class__.__name__}\\n' \\\n",
    "               f'Salary: {self.salary}\\n' \\\n",
    "               f'Subordinates: {self.subordinates}'"
   ]
  },
  {
   "cell_type": "code",
   "execution_count": 4,
   "id": "c8192950-fbd9-4f42-8dd3-7fddcf0d29a2",
   "metadata": {},
   "outputs": [],
   "source": [
    "emp1 = Employee('Henry', 'Miller', 50000)\n",
    "emp2 = Employee('Dan', 'Steve', 60000)\n",
    "\n",
    "emp3_str_format = 'John-Smith-51100'\n",
    "emp4_str_format = 'Jane-Doe-52100'\n",
    "emp5_str_format = 'James-Scott-53100'\n",
    "\n",
    "emp3 = Employee.from_string(emp3_str_format)\n",
    "emp4 = Employee.from_string(emp4_str_format)\n",
    "emp5 = Employee.from_string(emp5_str_format)"
   ]
  },
  {
   "cell_type": "code",
   "execution_count": 5,
   "id": "9956bb60-3d82-448b-a9a2-db41ec26e075",
   "metadata": {},
   "outputs": [],
   "source": [
    "dev1 = Developer('Ed', 'Chase', 75000, 'Python')\n",
    "dev2 = Developer('Zero', 'Cage', 77000, 'C++')\n",
    "dev3 = Developer('Elvis', 'Marx', 76000, 'Java')\n",
    "dev4 = Developer('Bob', 'Fawcett', 79000, 'C')"
   ]
  },
  {
   "cell_type": "code",
   "execution_count": 6,
   "id": "ce072764-e908-4c93-be48-e79b1e241ec3",
   "metadata": {},
   "outputs": [],
   "source": [
    "mgr1 = Manager('Johnny', 'Cage', 120000, dev2, dev4, emp3)\n",
    "mgr2 = Manager('Gary', 'Penn', 120000, dev1, dev3, emp4)"
   ]
  },
  {
   "cell_type": "code",
   "execution_count": 7,
   "id": "3ce6dbca-14a3-45b3-affc-e88630d17f3f",
   "metadata": {},
   "outputs": [
    {
     "name": "stdout",
     "output_type": "stream",
     "text": [
      "82500\n",
      "84700\n",
      "83600\n",
      "86900\n"
     ]
    }
   ],
   "source": [
    "dev1.apply_increment()\n",
    "dev2.apply_increment()\n",
    "dev3.apply_increment()\n",
    "dev4.apply_increment()\n",
    "\n",
    "print(dev1.salary)\n",
    "print(dev2.salary)\n",
    "print(dev3.salary)\n",
    "print(dev4.salary)"
   ]
  },
  {
   "cell_type": "code",
   "execution_count": 8,
   "id": "fd9eeebd-1dfd-4dee-a20c-8638578c2b6c",
   "metadata": {},
   "outputs": [
    {
     "name": "stdout",
     "output_type": "stream",
     "text": [
      "Ed Chase\n",
      "Zero Cage\n",
      "Elvis Marx\n",
      "Bob Fawcett\n"
     ]
    }
   ],
   "source": [
    "print(dev1.full_name())\n",
    "print(dev2.full_name())\n",
    "print(dev3.full_name())\n",
    "print(dev4.full_name())"
   ]
  },
  {
   "cell_type": "code",
   "execution_count": 9,
   "id": "3516ae2e-c8f2-4b2b-b815-c01d8fb2adfe",
   "metadata": {},
   "outputs": [],
   "source": [
    "mgr1.add_employee(emp1)"
   ]
  },
  {
   "cell_type": "code",
   "execution_count": 10,
   "id": "b6d16f73-7c69-4a57-b05b-8c0eb7d7c800",
   "metadata": {},
   "outputs": [],
   "source": [
    "mgr2.add_employee(emp2)"
   ]
  },
  {
   "cell_type": "code",
   "execution_count": 11,
   "id": "a915e180-38dc-4bd7-8dab-3c1733f0c100",
   "metadata": {},
   "outputs": [],
   "source": [
    "mgr2.add_employee(emp5)"
   ]
  },
  {
   "cell_type": "code",
   "execution_count": 12,
   "id": "5cbb9f0d-2b20-422b-b16a-5a734ee50f3a",
   "metadata": {},
   "outputs": [],
   "source": [
    "mgr2.remove_employee(emp5)"
   ]
  },
  {
   "cell_type": "code",
   "execution_count": 13,
   "id": "f385523d-8f62-4f7a-951a-49448db6969d",
   "metadata": {},
   "outputs": [
    {
     "name": "stdout",
     "output_type": "stream",
     "text": [
      "Manager's Name: Johnny Cage\n",
      "Subordinates:\n",
      "Zero Cage\n",
      "Bob Fawcett\n",
      "John Smith\n",
      "Henry Miller\n"
     ]
    }
   ],
   "source": [
    "mgr1.display_subordinates()"
   ]
  },
  {
   "cell_type": "code",
   "execution_count": 14,
   "id": "9f8ce049-6393-4905-859c-339c23041441",
   "metadata": {},
   "outputs": [
    {
     "name": "stdout",
     "output_type": "stream",
     "text": [
      "Manager's Name: Gary Penn\n",
      "Subordinates:\n",
      "Ed Chase\n",
      "Elvis Marx\n",
      "Jane Doe\n",
      "Dan Steve\n"
     ]
    }
   ],
   "source": [
    "mgr2.display_subordinates()"
   ]
  },
  {
   "cell_type": "code",
   "execution_count": 15,
   "id": "f5e8ef68-690a-4121-b470-58830d538d89",
   "metadata": {},
   "outputs": [
    {
     "name": "stdout",
     "output_type": "stream",
     "text": [
      "Employee('Henry', 'Miller', 50000)\n",
      "Employee('Dan', 'Steve', 60000)\n",
      "Employee('John', 'Smith', 51100)\n",
      "Employee('Jane', 'Doe', 52100)\n",
      "Employee('James', 'Scott', 53100)\n"
     ]
    }
   ],
   "source": [
    "print(repr(emp1))\n",
    "print(repr(emp2))\n",
    "print(repr(emp3))\n",
    "print(repr(emp4))\n",
    "print(repr(emp5))"
   ]
  },
  {
   "cell_type": "code",
   "execution_count": 16,
   "id": "14045686-24bf-413f-add1-98def27cdf81",
   "metadata": {},
   "outputs": [
    {
     "name": "stdout",
     "output_type": "stream",
     "text": [
      "Employee Name: Henry Miller\n",
      "Salary: 50000\n",
      "\n",
      "Employee Name: Dan Steve\n",
      "Salary: 60000\n",
      "\n",
      "Employee Name: John Smith\n",
      "Salary: 51100\n",
      "\n",
      "Employee Name: Jane Doe\n",
      "Salary: 52100\n",
      "\n",
      "Employee Name: James Scott\n",
      "Salary: 53100\n"
     ]
    }
   ],
   "source": [
    "print(emp1)\n",
    "print()\n",
    "print(emp2)\n",
    "print()\n",
    "print(emp3)\n",
    "print()\n",
    "print(emp4)\n",
    "print()\n",
    "print(emp5)"
   ]
  },
  {
   "cell_type": "code",
   "execution_count": 17,
   "id": "90ce43eb-9c3f-45f0-b0ea-d2eedab51677",
   "metadata": {},
   "outputs": [
    {
     "name": "stdout",
     "output_type": "stream",
     "text": [
      "Developer('Ed', 'Chase', 82500, 'Python')\n",
      "Developer('Zero', 'Cage', 84700, 'C++')\n",
      "Developer('Elvis', 'Marx', 83600, 'Java')\n",
      "Developer('Bob', 'Fawcett', 86900, 'C')\n"
     ]
    }
   ],
   "source": [
    "print(repr(dev1))\n",
    "print(repr(dev2))\n",
    "print(repr(dev3))\n",
    "print(repr(dev4))"
   ]
  },
  {
   "cell_type": "code",
   "execution_count": 18,
   "id": "9320d94b-a361-4427-a2a6-9dfc03d0842a",
   "metadata": {},
   "outputs": [
    {
     "name": "stdout",
     "output_type": "stream",
     "text": [
      "Employee Name: Ed Chase\n",
      "Salary: 82500\n",
      "Role: Python Developer\n",
      "\n",
      "Employee Name: Zero Cage\n",
      "Salary: 84700\n",
      "Role: C++ Developer\n",
      "\n",
      "Employee Name: Elvis Marx\n",
      "Salary: 83600\n",
      "Role: Java Developer\n",
      "\n",
      "Employee Name: Bob Fawcett\n",
      "Salary: 86900\n",
      "Role: C Developer\n"
     ]
    }
   ],
   "source": [
    "print(dev1)\n",
    "print()\n",
    "print(dev2)\n",
    "print()\n",
    "print(dev3)\n",
    "print()\n",
    "print(dev4)"
   ]
  },
  {
   "cell_type": "code",
   "execution_count": 19,
   "id": "a30b89ea-8d6c-4c87-9ba9-e91e22a57578",
   "metadata": {},
   "outputs": [
    {
     "name": "stdout",
     "output_type": "stream",
     "text": [
      "Manager('Johnny', 'Cage', 120000, [Developer('Zero', 'Cage', 84700, 'C++'), Developer('Bob', 'Fawcett', 86900, 'C'), Employee('John', 'Smith', 51100), Employee('Henry', 'Miller', 50000)])\n",
      "\n",
      "Manager('Gary', 'Penn', 120000, [Developer('Ed', 'Chase', 82500, 'Python'), Developer('Elvis', 'Marx', 83600, 'Java'), Employee('Jane', 'Doe', 52100), Employee('Dan', 'Steve', 60000)])\n"
     ]
    }
   ],
   "source": [
    "print(repr(mgr1))\n",
    "print()\n",
    "print(repr(mgr2))"
   ]
  },
  {
   "cell_type": "code",
   "execution_count": 20,
   "id": "f9bb5efb-6304-4012-a27d-c056aecb9c5a",
   "metadata": {},
   "outputs": [
    {
     "name": "stdout",
     "output_type": "stream",
     "text": [
      "Employee Name: Johnny Cage\n",
      "Role: Manager\n",
      "Salary: 120000\n",
      "Subordinates: [Developer('Zero', 'Cage', 84700, 'C++'), Developer('Bob', 'Fawcett', 86900, 'C'), Employee('John', 'Smith', 51100), Employee('Henry', 'Miller', 50000)]\n",
      "\n",
      "Employee Name: Gary Penn\n",
      "Role: Manager\n",
      "Salary: 120000\n",
      "Subordinates: [Developer('Ed', 'Chase', 82500, 'Python'), Developer('Elvis', 'Marx', 83600, 'Java'), Employee('Jane', 'Doe', 52100), Employee('Dan', 'Steve', 60000)]\n"
     ]
    }
   ],
   "source": [
    "print(mgr1)\n",
    "print()\n",
    "print(mgr2)"
   ]
  },
  {
   "cell_type": "code",
   "execution_count": 23,
   "id": "b06bf7e5-7c57-4471-acd1-75f7d0c07ebc",
   "metadata": {},
   "outputs": [
    {
     "name": "stdout",
     "output_type": "stream",
     "text": [
      "False\n",
      "False\n",
      "True\n",
      "True\n"
     ]
    }
   ],
   "source": [
    "print(issubclass(Developer, Manager))\n",
    "print(issubclass(Manager, Developer))\n",
    "print(issubclass(Manager, Employee))\n",
    "print(issubclass(Developer, Employee))"
   ]
  },
  {
   "cell_type": "code",
   "execution_count": 24,
   "id": "33019f43-4c81-4521-b763-d77903180a33",
   "metadata": {},
   "outputs": [
    {
     "name": "stdout",
     "output_type": "stream",
     "text": [
      "True\n",
      "True\n",
      "True\n",
      "True\n",
      "True\n",
      "True\n",
      "True\n",
      "True\n",
      "True\n",
      "True\n",
      "True\n",
      "True\n",
      "True\n",
      "True\n"
     ]
    }
   ],
   "source": [
    "print(isinstance(emp1, Employee))\n",
    "print(isinstance(emp2, Employee))\n",
    "print(isinstance(emp3, Employee))\n",
    "print(isinstance(emp4, Employee))\n",
    "print(isinstance(emp5, Employee))\n",
    "print(isinstance(dev1, Developer))\n",
    "print(isinstance(dev2, Developer))\n",
    "print(isinstance(dev3, Developer))\n",
    "print(isinstance(dev4, Developer))\n",
    "print(isinstance(mgr1, Manager))\n",
    "print(isinstance(mgr2, Manager))\n",
    "print(isinstance(dev1, Employee))\n",
    "print(isinstance(dev4, Employee))\n",
    "print(isinstance(mgr2, Employee))"
   ]
  },
  {
   "cell_type": "code",
   "execution_count": 25,
   "id": "ef4b8a09-ff46-4ba9-bdfb-b85151b010fe",
   "metadata": {},
   "outputs": [
    {
     "data": {
      "text/plain": [
       "False"
      ]
     },
     "execution_count": 25,
     "metadata": {},
     "output_type": "execute_result"
    }
   ],
   "source": [
    "isinstance(emp3, Developer)"
   ]
  },
  {
   "cell_type": "code",
   "execution_count": null,
   "id": "6aa0b555-e586-498a-b979-55e057fd169e",
   "metadata": {},
   "outputs": [],
   "source": []
  }
 ],
 "metadata": {
  "kernelspec": {
   "display_name": "Python 3 (ipykernel)",
   "language": "python",
   "name": "python3"
  },
  "language_info": {
   "codemirror_mode": {
    "name": "ipython",
    "version": 3
   },
   "file_extension": ".py",
   "mimetype": "text/x-python",
   "name": "python",
   "nbconvert_exporter": "python",
   "pygments_lexer": "ipython3",
   "version": "3.11.5"
  }
 },
 "nbformat": 4,
 "nbformat_minor": 5
}
