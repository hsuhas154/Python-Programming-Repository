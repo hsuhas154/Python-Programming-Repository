{
 "cells": [
  {
   "cell_type": "code",
   "execution_count": 8,
   "id": "c08f91d5-23a4-4d2f-a316-88e9c6f716e7",
   "metadata": {},
   "outputs": [],
   "source": [
    "class BankAccount:\n",
    "    account_count = 0  # Class variable to track account numbers\n",
    "\n",
    "    def __init__(self, account_holder, initial_balance):\n",
    "        self.account_holder = account_holder\n",
    "        self._balance = initial_balance  # Use a private attribute for balance\n",
    "        self.account_number = BankAccount.account_count + 1\n",
    "        BankAccount.account_count += 1\n",
    "\n",
    "    @property\n",
    "    def balance(self):\n",
    "        \"\"\"Getter for balance\"\"\"\n",
    "        return self._balance\n",
    "\n",
    "    @balance.setter\n",
    "    def balance(self, amount):\n",
    "        \"\"\"Setter for balance (should not allow direct setting)\"\"\"\n",
    "        raise AttributeError(\"Direct setting of balance is not allowed. Use deposit or withdraw methods.\")\n",
    "\n",
    "    @balance.deleter\n",
    "    def balance(self):\n",
    "        \"\"\"Deleter for balance\"\"\"\n",
    "        print(f\"Resetting balance for account {self.account_number}\")\n",
    "        self._balance = 0\n",
    "\n",
    "    def deposit(self, amount):\n",
    "        if amount <= 0:\n",
    "            raise ValueError(\"Deposit amount must be positive.\")\n",
    "        self._balance += amount\n",
    "\n",
    "    def withdraw(self, amount):\n",
    "        if amount > self._balance:\n",
    "            raise ValueError(\"Insufficient funds.\")\n",
    "        self._balance -= amount\n",
    "\n",
    "    @property\n",
    "    def account_info(self):\n",
    "        \"\"\"A read-only property that returns account information\"\"\"\n",
    "        return f\"Account Holder: {self.account_holder}, Account Number: {self.account_number}, Balance: ${self._balance:.2f}\""
   ]
  },
  {
   "cell_type": "code",
   "execution_count": 9,
   "id": "bfffb074-27cd-462a-af01-2264ebd74c27",
   "metadata": {},
   "outputs": [
    {
     "name": "stdout",
     "output_type": "stream",
     "text": [
      "Account Holder: Alice, Account Number: 1, Balance: $1000.00\n"
     ]
    }
   ],
   "source": [
    "# Example usage\n",
    "account = BankAccount('Alice', 1000)\n",
    "print(account.account_info)  # Output: Account Holder: Alice, Account Number: 1, Balance: $1000.00"
   ]
  },
  {
   "cell_type": "code",
   "execution_count": 10,
   "id": "90ad0f3c-a98a-4800-bbc5-c28dbb57cf8b",
   "metadata": {},
   "outputs": [
    {
     "name": "stdout",
     "output_type": "stream",
     "text": [
      "1500\n",
      "1300\n"
     ]
    }
   ],
   "source": [
    "# Deposit and withdraw\n",
    "account.deposit(500)\n",
    "print(account.balance)  # Output: 1500\n",
    "\n",
    "account.withdraw(200)\n",
    "print(account.balance)  # Output: 1300"
   ]
  },
  {
   "cell_type": "code",
   "execution_count": 11,
   "id": "c3bea290-6545-4f4d-8ee8-18afb31c5292",
   "metadata": {},
   "outputs": [
    {
     "name": "stdout",
     "output_type": "stream",
     "text": [
      "Direct setting of balance is not allowed. Use deposit or withdraw methods.\n"
     ]
    }
   ],
   "source": [
    "# Attempting to directly set the balance should raise an error\n",
    "try:\n",
    "    account.balance = 5000\n",
    "except AttributeError as e:\n",
    "    print(e)  # Output: Direct setting of balance is not allowed. Use deposit or withdraw methods."
   ]
  },
  {
   "cell_type": "code",
   "execution_count": 12,
   "id": "cc7f5732-6294-4304-8d48-6d1f267904c3",
   "metadata": {},
   "outputs": [
    {
     "name": "stdout",
     "output_type": "stream",
     "text": [
      "Resetting balance for account 1\n",
      "0\n"
     ]
    }
   ],
   "source": [
    "# Deleting the balance\n",
    "del account.balance\n",
    "print(account.balance)  # Output: 0"
   ]
  },
  {
   "cell_type": "code",
   "execution_count": null,
   "id": "592241fb-054e-4cbe-831f-ec07ffa38e6f",
   "metadata": {},
   "outputs": [],
   "source": []
  }
 ],
 "metadata": {
  "kernelspec": {
   "display_name": "Python 3 (ipykernel)",
   "language": "python",
   "name": "python3"
  },
  "language_info": {
   "codemirror_mode": {
    "name": "ipython",
    "version": 3
   },
   "file_extension": ".py",
   "mimetype": "text/x-python",
   "name": "python",
   "nbconvert_exporter": "python",
   "pygments_lexer": "ipython3",
   "version": "3.11.5"
  }
 },
 "nbformat": 4,
 "nbformat_minor": 5
}
