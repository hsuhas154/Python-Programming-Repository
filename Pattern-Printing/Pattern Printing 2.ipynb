{
 "cells": [
  {
   "cell_type": "markdown",
   "id": "35a9a414",
   "metadata": {},
   "source": [
    "# Numeric and Alphanumeric Patterns continued"
   ]
  },
  {
   "cell_type": "markdown",
   "id": "78407e02",
   "metadata": {},
   "source": [
    "## Palindrome Pyramid Patterns"
   ]
  },
  {
   "cell_type": "code",
   "execution_count": 7,
   "id": "ea310931",
   "metadata": {},
   "outputs": [
    {
     "name": "stdout",
     "output_type": "stream",
     "text": [
      "Enter the number of rows: 5\n",
      "        1 \n",
      "      2 3 \n",
      "    3 4 5 \n",
      "  4 5 6 7 \n",
      "5 6 7 8 9 \n"
     ]
    }
   ],
   "source": [
    "# Preliminary to print a palindrome pyramid\n",
    "\n",
    "rows = int(input('Enter the number of rows: '))\n",
    "\n",
    "for i in range(1, rows + 1):\n",
    "    t = i\n",
    "    \n",
    "    for j in range(rows, 0, -1):\n",
    "        if j <= i:\n",
    "            print(t, end = ' ')\n",
    "            t = t + 1\n",
    "        else:\n",
    "            print(' ', end = ' ')\n",
    "\n",
    "    print()"
   ]
  },
  {
   "cell_type": "code",
   "execution_count": 19,
   "id": "22403366",
   "metadata": {},
   "outputs": [
    {
     "name": "stdout",
     "output_type": "stream",
     "text": [
      "Enter the number of rows to be printed: 5\n",
      "          1 \n",
      "        1 2 1 \n",
      "      1 2 3 2 1 \n",
      "    1 2 3 4 3 2 1 \n",
      "  1 2 3 4 5 4 3 2 1 \n"
     ]
    }
   ],
   "source": [
    "rows = int(input('Enter the number of rows to be printed: '))\n",
    "    \n",
    "for i in range(1, rows + 1): # This loop iterates the whole pattern from outside, row - by - row.\n",
    "    for space in range(i, rows + 1): # This loop prints the whitespaces in a decreasing fashion in each row.\n",
    "        print(' ', end=' ')\n",
    "\n",
    "    for x in range(1, i + 1): # This loop prints the numbers starting from 1 and until the maximum value in each row.\n",
    "        print(x, end = ' ')\n",
    "\n",
    "    for y in range(i - 1, 0, -1): # This loop prints decreasing numbers after the largest number in each row.\n",
    "        print(y, end=' ')\n",
    "\n",
    "    print()"
   ]
  },
  {
   "cell_type": "code",
   "execution_count": 8,
   "id": "52f8bdf2",
   "metadata": {},
   "outputs": [
    {
     "name": "stdout",
     "output_type": "stream",
     "text": [
      "Enter the number of rows to be printed: 5\n",
      "1 \n",
      "1 2 1 \n",
      "1 2 3 2 1 \n",
      "1 2 3 4 3 2 1 \n",
      "1 2 3 4 5 4 3 2 1 \n"
     ]
    }
   ],
   "source": [
    "# If we remove the loop which prints the whitespaces in each row, we will get a triangular form of palindrome number pattern.\n",
    "\n",
    "rows = int(input('Enter the number of rows to be printed: '))\n",
    "    \n",
    "for i in range(1, rows + 1): # This loop iterates the whole pattern from outside, row - by - row.\n",
    "\n",
    "    for x in range(1, i + 1): # This loop prints the numbers starting from 1 and until the maximum value in each row.\n",
    "        print(x, end = ' ')\n",
    "\n",
    "    for y in range(i - 1, 0, -1): # This loop prints decreasing numbers after the largest number in each row.\n",
    "        print(y, end=' ')\n",
    "\n",
    "    print()"
   ]
  },
  {
   "cell_type": "code",
   "execution_count": 18,
   "id": "e43fb981",
   "metadata": {},
   "outputs": [
    {
     "name": "stdout",
     "output_type": "stream",
     "text": [
      "Enter the number of rows to be printed: 5\n",
      "A \n",
      "A B A \n",
      "A B C B A \n",
      "A B C D C B A \n",
      "A B C D E D C B A \n"
     ]
    }
   ],
   "source": [
    "rows = int(input('Enter the number of rows to be printed: '))\n",
    "\n",
    "for i in range(65, rows + 65):\n",
    "    \n",
    "    for j in range(65, i + 1):\n",
    "        print(chr(j), end = ' ')\n",
    "        \n",
    "    for k in range(i - 1, 64, -1):\n",
    "        print(chr(k), end = ' ')\n",
    "    \n",
    "    print()"
   ]
  },
  {
   "cell_type": "code",
   "execution_count": 22,
   "id": "25824d54",
   "metadata": {},
   "outputs": [
    {
     "name": "stdout",
     "output_type": "stream",
     "text": [
      "Enter the number of rows to be printed: 5\n",
      "          A \n",
      "        A B A \n",
      "      A B C B A \n",
      "    A B C D C B A \n",
      "  A B C D E D C B A \n"
     ]
    }
   ],
   "source": [
    "rows = int(input('Enter the number of rows to be printed: '))\n",
    "\n",
    "for i in range(65, rows + 65):\n",
    "    for space in range(i, rows + 65):\n",
    "        print(' ', end = ' ')\n",
    "        \n",
    "    for j in range(65, i + 1):\n",
    "        print(chr(j), end = ' ')\n",
    "        \n",
    "    for k in range(i - 1, 64, -1):\n",
    "        print(chr(k), end = ' ')\n",
    "        \n",
    "    print()"
   ]
  },
  {
   "cell_type": "code",
   "execution_count": 1,
   "id": "f082ad18",
   "metadata": {},
   "outputs": [
    {
     "name": "stdout",
     "output_type": "stream",
     "text": [
      "Enter the number of rows to be printed: 5\n",
      "********1********\n",
      "*******2*2*******\n",
      "******3*3*3******\n",
      "*****4*4*4*4*****\n",
      "****5*5*5*5*5****\n"
     ]
    }
   ],
   "source": [
    "rows = int(input('Enter the number of rows to be printed: '))\n",
    "num = 1\n",
    "\n",
    "for i in range(1, rows + 1):\n",
    "    for asterisk in range(i, (2 * rows - 2) + 1):\n",
    "        print(end = '*')\n",
    "        \n",
    "    for j in range(1, i + 1):\n",
    "        print(num, end = '*')\n",
    "        \n",
    "    for k in range(i, (2 * rows - 3) + 1):\n",
    "        print(end = '*')\n",
    "        \n",
    "    num = num + 1\n",
    "    print()"
   ]
  },
  {
   "cell_type": "code",
   "execution_count": 4,
   "id": "bf35492c",
   "metadata": {},
   "outputs": [
    {
     "name": "stdout",
     "output_type": "stream",
     "text": [
      "Enter the number of rows to be printed in the pattern: 5\n",
      "1 \n",
      "1 2 \n",
      "1 2 3 \n",
      "1 2 3 4 \n",
      "1 2 3 4 5 \n"
     ]
    }
   ],
   "source": [
    "# Preliminary program to print the hollow pyramid below:\n",
    "\n",
    "rows = int(input('Enter the number of rows to be printed in the pattern: '))\n",
    "\n",
    "for i in range(1, rows + 1):\n",
    "    for j in range(1, i + 1):\n",
    "        print(j, end = ' ')\n",
    "        \n",
    "    print()"
   ]
  },
  {
   "cell_type": "code",
   "execution_count": 2,
   "id": "f26d90bb",
   "metadata": {},
   "outputs": [
    {
     "name": "stdout",
     "output_type": "stream",
     "text": [
      "Enter the number of rows to be printed: 8\n",
      "1 \n",
      "1 2 \n",
      "1   3 \n",
      "1     4 \n",
      "1       5 \n",
      "1         6 \n",
      "1           7 \n",
      "1 2 3 4 5 6 7 8 \n"
     ]
    }
   ],
   "source": [
    "rows = int(input('Enter the number of rows to be printed: '))\n",
    "\n",
    "for i in range(1, rows + 1):\n",
    "    for j in range(1, i + 1):\n",
    "        \n",
    "        if i == 1 or i == 2 or i == rows:\n",
    "            print(j, end = ' ')\n",
    "        else:\n",
    "            if j == 1 or j == i:\n",
    "                print(j, end = ' ')\n",
    "            else:\n",
    "                print(' ', end = ' ')\n",
    "                \n",
    "    print()\n"
   ]
  },
  {
   "cell_type": "code",
   "execution_count": 2,
   "id": "8776f0f1",
   "metadata": {},
   "outputs": [
    {
     "name": "stdout",
     "output_type": "stream",
     "text": [
      "Enter the number of rows to be printed in the pattern: 8\n",
      "1 2 3 4 5 6 7 8 \n",
      "1 2 3 4 5 6 7 \n",
      "1 2 3 4 5 6 \n",
      "1 2 3 4 5 \n",
      "1 2 3 4 \n",
      "1 2 3 \n",
      "1 2 \n",
      "1 \n"
     ]
    }
   ],
   "source": [
    "# Preliminary program to print the hollow pyramid below:\n",
    "\n",
    "rows = int(input('Enter the number of rows to be printed in the pattern: '))\n",
    "\n",
    "for i in range(rows, 0, -1):\n",
    "    for j in range(1, i + 1):\n",
    "        print(j, end = ' ')\n",
    "    print()\n"
   ]
  },
  {
   "cell_type": "code",
   "execution_count": 4,
   "id": "dbae72e4",
   "metadata": {},
   "outputs": [
    {
     "name": "stdout",
     "output_type": "stream",
     "text": [
      "Enter the number of rows to be printed in the pattern: 8\n",
      "1 2 3 4 5 6 7 8 \n",
      "1           7 \n",
      "1         6 \n",
      "1       5 \n",
      "1     4 \n",
      "1   3 \n",
      "1 2 \n",
      "1 \n"
     ]
    }
   ],
   "source": [
    "rows = int(input('Enter the number of rows to be printed in the pattern: '))\n",
    "\n",
    "for i in range(rows, 0, -1):\n",
    "    for j in range(1, i + 1):\n",
    "        if i == rows or i == 2 or i == 1:\n",
    "            print(j, end = ' ')\n",
    "        elif j == 1 or j == i:\n",
    "            print(j, end = ' ')\n",
    "        else:\n",
    "            print(' ', end = ' ')\n",
    "        \n",
    "    print()"
   ]
  },
  {
   "cell_type": "code",
   "execution_count": 6,
   "id": "dfcdccfd",
   "metadata": {},
   "outputs": [
    {
     "name": "stdout",
     "output_type": "stream",
     "text": [
      "Enter the number of rows to be printed in the pattern: 8\n",
      "              1 \n",
      "            1 2 \n",
      "          1 2 3 \n",
      "        1 2 3 4 \n",
      "      1 2 3 4 5 \n",
      "    1 2 3 4 5 6 \n",
      "  1 2 3 4 5 6 7 \n",
      "1 2 3 4 5 6 7 8 \n"
     ]
    }
   ],
   "source": [
    "# Preliminary program to print the hollow pyramid below:\n",
    "\n",
    "rows = int(input('Enter the number of rows to be printed in the pattern: '))\n",
    "\n",
    "for i in range(1, rows + 1):\n",
    "    k = 1\n",
    "    \n",
    "    for j in range(rows, 0, -1):\n",
    "        if j <= i:\n",
    "            print(k, end = ' ')\n",
    "            k = k + 1\n",
    "        else:\n",
    "            print(' ', end = ' ')\n",
    "    \n",
    "    print()"
   ]
  },
  {
   "cell_type": "code",
   "execution_count": 12,
   "id": "8f13c0d1",
   "metadata": {},
   "outputs": [
    {
     "name": "stdout",
     "output_type": "stream",
     "text": [
      "Enter the number of rows to be printed in the pattern: 8\n",
      "              1 \n",
      "            1 2 \n",
      "          1   3 \n",
      "        1     4 \n",
      "      1       5 \n",
      "    1         6 \n",
      "  1           7 \n",
      "1 2 3 4 5 6 7 8 \n"
     ]
    }
   ],
   "source": [
    "rows = int(input('Enter the number of rows to be printed in the pattern: '))\n",
    "\n",
    "for i in range(1, rows + 1):\n",
    "    k = 1\n",
    "    \n",
    "    for j in range(rows, 0, -1):\n",
    "        if j <= i:\n",
    "            if i == 1 or i == 2 or i == rows:\n",
    "                print(k, end = ' ')\n",
    "                k = k + 1\n",
    "            elif j == i:\n",
    "                print(k, end = ' ')\n",
    "            elif j == 1:\n",
    "                print(i, end = ' ')\n",
    "            else:\n",
    "                print(' ', end = ' ')\n",
    "        else:\n",
    "            print(' ', end = ' ')\n",
    "            \n",
    "    print()"
   ]
  },
  {
   "cell_type": "code",
   "execution_count": 9,
   "id": "2fe71f02",
   "metadata": {},
   "outputs": [
    {
     "name": "stdout",
     "output_type": "stream",
     "text": [
      "Enter the number of rows to be printed in the pattern: 8\n",
      "              8 \n",
      "            8 7 \n",
      "          8 7 6 \n",
      "        8 7 6 5 \n",
      "      8 7 6 5 4 \n",
      "    8 7 6 5 4 3 \n",
      "  8 7 6 5 4 3 2 \n",
      "8 7 6 5 4 3 2 1 \n"
     ]
    }
   ],
   "source": [
    "# Preliminary program to print the hollow pyramid below:\n",
    "\n",
    "rows = int(input('Enter the number of rows to be printed in the pattern: '))\n",
    "\n",
    "for i in range(1, rows + 1):\n",
    "    k = rows\n",
    "    \n",
    "    for j in range(rows, 0, -1):\n",
    "        if j <= i:\n",
    "            print(k, end = ' ')\n",
    "            k = k - 1\n",
    "        else:\n",
    "            print(' ', end = ' ')\n",
    "    \n",
    "    print() "
   ]
  },
  {
   "cell_type": "code",
   "execution_count": 15,
   "id": "b88b98dc",
   "metadata": {},
   "outputs": [
    {
     "name": "stdout",
     "output_type": "stream",
     "text": [
      "Enter the number of rows to be printed in the pattern: 8\n",
      "              8 \n",
      "            8 7 \n",
      "          8   6 \n",
      "        8     5 \n",
      "      8       4 \n",
      "    8         3 \n",
      "  8           2 \n",
      "8 7 6 5 4 3 2 1 \n"
     ]
    }
   ],
   "source": [
    "rows = int(input('Enter the number of rows to be printed in the pattern: '))\n",
    "\n",
    "for i in range(1, rows + 1):\n",
    "    k = rows\n",
    "    \n",
    "    for j in range(rows, 0, -1):\n",
    "        if j <= i:\n",
    "            if i == 1 or i == 2 or i == rows:\n",
    "                print(k, end = ' ')\n",
    "                k = k - 1\n",
    "            elif j == i:\n",
    "                print(k, end = ' ')\n",
    "            elif j == 1:\n",
    "                k = rows - (i - 1)\n",
    "                print(k, end = ' ')   \n",
    "            else:\n",
    "                print(' ', end = ' ')\n",
    "        else:\n",
    "            print(' ', end = ' ')\n",
    "            \n",
    "    print()\n"
   ]
  },
  {
   "cell_type": "code",
   "execution_count": 21,
   "id": "657c9e1e",
   "metadata": {},
   "outputs": [
    {
     "name": "stdout",
     "output_type": "stream",
     "text": [
      "Enter the number of rows: 8\n",
      "                  1 \n",
      "                1   2 \n",
      "              1   2   3 \n",
      "            1   2   3   4 \n",
      "          1   2   3   4   5 \n",
      "        1   2   3   4   5   6 \n",
      "      1   2   3   4   5   6   7 \n",
      "    1   2   3   4   5   6   7   8 \n"
     ]
    }
   ],
   "source": [
    "# Preliminary program to print the hollow pyramid below:\n",
    "\n",
    "#       1\n",
    "#      1 2 \n",
    "#     1 2 3 \n",
    "#    1 2 3 4 \n",
    "#   1 2 3 4 5 \n",
    "#  1 2 3 4 5 6\n",
    "# 1 2 3 4 5 6 7\n",
    "#1 2 3 4 5 6 7 8\n",
    "\n",
    "rows = int(input('Enter the number of rows: '))\n",
    "\n",
    "for i in range(1, rows + 1):\n",
    "    \n",
    "    for space in range(i, rows + 1):\n",
    "        print(' ', end = ' ')\n",
    "        \n",
    "    for j in range(1, i + 1):\n",
    "        print(f'{j : 3}', end = ' ')\n",
    "        \n",
    "    print()"
   ]
  },
  {
   "cell_type": "code",
   "execution_count": 25,
   "id": "ebd71abd",
   "metadata": {},
   "outputs": [
    {
     "name": "stdout",
     "output_type": "stream",
     "text": [
      "Enter the number of rows to be printed in the pattern: 8\n",
      "                  1 \n",
      "                1   2 \n",
      "              1       3 \n",
      "            1           4 \n",
      "          1               5 \n",
      "        1                   6 \n",
      "      1                       7 \n",
      "    1   2   3   4   5   6   7   8 \n"
     ]
    }
   ],
   "source": [
    "rows = int(input('Enter the number of rows to be printed in the pattern: '))\n",
    "\n",
    "for i in range(1, rows + 1):\n",
    "    \n",
    "    for space in range(i, rows + 1):\n",
    "        print(' ', end = ' ')\n",
    "        \n",
    "    for j in range(1, i + 1):\n",
    "        if i == 1 or i == 1 or i == rows:\n",
    "            print(f'{j : 3}', end = ' ')\n",
    "        elif j == 1 or j == i:\n",
    "            print(f'{j : 3}', end = ' ')\n",
    "        else:\n",
    "            print('   ', end = ' ')\n",
    "    \n",
    "    print()\n",
    "        "
   ]
  },
  {
   "cell_type": "code",
   "execution_count": 53,
   "id": "203e971b",
   "metadata": {},
   "outputs": [
    {
     "name": "stdout",
     "output_type": "stream",
     "text": [
      "Enter the number of rows to be printed in the pattern: 8\n",
      "    1   2   3   4   5   6   7   8 \n",
      "      1   2   3   4   5   6   7 \n",
      "        1   2   3   4   5   6 \n",
      "          1   2   3   4   5 \n",
      "            1   2   3   4 \n",
      "              1   2   3 \n",
      "                1   2 \n",
      "                  1 \n"
     ]
    }
   ],
   "source": [
    "# Preliminary program to print the hollow pyramid below:\n",
    "\n",
    "rows = int(input('Enter the number of rows to be printed in the pattern: '))\n",
    "\n",
    "for i in range(1, rows + 1):\n",
    "    k = 1\n",
    "    \n",
    "    for space in range(1, i + 1):\n",
    "        print(' ', end = ' ')\n",
    "        \n",
    "    for j in range(rows, i - 1, -1):\n",
    "        print(f'{k : 3}', end = ' ')\n",
    "        k = k + 1\n",
    "        \n",
    "    print()"
   ]
  },
  {
   "cell_type": "code",
   "execution_count": 55,
   "id": "013b49aa",
   "metadata": {},
   "outputs": [
    {
     "name": "stdout",
     "output_type": "stream",
     "text": [
      "Enter the number of rows to be printed in the pattern: 8\n",
      "    1   2   3   4   5   6   7   8 \n",
      "      1                       7 \n",
      "        1                   6 \n",
      "          1               5 \n",
      "            1           4 \n",
      "              1       3 \n",
      "                1   2 \n",
      "                  1 \n"
     ]
    }
   ],
   "source": [
    "rows = int(input('Enter the number of rows to be printed in the pattern: '))\n",
    "\n",
    "for i in range(1, rows + 1):\n",
    "    k = 1\n",
    "    \n",
    "    for space in range(1, i + 1):\n",
    "        print(' ', end = ' ')\n",
    "        \n",
    "    for j in range(rows, i - 1, -1):\n",
    "        if i == 1 or i == rows - 1 or i == rows:\n",
    "            print(f'{k : 3}', end = ' ')\n",
    "            k = k + 1\n",
    "        elif j == rows:\n",
    "            print(f'{k : 3}', end = ' ')\n",
    "        elif j == i:\n",
    "            print(f'{rows - (i - 1) : 3}', end = ' ')\n",
    "        else:\n",
    "            print('   ', end = ' ')\n",
    "            \n",
    "    print()"
   ]
  },
  {
   "cell_type": "code",
   "execution_count": null,
   "id": "663d5398",
   "metadata": {},
   "outputs": [],
   "source": []
  }
 ],
 "metadata": {
  "kernelspec": {
   "display_name": "Python 3 (ipykernel)",
   "language": "python",
   "name": "python3"
  },
  "language_info": {
   "codemirror_mode": {
    "name": "ipython",
    "version": 3
   },
   "file_extension": ".py",
   "mimetype": "text/x-python",
   "name": "python",
   "nbconvert_exporter": "python",
   "pygments_lexer": "ipython3",
   "version": "3.8.18"
  }
 },
 "nbformat": 4,
 "nbformat_minor": 5
}
