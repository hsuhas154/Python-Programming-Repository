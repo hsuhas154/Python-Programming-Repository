{
 "cells": [
  {
   "cell_type": "markdown",
   "id": "52d3d2d0",
   "metadata": {},
   "source": [
    "# Printing patterns using loops"
   ]
  },
  {
   "cell_type": "markdown",
   "id": "cd12a3a6",
   "metadata": {},
   "source": [
    "## Number patterns "
   ]
  },
  {
   "cell_type": "code",
   "execution_count": 2,
   "id": "c9187a64",
   "metadata": {},
   "outputs": [
    {
     "name": "stdout",
     "output_type": "stream",
     "text": [
      "1 \n",
      "2 2 \n",
      "3 3 3 \n",
      "4 4 4 4 \n",
      "5 5 5 5 5 \n"
     ]
    }
   ],
   "source": [
    "for i in range(1, 6):\n",
    "    for j in range(1, i + 1):\n",
    "        print(i, end = ' ')\n",
    "    print()\n"
   ]
  },
  {
   "cell_type": "code",
   "execution_count": 3,
   "id": "0c41157b",
   "metadata": {},
   "outputs": [
    {
     "name": "stdout",
     "output_type": "stream",
     "text": [
      "1 \n",
      "1 2 \n",
      "1 2 3 \n",
      "1 2 3 4 \n",
      "1 2 3 4 5 \n"
     ]
    }
   ],
   "source": [
    "for i in range(1, 6):\n",
    "    for j in range(1, i + 1):\n",
    "        print(j, end = ' ')\n",
    "    print()"
   ]
  },
  {
   "cell_type": "code",
   "execution_count": 5,
   "id": "641e9cbf",
   "metadata": {},
   "outputs": [
    {
     "name": "stdout",
     "output_type": "stream",
     "text": [
      "1 1 1 1 1 \n",
      "2 2 2 2 \n",
      "3 3 3 \n",
      "4 4 \n",
      "5 \n"
     ]
    }
   ],
   "source": [
    "for i in range(1, 6):\n",
    "    for j in range(5, i - 1, -1):\n",
    "        print(i, end = ' ')\n",
    "    print()"
   ]
  },
  {
   "cell_type": "code",
   "execution_count": 6,
   "id": "48f9e005",
   "metadata": {},
   "outputs": [
    {
     "name": "stdout",
     "output_type": "stream",
     "text": [
      "5 4 3 2 1 \n",
      "5 4 3 2 \n",
      "5 4 3 \n",
      "5 4 \n",
      "5 \n"
     ]
    }
   ],
   "source": [
    "for i in range(1, 6):\n",
    "    for j in range(5, i - 1, -1):\n",
    "        print(j, end = ' ')\n",
    "    print()"
   ]
  },
  {
   "cell_type": "code",
   "execution_count": 8,
   "id": "30980576",
   "metadata": {},
   "outputs": [
    {
     "name": "stdout",
     "output_type": "stream",
     "text": [
      "5 \n",
      "4 4 \n",
      "3 3 3 \n",
      "2 2 2 2 \n",
      "1 1 1 1 1 \n"
     ]
    }
   ],
   "source": [
    "for i in range(5, 0, -1):\n",
    "    for j in range(5, i - 1, -1):\n",
    "        print(i, end = ' ')\n",
    "    print()"
   ]
  },
  {
   "cell_type": "code",
   "execution_count": 9,
   "id": "4c3c8ee1",
   "metadata": {},
   "outputs": [
    {
     "name": "stdout",
     "output_type": "stream",
     "text": [
      "5 5 5 5 5 \n",
      "4 4 4 4 \n",
      "3 3 3 \n",
      "2 2 \n",
      "1 \n"
     ]
    }
   ],
   "source": [
    "for i in range(5, 0, -1):\n",
    "    for j in range(1, i + 1):\n",
    "        print(i, end = ' ')\n",
    "    print()"
   ]
  },
  {
   "cell_type": "code",
   "execution_count": 10,
   "id": "6586e500",
   "metadata": {},
   "outputs": [
    {
     "name": "stdout",
     "output_type": "stream",
     "text": [
      "1 \n",
      "2 3 \n",
      "4 5 6 \n",
      "7 8 9 10 \n",
      "11 12 13 14 15 \n"
     ]
    }
   ],
   "source": [
    "k = 1\n",
    "\n",
    "for i in range(1, 6):\n",
    "    for j in range(1, i + 1):\n",
    "        print(k, end = ' ')\n",
    "        k = k + 1\n",
    "    print()"
   ]
  },
  {
   "cell_type": "code",
   "execution_count": 11,
   "id": "ac467642",
   "metadata": {},
   "outputs": [
    {
     "name": "stdout",
     "output_type": "stream",
     "text": [
      "1 \n",
      "3 3 \n",
      "5 5 5 \n",
      "7 7 7 7 \n",
      "9 9 9 9 9 \n"
     ]
    }
   ],
   "source": [
    "k = 1 \n",
    "\n",
    "for i in range(1, 6):\n",
    "    for j in range(1, i + 1):\n",
    "        print(k, end = ' ')\n",
    "    print()\n",
    "    k = k + 2"
   ]
  },
  {
   "cell_type": "code",
   "execution_count": 13,
   "id": "e476ec5e",
   "metadata": {},
   "outputs": [
    {
     "name": "stdout",
     "output_type": "stream",
     "text": [
      "1 \n",
      "2 1 \n",
      "3 2 1 \n",
      "4 3 2 1 \n",
      "5 4 3 2 1 \n"
     ]
    }
   ],
   "source": [
    "for i in range(1, 6):\n",
    "    for j in range(i, 0, -1):\n",
    "        print(j, end = ' ')\n",
    "    print()"
   ]
  },
  {
   "cell_type": "code",
   "execution_count": 14,
   "id": "4378020a",
   "metadata": {},
   "outputs": [
    {
     "name": "stdout",
     "output_type": "stream",
     "text": [
      "5 4 3 2 1 \n",
      "4 3 2 1 \n",
      "3 2 1 \n",
      "2 1 \n",
      "1 \n"
     ]
    }
   ],
   "source": [
    "for i in range(5, 0, -1):\n",
    "    for j in range(i, 0, -1):\n",
    "        print(j, end = ' ')\n",
    "    print()"
   ]
  },
  {
   "cell_type": "code",
   "execution_count": 21,
   "id": "674fc1be",
   "metadata": {},
   "outputs": [
    {
     "name": "stdout",
     "output_type": "stream",
     "text": [
      "1 \n",
      "3 2 \n",
      "5 4 3 \n",
      "7 6 5 4 \n",
      "9 8 7 6 5 \n"
     ]
    }
   ],
   "source": [
    "for i in range(1, 6):\n",
    "    for j in range(i, 0, -1):\n",
    "        print(j + i - 1, end = ' ')\n",
    "    print()"
   ]
  },
  {
   "cell_type": "code",
   "execution_count": 1,
   "id": "07c60f40",
   "metadata": {},
   "outputs": [
    {
     "name": "stdout",
     "output_type": "stream",
     "text": [
      "1 \n",
      "3 2 \n",
      "6 5 4 \n",
      "10 9 8 7 \n",
      "15 14 13 12 11 \n"
     ]
    }
   ],
   "source": [
    "x = 1\n",
    "y = 2\n",
    "k = y\n",
    "\n",
    "for i in range(2, 7):\n",
    "    for j in range(x, y):\n",
    "        k = k - 1\n",
    "        print(k, end = ' ')\n",
    "    print()\n",
    "    x = y\n",
    "    y = y + i\n",
    "    k = y\n",
    "    \n",
    "# Before 1st iteration: x = 1, y = 2, k = 2.\n",
    "# Outer loop begins and i starts with the value  of 2.\n",
    "# 1st iteration: i = 2, j = 1, k = 1, print k. After printing: x = 2, y = 4, k = 4.\n",
    "# 2nd iteration: i = 3, j = (2, 3), k =  3, 2. After printing: x = 4, y = 7, k = 7.\n",
    "# 3rd iteration: i = 4, j = (4, 5, 6), k = 6, 5, 4. After printing: x = 7, y = 11, k = 11.\n",
    "# 4th iteration: i = 5, j = (7, 8, 9, 10), k = 10, 9, 8, 7. After printing: x = 11, y = 16, k = 16.\n",
    "# 5th iteration: i = 6, j = (11, 12, 13, 14, 15), k = 15, 14, 13, 12, 11. After printing: x = 16, y = 22, k = 22.\n",
    "# Outer loop ends as i increments to 7 and cannot reach 7 because of range(2, 7)."
   ]
  },
  {
   "cell_type": "code",
   "execution_count": 10,
   "id": "e98526d1",
   "metadata": {},
   "outputs": [
    {
     "name": "stdout",
     "output_type": "stream",
     "text": [
      "Enter the number of rows of the pattern: 5\n",
      "        1 \n",
      "      1 2 \n",
      "    1 2 3 \n",
      "  1 2 3 4 \n",
      "1 2 3 4 5 \n"
     ]
    }
   ],
   "source": [
    "rows = int(input('Enter the number of rows of the pattern: '))\n",
    "\n",
    "for i in range(1, rows + 1):\n",
    "    k = 1\n",
    "    for j in range(rows, 0, -1):\n",
    "        if j <= i:\n",
    "            print(k, end = ' ')\n",
    "            k = k + 1\n",
    "        else:\n",
    "            print(' ', end = ' ')\n",
    "    print()"
   ]
  },
  {
   "cell_type": "code",
   "execution_count": 11,
   "id": "f899d13c",
   "metadata": {},
   "outputs": [
    {
     "name": "stdout",
     "output_type": "stream",
     "text": [
      "Enter the number of rows of the pattern: 5\n",
      "        5 \n",
      "      5 4 \n",
      "    5 4 3 \n",
      "  5 4 3 2 \n",
      "5 4 3 2 1 \n"
     ]
    }
   ],
   "source": [
    "rows = int(input('Enter the number of rows of the pattern: '))\n",
    "\n",
    "for i in range(1, rows + 1):\n",
    "    k = 5\n",
    "    for j in range(rows, 0, -1):\n",
    "        if j <= i:\n",
    "            print(k, end = ' ')\n",
    "            k = k - 1\n",
    "        else:\n",
    "            print(' ', end = ' ')\n",
    "    print()"
   ]
  },
  {
   "cell_type": "code",
   "execution_count": 14,
   "id": "32214a83",
   "metadata": {},
   "outputs": [
    {
     "name": "stdout",
     "output_type": "stream",
     "text": [
      "Enter the number of rows of the pattern: 5\n",
      "        1 \n",
      "      2 2 \n",
      "    3 3 3 \n",
      "  4 4 4 4 \n",
      "5 5 5 5 5 \n"
     ]
    }
   ],
   "source": [
    "rows = int(input('Enter the number of rows of the pattern: '))\n",
    "\n",
    "k = 1\n",
    "for i in range(1, rows + 1):\n",
    "    for j in range(rows, 0, -1):\n",
    "        if j <= i:\n",
    "            print(k, end = ' ')\n",
    "        else:\n",
    "            print(' ', end = ' ')\n",
    "    print()\n",
    "    k = k + 1\n"
   ]
  },
  {
   "cell_type": "code",
   "execution_count": 4,
   "id": "17f6b80f",
   "metadata": {},
   "outputs": [
    {
     "name": "stdout",
     "output_type": "stream",
     "text": [
      "Enter the number of rows of the pattern: 5\n",
      "        5 \n",
      "      4 4 \n",
      "    3 3 3 \n",
      "  2 2 2 2 \n",
      "1 1 1 1 1 \n"
     ]
    }
   ],
   "source": [
    "rows = int(input('Enter the number of rows of the pattern: '))\n",
    "\n",
    "k = 5\n",
    "for i in range(1, rows + 1):\n",
    "    for j in range(rows, 0, -1):\n",
    "        if j <= i:\n",
    "            print(k, end = ' ')\n",
    "        else:\n",
    "            print(' ', end = ' ')\n",
    "    print()\n",
    "    k = k - 1\n"
   ]
  },
  {
   "cell_type": "code",
   "execution_count": 20,
   "id": "1d5b085a",
   "metadata": {},
   "outputs": [
    {
     "name": "stdout",
     "output_type": "stream",
     "text": [
      "Enter the number of rows in the pattern: 5\n",
      "1 2 3 4 5 \n",
      "  1 2 3 4 \n",
      "    1 2 3 \n",
      "      1 2 \n",
      "        1 \n"
     ]
    }
   ],
   "source": [
    "rows = int(input('Enter the number of rows in the pattern: '))\n",
    "\n",
    "for i in range(1, rows + 1):\n",
    "    k = 1\n",
    "    for j in range(1, rows + 1):\n",
    "        if j >= i:\n",
    "            print(k, end = ' ')\n",
    "            k = k + 1\n",
    "        else:\n",
    "            print(' ', end = ' ')\n",
    "    print()"
   ]
  },
  {
   "cell_type": "code",
   "execution_count": 21,
   "id": "873dce77",
   "metadata": {},
   "outputs": [
    {
     "name": "stdout",
     "output_type": "stream",
     "text": [
      "Enter the number of rows in the pattern: 5\n",
      "5 4 3 2 1 \n",
      "  5 4 3 2 \n",
      "    5 4 3 \n",
      "      5 4 \n",
      "        5 \n"
     ]
    }
   ],
   "source": [
    "rows = int(input('Enter the number of rows in the pattern: '))\n",
    "\n",
    "for i in range(1, rows + 1):\n",
    "    k = 5\n",
    "    for j in range(1, rows + 1):\n",
    "        if j >= i:\n",
    "            print(k, end = ' ')\n",
    "            k = k - 1\n",
    "        else:\n",
    "            print(' ', end = ' ')\n",
    "    print()"
   ]
  },
  {
   "cell_type": "code",
   "execution_count": 22,
   "id": "3c35805c",
   "metadata": {},
   "outputs": [
    {
     "name": "stdout",
     "output_type": "stream",
     "text": [
      "Enter the number of rows in the pattern: 5\n",
      "1 1 1 1 1 \n",
      "  2 2 2 2 \n",
      "    3 3 3 \n",
      "      4 4 \n",
      "        5 \n"
     ]
    }
   ],
   "source": [
    "rows = int(input('Enter the number of rows in the pattern: '))\n",
    "\n",
    "k = 1\n",
    "for i in range(1, rows + 1):\n",
    "    for j in range(1, rows + 1):\n",
    "        if j >= i:\n",
    "            print(k, end = ' ')\n",
    "        else:\n",
    "            print(' ', end = ' ')\n",
    "    print()\n",
    "    k = k + 1"
   ]
  },
  {
   "cell_type": "code",
   "execution_count": 24,
   "id": "4d0a81d4",
   "metadata": {},
   "outputs": [
    {
     "name": "stdout",
     "output_type": "stream",
     "text": [
      "Enter the number of rows in the pattern: 5\n",
      "5 5 5 5 5 \n",
      "  4 4 4 4 \n",
      "    3 3 3 \n",
      "      2 2 \n",
      "        1 \n"
     ]
    }
   ],
   "source": [
    "rows = int(input('Enter the number of rows in the pattern: '))\n",
    "\n",
    "k = 5\n",
    "for i in range(1, rows + 1):\n",
    "    for j in range(1, rows + 1):\n",
    "        if j >= i:\n",
    "            print(k, end = ' ')\n",
    "        else:\n",
    "            print(' ', end = ' ')\n",
    "    print()\n",
    "    k = k - 1\n"
   ]
  },
  {
   "cell_type": "code",
   "execution_count": 16,
   "id": "ff149f14",
   "metadata": {},
   "outputs": [
    {
     "name": "stdout",
     "output_type": "stream",
     "text": [
      "Enter the number of rows to be printed in the pattern: 5\n",
      "1 2 3 4 5 \n",
      "1 2 3 4 \n",
      "1 2 3 \n",
      "1 2 \n",
      "1 \n"
     ]
    }
   ],
   "source": [
    "rows = int(input('Enter the number of rows to be printed in the pattern: '))\n",
    "\n",
    "for i in range(0, rows):\n",
    "    for j in range(1, rows + 1 - i):\n",
    "        print(j, end = ' ')\n",
    "    print()"
   ]
  },
  {
   "cell_type": "code",
   "execution_count": 6,
   "id": "889fdcbd",
   "metadata": {},
   "outputs": [
    {
     "name": "stdout",
     "output_type": "stream",
     "text": [
      "Enter the number of rows to be printed in the pattern: 5\n",
      "             1 \n",
      "           1    1 \n",
      "         1    2    1 \n",
      "       1    3    3    1 \n",
      "     1    4    6    4    1 \n"
     ]
    }
   ],
   "source": [
    "# Print Pascal's Triangle in the following pattern:\n",
    "\n",
    "#      1\n",
    "#     1 1\n",
    "#    1 2 1\n",
    "#   1 3 3 1\n",
    "#  1 4 6 4 1\n",
    "# 1 5 10 10 5 1\n",
    "\n",
    "# Method 1: Here the Pascal's Triangle has been printed using the relationship between adjacent elements in a particular row.\n",
    "\n",
    "'''\n",
    "Consider any arbitrary (n + 1)th row (index = n, because the first row has n = 0, second row has n = 1 etc.) in the Pascal's \n",
    "Triangle. Consider any arbitrary kth element in that particular row. \n",
    "kth element can be obtained from the (k - 1)th element by multiplying the (k - 1)th element by (n - k + 1)/k.\n",
    "\n",
    "For example, let n = 4. Consider the 2nd element. The second element is 4. The second element is indexed by k = 1.\n",
    "Now we have to find the third element. The third element is indexed by k = 2.\n",
    "\n",
    "Notice that, 4 * (4 - 2 + 1)/2 = 6. Hence we obtained the third (k = 2) element from the second (k = 1) element.\n",
    "'''\n",
    "\n",
    "rows = int(input('Enter the number of rows to be printed in the pattern: '))\n",
    "coeff = 1\n",
    "\n",
    "for i in range(0, rows):\n",
    "    for space in range(i, rows):\n",
    "        print(' ', end = ' ')\n",
    "        \n",
    "    for k in range(0, i + 1):\n",
    "        if k == 0 or i == 0:\n",
    "            coeff = 1\n",
    "        else:\n",
    "            coeff = int(coeff * ((i - k + 1) / k))\n",
    "                \n",
    "        print(f'{coeff : 4}', end = ' ')\n",
    "            \n",
    "    print()\n",
    "    "
   ]
  },
  {
   "cell_type": "code",
   "execution_count": 7,
   "id": "0a19a3fd",
   "metadata": {},
   "outputs": [
    {
     "name": "stdout",
     "output_type": "stream",
     "text": [
      "Enter the number of rows of the pattern: 6\n",
      "* * * * * 1 \n",
      "* * * * 2 2 \n",
      "* * * 3 3 3 \n",
      "* * 4 4 4 4 \n",
      "* 5 5 5 5 5 \n",
      "6 6 6 6 6 6 \n"
     ]
    }
   ],
   "source": [
    "# * * * * * 1\n",
    "# * * * * 2 2\n",
    "# * * * 3 3 3\n",
    "# * * 4 4 4 4\n",
    "# * 5 5 5 5 5\n",
    "# 6 6 6 6 6 6\n",
    "\n",
    "rows = int(input('Enter the number of rows of the pattern: '))\n",
    "t = 1\n",
    "\n",
    "for i in range(1, rows + 1):\n",
    "    for space in range(i, rows):\n",
    "        print('*', end = ' ')\n",
    "        \n",
    "    for k in range(rows, 0, -1):\n",
    "        if k <= i:\n",
    "            print(t, end = ' ')\n",
    "        else:\n",
    "            continue\n",
    "    \n",
    "    print()\n",
    "    t = t + 1\n"
   ]
  },
  {
   "cell_type": "code",
   "execution_count": 10,
   "id": "df90d19d",
   "metadata": {},
   "outputs": [
    {
     "name": "stdout",
     "output_type": "stream",
     "text": [
      "Enter the number of rows of the pattern: 5\n",
      "            1 \n",
      "          2   2 \n",
      "        3   3   3 \n",
      "      4   4   4   4 \n",
      "    5   5   5   5   5 \n"
     ]
    }
   ],
   "source": [
    "rows = int(input('Enter the number of rows of the pattern: '))\n",
    "t = 1\n",
    "\n",
    "for i in range(1, rows + 1):\n",
    "    for space in range(i, rows + 1): \n",
    "        print(' ', end = ' ')\n",
    "        \n",
    "    for k in range(rows, 0, -1):\n",
    "        if k <= i:\n",
    "            print(f'{t : 3}', end = ' ') # This line is solely meant for formatting\n",
    "        else:\n",
    "            continue\n",
    "    \n",
    "    print()\n",
    "    t = t + 1"
   ]
  },
  {
   "cell_type": "code",
   "execution_count": 11,
   "id": "d9985446",
   "metadata": {},
   "outputs": [
    {
     "name": "stdout",
     "output_type": "stream",
     "text": [
      "Enter the number of rows of the pattern: 5\n",
      "            5 \n",
      "          4   4 \n",
      "        3   3   3 \n",
      "      2   2   2   2 \n",
      "    1   1   1   1   1 \n"
     ]
    }
   ],
   "source": [
    "rows = int(input('Enter the number of rows of the pattern: '))\n",
    "t = rows\n",
    "\n",
    "for i in range(1, rows + 1):\n",
    "    for space in range(i, rows + 1):\n",
    "        print(' ', end = ' ')\n",
    "        \n",
    "    for k in range(rows, 0, -1):\n",
    "        if k <= i:\n",
    "            print(f'{t : 3}', end = ' ')\n",
    "        else:\n",
    "            continue\n",
    "    \n",
    "    print()\n",
    "    t = t - 1"
   ]
  },
  {
   "cell_type": "code",
   "execution_count": 12,
   "id": "3e0fafa2",
   "metadata": {},
   "outputs": [
    {
     "name": "stdout",
     "output_type": "stream",
     "text": [
      "Enter the number of rows of the pattern: 5\n",
      "             1 \n",
      "           2    3 \n",
      "         4    5    6 \n",
      "       7    8    9   10 \n",
      "    11   12   13   14   15 \n"
     ]
    }
   ],
   "source": [
    "rows = int(input('Enter the number of rows of the pattern: '))\n",
    "t = 1\n",
    "\n",
    "for i in range(1, rows + 1):\n",
    "    for space in range(i, rows + 1):\n",
    "        print(' ', end = ' ')\n",
    "        \n",
    "    for k in range(rows, 0, -1):\n",
    "        if k <= i:\n",
    "            print(f'{t : 4}', end = ' ')\n",
    "            t = t + 1\n",
    "        else:\n",
    "            continue\n",
    "            \n",
    "    print()"
   ]
  },
  {
   "cell_type": "code",
   "execution_count": 13,
   "id": "d847d37b",
   "metadata": {},
   "outputs": [
    {
     "name": "stdout",
     "output_type": "stream",
     "text": [
      "Enter the number of rows of the pattern: 5\n",
      "           15 \n",
      "         14  13 \n",
      "       12  11  10 \n",
      "      9   8   7   6 \n",
      "    5   4   3   2   1 \n"
     ]
    }
   ],
   "source": [
    "rows = int(input('Enter the number of rows of the pattern: '))\n",
    "t = int(rows * (rows + 1) / 2)\n",
    "\n",
    "for i in range(1, rows + 1):\n",
    "    for space in range(i, rows + 1):\n",
    "        print(' ', end = ' ')\n",
    "        \n",
    "    for k in range(rows, 0, -1):\n",
    "        if k <= i:\n",
    "            print(f'{t : 3}', end = ' ')\n",
    "            t = t - 1\n",
    "        else:\n",
    "            continue\n",
    "            \n",
    "    print()"
   ]
  }
 ],
 "metadata": {
  "kernelspec": {
   "display_name": "Python 3 (ipykernel)",
   "language": "python",
   "name": "python3"
  },
  "language_info": {
   "codemirror_mode": {
    "name": "ipython",
    "version": 3
   },
   "file_extension": ".py",
   "mimetype": "text/x-python",
   "name": "python",
   "nbconvert_exporter": "python",
   "pygments_lexer": "ipython3",
   "version": "3.11.5"
  }
 },
 "nbformat": 4,
 "nbformat_minor": 5
}
