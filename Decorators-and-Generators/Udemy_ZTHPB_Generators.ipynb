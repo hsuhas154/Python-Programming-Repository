{
 "cells": [
  {
   "cell_type": "code",
   "execution_count": 1,
   "id": "6bab0931-62ac-49df-9003-71c9dcb3fb94",
   "metadata": {},
   "outputs": [],
   "source": [
    "def cube_generator(n):\n",
    "    for i in range(0, n + 1, 1):\n",
    "        yield i ** 3"
   ]
  },
  {
   "cell_type": "code",
   "execution_count": 3,
   "id": "a5a832d4-ae65-4a61-a553-ddda630f2ff2",
   "metadata": {},
   "outputs": [
    {
     "data": {
      "text/plain": [
       "<generator object cube_generator at 0x000002A8CE623680>"
      ]
     },
     "execution_count": 3,
     "metadata": {},
     "output_type": "execute_result"
    }
   ],
   "source": [
    "cube_generator(10)"
   ]
  },
  {
   "cell_type": "code",
   "execution_count": 4,
   "id": "98b094ee-a496-4cbc-b1ba-f4edac9694f8",
   "metadata": {},
   "outputs": [
    {
     "name": "stdout",
     "output_type": "stream",
     "text": [
      "0\n",
      "1\n",
      "8\n",
      "27\n",
      "64\n",
      "125\n",
      "216\n",
      "343\n",
      "512\n",
      "729\n",
      "1000\n"
     ]
    }
   ],
   "source": [
    "for cube in cube_generator(10):\n",
    "    print(cube)"
   ]
  },
  {
   "cell_type": "code",
   "execution_count": 11,
   "id": "e3bec4e1-d0ff-476e-a038-afd0dc0e58ae",
   "metadata": {},
   "outputs": [],
   "source": [
    "# Code a generator function which computes the running sum of an Arithmetic Progression given the first term, common difference and n.\n",
    "\n",
    "def generator_sum_ap(a, d, n):\n",
    "    t_n = a + (n - 1) * d\n",
    "    sum = 0\n",
    "    for i in range(a, t_n + d, d):\n",
    "        sum = sum + i\n",
    "        yield sum"
   ]
  },
  {
   "cell_type": "code",
   "execution_count": 12,
   "id": "90c0559c-edcd-4433-816c-a242eaaeb15d",
   "metadata": {},
   "outputs": [
    {
     "name": "stdout",
     "output_type": "stream",
     "text": [
      "1\n",
      "4\n",
      "9\n",
      "16\n",
      "25\n",
      "36\n",
      "49\n",
      "64\n"
     ]
    }
   ],
   "source": [
    "# 1, 3, 5, 7, 9, 11, 13, 15\n",
    "for term in generator_sum_ap(1, 2, 8):\n",
    "    print(term)"
   ]
  },
  {
   "cell_type": "code",
   "execution_count": 1,
   "id": "4cbde886-9114-48e3-904c-81336e0b478b",
   "metadata": {},
   "outputs": [
    {
     "name": "stdin",
     "output_type": "stream",
     "text": [
      "Enter the number of terms to be printed:  10\n"
     ]
    },
    {
     "name": "stdout",
     "output_type": "stream",
     "text": [
      "0\n",
      "1\n",
      "1\n",
      "2\n",
      "3\n",
      "5\n",
      "8\n",
      "13\n",
      "21\n",
      "34\n"
     ]
    }
   ],
   "source": [
    "# Code to print Fibonacci series.\n",
    "\n",
    "# F_n = F_(n - 1) + F_(n - 2)\n",
    "\n",
    "terms = int(input('Enter the number of terms to be printed: '))\n",
    "\n",
    "f0 = 0\n",
    "f1 = 1\n",
    "sum_f = 0\n",
    "\n",
    "for i in range(0, terms, 1):\n",
    "    print(sum_f)\n",
    "    f0 = f1\n",
    "    f1 = sum_f\n",
    "    sum_f = f0 + f1"
   ]
  },
  {
   "cell_type": "code",
   "execution_count": 4,
   "id": "338b4889-8fc3-4b9f-933c-4dbde5df123c",
   "metadata": {},
   "outputs": [],
   "source": [
    "# Generator for a Fibonacci series.\n",
    "\n",
    "def fibonacci_generator(n):\n",
    "    f0 = 0\n",
    "    f1 = 1\n",
    "    sum_f = 0\n",
    "\n",
    "    for i in range(0, n, 1):\n",
    "        yield sum_f\n",
    "        f0 = f1\n",
    "        f1 = sum_f\n",
    "        sum_f = f0 + f1"
   ]
  },
  {
   "cell_type": "code",
   "execution_count": 5,
   "id": "14d339ed-2b44-4b15-9025-8473c4d5dd3e",
   "metadata": {},
   "outputs": [
    {
     "name": "stdout",
     "output_type": "stream",
     "text": [
      "0\n",
      "1\n",
      "1\n",
      "2\n",
      "3\n",
      "5\n",
      "8\n",
      "13\n",
      "21\n",
      "34\n"
     ]
    }
   ],
   "source": [
    "for x in fibonacci_generator(10):\n",
    "    print(x)"
   ]
  },
  {
   "cell_type": "code",
   "execution_count": 6,
   "id": "69275a50-110a-4477-ab09-9841ab8c58be",
   "metadata": {},
   "outputs": [],
   "source": [
    "def gp_generator(a, r, n):\n",
    "    for i in range(1, n + 1, 1):\n",
    "        term = a * (r ** (i - 1)) \n",
    "        yield term"
   ]
  },
  {
   "cell_type": "code",
   "execution_count": 7,
   "id": "0bb2f907-abdd-4ed8-8d8e-4d399a75d11c",
   "metadata": {},
   "outputs": [],
   "source": [
    "t_n = gp_generator(4, 2, 5)"
   ]
  },
  {
   "cell_type": "code",
   "execution_count": 8,
   "id": "c2b3a3f7-bf2d-4813-81f3-045b390b8107",
   "metadata": {},
   "outputs": [
    {
     "name": "stdout",
     "output_type": "stream",
     "text": [
      "4\n"
     ]
    }
   ],
   "source": [
    "print(next(t_n))"
   ]
  },
  {
   "cell_type": "code",
   "execution_count": 9,
   "id": "d852a6d2-e699-49d9-84c7-d112824812b2",
   "metadata": {},
   "outputs": [
    {
     "name": "stdout",
     "output_type": "stream",
     "text": [
      "8\n"
     ]
    }
   ],
   "source": [
    "print(next(t_n))"
   ]
  },
  {
   "cell_type": "code",
   "execution_count": 10,
   "id": "e79332f2-888f-48f1-bcb0-0e6bbf51b13f",
   "metadata": {},
   "outputs": [
    {
     "name": "stdout",
     "output_type": "stream",
     "text": [
      "16\n"
     ]
    }
   ],
   "source": [
    "print(next(t_n))"
   ]
  },
  {
   "cell_type": "code",
   "execution_count": 11,
   "id": "fb64fe79-137e-4372-ade3-a0cca8de3dd4",
   "metadata": {},
   "outputs": [
    {
     "name": "stdout",
     "output_type": "stream",
     "text": [
      "32\n"
     ]
    }
   ],
   "source": [
    "print(next(t_n))"
   ]
  },
  {
   "cell_type": "code",
   "execution_count": 12,
   "id": "2a7c8a48-23c8-4dfc-9cb7-06a380dc15a5",
   "metadata": {},
   "outputs": [
    {
     "name": "stdout",
     "output_type": "stream",
     "text": [
      "64\n"
     ]
    }
   ],
   "source": [
    "print(next(t_n))"
   ]
  },
  {
   "cell_type": "markdown",
   "id": "0861de0e-a5e3-4175-9cd0-7c6ca7bae19d",
   "metadata": {},
   "source": [
    "Notice that, we have already printed the first 5 terms of the sequence. Executing `print(next(t_n))` will throw a `StopIteration` error."
   ]
  },
  {
   "cell_type": "code",
   "execution_count": 18,
   "id": "5a7abcfc-34f7-41ca-952e-c7b50e7297c4",
   "metadata": {},
   "outputs": [
    {
     "name": "stdout",
     "output_type": "stream",
     "text": [
      "M\n",
      "A\n",
      "T\n",
      "P\n",
      "L\n",
      "O\n",
      "T\n",
      "L\n",
      "I\n",
      "B\n"
     ]
    }
   ],
   "source": [
    "chkstr = 'MATPLOTLIB'\n",
    "\n",
    "for char in chkstr:\n",
    "    print(char)"
   ]
  },
  {
   "cell_type": "markdown",
   "id": "57e1461b-53e7-4ad7-9dc0-b0dad6619168",
   "metadata": {},
   "source": [
    "Observe that we can iterate over a string but a string in Python is not an iterator object itself. We can observe this by running the below code snippet:\n",
    "\n",
    "```Python\n",
    "chkstr = 'SEABORN'\n",
    "\n",
    "print(next(chkstr))\n",
    "```\n",
    "\n",
    "The above code snippet will throw an error given below:\n",
    "\n",
    "```Python\n",
    "---------------------------------------------------------------------------\n",
    "TypeError                                 Traceback (most recent call last)\n",
    "Cell In[19], line 4\n",
    "      1 chkstr = 'SEABORN'\n",
    "      3 for char in chkstr:\n",
    "----> 4     print(next(char))\n",
    "\n",
    "TypeError: 'str' object is not an iterator\n",
    "```"
   ]
  },
  {
   "cell_type": "code",
   "execution_count": 23,
   "id": "7a884f0b-cb15-4236-8dc6-978868acb471",
   "metadata": {},
   "outputs": [],
   "source": [
    "# In order to convert a string to an iterator object, we have to use the iter() function.\n",
    "\n",
    "chkstr = 'PANDAS'\n",
    "iter_chkstr = iter(chkstr)"
   ]
  },
  {
   "cell_type": "code",
   "execution_count": 24,
   "id": "a78a3c85-b0b2-4aee-8292-4019d532c077",
   "metadata": {},
   "outputs": [
    {
     "name": "stdout",
     "output_type": "stream",
     "text": [
      "P\n"
     ]
    }
   ],
   "source": [
    "print(next(iter_chkstr))"
   ]
  },
  {
   "cell_type": "code",
   "execution_count": 25,
   "id": "f20fa570-c4ee-41cd-b711-536646d1099b",
   "metadata": {},
   "outputs": [
    {
     "name": "stdout",
     "output_type": "stream",
     "text": [
      "A\n"
     ]
    }
   ],
   "source": [
    "print(next(iter_chkstr))"
   ]
  },
  {
   "cell_type": "code",
   "execution_count": 26,
   "id": "4259ee0c-0b7f-4e1c-abca-4ee56e302af9",
   "metadata": {},
   "outputs": [
    {
     "name": "stdout",
     "output_type": "stream",
     "text": [
      "N\n"
     ]
    }
   ],
   "source": [
    "print(next(iter_chkstr))"
   ]
  },
  {
   "cell_type": "code",
   "execution_count": 27,
   "id": "84d55a71-9406-45fa-90ee-05b0addbbb4a",
   "metadata": {},
   "outputs": [
    {
     "name": "stdout",
     "output_type": "stream",
     "text": [
      "D\n"
     ]
    }
   ],
   "source": [
    "print(next(iter_chkstr))"
   ]
  },
  {
   "cell_type": "code",
   "execution_count": 28,
   "id": "d93d2d91-74e8-46f3-87e7-d0049156d7c2",
   "metadata": {},
   "outputs": [
    {
     "name": "stdout",
     "output_type": "stream",
     "text": [
      "A\n"
     ]
    }
   ],
   "source": [
    "print(next(iter_chkstr))"
   ]
  },
  {
   "cell_type": "code",
   "execution_count": 29,
   "id": "e58641b8-6821-495a-8905-6f1ccd2109db",
   "metadata": {},
   "outputs": [
    {
     "name": "stdout",
     "output_type": "stream",
     "text": [
      "S\n"
     ]
    }
   ],
   "source": [
    "print(next(iter_chkstr))"
   ]
  },
  {
   "cell_type": "code",
   "execution_count": null,
   "id": "9f596b28-79a2-4ee3-a11f-376b9940174f",
   "metadata": {},
   "outputs": [],
   "source": []
  }
 ],
 "metadata": {
  "kernelspec": {
   "display_name": "Python 3 (ipykernel)",
   "language": "python",
   "name": "python3"
  },
  "language_info": {
   "codemirror_mode": {
    "name": "ipython",
    "version": 3
   },
   "file_extension": ".py",
   "mimetype": "text/x-python",
   "name": "python",
   "nbconvert_exporter": "python",
   "pygments_lexer": "ipython3",
   "version": "3.11.5"
  }
 },
 "nbformat": 4,
 "nbformat_minor": 5
}
