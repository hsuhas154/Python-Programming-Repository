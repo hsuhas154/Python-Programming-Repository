{
 "cells": [
  {
   "cell_type": "markdown",
   "id": "87de09bf-78f9-453e-874b-71cf5fe74b53",
   "metadata": {},
   "source": [
    "### Problem 1"
   ]
  },
  {
   "cell_type": "code",
   "execution_count": 1,
   "id": "fd7a6609-14db-46a3-9623-f65cb66d777c",
   "metadata": {},
   "outputs": [],
   "source": [
    "def gensquares(n):\n",
    "    for i in range(0, n + 1, 1):\n",
    "        yield i ** 2"
   ]
  },
  {
   "cell_type": "code",
   "execution_count": 2,
   "id": "c1b23068-b814-432e-bd1a-1ddec73ef850",
   "metadata": {},
   "outputs": [
    {
     "name": "stdout",
     "output_type": "stream",
     "text": [
      "0\n",
      "1\n",
      "4\n",
      "9\n",
      "16\n",
      "25\n",
      "36\n",
      "49\n",
      "64\n",
      "81\n",
      "100\n"
     ]
    }
   ],
   "source": [
    "for x in gensquares(10):\n",
    "    print(x)"
   ]
  },
  {
   "cell_type": "markdown",
   "id": "f972f59b-d122-4dee-972e-189ba75a6d9e",
   "metadata": {},
   "source": [
    "### Problem 2"
   ]
  },
  {
   "cell_type": "code",
   "execution_count": 3,
   "id": "bcdba625-08be-4840-9eaf-da1ad76c5741",
   "metadata": {},
   "outputs": [],
   "source": [
    "import random\n",
    "\n",
    "def rand_num(low, high, n):\n",
    "    for i in range(1, n + 1, 1):\n",
    "        yield random.randint(low, high)"
   ]
  },
  {
   "cell_type": "code",
   "execution_count": 4,
   "id": "009a5e40-7af3-4012-8edf-a477da2be450",
   "metadata": {},
   "outputs": [
    {
     "name": "stdout",
     "output_type": "stream",
     "text": [
      "7\n",
      "10\n",
      "8\n",
      "10\n",
      "7\n",
      "3\n",
      "2\n",
      "4\n",
      "9\n",
      "5\n",
      "4\n",
      "1\n"
     ]
    }
   ],
   "source": [
    "for num in rand_num(1, 10, 12):\n",
    "    print(num)"
   ]
  },
  {
   "cell_type": "markdown",
   "id": "83b2a9c8-2d4a-4fbd-accf-332de4b71cab",
   "metadata": {},
   "source": [
    "### Problem 3"
   ]
  },
  {
   "cell_type": "code",
   "execution_count": 5,
   "id": "103ad812-32de-4ab5-a637-6f326f071c43",
   "metadata": {},
   "outputs": [],
   "source": [
    "chkstr = 'SKLEARN'\n",
    "iter_chkstr = iter(chkstr)"
   ]
  },
  {
   "cell_type": "code",
   "execution_count": 6,
   "id": "33030036-2370-40c0-b5d0-efea614934ae",
   "metadata": {},
   "outputs": [
    {
     "name": "stdout",
     "output_type": "stream",
     "text": [
      "S\n"
     ]
    }
   ],
   "source": [
    "print(next(iter_chkstr))"
   ]
  },
  {
   "cell_type": "code",
   "execution_count": 7,
   "id": "8f968889-9de8-493b-962d-4cf0e24a1280",
   "metadata": {},
   "outputs": [
    {
     "name": "stdout",
     "output_type": "stream",
     "text": [
      "K\n"
     ]
    }
   ],
   "source": [
    "print(next(iter_chkstr))"
   ]
  },
  {
   "cell_type": "code",
   "execution_count": 8,
   "id": "1796c305-de60-4859-a963-cb4e65cc9d1d",
   "metadata": {},
   "outputs": [
    {
     "name": "stdout",
     "output_type": "stream",
     "text": [
      "L\n"
     ]
    }
   ],
   "source": [
    "print(next(iter_chkstr))"
   ]
  },
  {
   "cell_type": "code",
   "execution_count": 9,
   "id": "6bde8d2c-93ec-46d0-bfab-0be0eb2a4041",
   "metadata": {},
   "outputs": [
    {
     "name": "stdout",
     "output_type": "stream",
     "text": [
      "E\n"
     ]
    }
   ],
   "source": [
    "print(next(iter_chkstr))"
   ]
  },
  {
   "cell_type": "code",
   "execution_count": 10,
   "id": "5c61606a-1c80-4f8f-b4ea-ebd1dc1dac25",
   "metadata": {},
   "outputs": [
    {
     "name": "stdout",
     "output_type": "stream",
     "text": [
      "A\n"
     ]
    }
   ],
   "source": [
    "print(next(iter_chkstr))"
   ]
  },
  {
   "cell_type": "code",
   "execution_count": 11,
   "id": "2061cb54-5136-4f4a-93c8-197b7b476ed9",
   "metadata": {},
   "outputs": [
    {
     "name": "stdout",
     "output_type": "stream",
     "text": [
      "R\n"
     ]
    }
   ],
   "source": [
    "print(next(iter_chkstr))"
   ]
  },
  {
   "cell_type": "code",
   "execution_count": 12,
   "id": "f250158c-f294-4f90-87bd-094c5eec032a",
   "metadata": {},
   "outputs": [
    {
     "name": "stdout",
     "output_type": "stream",
     "text": [
      "N\n"
     ]
    }
   ],
   "source": [
    "print(next(iter_chkstr))"
   ]
  },
  {
   "cell_type": "markdown",
   "id": "9f1bc156-b11c-430f-9960-adeda3b1a6af",
   "metadata": {},
   "source": [
    "### Problem 4\n",
    "Explain a use case for generator using a yield statement where you would not want to use a normal function with a return statement."
   ]
  },
  {
   "cell_type": "markdown",
   "id": "fc3ac24c-6cef-4ff0-9709-d9797c62c0f5",
   "metadata": {},
   "source": [
    "Generators, implemented using the `yield` statement, are particularly useful when you need to generate a sequence of values iteratively. One common use case for generators is when you're dealing with large datasets or infinite sequences, where loading all the data into memory at once would be impractical or impossible.\n",
    "Here's a specific scenario where using a generator with `yield` would be preferable over a normal function with a `return` statement:\n",
    "\n",
    "<b>Processing Large Datasets:</b>\n",
    "\n",
    "Let's say you have a large dataset stored in a file, and you want to process each line of the file one at a time. Loading the entire file into memory at once might consume a lot of memory, especially if the file is very large. Instead, you can use a generator to read and process the file line by line, yielding one line at a time as needed.\n",
    "\n",
    "```Python\n",
    "\n",
    "def process_file(filename):\n",
    "    with open(filename, 'r') as file:\n",
    "        for line in file:\n",
    "            # Process the line (e.g., extract information, transform data)\n",
    "            processed_line = process_line(line)\n",
    "            # Yield the processed line\n",
    "            yield processed_line\n",
    "\n",
    "def process_line(line):\n",
    "    # Perform processing on the line (e.g., split, clean, parse)\n",
    "    # Return the processed line\n",
    "    return line.strip()\n",
    "\n",
    "# Usage:\n",
    "file_path = 'large_dataset.txt'\n",
    "for processed_line in process_file(file_path):\n",
    "    # Do something with each processed line\n",
    "    print(processed_line)\n",
    "    \n",
    "```\n",
    "\n",
    "In this example, `process_file` is a generator function that reads a file line by line and yields each processed line one at a time. Each time the generator yields a value, it temporarily suspends its execution, preserving its state, until the next value is requested. This allows you to efficiently process large datasets without loading them entirely into memory.\n",
    "\n",
    "Using a normal function with a `return` statement instead of a generator would require storing all processed lines in memory before returning them, which could lead to memory exhaustion for large datasets. By using a generator with `yield`, you can process each line on-the-fly, avoiding unnecessary memory overhead."
   ]
  },
  {
   "cell_type": "code",
   "execution_count": 13,
   "id": "bbf4ae35-8cb3-48eb-9066-ddf8dc386ac5",
   "metadata": {},
   "outputs": [
    {
     "name": "stdout",
     "output_type": "stream",
     "text": [
      "This is line 1.\n",
      "This is line 2.\n",
      "This is line 3.\n",
      "This is line 4.\n",
      "This is line 5.\n"
     ]
    }
   ],
   "source": [
    "def process_file(filename):\n",
    "    with open(filename, 'r') as file:\n",
    "        for line in file:\n",
    "            # Process the line (e.g., extract information, transform data)\n",
    "            processed_line = process_line(line)\n",
    "            # Yield the processed line\n",
    "            yield processed_line\n",
    "\n",
    "def process_line(line):\n",
    "    # Perform processing on the line (e.g., split, clean, parse)\n",
    "    # Return the processed line\n",
    "    return line.strip()\n",
    "\n",
    "# Usage:\n",
    "file_path = 'sample_text_file.txt'\n",
    "for processed_line in process_file(file_path):\n",
    "    # Do something with each processed line\n",
    "    print(processed_line)\n"
   ]
  },
  {
   "cell_type": "markdown",
   "id": "56a44ff2-08bb-478f-b24e-9401503f77f7",
   "metadata": {},
   "source": [
    "### Extra Credit"
   ]
  },
  {
   "cell_type": "code",
   "execution_count": 14,
   "id": "e1b2104b-da1c-4ec3-99ba-2cb5d8455ee5",
   "metadata": {},
   "outputs": [],
   "source": [
    "int_lst = [1, 2, 3, 4, 5, 6]\n",
    "\n",
    "gencomp = (item for item in int_lst if item > 3)"
   ]
  },
  {
   "cell_type": "code",
   "execution_count": 15,
   "id": "43a779ea-b545-4cd1-b4aa-a22dda575160",
   "metadata": {},
   "outputs": [
    {
     "data": {
      "text/plain": [
       "<generator object <genexpr> at 0x000001A287D253C0>"
      ]
     },
     "execution_count": 15,
     "metadata": {},
     "output_type": "execute_result"
    }
   ],
   "source": [
    "gencomp"
   ]
  },
  {
   "cell_type": "code",
   "execution_count": 16,
   "id": "fc8d01c5-84d0-476f-bd0f-6d09201b74c5",
   "metadata": {},
   "outputs": [
    {
     "name": "stdout",
     "output_type": "stream",
     "text": [
      "4\n",
      "5\n",
      "6\n"
     ]
    }
   ],
   "source": [
    "for element in gencomp:\n",
    "    print(element)"
   ]
  },
  {
   "cell_type": "markdown",
   "id": "a4fa3eaa-526d-45fb-a125-4bc24ab8ee5b",
   "metadata": {},
   "source": [
    "The code being provided uses a generator expression. While both list comprehensions and generator expressions are similar in syntax, they have different behaviours and produce different types of objects.\n",
    "\n",
    "Generator expressions are a concise way to create generators in Python. They have a syntax similar to list comprehensions, but instead of creating a list, they create a generator object. Generator expressions are particularly useful when we want to generate a sequence of values iteratively, one at a time, without storing the entire sequence in memory.\n",
    "\n",
    "Here's the basic syntax of a generator expression:\n",
    "\n",
    "```Python\n",
    "(generator_expression for item in iterable if condition)\n",
    "```\n",
    "\n",
    "* `generator_expression`: This is the expression that generates values for the generator.\n",
    "* `item`: This is the variable that represents each item in the iterable.\n",
    "* `iterable`: This is the iterable (e.g., a list, tuple, set, or any iterable object) over which the generator iterates.\n",
    "* `condition` (optional): This is an optional condition that filters the items produced by the generator expression.\n",
    "\n",
    "Unlike list comprehensions, generator expressions are enclosed in parentheses `()` rather than square brackets `[]`.\n",
    "\n",
    "Here's an example of a generator expression:"
   ]
  },
  {
   "cell_type": "code",
   "execution_count": 17,
   "id": "2218ee1c-eb3f-4f9c-8409-15c12dc096bd",
   "metadata": {},
   "outputs": [
    {
     "name": "stdout",
     "output_type": "stream",
     "text": [
      "<generator object <genexpr> at 0x000001A287D25970>\n",
      "1\n",
      "4\n",
      "9\n",
      "16\n",
      "25\n"
     ]
    }
   ],
   "source": [
    "# Generator expression to generate squares of numbers from 1 to 5\n",
    "squares_generator = (x ** 2 for x in range(1, 6))\n",
    "\n",
    "# Printing the generator object\n",
    "print(squares_generator)  # Output: <generator object <genexpr> at 0x7fd8e4f5ac80>\n",
    "\n",
    "# Iterating over the generator to obtain each square value\n",
    "for square in squares_generator:\n",
    "    print(square)\n",
    "\n",
    "# Output:\n",
    "# 1\n",
    "# 4\n",
    "# 9\n",
    "# 16\n",
    "# 25"
   ]
  },
  {
   "cell_type": "code",
   "execution_count": null,
   "id": "a6761710-8108-4be1-8e4a-1c8a3d6e1a6c",
   "metadata": {},
   "outputs": [],
   "source": []
  }
 ],
 "metadata": {
  "kernelspec": {
   "display_name": "Python 3 (ipykernel)",
   "language": "python",
   "name": "python3"
  },
  "language_info": {
   "codemirror_mode": {
    "name": "ipython",
    "version": 3
   },
   "file_extension": ".py",
   "mimetype": "text/x-python",
   "name": "python",
   "nbconvert_exporter": "python",
   "pygments_lexer": "ipython3",
   "version": "3.11.5"
  }
 },
 "nbformat": 4,
 "nbformat_minor": 5
}
