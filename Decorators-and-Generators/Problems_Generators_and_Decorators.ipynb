{
 "cells": [
  {
   "cell_type": "markdown",
   "id": "0f89520a-c907-4a3c-8be0-b5624b197e20",
   "metadata": {},
   "source": [
    "## Problem 1: Fibonacci Sequence Generator\n",
    "\n",
    "<span style=\"font-size:18px;\">Create a generator function that yields numbers in the Fibonacci sequence up to a specified limit.</span>"
   ]
  },
  {
   "cell_type": "code",
   "execution_count": 1,
   "id": "d095431b-2bc4-49fe-80aa-ce12506edcc5",
   "metadata": {},
   "outputs": [],
   "source": [
    "def fibonacci_generator(limit):\n",
    "    f0 = 0\n",
    "    f1 = 1\n",
    "    sum_f = 0\n",
    "\n",
    "    while sum_f <= limit:\n",
    "        yield sum_f\n",
    "        f0 = f1\n",
    "        f1 = sum_f\n",
    "        sum_f = f0 + f1"
   ]
  },
  {
   "cell_type": "code",
   "execution_count": 2,
   "id": "9d0b9320-d892-4de0-8972-51ce7f9a87d6",
   "metadata": {},
   "outputs": [
    {
     "data": {
      "text/plain": [
       "<generator object fibonacci_generator at 0x00000221982DC740>"
      ]
     },
     "execution_count": 2,
     "metadata": {},
     "output_type": "execute_result"
    }
   ],
   "source": [
    "fibonacci_generator(100)"
   ]
  },
  {
   "cell_type": "code",
   "execution_count": 3,
   "id": "3e2cf1eb-3f57-4071-905f-809a8c2ed84f",
   "metadata": {},
   "outputs": [
    {
     "name": "stdout",
     "output_type": "stream",
     "text": [
      "0\n",
      "1\n",
      "1\n",
      "2\n",
      "3\n",
      "5\n",
      "8\n",
      "13\n",
      "21\n",
      "34\n",
      "55\n",
      "89\n"
     ]
    }
   ],
   "source": [
    "for term in fibonacci_generator(100):\n",
    "    print(term)"
   ]
  },
  {
   "cell_type": "markdown",
   "id": "fb5dda12-e8c1-4a5d-aa3d-70a8e4f27cc2",
   "metadata": {},
   "source": [
    "## Problem 2: Chunking an Iterable.\n",
    "\n",
    "<span style=\"font-size:18px;\">Create a generator function that yields chunks of a specified size from an iterable.</span>\n",
    "\n",
    "Example:\n",
    "\n",
    "Input: `[0, 1, 2, 3, 4, 5, 6, 7, 8, 9]` <br>\n",
    "Output: `[0, 1, 2], [3, 4, 5], [6, 7, 8], [9]` <br>\n"
   ]
  },
  {
   "cell_type": "code",
   "execution_count": 4,
   "id": "d70c10b4-cd33-4293-b563-57b442daae13",
   "metadata": {},
   "outputs": [
    {
     "name": "stdout",
     "output_type": "stream",
     "text": [
      "(0, 1, 2)\n",
      "(3, 4, 5)\n",
      "(6, 7, 8)\n",
      "(9, 10)\n"
     ]
    }
   ],
   "source": [
    "# Solution 1: Most appropriate solution.\n",
    "\n",
    "def chunker(iterable, size):\n",
    "    if isinstance(size, int) == False:\n",
    "        print(f'Please enter an integer value for the size in which you want to divide the iterable.')\n",
    "        return\n",
    "\n",
    "    for i in range(0, len(iterable), size):\n",
    "        yield iterable[i : i + size]\n",
    "        \n",
    "chunked_iterables = chunker(tuple(range(0, 11)), 3)\n",
    "\n",
    "for item in chunked_iterables:\n",
    "    print(item)"
   ]
  },
  {
   "cell_type": "code",
   "execution_count": 5,
   "id": "be136998-4fc1-4082-8dbc-b559ee19c16f",
   "metadata": {},
   "outputs": [
    {
     "name": "stdout",
     "output_type": "stream",
     "text": [
      "[0, 1, 2]\n",
      "[3, 4, 5]\n",
      "[6, 7, 8]\n",
      "[9]\n"
     ]
    }
   ],
   "source": [
    "# Solution 2:\n",
    "\n",
    "import itertools\n",
    "\n",
    "def chunker(iterable, size):\n",
    "    it = iter(iterable)\n",
    "\n",
    "    while True:\n",
    "        chunk = list(itertools.islice(it, size))\n",
    "        if not chunk:\n",
    "            return\n",
    "        yield chunk\n",
    "\n",
    "for chunk in chunker(range(0, 10), 3):\n",
    "    print(chunk)"
   ]
  },
  {
   "cell_type": "code",
   "execution_count": 6,
   "id": "82df50c4-d4e4-4ee8-802b-2a418a2739b3",
   "metadata": {},
   "outputs": [
    {
     "name": "stdout",
     "output_type": "stream",
     "text": [
      "(0, 1, 2)\n",
      "(3, 4, 5)\n",
      "(6, 7, 8)\n"
     ]
    }
   ],
   "source": [
    "# Solution 3: \n",
    "\n",
    "def chunker(iterable, size):\n",
    "    # Step 1: Create an iterator from the iterable\n",
    "    iterator = iter(iterable)\n",
    "\n",
    "    # Step 2: Duplicate the iterator. That is, create a list of references to the same iterator, repeated size times.\n",
    "    # This results in the list [iterator, iterator, iterator], where each element refers to the same iterator object.\n",
    "    iterators = [iterator] * size\n",
    "\n",
    "    # Step 3: Use zip() function to group the elements from the iterator into tuples of length `size`.\n",
    "    chunked_iterable = zip(*iterators)\n",
    "\n",
    "    # Step 4: Convert the result to a list\n",
    "    chunked_list = list(chunked_iterable)\n",
    "\n",
    "    # Step 5: Handle the remaining elements (if any)\n",
    "    remainder = list(iterator)\n",
    "    if remainder:\n",
    "        chunked_list.append(tuple(remainder))\n",
    "\n",
    "    for item in chunked_list:\n",
    "        yield item\n",
    "\n",
    "chunked_items =  chunker(range(0, 10), 3)\n",
    "for item in chunked_items:\n",
    "    print(item)"
   ]
  },
  {
   "cell_type": "markdown",
   "id": "b5838d12-86e1-482a-b87a-f48af8ffc24f",
   "metadata": {},
   "source": [
    "```Python\n",
    "iterator = iter(iterables)\n",
    "iterators = [iterator] * size\n",
    "chunked_iterable = zip(*iterators)\n",
    "chunked_list = list(chunked_iterable)\n",
    "```\n",
    "\n",
    "The above four lines of code can be condensed into:\n",
    "\n",
    "```Python\n",
    "chunked_list = list(zip(*[iter(iterables)] * size))\n",
    "```"
   ]
  },
  {
   "cell_type": "markdown",
   "id": "988a23ab-b8ab-4976-8e29-8d1a18910ce6",
   "metadata": {},
   "source": [
    "Let us dive deeper into what is going on in this atypical code snippet.\n",
    "\n",
    "<b>Example Setup</b> <br>\n",
    "We'll use the following inputs:\n",
    "\n",
    "* `iterable = [1, 2, 3, 4, 5, 6, 7, 8, 9]`\n",
    "* `size = 3` <br><br>\n",
    "\n",
    "1. <b>Create an iterator:</b>\n",
    "    * First, create an iterator from the `iterable`. This iterator will sequentially return elements from the list `[1, 2, 3, 4, 5, 6, 7, 8, 9]`. <br><br>\n",
    "\n",
    "2. <b>Duplicate the iterator:</b>\n",
    "    * Next, create a list of `size` references to the same iterator. That is, create a list containing the same iterator object repeated `size` times. This results in the list `[iterator, iterator, iterator]`, where each element refers to the same iterator object. <br><br>\n",
    "\n",
    "3. <b>Unpack and Zip</b>\n",
    "    * Then, use `zip(*iterators)` to group elements from the iterator into tuples of length `size`.\n",
    "    * The `zip()` function takes multiple iterables and aggregates elements from each iterable.\n",
    "    * The `*` operator is used to unpack the list of iterators so that `zip()` receives them as separate arguments.\n",
    "    * `zip()` will then take one element from each iterator in turn and form tuples. Since all iterators refer to the same underlying iterator object, `zip()` effectively takes `size` elements at a time from the single iterator and groups them into tuples.\n",
    "    * During the first call (iteration), the `zip()` extracts `1`(first element) from the first reference. Then the iterator points to `2` and since all three references point to the same iterator in the memory, the second element extracted will be `2`. The iterator then points to `3`, so now, `zip()` extracts the third element, that is `3`. Thus, we get out first tuple and it will be `(1, 2, 3)`.\n",
    "    * Now the iterator remembers its last state and now it points to the element `4`. So during the second call (iteration), `zip()` will extract `4` first, `5` next and `6` last, and hence, we get our second tuple `(4, 5, 6)` and so on. "
   ]
  },
  {
   "cell_type": "markdown",
   "id": "81d234fe-d2c5-44b4-9ff0-5818133725c7",
   "metadata": {},
   "source": [
    "## Problem 3: Prime Number Generator\n",
    "<span style=\"font-size:18px;\">Create a generator function that yields prime numbers indefinitely (or until manually stopped).</span>"
   ]
  },
  {
   "cell_type": "code",
   "execution_count": 7,
   "id": "237e27be-91c7-400b-89e7-8ae810577975",
   "metadata": {},
   "outputs": [],
   "source": [
    "def prime_generator():\n",
    "    D = {} # Dictionary to store the multiples of detected primes\n",
    "    q = 2 # Start the primality test with the smallest known prime number, that is, 2\n",
    "\n",
    "    while True:\n",
    "        if q not in D:\n",
    "            # If the above if condition becomes True then q is a new prime number\n",
    "            yield q # If q is a new prime number, then yield q\n",
    "            D[q * q] = [q] # Next, store its first multiple in D which hasn't been stored yet\n",
    "        else:\n",
    "            # If the above if condition becomes False, then q is not a prime number\n",
    "            for p in D[q]: # If it is not a prime, then it must be one of the keys in D. Now loop through the values of that particular key.\n",
    "                D.setdefault(p + q, []).append(p)\n",
    "                # For each prime p that divides q, update the dictionary to store the next multiple of p that needs to be checked (p + q).\n",
    "            del D[q] # Remove the non prime key from the dictionary as it has already been checked and ignored\n",
    "        q += 1 # Increment q by 1"
   ]
  },
  {
   "cell_type": "code",
   "execution_count": 8,
   "id": "71f23332-c444-4303-b152-3c6255f19099",
   "metadata": {},
   "outputs": [
    {
     "name": "stdout",
     "output_type": "stream",
     "text": [
      "2\n",
      "3\n",
      "5\n",
      "7\n",
      "11\n",
      "13\n",
      "17\n",
      "19\n",
      "23\n",
      "29\n",
      "31\n",
      "37\n",
      "41\n",
      "43\n",
      "47\n",
      "53\n",
      "59\n",
      "61\n",
      "67\n",
      "71\n",
      "73\n",
      "79\n",
      "83\n",
      "89\n",
      "97\n"
     ]
    }
   ],
   "source": [
    "primes = prime_generator()\n",
    "\n",
    "for _ in range(25):\n",
    "    print(next(primes))"
   ]
  },
  {
   "cell_type": "markdown",
   "id": "c2fc3e65-1e47-436f-9782-ef6edf8c5e56",
   "metadata": {},
   "source": [
    "## Problem 4: Memoization Decorator\n",
    "<span style=\"font-size:18px;\">Create a decorator that caches the results of a function (memoization) to improve performance.</span>"
   ]
  },
  {
   "cell_type": "code",
   "execution_count": 9,
   "id": "850714c5-144a-4257-9efc-f67062699b08",
   "metadata": {},
   "outputs": [],
   "source": [
    "def cache_memory(func):\n",
    "    cache = {} # Declare an empty dictionary to store values which will be used as cache memory to retrieve already processed data\n",
    "\n",
    "    def wrapper_function(*args):\n",
    "        if args in cache: # If a value already stored in cache memory is asked, directly access the cache memory and skip further processing\n",
    "            return cache[args]\n",
    "\n",
    "        result = func(*args) # If new data is supplied, process it and capture its value in a variable\n",
    "        cache[args] = result # Store the result of the proocessing carried out in the above step as a new entry in the cache memory\n",
    "\n",
    "        return result # Return the result\n",
    "\n",
    "    return wrapper_function # Return the wrapper function"
   ]
  },
  {
   "cell_type": "code",
   "execution_count": 10,
   "id": "aa9f0515-d61f-4913-bcf2-4fdfc46f65e7",
   "metadata": {},
   "outputs": [],
   "source": [
    "@cache_memory\n",
    "def fibonacci(term):\n",
    "    if term <= 1:\n",
    "        return term\n",
    "    else:\n",
    "        return (fibonacci(term - 1) + fibonacci(term - 2)) "
   ]
  },
  {
   "cell_type": "code",
   "execution_count": 11,
   "id": "01cbe0b0-6ad2-4408-a283-498d15628776",
   "metadata": {},
   "outputs": [
    {
     "data": {
      "text/plain": [
       "354224848179261915075"
      ]
     },
     "execution_count": 11,
     "metadata": {},
     "output_type": "execute_result"
    }
   ],
   "source": [
    "fibonacci(100)"
   ]
  },
  {
   "cell_type": "markdown",
   "id": "569aa502-9b61-4234-93d7-4242b68f4b14",
   "metadata": {},
   "source": [
    "If we want to see how exactly the cache memory is being loaded, we can add a `print()` statement inside `wrapper_function()`. The entire code with the output is shown below:\n",
    "\n",
    "```Python\n",
    "def cache_memory(func):\n",
    "    cache = {} # Declare an empty dictionary to store values which will be used as cache memory to retrieve already processed data\n",
    "\n",
    "    def wrapper_function(*args):\n",
    "        if args in cache: # If a value already stored in cache memory is asked, directly access the cache memory and skip further processing\n",
    "            return cache[args]\n",
    "\n",
    "        result = func(*args) # If new data is supplied, process it and capture its value in a variable\n",
    "        cache[args] = result # Store the result of the proocessing carried out in the above step as a new entry in the cache memory\n",
    "        print(cache)\n",
    "        return result # Return the result\n",
    "\n",
    "    return wrapper_function # Return the wrapper function\n",
    "\n",
    "@cache_memory\n",
    "def fibonacci(term):\n",
    "    if term <= 1:\n",
    "        return term\n",
    "    else:\n",
    "        return (fibonacci(term - 1) + fibonacci(term - 2)) \n",
    "\n",
    "# Populating the cache memory: Visual display\n",
    "for i in range(0, 11):\n",
    "    fibonacci(i)\n",
    "\n",
    "```\n",
    "\n",
    "<h4>Output:</h4>\n",
    "\n",
    "```\n",
    "{(0,): 0}\n",
    "{(0,): 0, (1,): 1}\n",
    "{(0,): 0, (1,): 1, (2,): 1}\n",
    "{(0,): 0, (1,): 1, (2,): 1, (3,): 2}\n",
    "{(0,): 0, (1,): 1, (2,): 1, (3,): 2, (4,): 3}\n",
    "{(0,): 0, (1,): 1, (2,): 1, (3,): 2, (4,): 3, (5,): 5}\n",
    "{(0,): 0, (1,): 1, (2,): 1, (3,): 2, (4,): 3, (5,): 5, (6,): 8}\n",
    "{(0,): 0, (1,): 1, (2,): 1, (3,): 2, (4,): 3, (5,): 5, (6,): 8, (7,): 13}\n",
    "{(0,): 0, (1,): 1, (2,): 1, (3,): 2, (4,): 3, (5,): 5, (6,): 8, (7,): 13, (8,): 21}\n",
    "{(0,): 0, (1,): 1, (2,): 1, (3,): 2, (4,): 3, (5,): 5, (6,): 8, (7,): 13, (8,): 21, (9,): 34}\n",
    "{(0,): 0, (1,): 1, (2,): 1, (3,): 2, (4,): 3, (5,): 5, (6,): 8, (7,): 13, (8,): 21, (9,): 34, (10,): 55}\n",
    "```"
   ]
  },
  {
   "cell_type": "markdown",
   "id": "e75d8526-4f9b-4432-a12a-b36e5aa8c593",
   "metadata": {},
   "source": [
    "## Problem 5: Logging Decorator\n",
    "\n",
    "<span style=\"font-size:20px;\">Create a decorator that logs the execution time and arguments of a function each time it is called.</span>"
   ]
  },
  {
   "cell_type": "code",
   "execution_count": 12,
   "id": "4129b548-61c8-4e64-9be4-26ff1b008642",
   "metadata": {},
   "outputs": [],
   "source": [
    "import functools\n",
    "import time \n",
    "\n",
    "def log_execution(func):\n",
    "    @functools.wraps(func)\n",
    "    def wrapper(*args, **kwargs):\n",
    "        t1 = time.perf_counter() # Start time (high resolution timer)\n",
    "        result = func(*args, **kwargs)\n",
    "        t2 = time.perf_counter() # End time (high resolution timer)\n",
    "        print(f'Function {func.__name__} called with {args}, {kwargs} took {t2 - t1} seconds.')\n",
    "        return result\n",
    "    return wrapper\n",
    "\n",
    "# Decorating a function which sorts a list by the Bubble Sort algorithm.\n",
    "@log_execution\n",
    "def bubble_sort(arr):\n",
    "\n",
    "    none_count = arr.count(None)\n",
    "    arr = [x for x in arr if x is not None]\n",
    "    arr = [None] * none_count + arr\n",
    "\n",
    "    k = len(arr) - 1\n",
    "\n",
    "    for i in range(none_count, k, 1):\n",
    "        swapped = False\n",
    "        \n",
    "        for j in range(none_count, k - i + none_count, 1):\n",
    "            if arr[j] > arr[j + 1]:\n",
    "                arr[j], arr[j + 1] = arr[j + 1], arr[j]\n",
    "                swapped = True\n",
    "                \n",
    "        if not swapped:\n",
    "            break\n",
    "\n",
    "    return arr\n",
    "\n",
    "# Decorating a function which sorts a list by Insertion Sort algorithm\n",
    "@log_execution\n",
    "def insertion_sort(arr):\n",
    "    none_count = arr.count(None)\n",
    "    arr = [x for x in arr if x is not None]\n",
    "    arr = [None] * none_count + arr\n",
    "\n",
    "    length = len(arr)\n",
    "    \n",
    "    for i in range(none_count + 1, length):\n",
    "        temp = arr[i] \n",
    "        j = i - 1\n",
    "\n",
    "        while (j >= none_count and arr[j] > temp):\n",
    "            arr[j + 1] = arr[j]\n",
    "            j -= 1\n",
    "\n",
    "        arr[j + 1] = temp\n",
    "\n",
    "    return arr\n",
    "\n",
    "# Decorating a function which sorts a list by Selection Sort algorithm.\n",
    "@log_execution\n",
    "def selection_sort(data):\n",
    "    none_count = data.count(None)\n",
    "    data = [x for x in data if x is not None]\n",
    "    data = [None] * none_count + data\n",
    "    \n",
    "    for i in range(none_count, len(data) - 1):\n",
    "        min_idx = i\n",
    "\n",
    "        for j in range(i + 1, len(data)):\n",
    "            if data[j] < data[min_idx]:\n",
    "                min_idx = j\n",
    "\n",
    "        if min_idx != i:\n",
    "            data[i], data[min_idx] = data[min_idx], data[i]\n",
    "\n",
    "    return data"
   ]
  },
  {
   "cell_type": "code",
   "execution_count": 13,
   "id": "0850b12e-5aa8-4231-be2c-69afe5f13c51",
   "metadata": {},
   "outputs": [
    {
     "name": "stdout",
     "output_type": "stream",
     "text": [
      "\n",
      "Test Case 1: []\n",
      "\n",
      "Bubble Sort:\n",
      "Function bubble_sort called with ([],), {} took 9.800001862458885e-06 seconds.\n",
      "\n",
      "Insertion Sort:\n",
      "Function insertion_sort called with ([],), {} took 5.300000339047983e-06 seconds.\n",
      "\n",
      "Selection Sort:\n",
      "Function selection_sort called with ([],), {} took 4.800000169780105e-06 seconds.\n",
      "\n",
      "----------------------------------------------------------------------------------------------------\n",
      "\n",
      "Test Case 2: [1, 2, 3, 4, 5, 1, 2, 3, 4, 5, 1, 2, 3, 4, 5, 1, 2, 3, 4, 5, 1, 2, 3, 4, 5, 1, 2, 3, 4, 5, 1, 2, 3, 4, 5, 1, 2, 3, 4, 5, 1, 2, 3, 4, 5, 1, 2, 3, 4, 5, 1, 2, 3, 4, 5, 1, 2, 3, 4, 5, 1, 2, 3, 4, 5, 1, 2, 3, 4, 5, 1, 2, 3, 4, 5, 1, 2, 3, 4, 5, 1, 2, 3, 4, 5, 1, 2, 3, 4, 5, 1, 2, 3, 4, 5, 1, 2, 3, 4, 5, 1, 2, 3, 4, 5, 1, 2, 3, 4, 5, 1, 2, 3, 4, 5, 1, 2, 3, 4, 5, 1, 2, 3, 4, 5, 1, 2, 3, 4, 5, 1, 2, 3, 4, 5, 1, 2, 3, 4, 5, 1, 2, 3, 4, 5, 1, 2, 3, 4, 5, 1, 2, 3, 4, 5, 1, 2, 3, 4, 5, 1, 2, 3, 4, 5, 1, 2, 3, 4, 5, 1, 2, 3, 4, 5, 1, 2, 3, 4, 5, 1, 2, 3, 4, 5, 1, 2, 3, 4, 5, 1, 2, 3, 4, 5, 1, 2, 3, 4, 5, 1, 2, 3, 4, 5, 1, 2, 3, 4, 5, 1, 2, 3, 4, 5, 1, 2, 3, 4, 5, 1, 2, 3, 4, 5, 1, 2, 3, 4, 5, 1, 2, 3, 4, 5, 1, 2, 3, 4, 5, 1, 2, 3, 4, 5, 1, 2, 3, 4, 5, 1, 2, 3, 4, 5, 1, 2, 3, 4, 5, 1, 2, 3, 4, 5, 1, 2, 3, 4, 5, 1, 2, 3, 4, 5, 1, 2, 3, 4, 5, 1, 2, 3, 4, 5, 1, 2, 3, 4, 5, 1, 2, 3, 4, 5, 1, 2, 3, 4, 5, 1, 2, 3, 4, 5, 1, 2, 3, 4, 5, 1, 2, 3, 4, 5, 1, 2, 3, 4, 5, 1, 2, 3, 4, 5, 1, 2, 3, 4, 5, 1, 2, 3, 4, 5, 1, 2, 3, 4, 5, 1, 2, 3, 4, 5, 1, 2, 3, 4, 5, 1, 2, 3, 4, 5, 1, 2, 3, 4, 5, 1, 2, 3, 4, 5, 1, 2, 3, 4, 5, 1, 2, 3, 4, 5, 1, 2, 3, 4, 5, 1, 2, 3, 4, 5, 1, 2, 3, 4, 5, 1, 2, 3, 4, 5, 1, 2, 3, 4, 5, 1, 2, 3, 4, 5, 1, 2, 3, 4, 5, 1, 2, 3, 4, 5, 1, 2, 3, 4, 5, 1, 2, 3, 4, 5, 1, 2, 3, 4, 5, 1, 2, 3, 4, 5, 1, 2, 3, 4, 5, 1, 2, 3, 4, 5, 1, 2, 3, 4, 5, 1, 2, 3, 4, 5, 1, 2, 3, 4, 5, 1, 2, 3, 4, 5, 1, 2, 3, 4, 5, 1, 2, 3, 4, 5, 1, 2, 3, 4, 5, 1, 2, 3, 4, 5, 1, 2, 3, 4, 5, 1, 2, 3, 4, 5, 1, 2, 3, 4, 5]\n",
      "\n",
      "Bubble Sort:\n",
      "Function bubble_sort called with ([1, 2, 3, 4, 5, 1, 2, 3, 4, 5, 1, 2, 3, 4, 5, 1, 2, 3, 4, 5, 1, 2, 3, 4, 5, 1, 2, 3, 4, 5, 1, 2, 3, 4, 5, 1, 2, 3, 4, 5, 1, 2, 3, 4, 5, 1, 2, 3, 4, 5, 1, 2, 3, 4, 5, 1, 2, 3, 4, 5, 1, 2, 3, 4, 5, 1, 2, 3, 4, 5, 1, 2, 3, 4, 5, 1, 2, 3, 4, 5, 1, 2, 3, 4, 5, 1, 2, 3, 4, 5, 1, 2, 3, 4, 5, 1, 2, 3, 4, 5, 1, 2, 3, 4, 5, 1, 2, 3, 4, 5, 1, 2, 3, 4, 5, 1, 2, 3, 4, 5, 1, 2, 3, 4, 5, 1, 2, 3, 4, 5, 1, 2, 3, 4, 5, 1, 2, 3, 4, 5, 1, 2, 3, 4, 5, 1, 2, 3, 4, 5, 1, 2, 3, 4, 5, 1, 2, 3, 4, 5, 1, 2, 3, 4, 5, 1, 2, 3, 4, 5, 1, 2, 3, 4, 5, 1, 2, 3, 4, 5, 1, 2, 3, 4, 5, 1, 2, 3, 4, 5, 1, 2, 3, 4, 5, 1, 2, 3, 4, 5, 1, 2, 3, 4, 5, 1, 2, 3, 4, 5, 1, 2, 3, 4, 5, 1, 2, 3, 4, 5, 1, 2, 3, 4, 5, 1, 2, 3, 4, 5, 1, 2, 3, 4, 5, 1, 2, 3, 4, 5, 1, 2, 3, 4, 5, 1, 2, 3, 4, 5, 1, 2, 3, 4, 5, 1, 2, 3, 4, 5, 1, 2, 3, 4, 5, 1, 2, 3, 4, 5, 1, 2, 3, 4, 5, 1, 2, 3, 4, 5, 1, 2, 3, 4, 5, 1, 2, 3, 4, 5, 1, 2, 3, 4, 5, 1, 2, 3, 4, 5, 1, 2, 3, 4, 5, 1, 2, 3, 4, 5, 1, 2, 3, 4, 5, 1, 2, 3, 4, 5, 1, 2, 3, 4, 5, 1, 2, 3, 4, 5, 1, 2, 3, 4, 5, 1, 2, 3, 4, 5, 1, 2, 3, 4, 5, 1, 2, 3, 4, 5, 1, 2, 3, 4, 5, 1, 2, 3, 4, 5, 1, 2, 3, 4, 5, 1, 2, 3, 4, 5, 1, 2, 3, 4, 5, 1, 2, 3, 4, 5, 1, 2, 3, 4, 5, 1, 2, 3, 4, 5, 1, 2, 3, 4, 5, 1, 2, 3, 4, 5, 1, 2, 3, 4, 5, 1, 2, 3, 4, 5, 1, 2, 3, 4, 5, 1, 2, 3, 4, 5, 1, 2, 3, 4, 5, 1, 2, 3, 4, 5, 1, 2, 3, 4, 5, 1, 2, 3, 4, 5, 1, 2, 3, 4, 5, 1, 2, 3, 4, 5, 1, 2, 3, 4, 5, 1, 2, 3, 4, 5, 1, 2, 3, 4, 5, 1, 2, 3, 4, 5, 1, 2, 3, 4, 5, 1, 2, 3, 4, 5, 1, 2, 3, 4, 5, 1, 2, 3, 4, 5, 1, 2, 3, 4, 5, 1, 2, 3, 4, 5],), {} took 0.03149910000138334 seconds.\n",
      "\n",
      "Insertion Sort:\n",
      "Function insertion_sort called with ([1, 2, 3, 4, 5, 1, 2, 3, 4, 5, 1, 2, 3, 4, 5, 1, 2, 3, 4, 5, 1, 2, 3, 4, 5, 1, 2, 3, 4, 5, 1, 2, 3, 4, 5, 1, 2, 3, 4, 5, 1, 2, 3, 4, 5, 1, 2, 3, 4, 5, 1, 2, 3, 4, 5, 1, 2, 3, 4, 5, 1, 2, 3, 4, 5, 1, 2, 3, 4, 5, 1, 2, 3, 4, 5, 1, 2, 3, 4, 5, 1, 2, 3, 4, 5, 1, 2, 3, 4, 5, 1, 2, 3, 4, 5, 1, 2, 3, 4, 5, 1, 2, 3, 4, 5, 1, 2, 3, 4, 5, 1, 2, 3, 4, 5, 1, 2, 3, 4, 5, 1, 2, 3, 4, 5, 1, 2, 3, 4, 5, 1, 2, 3, 4, 5, 1, 2, 3, 4, 5, 1, 2, 3, 4, 5, 1, 2, 3, 4, 5, 1, 2, 3, 4, 5, 1, 2, 3, 4, 5, 1, 2, 3, 4, 5, 1, 2, 3, 4, 5, 1, 2, 3, 4, 5, 1, 2, 3, 4, 5, 1, 2, 3, 4, 5, 1, 2, 3, 4, 5, 1, 2, 3, 4, 5, 1, 2, 3, 4, 5, 1, 2, 3, 4, 5, 1, 2, 3, 4, 5, 1, 2, 3, 4, 5, 1, 2, 3, 4, 5, 1, 2, 3, 4, 5, 1, 2, 3, 4, 5, 1, 2, 3, 4, 5, 1, 2, 3, 4, 5, 1, 2, 3, 4, 5, 1, 2, 3, 4, 5, 1, 2, 3, 4, 5, 1, 2, 3, 4, 5, 1, 2, 3, 4, 5, 1, 2, 3, 4, 5, 1, 2, 3, 4, 5, 1, 2, 3, 4, 5, 1, 2, 3, 4, 5, 1, 2, 3, 4, 5, 1, 2, 3, 4, 5, 1, 2, 3, 4, 5, 1, 2, 3, 4, 5, 1, 2, 3, 4, 5, 1, 2, 3, 4, 5, 1, 2, 3, 4, 5, 1, 2, 3, 4, 5, 1, 2, 3, 4, 5, 1, 2, 3, 4, 5, 1, 2, 3, 4, 5, 1, 2, 3, 4, 5, 1, 2, 3, 4, 5, 1, 2, 3, 4, 5, 1, 2, 3, 4, 5, 1, 2, 3, 4, 5, 1, 2, 3, 4, 5, 1, 2, 3, 4, 5, 1, 2, 3, 4, 5, 1, 2, 3, 4, 5, 1, 2, 3, 4, 5, 1, 2, 3, 4, 5, 1, 2, 3, 4, 5, 1, 2, 3, 4, 5, 1, 2, 3, 4, 5, 1, 2, 3, 4, 5, 1, 2, 3, 4, 5, 1, 2, 3, 4, 5, 1, 2, 3, 4, 5, 1, 2, 3, 4, 5, 1, 2, 3, 4, 5, 1, 2, 3, 4, 5, 1, 2, 3, 4, 5, 1, 2, 3, 4, 5, 1, 2, 3, 4, 5, 1, 2, 3, 4, 5, 1, 2, 3, 4, 5, 1, 2, 3, 4, 5, 1, 2, 3, 4, 5, 1, 2, 3, 4, 5, 1, 2, 3, 4, 5, 1, 2, 3, 4, 5, 1, 2, 3, 4, 5],), {} took 0.012107599999580998 seconds.\n",
      "\n",
      "Selection Sort:\n",
      "Function selection_sort called with ([1, 2, 3, 4, 5, 1, 2, 3, 4, 5, 1, 2, 3, 4, 5, 1, 2, 3, 4, 5, 1, 2, 3, 4, 5, 1, 2, 3, 4, 5, 1, 2, 3, 4, 5, 1, 2, 3, 4, 5, 1, 2, 3, 4, 5, 1, 2, 3, 4, 5, 1, 2, 3, 4, 5, 1, 2, 3, 4, 5, 1, 2, 3, 4, 5, 1, 2, 3, 4, 5, 1, 2, 3, 4, 5, 1, 2, 3, 4, 5, 1, 2, 3, 4, 5, 1, 2, 3, 4, 5, 1, 2, 3, 4, 5, 1, 2, 3, 4, 5, 1, 2, 3, 4, 5, 1, 2, 3, 4, 5, 1, 2, 3, 4, 5, 1, 2, 3, 4, 5, 1, 2, 3, 4, 5, 1, 2, 3, 4, 5, 1, 2, 3, 4, 5, 1, 2, 3, 4, 5, 1, 2, 3, 4, 5, 1, 2, 3, 4, 5, 1, 2, 3, 4, 5, 1, 2, 3, 4, 5, 1, 2, 3, 4, 5, 1, 2, 3, 4, 5, 1, 2, 3, 4, 5, 1, 2, 3, 4, 5, 1, 2, 3, 4, 5, 1, 2, 3, 4, 5, 1, 2, 3, 4, 5, 1, 2, 3, 4, 5, 1, 2, 3, 4, 5, 1, 2, 3, 4, 5, 1, 2, 3, 4, 5, 1, 2, 3, 4, 5, 1, 2, 3, 4, 5, 1, 2, 3, 4, 5, 1, 2, 3, 4, 5, 1, 2, 3, 4, 5, 1, 2, 3, 4, 5, 1, 2, 3, 4, 5, 1, 2, 3, 4, 5, 1, 2, 3, 4, 5, 1, 2, 3, 4, 5, 1, 2, 3, 4, 5, 1, 2, 3, 4, 5, 1, 2, 3, 4, 5, 1, 2, 3, 4, 5, 1, 2, 3, 4, 5, 1, 2, 3, 4, 5, 1, 2, 3, 4, 5, 1, 2, 3, 4, 5, 1, 2, 3, 4, 5, 1, 2, 3, 4, 5, 1, 2, 3, 4, 5, 1, 2, 3, 4, 5, 1, 2, 3, 4, 5, 1, 2, 3, 4, 5, 1, 2, 3, 4, 5, 1, 2, 3, 4, 5, 1, 2, 3, 4, 5, 1, 2, 3, 4, 5, 1, 2, 3, 4, 5, 1, 2, 3, 4, 5, 1, 2, 3, 4, 5, 1, 2, 3, 4, 5, 1, 2, 3, 4, 5, 1, 2, 3, 4, 5, 1, 2, 3, 4, 5, 1, 2, 3, 4, 5, 1, 2, 3, 4, 5, 1, 2, 3, 4, 5, 1, 2, 3, 4, 5, 1, 2, 3, 4, 5, 1, 2, 3, 4, 5, 1, 2, 3, 4, 5, 1, 2, 3, 4, 5, 1, 2, 3, 4, 5, 1, 2, 3, 4, 5, 1, 2, 3, 4, 5, 1, 2, 3, 4, 5, 1, 2, 3, 4, 5, 1, 2, 3, 4, 5, 1, 2, 3, 4, 5, 1, 2, 3, 4, 5, 1, 2, 3, 4, 5, 1, 2, 3, 4, 5, 1, 2, 3, 4, 5, 1, 2, 3, 4, 5, 1, 2, 3, 4, 5, 1, 2, 3, 4, 5],), {} took 0.016308499998558545 seconds.\n",
      "\n",
      "----------------------------------------------------------------------------------------------------\n",
      "\n",
      "Test Case 3: [5, 4, 3, 2, 1, 5, 4, 3, 2, 1, 5, 4, 3, 2, 1, 5, 4, 3, 2, 1, 5, 4, 3, 2, 1, 5, 4, 3, 2, 1, 5, 4, 3, 2, 1, 5, 4, 3, 2, 1, 5, 4, 3, 2, 1, 5, 4, 3, 2, 1, 5, 4, 3, 2, 1, 5, 4, 3, 2, 1, 5, 4, 3, 2, 1, 5, 4, 3, 2, 1, 5, 4, 3, 2, 1, 5, 4, 3, 2, 1, 5, 4, 3, 2, 1, 5, 4, 3, 2, 1, 5, 4, 3, 2, 1, 5, 4, 3, 2, 1, 5, 4, 3, 2, 1, 5, 4, 3, 2, 1, 5, 4, 3, 2, 1, 5, 4, 3, 2, 1, 5, 4, 3, 2, 1, 5, 4, 3, 2, 1, 5, 4, 3, 2, 1, 5, 4, 3, 2, 1, 5, 4, 3, 2, 1, 5, 4, 3, 2, 1, 5, 4, 3, 2, 1, 5, 4, 3, 2, 1, 5, 4, 3, 2, 1, 5, 4, 3, 2, 1, 5, 4, 3, 2, 1, 5, 4, 3, 2, 1, 5, 4, 3, 2, 1, 5, 4, 3, 2, 1, 5, 4, 3, 2, 1, 5, 4, 3, 2, 1, 5, 4, 3, 2, 1, 5, 4, 3, 2, 1, 5, 4, 3, 2, 1, 5, 4, 3, 2, 1, 5, 4, 3, 2, 1, 5, 4, 3, 2, 1, 5, 4, 3, 2, 1, 5, 4, 3, 2, 1, 5, 4, 3, 2, 1, 5, 4, 3, 2, 1, 5, 4, 3, 2, 1, 5, 4, 3, 2, 1, 5, 4, 3, 2, 1, 5, 4, 3, 2, 1, 5, 4, 3, 2, 1, 5, 4, 3, 2, 1, 5, 4, 3, 2, 1, 5, 4, 3, 2, 1, 5, 4, 3, 2, 1, 5, 4, 3, 2, 1, 5, 4, 3, 2, 1, 5, 4, 3, 2, 1, 5, 4, 3, 2, 1, 5, 4, 3, 2, 1, 5, 4, 3, 2, 1, 5, 4, 3, 2, 1, 5, 4, 3, 2, 1, 5, 4, 3, 2, 1, 5, 4, 3, 2, 1, 5, 4, 3, 2, 1, 5, 4, 3, 2, 1, 5, 4, 3, 2, 1, 5, 4, 3, 2, 1, 5, 4, 3, 2, 1, 5, 4, 3, 2, 1, 5, 4, 3, 2, 1, 5, 4, 3, 2, 1, 5, 4, 3, 2, 1, 5, 4, 3, 2, 1, 5, 4, 3, 2, 1, 5, 4, 3, 2, 1, 5, 4, 3, 2, 1, 5, 4, 3, 2, 1, 5, 4, 3, 2, 1, 5, 4, 3, 2, 1, 5, 4, 3, 2, 1, 5, 4, 3, 2, 1, 5, 4, 3, 2, 1, 5, 4, 3, 2, 1, 5, 4, 3, 2, 1, 5, 4, 3, 2, 1, 5, 4, 3, 2, 1, 5, 4, 3, 2, 1, 5, 4, 3, 2, 1, 5, 4, 3, 2, 1, 5, 4, 3, 2, 1, 5, 4, 3, 2, 1, 5, 4, 3, 2, 1, 5, 4, 3, 2, 1, 5, 4, 3, 2, 1]\n",
      "\n",
      "Bubble Sort:\n",
      "Function bubble_sort called with ([5, 4, 3, 2, 1, 5, 4, 3, 2, 1, 5, 4, 3, 2, 1, 5, 4, 3, 2, 1, 5, 4, 3, 2, 1, 5, 4, 3, 2, 1, 5, 4, 3, 2, 1, 5, 4, 3, 2, 1, 5, 4, 3, 2, 1, 5, 4, 3, 2, 1, 5, 4, 3, 2, 1, 5, 4, 3, 2, 1, 5, 4, 3, 2, 1, 5, 4, 3, 2, 1, 5, 4, 3, 2, 1, 5, 4, 3, 2, 1, 5, 4, 3, 2, 1, 5, 4, 3, 2, 1, 5, 4, 3, 2, 1, 5, 4, 3, 2, 1, 5, 4, 3, 2, 1, 5, 4, 3, 2, 1, 5, 4, 3, 2, 1, 5, 4, 3, 2, 1, 5, 4, 3, 2, 1, 5, 4, 3, 2, 1, 5, 4, 3, 2, 1, 5, 4, 3, 2, 1, 5, 4, 3, 2, 1, 5, 4, 3, 2, 1, 5, 4, 3, 2, 1, 5, 4, 3, 2, 1, 5, 4, 3, 2, 1, 5, 4, 3, 2, 1, 5, 4, 3, 2, 1, 5, 4, 3, 2, 1, 5, 4, 3, 2, 1, 5, 4, 3, 2, 1, 5, 4, 3, 2, 1, 5, 4, 3, 2, 1, 5, 4, 3, 2, 1, 5, 4, 3, 2, 1, 5, 4, 3, 2, 1, 5, 4, 3, 2, 1, 5, 4, 3, 2, 1, 5, 4, 3, 2, 1, 5, 4, 3, 2, 1, 5, 4, 3, 2, 1, 5, 4, 3, 2, 1, 5, 4, 3, 2, 1, 5, 4, 3, 2, 1, 5, 4, 3, 2, 1, 5, 4, 3, 2, 1, 5, 4, 3, 2, 1, 5, 4, 3, 2, 1, 5, 4, 3, 2, 1, 5, 4, 3, 2, 1, 5, 4, 3, 2, 1, 5, 4, 3, 2, 1, 5, 4, 3, 2, 1, 5, 4, 3, 2, 1, 5, 4, 3, 2, 1, 5, 4, 3, 2, 1, 5, 4, 3, 2, 1, 5, 4, 3, 2, 1, 5, 4, 3, 2, 1, 5, 4, 3, 2, 1, 5, 4, 3, 2, 1, 5, 4, 3, 2, 1, 5, 4, 3, 2, 1, 5, 4, 3, 2, 1, 5, 4, 3, 2, 1, 5, 4, 3, 2, 1, 5, 4, 3, 2, 1, 5, 4, 3, 2, 1, 5, 4, 3, 2, 1, 5, 4, 3, 2, 1, 5, 4, 3, 2, 1, 5, 4, 3, 2, 1, 5, 4, 3, 2, 1, 5, 4, 3, 2, 1, 5, 4, 3, 2, 1, 5, 4, 3, 2, 1, 5, 4, 3, 2, 1, 5, 4, 3, 2, 1, 5, 4, 3, 2, 1, 5, 4, 3, 2, 1, 5, 4, 3, 2, 1, 5, 4, 3, 2, 1, 5, 4, 3, 2, 1, 5, 4, 3, 2, 1, 5, 4, 3, 2, 1, 5, 4, 3, 2, 1, 5, 4, 3, 2, 1, 5, 4, 3, 2, 1, 5, 4, 3, 2, 1, 5, 4, 3, 2, 1, 5, 4, 3, 2, 1, 5, 4, 3, 2, 1, 5, 4, 3, 2, 1],), {} took 0.03017840000029537 seconds.\n",
      "\n",
      "Insertion Sort:\n",
      "Function insertion_sort called with ([5, 4, 3, 2, 1, 5, 4, 3, 2, 1, 5, 4, 3, 2, 1, 5, 4, 3, 2, 1, 5, 4, 3, 2, 1, 5, 4, 3, 2, 1, 5, 4, 3, 2, 1, 5, 4, 3, 2, 1, 5, 4, 3, 2, 1, 5, 4, 3, 2, 1, 5, 4, 3, 2, 1, 5, 4, 3, 2, 1, 5, 4, 3, 2, 1, 5, 4, 3, 2, 1, 5, 4, 3, 2, 1, 5, 4, 3, 2, 1, 5, 4, 3, 2, 1, 5, 4, 3, 2, 1, 5, 4, 3, 2, 1, 5, 4, 3, 2, 1, 5, 4, 3, 2, 1, 5, 4, 3, 2, 1, 5, 4, 3, 2, 1, 5, 4, 3, 2, 1, 5, 4, 3, 2, 1, 5, 4, 3, 2, 1, 5, 4, 3, 2, 1, 5, 4, 3, 2, 1, 5, 4, 3, 2, 1, 5, 4, 3, 2, 1, 5, 4, 3, 2, 1, 5, 4, 3, 2, 1, 5, 4, 3, 2, 1, 5, 4, 3, 2, 1, 5, 4, 3, 2, 1, 5, 4, 3, 2, 1, 5, 4, 3, 2, 1, 5, 4, 3, 2, 1, 5, 4, 3, 2, 1, 5, 4, 3, 2, 1, 5, 4, 3, 2, 1, 5, 4, 3, 2, 1, 5, 4, 3, 2, 1, 5, 4, 3, 2, 1, 5, 4, 3, 2, 1, 5, 4, 3, 2, 1, 5, 4, 3, 2, 1, 5, 4, 3, 2, 1, 5, 4, 3, 2, 1, 5, 4, 3, 2, 1, 5, 4, 3, 2, 1, 5, 4, 3, 2, 1, 5, 4, 3, 2, 1, 5, 4, 3, 2, 1, 5, 4, 3, 2, 1, 5, 4, 3, 2, 1, 5, 4, 3, 2, 1, 5, 4, 3, 2, 1, 5, 4, 3, 2, 1, 5, 4, 3, 2, 1, 5, 4, 3, 2, 1, 5, 4, 3, 2, 1, 5, 4, 3, 2, 1, 5, 4, 3, 2, 1, 5, 4, 3, 2, 1, 5, 4, 3, 2, 1, 5, 4, 3, 2, 1, 5, 4, 3, 2, 1, 5, 4, 3, 2, 1, 5, 4, 3, 2, 1, 5, 4, 3, 2, 1, 5, 4, 3, 2, 1, 5, 4, 3, 2, 1, 5, 4, 3, 2, 1, 5, 4, 3, 2, 1, 5, 4, 3, 2, 1, 5, 4, 3, 2, 1, 5, 4, 3, 2, 1, 5, 4, 3, 2, 1, 5, 4, 3, 2, 1, 5, 4, 3, 2, 1, 5, 4, 3, 2, 1, 5, 4, 3, 2, 1, 5, 4, 3, 2, 1, 5, 4, 3, 2, 1, 5, 4, 3, 2, 1, 5, 4, 3, 2, 1, 5, 4, 3, 2, 1, 5, 4, 3, 2, 1, 5, 4, 3, 2, 1, 5, 4, 3, 2, 1, 5, 4, 3, 2, 1, 5, 4, 3, 2, 1, 5, 4, 3, 2, 1, 5, 4, 3, 2, 1, 5, 4, 3, 2, 1, 5, 4, 3, 2, 1, 5, 4, 3, 2, 1, 5, 4, 3, 2, 1, 5, 4, 3, 2, 1],), {} took 0.011861200000566896 seconds.\n",
      "\n",
      "Selection Sort:\n",
      "Function selection_sort called with ([5, 4, 3, 2, 1, 5, 4, 3, 2, 1, 5, 4, 3, 2, 1, 5, 4, 3, 2, 1, 5, 4, 3, 2, 1, 5, 4, 3, 2, 1, 5, 4, 3, 2, 1, 5, 4, 3, 2, 1, 5, 4, 3, 2, 1, 5, 4, 3, 2, 1, 5, 4, 3, 2, 1, 5, 4, 3, 2, 1, 5, 4, 3, 2, 1, 5, 4, 3, 2, 1, 5, 4, 3, 2, 1, 5, 4, 3, 2, 1, 5, 4, 3, 2, 1, 5, 4, 3, 2, 1, 5, 4, 3, 2, 1, 5, 4, 3, 2, 1, 5, 4, 3, 2, 1, 5, 4, 3, 2, 1, 5, 4, 3, 2, 1, 5, 4, 3, 2, 1, 5, 4, 3, 2, 1, 5, 4, 3, 2, 1, 5, 4, 3, 2, 1, 5, 4, 3, 2, 1, 5, 4, 3, 2, 1, 5, 4, 3, 2, 1, 5, 4, 3, 2, 1, 5, 4, 3, 2, 1, 5, 4, 3, 2, 1, 5, 4, 3, 2, 1, 5, 4, 3, 2, 1, 5, 4, 3, 2, 1, 5, 4, 3, 2, 1, 5, 4, 3, 2, 1, 5, 4, 3, 2, 1, 5, 4, 3, 2, 1, 5, 4, 3, 2, 1, 5, 4, 3, 2, 1, 5, 4, 3, 2, 1, 5, 4, 3, 2, 1, 5, 4, 3, 2, 1, 5, 4, 3, 2, 1, 5, 4, 3, 2, 1, 5, 4, 3, 2, 1, 5, 4, 3, 2, 1, 5, 4, 3, 2, 1, 5, 4, 3, 2, 1, 5, 4, 3, 2, 1, 5, 4, 3, 2, 1, 5, 4, 3, 2, 1, 5, 4, 3, 2, 1, 5, 4, 3, 2, 1, 5, 4, 3, 2, 1, 5, 4, 3, 2, 1, 5, 4, 3, 2, 1, 5, 4, 3, 2, 1, 5, 4, 3, 2, 1, 5, 4, 3, 2, 1, 5, 4, 3, 2, 1, 5, 4, 3, 2, 1, 5, 4, 3, 2, 1, 5, 4, 3, 2, 1, 5, 4, 3, 2, 1, 5, 4, 3, 2, 1, 5, 4, 3, 2, 1, 5, 4, 3, 2, 1, 5, 4, 3, 2, 1, 5, 4, 3, 2, 1, 5, 4, 3, 2, 1, 5, 4, 3, 2, 1, 5, 4, 3, 2, 1, 5, 4, 3, 2, 1, 5, 4, 3, 2, 1, 5, 4, 3, 2, 1, 5, 4, 3, 2, 1, 5, 4, 3, 2, 1, 5, 4, 3, 2, 1, 5, 4, 3, 2, 1, 5, 4, 3, 2, 1, 5, 4, 3, 2, 1, 5, 4, 3, 2, 1, 5, 4, 3, 2, 1, 5, 4, 3, 2, 1, 5, 4, 3, 2, 1, 5, 4, 3, 2, 1, 5, 4, 3, 2, 1, 5, 4, 3, 2, 1, 5, 4, 3, 2, 1, 5, 4, 3, 2, 1, 5, 4, 3, 2, 1, 5, 4, 3, 2, 1, 5, 4, 3, 2, 1, 5, 4, 3, 2, 1, 5, 4, 3, 2, 1, 5, 4, 3, 2, 1, 5, 4, 3, 2, 1],), {} took 0.01649610000094981 seconds.\n",
      "\n",
      "----------------------------------------------------------------------------------------------------\n",
      "\n",
      "Test Case 4: [3, 1, 4, 1, 5, 9, 2, 6, 5, 3, 1, 4, 1, 5, 9, 2, 6, 5, 3, 1, 4, 1, 5, 9, 2, 6, 5, 3, 1, 4, 1, 5, 9, 2, 6, 5, 3, 1, 4, 1, 5, 9, 2, 6, 5, 3, 1, 4, 1, 5, 9, 2, 6, 5, 3, 1, 4, 1, 5, 9, 2, 6, 5, 3, 1, 4, 1, 5, 9, 2, 6, 5, 3, 1, 4, 1, 5, 9, 2, 6, 5, 3, 1, 4, 1, 5, 9, 2, 6, 5, 3, 1, 4, 1, 5, 9, 2, 6, 5, 3, 1, 4, 1, 5, 9, 2, 6, 5, 3, 1, 4, 1, 5, 9, 2, 6, 5, 3, 1, 4, 1, 5, 9, 2, 6, 5, 3, 1, 4, 1, 5, 9, 2, 6, 5, 3, 1, 4, 1, 5, 9, 2, 6, 5, 3, 1, 4, 1, 5, 9, 2, 6, 5, 3, 1, 4, 1, 5, 9, 2, 6, 5, 3, 1, 4, 1, 5, 9, 2, 6, 5, 3, 1, 4, 1, 5, 9, 2, 6, 5, 3, 1, 4, 1, 5, 9, 2, 6, 5, 3, 1, 4, 1, 5, 9, 2, 6, 5, 3, 1, 4, 1, 5, 9, 2, 6, 5, 3, 1, 4, 1, 5, 9, 2, 6, 5, 3, 1, 4, 1, 5, 9, 2, 6, 5, 3, 1, 4, 1, 5, 9, 2, 6, 5, 3, 1, 4, 1, 5, 9, 2, 6, 5, 3, 1, 4, 1, 5, 9, 2, 6, 5, 3, 1, 4, 1, 5, 9, 2, 6, 5, 3, 1, 4, 1, 5, 9, 2, 6, 5, 3, 1, 4, 1, 5, 9, 2, 6, 5, 3, 1, 4, 1, 5, 9, 2, 6, 5, 3, 1, 4, 1, 5, 9, 2, 6, 5, 3, 1, 4, 1, 5, 9, 2, 6, 5, 3, 1, 4, 1, 5, 9, 2, 6, 5, 3, 1, 4, 1, 5, 9, 2, 6, 5, 3, 1, 4, 1, 5, 9, 2, 6, 5, 3, 1, 4, 1, 5, 9, 2, 6, 5, 3, 1, 4, 1, 5, 9, 2, 6, 5, 3, 1, 4, 1, 5, 9, 2, 6, 5, 3, 1, 4, 1, 5, 9, 2, 6, 5, 3, 1, 4, 1, 5, 9, 2, 6, 5, 3, 1, 4, 1, 5, 9, 2, 6, 5, 3, 1, 4, 1, 5, 9, 2, 6, 5, 3, 1, 4, 1, 5, 9, 2, 6, 5, 3, 1, 4, 1, 5, 9, 2, 6, 5, 3, 1, 4, 1, 5, 9, 2, 6, 5, 3, 1, 4, 1, 5, 9, 2, 6, 5, 3, 1, 4, 1, 5, 9, 2, 6, 5, 3, 1, 4, 1, 5, 9, 2, 6, 5, 3, 1, 4, 1, 5, 9, 2, 6, 5, 3, 1, 4, 1, 5, 9, 2, 6, 5, 3, 1, 4, 1, 5, 9, 2, 6, 5, 3, 1, 4, 1, 5, 9, 2, 6, 5, 3, 1, 4, 1, 5, 9, 2, 6, 5, 3, 1, 4, 1, 5, 9, 2, 6, 5, 3, 1, 4, 1, 5, 9, 2, 6, 5, 3, 1, 4, 1, 5, 9, 2, 6, 5, 3, 1, 4, 1, 5, 9, 2, 6, 5, 3, 1, 4, 1, 5, 9, 2, 6, 5, 3, 1, 4, 1, 5, 9, 2, 6, 5, 3, 1, 4, 1, 5, 9, 2, 6, 5, 3, 1, 4, 1, 5, 9, 2, 6, 5, 3, 1, 4, 1, 5, 9, 2, 6, 5, 3, 1, 4, 1, 5, 9, 2, 6, 5, 3, 1, 4, 1, 5, 9, 2, 6, 5, 3, 1, 4, 1, 5, 9, 2, 6, 5, 3, 1, 4, 1, 5, 9, 2, 6, 5, 3, 1, 4, 1, 5, 9, 2, 6, 5, 3, 1, 4, 1, 5, 9, 2, 6, 5, 3, 1, 4, 1, 5, 9, 2, 6, 5, 3, 1, 4, 1, 5, 9, 2, 6, 5, 3, 1, 4, 1, 5, 9, 2, 6, 5, 3, 1, 4, 1, 5, 9, 2, 6, 5, 3, 1, 4, 1, 5, 9, 2, 6, 5, 3, 1, 4, 1, 5, 9, 2, 6, 5, 3, 1, 4, 1, 5, 9, 2, 6, 5, 3, 1, 4, 1, 5, 9, 2, 6, 5, 3, 1, 4, 1, 5, 9, 2, 6, 5, 3, 1, 4, 1, 5, 9, 2, 6, 5, 3, 1, 4, 1, 5, 9, 2, 6, 5, 3, 1, 4, 1, 5, 9, 2, 6, 5, 3, 1, 4, 1, 5, 9, 2, 6, 5, 3, 1, 4, 1, 5, 9, 2, 6, 5, 3, 1, 4, 1, 5, 9, 2, 6, 5, 3, 1, 4, 1, 5, 9, 2, 6, 5, 3, 1, 4, 1, 5, 9, 2, 6, 5, 3, 1, 4, 1, 5, 9, 2, 6, 5, 3, 1, 4, 1, 5, 9, 2, 6, 5, 3, 1, 4, 1, 5, 9, 2, 6, 5, 3, 1, 4, 1, 5, 9, 2, 6, 5, 3, 1, 4, 1, 5, 9, 2, 6, 5, 3, 1, 4, 1, 5, 9, 2, 6, 5, 3, 1, 4, 1, 5, 9, 2, 6, 5, 3, 1, 4, 1, 5, 9, 2, 6, 5, 3, 1, 4, 1, 5, 9, 2, 6, 5, 3, 1, 4, 1, 5, 9, 2, 6, 5, 3, 1, 4, 1, 5, 9, 2, 6, 5, 3, 1, 4, 1, 5, 9, 2, 6, 5, 3, 1, 4, 1, 5, 9, 2, 6, 5]\n",
      "\n",
      "Bubble Sort:\n",
      "Function bubble_sort called with ([3, 1, 4, 1, 5, 9, 2, 6, 5, 3, 1, 4, 1, 5, 9, 2, 6, 5, 3, 1, 4, 1, 5, 9, 2, 6, 5, 3, 1, 4, 1, 5, 9, 2, 6, 5, 3, 1, 4, 1, 5, 9, 2, 6, 5, 3, 1, 4, 1, 5, 9, 2, 6, 5, 3, 1, 4, 1, 5, 9, 2, 6, 5, 3, 1, 4, 1, 5, 9, 2, 6, 5, 3, 1, 4, 1, 5, 9, 2, 6, 5, 3, 1, 4, 1, 5, 9, 2, 6, 5, 3, 1, 4, 1, 5, 9, 2, 6, 5, 3, 1, 4, 1, 5, 9, 2, 6, 5, 3, 1, 4, 1, 5, 9, 2, 6, 5, 3, 1, 4, 1, 5, 9, 2, 6, 5, 3, 1, 4, 1, 5, 9, 2, 6, 5, 3, 1, 4, 1, 5, 9, 2, 6, 5, 3, 1, 4, 1, 5, 9, 2, 6, 5, 3, 1, 4, 1, 5, 9, 2, 6, 5, 3, 1, 4, 1, 5, 9, 2, 6, 5, 3, 1, 4, 1, 5, 9, 2, 6, 5, 3, 1, 4, 1, 5, 9, 2, 6, 5, 3, 1, 4, 1, 5, 9, 2, 6, 5, 3, 1, 4, 1, 5, 9, 2, 6, 5, 3, 1, 4, 1, 5, 9, 2, 6, 5, 3, 1, 4, 1, 5, 9, 2, 6, 5, 3, 1, 4, 1, 5, 9, 2, 6, 5, 3, 1, 4, 1, 5, 9, 2, 6, 5, 3, 1, 4, 1, 5, 9, 2, 6, 5, 3, 1, 4, 1, 5, 9, 2, 6, 5, 3, 1, 4, 1, 5, 9, 2, 6, 5, 3, 1, 4, 1, 5, 9, 2, 6, 5, 3, 1, 4, 1, 5, 9, 2, 6, 5, 3, 1, 4, 1, 5, 9, 2, 6, 5, 3, 1, 4, 1, 5, 9, 2, 6, 5, 3, 1, 4, 1, 5, 9, 2, 6, 5, 3, 1, 4, 1, 5, 9, 2, 6, 5, 3, 1, 4, 1, 5, 9, 2, 6, 5, 3, 1, 4, 1, 5, 9, 2, 6, 5, 3, 1, 4, 1, 5, 9, 2, 6, 5, 3, 1, 4, 1, 5, 9, 2, 6, 5, 3, 1, 4, 1, 5, 9, 2, 6, 5, 3, 1, 4, 1, 5, 9, 2, 6, 5, 3, 1, 4, 1, 5, 9, 2, 6, 5, 3, 1, 4, 1, 5, 9, 2, 6, 5, 3, 1, 4, 1, 5, 9, 2, 6, 5, 3, 1, 4, 1, 5, 9, 2, 6, 5, 3, 1, 4, 1, 5, 9, 2, 6, 5, 3, 1, 4, 1, 5, 9, 2, 6, 5, 3, 1, 4, 1, 5, 9, 2, 6, 5, 3, 1, 4, 1, 5, 9, 2, 6, 5, 3, 1, 4, 1, 5, 9, 2, 6, 5, 3, 1, 4, 1, 5, 9, 2, 6, 5, 3, 1, 4, 1, 5, 9, 2, 6, 5, 3, 1, 4, 1, 5, 9, 2, 6, 5, 3, 1, 4, 1, 5, 9, 2, 6, 5, 3, 1, 4, 1, 5, 9, 2, 6, 5, 3, 1, 4, 1, 5, 9, 2, 6, 5, 3, 1, 4, 1, 5, 9, 2, 6, 5, 3, 1, 4, 1, 5, 9, 2, 6, 5, 3, 1, 4, 1, 5, 9, 2, 6, 5, 3, 1, 4, 1, 5, 9, 2, 6, 5, 3, 1, 4, 1, 5, 9, 2, 6, 5, 3, 1, 4, 1, 5, 9, 2, 6, 5, 3, 1, 4, 1, 5, 9, 2, 6, 5, 3, 1, 4, 1, 5, 9, 2, 6, 5, 3, 1, 4, 1, 5, 9, 2, 6, 5, 3, 1, 4, 1, 5, 9, 2, 6, 5, 3, 1, 4, 1, 5, 9, 2, 6, 5, 3, 1, 4, 1, 5, 9, 2, 6, 5, 3, 1, 4, 1, 5, 9, 2, 6, 5, 3, 1, 4, 1, 5, 9, 2, 6, 5, 3, 1, 4, 1, 5, 9, 2, 6, 5, 3, 1, 4, 1, 5, 9, 2, 6, 5, 3, 1, 4, 1, 5, 9, 2, 6, 5, 3, 1, 4, 1, 5, 9, 2, 6, 5, 3, 1, 4, 1, 5, 9, 2, 6, 5, 3, 1, 4, 1, 5, 9, 2, 6, 5, 3, 1, 4, 1, 5, 9, 2, 6, 5, 3, 1, 4, 1, 5, 9, 2, 6, 5, 3, 1, 4, 1, 5, 9, 2, 6, 5, 3, 1, 4, 1, 5, 9, 2, 6, 5, 3, 1, 4, 1, 5, 9, 2, 6, 5, 3, 1, 4, 1, 5, 9, 2, 6, 5, 3, 1, 4, 1, 5, 9, 2, 6, 5, 3, 1, 4, 1, 5, 9, 2, 6, 5, 3, 1, 4, 1, 5, 9, 2, 6, 5, 3, 1, 4, 1, 5, 9, 2, 6, 5, 3, 1, 4, 1, 5, 9, 2, 6, 5, 3, 1, 4, 1, 5, 9, 2, 6, 5, 3, 1, 4, 1, 5, 9, 2, 6, 5, 3, 1, 4, 1, 5, 9, 2, 6, 5, 3, 1, 4, 1, 5, 9, 2, 6, 5, 3, 1, 4, 1, 5, 9, 2, 6, 5, 3, 1, 4, 1, 5, 9, 2, 6, 5, 3, 1, 4, 1, 5, 9, 2, 6, 5, 3, 1, 4, 1, 5, 9, 2, 6, 5, 3, 1, 4, 1, 5, 9, 2, 6, 5, 3, 1, 4, 1, 5, 9, 2, 6, 5, 3, 1, 4, 1, 5, 9, 2, 6, 5, 3, 1, 4, 1, 5, 9, 2, 6, 5],), {} took 0.11097950000112178 seconds.\n",
      "\n",
      "Insertion Sort:\n",
      "Function insertion_sort called with ([3, 1, 4, 1, 5, 9, 2, 6, 5, 3, 1, 4, 1, 5, 9, 2, 6, 5, 3, 1, 4, 1, 5, 9, 2, 6, 5, 3, 1, 4, 1, 5, 9, 2, 6, 5, 3, 1, 4, 1, 5, 9, 2, 6, 5, 3, 1, 4, 1, 5, 9, 2, 6, 5, 3, 1, 4, 1, 5, 9, 2, 6, 5, 3, 1, 4, 1, 5, 9, 2, 6, 5, 3, 1, 4, 1, 5, 9, 2, 6, 5, 3, 1, 4, 1, 5, 9, 2, 6, 5, 3, 1, 4, 1, 5, 9, 2, 6, 5, 3, 1, 4, 1, 5, 9, 2, 6, 5, 3, 1, 4, 1, 5, 9, 2, 6, 5, 3, 1, 4, 1, 5, 9, 2, 6, 5, 3, 1, 4, 1, 5, 9, 2, 6, 5, 3, 1, 4, 1, 5, 9, 2, 6, 5, 3, 1, 4, 1, 5, 9, 2, 6, 5, 3, 1, 4, 1, 5, 9, 2, 6, 5, 3, 1, 4, 1, 5, 9, 2, 6, 5, 3, 1, 4, 1, 5, 9, 2, 6, 5, 3, 1, 4, 1, 5, 9, 2, 6, 5, 3, 1, 4, 1, 5, 9, 2, 6, 5, 3, 1, 4, 1, 5, 9, 2, 6, 5, 3, 1, 4, 1, 5, 9, 2, 6, 5, 3, 1, 4, 1, 5, 9, 2, 6, 5, 3, 1, 4, 1, 5, 9, 2, 6, 5, 3, 1, 4, 1, 5, 9, 2, 6, 5, 3, 1, 4, 1, 5, 9, 2, 6, 5, 3, 1, 4, 1, 5, 9, 2, 6, 5, 3, 1, 4, 1, 5, 9, 2, 6, 5, 3, 1, 4, 1, 5, 9, 2, 6, 5, 3, 1, 4, 1, 5, 9, 2, 6, 5, 3, 1, 4, 1, 5, 9, 2, 6, 5, 3, 1, 4, 1, 5, 9, 2, 6, 5, 3, 1, 4, 1, 5, 9, 2, 6, 5, 3, 1, 4, 1, 5, 9, 2, 6, 5, 3, 1, 4, 1, 5, 9, 2, 6, 5, 3, 1, 4, 1, 5, 9, 2, 6, 5, 3, 1, 4, 1, 5, 9, 2, 6, 5, 3, 1, 4, 1, 5, 9, 2, 6, 5, 3, 1, 4, 1, 5, 9, 2, 6, 5, 3, 1, 4, 1, 5, 9, 2, 6, 5, 3, 1, 4, 1, 5, 9, 2, 6, 5, 3, 1, 4, 1, 5, 9, 2, 6, 5, 3, 1, 4, 1, 5, 9, 2, 6, 5, 3, 1, 4, 1, 5, 9, 2, 6, 5, 3, 1, 4, 1, 5, 9, 2, 6, 5, 3, 1, 4, 1, 5, 9, 2, 6, 5, 3, 1, 4, 1, 5, 9, 2, 6, 5, 3, 1, 4, 1, 5, 9, 2, 6, 5, 3, 1, 4, 1, 5, 9, 2, 6, 5, 3, 1, 4, 1, 5, 9, 2, 6, 5, 3, 1, 4, 1, 5, 9, 2, 6, 5, 3, 1, 4, 1, 5, 9, 2, 6, 5, 3, 1, 4, 1, 5, 9, 2, 6, 5, 3, 1, 4, 1, 5, 9, 2, 6, 5, 3, 1, 4, 1, 5, 9, 2, 6, 5, 3, 1, 4, 1, 5, 9, 2, 6, 5, 3, 1, 4, 1, 5, 9, 2, 6, 5, 3, 1, 4, 1, 5, 9, 2, 6, 5, 3, 1, 4, 1, 5, 9, 2, 6, 5, 3, 1, 4, 1, 5, 9, 2, 6, 5, 3, 1, 4, 1, 5, 9, 2, 6, 5, 3, 1, 4, 1, 5, 9, 2, 6, 5, 3, 1, 4, 1, 5, 9, 2, 6, 5, 3, 1, 4, 1, 5, 9, 2, 6, 5, 3, 1, 4, 1, 5, 9, 2, 6, 5, 3, 1, 4, 1, 5, 9, 2, 6, 5, 3, 1, 4, 1, 5, 9, 2, 6, 5, 3, 1, 4, 1, 5, 9, 2, 6, 5, 3, 1, 4, 1, 5, 9, 2, 6, 5, 3, 1, 4, 1, 5, 9, 2, 6, 5, 3, 1, 4, 1, 5, 9, 2, 6, 5, 3, 1, 4, 1, 5, 9, 2, 6, 5, 3, 1, 4, 1, 5, 9, 2, 6, 5, 3, 1, 4, 1, 5, 9, 2, 6, 5, 3, 1, 4, 1, 5, 9, 2, 6, 5, 3, 1, 4, 1, 5, 9, 2, 6, 5, 3, 1, 4, 1, 5, 9, 2, 6, 5, 3, 1, 4, 1, 5, 9, 2, 6, 5, 3, 1, 4, 1, 5, 9, 2, 6, 5, 3, 1, 4, 1, 5, 9, 2, 6, 5, 3, 1, 4, 1, 5, 9, 2, 6, 5, 3, 1, 4, 1, 5, 9, 2, 6, 5, 3, 1, 4, 1, 5, 9, 2, 6, 5, 3, 1, 4, 1, 5, 9, 2, 6, 5, 3, 1, 4, 1, 5, 9, 2, 6, 5, 3, 1, 4, 1, 5, 9, 2, 6, 5, 3, 1, 4, 1, 5, 9, 2, 6, 5, 3, 1, 4, 1, 5, 9, 2, 6, 5, 3, 1, 4, 1, 5, 9, 2, 6, 5, 3, 1, 4, 1, 5, 9, 2, 6, 5, 3, 1, 4, 1, 5, 9, 2, 6, 5, 3, 1, 4, 1, 5, 9, 2, 6, 5, 3, 1, 4, 1, 5, 9, 2, 6, 5, 3, 1, 4, 1, 5, 9, 2, 6, 5, 3, 1, 4, 1, 5, 9, 2, 6, 5, 3, 1, 4, 1, 5, 9, 2, 6, 5, 3, 1, 4, 1, 5, 9, 2, 6, 5, 3, 1, 4, 1, 5, 9, 2, 6, 5],), {} took 0.045540999999502674 seconds.\n",
      "\n",
      "Selection Sort:\n",
      "Function selection_sort called with ([3, 1, 4, 1, 5, 9, 2, 6, 5, 3, 1, 4, 1, 5, 9, 2, 6, 5, 3, 1, 4, 1, 5, 9, 2, 6, 5, 3, 1, 4, 1, 5, 9, 2, 6, 5, 3, 1, 4, 1, 5, 9, 2, 6, 5, 3, 1, 4, 1, 5, 9, 2, 6, 5, 3, 1, 4, 1, 5, 9, 2, 6, 5, 3, 1, 4, 1, 5, 9, 2, 6, 5, 3, 1, 4, 1, 5, 9, 2, 6, 5, 3, 1, 4, 1, 5, 9, 2, 6, 5, 3, 1, 4, 1, 5, 9, 2, 6, 5, 3, 1, 4, 1, 5, 9, 2, 6, 5, 3, 1, 4, 1, 5, 9, 2, 6, 5, 3, 1, 4, 1, 5, 9, 2, 6, 5, 3, 1, 4, 1, 5, 9, 2, 6, 5, 3, 1, 4, 1, 5, 9, 2, 6, 5, 3, 1, 4, 1, 5, 9, 2, 6, 5, 3, 1, 4, 1, 5, 9, 2, 6, 5, 3, 1, 4, 1, 5, 9, 2, 6, 5, 3, 1, 4, 1, 5, 9, 2, 6, 5, 3, 1, 4, 1, 5, 9, 2, 6, 5, 3, 1, 4, 1, 5, 9, 2, 6, 5, 3, 1, 4, 1, 5, 9, 2, 6, 5, 3, 1, 4, 1, 5, 9, 2, 6, 5, 3, 1, 4, 1, 5, 9, 2, 6, 5, 3, 1, 4, 1, 5, 9, 2, 6, 5, 3, 1, 4, 1, 5, 9, 2, 6, 5, 3, 1, 4, 1, 5, 9, 2, 6, 5, 3, 1, 4, 1, 5, 9, 2, 6, 5, 3, 1, 4, 1, 5, 9, 2, 6, 5, 3, 1, 4, 1, 5, 9, 2, 6, 5, 3, 1, 4, 1, 5, 9, 2, 6, 5, 3, 1, 4, 1, 5, 9, 2, 6, 5, 3, 1, 4, 1, 5, 9, 2, 6, 5, 3, 1, 4, 1, 5, 9, 2, 6, 5, 3, 1, 4, 1, 5, 9, 2, 6, 5, 3, 1, 4, 1, 5, 9, 2, 6, 5, 3, 1, 4, 1, 5, 9, 2, 6, 5, 3, 1, 4, 1, 5, 9, 2, 6, 5, 3, 1, 4, 1, 5, 9, 2, 6, 5, 3, 1, 4, 1, 5, 9, 2, 6, 5, 3, 1, 4, 1, 5, 9, 2, 6, 5, 3, 1, 4, 1, 5, 9, 2, 6, 5, 3, 1, 4, 1, 5, 9, 2, 6, 5, 3, 1, 4, 1, 5, 9, 2, 6, 5, 3, 1, 4, 1, 5, 9, 2, 6, 5, 3, 1, 4, 1, 5, 9, 2, 6, 5, 3, 1, 4, 1, 5, 9, 2, 6, 5, 3, 1, 4, 1, 5, 9, 2, 6, 5, 3, 1, 4, 1, 5, 9, 2, 6, 5, 3, 1, 4, 1, 5, 9, 2, 6, 5, 3, 1, 4, 1, 5, 9, 2, 6, 5, 3, 1, 4, 1, 5, 9, 2, 6, 5, 3, 1, 4, 1, 5, 9, 2, 6, 5, 3, 1, 4, 1, 5, 9, 2, 6, 5, 3, 1, 4, 1, 5, 9, 2, 6, 5, 3, 1, 4, 1, 5, 9, 2, 6, 5, 3, 1, 4, 1, 5, 9, 2, 6, 5, 3, 1, 4, 1, 5, 9, 2, 6, 5, 3, 1, 4, 1, 5, 9, 2, 6, 5, 3, 1, 4, 1, 5, 9, 2, 6, 5, 3, 1, 4, 1, 5, 9, 2, 6, 5, 3, 1, 4, 1, 5, 9, 2, 6, 5, 3, 1, 4, 1, 5, 9, 2, 6, 5, 3, 1, 4, 1, 5, 9, 2, 6, 5, 3, 1, 4, 1, 5, 9, 2, 6, 5, 3, 1, 4, 1, 5, 9, 2, 6, 5, 3, 1, 4, 1, 5, 9, 2, 6, 5, 3, 1, 4, 1, 5, 9, 2, 6, 5, 3, 1, 4, 1, 5, 9, 2, 6, 5, 3, 1, 4, 1, 5, 9, 2, 6, 5, 3, 1, 4, 1, 5, 9, 2, 6, 5, 3, 1, 4, 1, 5, 9, 2, 6, 5, 3, 1, 4, 1, 5, 9, 2, 6, 5, 3, 1, 4, 1, 5, 9, 2, 6, 5, 3, 1, 4, 1, 5, 9, 2, 6, 5, 3, 1, 4, 1, 5, 9, 2, 6, 5, 3, 1, 4, 1, 5, 9, 2, 6, 5, 3, 1, 4, 1, 5, 9, 2, 6, 5, 3, 1, 4, 1, 5, 9, 2, 6, 5, 3, 1, 4, 1, 5, 9, 2, 6, 5, 3, 1, 4, 1, 5, 9, 2, 6, 5, 3, 1, 4, 1, 5, 9, 2, 6, 5, 3, 1, 4, 1, 5, 9, 2, 6, 5, 3, 1, 4, 1, 5, 9, 2, 6, 5, 3, 1, 4, 1, 5, 9, 2, 6, 5, 3, 1, 4, 1, 5, 9, 2, 6, 5, 3, 1, 4, 1, 5, 9, 2, 6, 5, 3, 1, 4, 1, 5, 9, 2, 6, 5, 3, 1, 4, 1, 5, 9, 2, 6, 5, 3, 1, 4, 1, 5, 9, 2, 6, 5, 3, 1, 4, 1, 5, 9, 2, 6, 5, 3, 1, 4, 1, 5, 9, 2, 6, 5, 3, 1, 4, 1, 5, 9, 2, 6, 5, 3, 1, 4, 1, 5, 9, 2, 6, 5, 3, 1, 4, 1, 5, 9, 2, 6, 5, 3, 1, 4, 1, 5, 9, 2, 6, 5, 3, 1, 4, 1, 5, 9, 2, 6, 5, 3, 1, 4, 1, 5, 9, 2, 6, 5, 3, 1, 4, 1, 5, 9, 2, 6, 5],), {} took 0.0627652000002854 seconds.\n",
      "\n",
      "----------------------------------------------------------------------------------------------------\n",
      "\n",
      "Test Case 5: [-3, 1, -4, 0, 2, -1, -3, 1, -4, 0, 2, -1, -3, 1, -4, 0, 2, -1, -3, 1, -4, 0, 2, -1, -3, 1, -4, 0, 2, -1, -3, 1, -4, 0, 2, -1, -3, 1, -4, 0, 2, -1, -3, 1, -4, 0, 2, -1, -3, 1, -4, 0, 2, -1, -3, 1, -4, 0, 2, -1, -3, 1, -4, 0, 2, -1, -3, 1, -4, 0, 2, -1, -3, 1, -4, 0, 2, -1, -3, 1, -4, 0, 2, -1, -3, 1, -4, 0, 2, -1, -3, 1, -4, 0, 2, -1, -3, 1, -4, 0, 2, -1, -3, 1, -4, 0, 2, -1, -3, 1, -4, 0, 2, -1, -3, 1, -4, 0, 2, -1, -3, 1, -4, 0, 2, -1, -3, 1, -4, 0, 2, -1, -3, 1, -4, 0, 2, -1, -3, 1, -4, 0, 2, -1, -3, 1, -4, 0, 2, -1, -3, 1, -4, 0, 2, -1, -3, 1, -4, 0, 2, -1, -3, 1, -4, 0, 2, -1, -3, 1, -4, 0, 2, -1, -3, 1, -4, 0, 2, -1, -3, 1, -4, 0, 2, -1, -3, 1, -4, 0, 2, -1, -3, 1, -4, 0, 2, -1, -3, 1, -4, 0, 2, -1, -3, 1, -4, 0, 2, -1, -3, 1, -4, 0, 2, -1, -3, 1, -4, 0, 2, -1, -3, 1, -4, 0, 2, -1, -3, 1, -4, 0, 2, -1, -3, 1, -4, 0, 2, -1, -3, 1, -4, 0, 2, -1, -3, 1, -4, 0, 2, -1, -3, 1, -4, 0, 2, -1, -3, 1, -4, 0, 2, -1, -3, 1, -4, 0, 2, -1, -3, 1, -4, 0, 2, -1, -3, 1, -4, 0, 2, -1, -3, 1, -4, 0, 2, -1, -3, 1, -4, 0, 2, -1, -3, 1, -4, 0, 2, -1, -3, 1, -4, 0, 2, -1, -3, 1, -4, 0, 2, -1, -3, 1, -4, 0, 2, -1, -3, 1, -4, 0, 2, -1, -3, 1, -4, 0, 2, -1, -3, 1, -4, 0, 2, -1, -3, 1, -4, 0, 2, -1, -3, 1, -4, 0, 2, -1, -3, 1, -4, 0, 2, -1, -3, 1, -4, 0, 2, -1, -3, 1, -4, 0, 2, -1, -3, 1, -4, 0, 2, -1, -3, 1, -4, 0, 2, -1, -3, 1, -4, 0, 2, -1, -3, 1, -4, 0, 2, -1, -3, 1, -4, 0, 2, -1, -3, 1, -4, 0, 2, -1, -3, 1, -4, 0, 2, -1, -3, 1, -4, 0, 2, -1, -3, 1, -4, 0, 2, -1, -3, 1, -4, 0, 2, -1, -3, 1, -4, 0, 2, -1, -3, 1, -4, 0, 2, -1, -3, 1, -4, 0, 2, -1, -3, 1, -4, 0, 2, -1, -3, 1, -4, 0, 2, -1, -3, 1, -4, 0, 2, -1, -3, 1, -4, 0, 2, -1, -3, 1, -4, 0, 2, -1, -3, 1, -4, 0, 2, -1, -3, 1, -4, 0, 2, -1, -3, 1, -4, 0, 2, -1, -3, 1, -4, 0, 2, -1, -3, 1, -4, 0, 2, -1, -3, 1, -4, 0, 2, -1, -3, 1, -4, 0, 2, -1, -3, 1, -4, 0, 2, -1, -3, 1, -4, 0, 2, -1, -3, 1, -4, 0, 2, -1, -3, 1, -4, 0, 2, -1, -3, 1, -4, 0, 2, -1, -3, 1, -4, 0, 2, -1, -3, 1, -4, 0, 2, -1, -3, 1, -4, 0, 2, -1, -3, 1, -4, 0, 2, -1, -3, 1, -4, 0, 2, -1, -3, 1, -4, 0, 2, -1, -3, 1, -4, 0, 2, -1, -3, 1, -4, 0, 2, -1, -3, 1, -4, 0, 2, -1]\n",
      "\n",
      "Bubble Sort:\n",
      "Function bubble_sort called with ([-3, 1, -4, 0, 2, -1, -3, 1, -4, 0, 2, -1, -3, 1, -4, 0, 2, -1, -3, 1, -4, 0, 2, -1, -3, 1, -4, 0, 2, -1, -3, 1, -4, 0, 2, -1, -3, 1, -4, 0, 2, -1, -3, 1, -4, 0, 2, -1, -3, 1, -4, 0, 2, -1, -3, 1, -4, 0, 2, -1, -3, 1, -4, 0, 2, -1, -3, 1, -4, 0, 2, -1, -3, 1, -4, 0, 2, -1, -3, 1, -4, 0, 2, -1, -3, 1, -4, 0, 2, -1, -3, 1, -4, 0, 2, -1, -3, 1, -4, 0, 2, -1, -3, 1, -4, 0, 2, -1, -3, 1, -4, 0, 2, -1, -3, 1, -4, 0, 2, -1, -3, 1, -4, 0, 2, -1, -3, 1, -4, 0, 2, -1, -3, 1, -4, 0, 2, -1, -3, 1, -4, 0, 2, -1, -3, 1, -4, 0, 2, -1, -3, 1, -4, 0, 2, -1, -3, 1, -4, 0, 2, -1, -3, 1, -4, 0, 2, -1, -3, 1, -4, 0, 2, -1, -3, 1, -4, 0, 2, -1, -3, 1, -4, 0, 2, -1, -3, 1, -4, 0, 2, -1, -3, 1, -4, 0, 2, -1, -3, 1, -4, 0, 2, -1, -3, 1, -4, 0, 2, -1, -3, 1, -4, 0, 2, -1, -3, 1, -4, 0, 2, -1, -3, 1, -4, 0, 2, -1, -3, 1, -4, 0, 2, -1, -3, 1, -4, 0, 2, -1, -3, 1, -4, 0, 2, -1, -3, 1, -4, 0, 2, -1, -3, 1, -4, 0, 2, -1, -3, 1, -4, 0, 2, -1, -3, 1, -4, 0, 2, -1, -3, 1, -4, 0, 2, -1, -3, 1, -4, 0, 2, -1, -3, 1, -4, 0, 2, -1, -3, 1, -4, 0, 2, -1, -3, 1, -4, 0, 2, -1, -3, 1, -4, 0, 2, -1, -3, 1, -4, 0, 2, -1, -3, 1, -4, 0, 2, -1, -3, 1, -4, 0, 2, -1, -3, 1, -4, 0, 2, -1, -3, 1, -4, 0, 2, -1, -3, 1, -4, 0, 2, -1, -3, 1, -4, 0, 2, -1, -3, 1, -4, 0, 2, -1, -3, 1, -4, 0, 2, -1, -3, 1, -4, 0, 2, -1, -3, 1, -4, 0, 2, -1, -3, 1, -4, 0, 2, -1, -3, 1, -4, 0, 2, -1, -3, 1, -4, 0, 2, -1, -3, 1, -4, 0, 2, -1, -3, 1, -4, 0, 2, -1, -3, 1, -4, 0, 2, -1, -3, 1, -4, 0, 2, -1, -3, 1, -4, 0, 2, -1, -3, 1, -4, 0, 2, -1, -3, 1, -4, 0, 2, -1, -3, 1, -4, 0, 2, -1, -3, 1, -4, 0, 2, -1, -3, 1, -4, 0, 2, -1, -3, 1, -4, 0, 2, -1, -3, 1, -4, 0, 2, -1, -3, 1, -4, 0, 2, -1, -3, 1, -4, 0, 2, -1, -3, 1, -4, 0, 2, -1, -3, 1, -4, 0, 2, -1, -3, 1, -4, 0, 2, -1, -3, 1, -4, 0, 2, -1, -3, 1, -4, 0, 2, -1, -3, 1, -4, 0, 2, -1, -3, 1, -4, 0, 2, -1, -3, 1, -4, 0, 2, -1, -3, 1, -4, 0, 2, -1, -3, 1, -4, 0, 2, -1, -3, 1, -4, 0, 2, -1, -3, 1, -4, 0, 2, -1, -3, 1, -4, 0, 2, -1, -3, 1, -4, 0, 2, -1, -3, 1, -4, 0, 2, -1, -3, 1, -4, 0, 2, -1, -3, 1, -4, 0, 2, -1, -3, 1, -4, 0, 2, -1, -3, 1, -4, 0, 2, -1, -3, 1, -4, 0, 2, -1, -3, 1, -4, 0, 2, -1],), {} took 0.04475380000076257 seconds.\n",
      "\n",
      "Insertion Sort:\n",
      "Function insertion_sort called with ([-3, 1, -4, 0, 2, -1, -3, 1, -4, 0, 2, -1, -3, 1, -4, 0, 2, -1, -3, 1, -4, 0, 2, -1, -3, 1, -4, 0, 2, -1, -3, 1, -4, 0, 2, -1, -3, 1, -4, 0, 2, -1, -3, 1, -4, 0, 2, -1, -3, 1, -4, 0, 2, -1, -3, 1, -4, 0, 2, -1, -3, 1, -4, 0, 2, -1, -3, 1, -4, 0, 2, -1, -3, 1, -4, 0, 2, -1, -3, 1, -4, 0, 2, -1, -3, 1, -4, 0, 2, -1, -3, 1, -4, 0, 2, -1, -3, 1, -4, 0, 2, -1, -3, 1, -4, 0, 2, -1, -3, 1, -4, 0, 2, -1, -3, 1, -4, 0, 2, -1, -3, 1, -4, 0, 2, -1, -3, 1, -4, 0, 2, -1, -3, 1, -4, 0, 2, -1, -3, 1, -4, 0, 2, -1, -3, 1, -4, 0, 2, -1, -3, 1, -4, 0, 2, -1, -3, 1, -4, 0, 2, -1, -3, 1, -4, 0, 2, -1, -3, 1, -4, 0, 2, -1, -3, 1, -4, 0, 2, -1, -3, 1, -4, 0, 2, -1, -3, 1, -4, 0, 2, -1, -3, 1, -4, 0, 2, -1, -3, 1, -4, 0, 2, -1, -3, 1, -4, 0, 2, -1, -3, 1, -4, 0, 2, -1, -3, 1, -4, 0, 2, -1, -3, 1, -4, 0, 2, -1, -3, 1, -4, 0, 2, -1, -3, 1, -4, 0, 2, -1, -3, 1, -4, 0, 2, -1, -3, 1, -4, 0, 2, -1, -3, 1, -4, 0, 2, -1, -3, 1, -4, 0, 2, -1, -3, 1, -4, 0, 2, -1, -3, 1, -4, 0, 2, -1, -3, 1, -4, 0, 2, -1, -3, 1, -4, 0, 2, -1, -3, 1, -4, 0, 2, -1, -3, 1, -4, 0, 2, -1, -3, 1, -4, 0, 2, -1, -3, 1, -4, 0, 2, -1, -3, 1, -4, 0, 2, -1, -3, 1, -4, 0, 2, -1, -3, 1, -4, 0, 2, -1, -3, 1, -4, 0, 2, -1, -3, 1, -4, 0, 2, -1, -3, 1, -4, 0, 2, -1, -3, 1, -4, 0, 2, -1, -3, 1, -4, 0, 2, -1, -3, 1, -4, 0, 2, -1, -3, 1, -4, 0, 2, -1, -3, 1, -4, 0, 2, -1, -3, 1, -4, 0, 2, -1, -3, 1, -4, 0, 2, -1, -3, 1, -4, 0, 2, -1, -3, 1, -4, 0, 2, -1, -3, 1, -4, 0, 2, -1, -3, 1, -4, 0, 2, -1, -3, 1, -4, 0, 2, -1, -3, 1, -4, 0, 2, -1, -3, 1, -4, 0, 2, -1, -3, 1, -4, 0, 2, -1, -3, 1, -4, 0, 2, -1, -3, 1, -4, 0, 2, -1, -3, 1, -4, 0, 2, -1, -3, 1, -4, 0, 2, -1, -3, 1, -4, 0, 2, -1, -3, 1, -4, 0, 2, -1, -3, 1, -4, 0, 2, -1, -3, 1, -4, 0, 2, -1, -3, 1, -4, 0, 2, -1, -3, 1, -4, 0, 2, -1, -3, 1, -4, 0, 2, -1, -3, 1, -4, 0, 2, -1, -3, 1, -4, 0, 2, -1, -3, 1, -4, 0, 2, -1, -3, 1, -4, 0, 2, -1, -3, 1, -4, 0, 2, -1, -3, 1, -4, 0, 2, -1, -3, 1, -4, 0, 2, -1, -3, 1, -4, 0, 2, -1, -3, 1, -4, 0, 2, -1, -3, 1, -4, 0, 2, -1, -3, 1, -4, 0, 2, -1, -3, 1, -4, 0, 2, -1, -3, 1, -4, 0, 2, -1, -3, 1, -4, 0, 2, -1, -3, 1, -4, 0, 2, -1, -3, 1, -4, 0, 2, -1],), {} took 0.017972400000871858 seconds.\n",
      "\n",
      "Selection Sort:\n",
      "Function selection_sort called with ([-3, 1, -4, 0, 2, -1, -3, 1, -4, 0, 2, -1, -3, 1, -4, 0, 2, -1, -3, 1, -4, 0, 2, -1, -3, 1, -4, 0, 2, -1, -3, 1, -4, 0, 2, -1, -3, 1, -4, 0, 2, -1, -3, 1, -4, 0, 2, -1, -3, 1, -4, 0, 2, -1, -3, 1, -4, 0, 2, -1, -3, 1, -4, 0, 2, -1, -3, 1, -4, 0, 2, -1, -3, 1, -4, 0, 2, -1, -3, 1, -4, 0, 2, -1, -3, 1, -4, 0, 2, -1, -3, 1, -4, 0, 2, -1, -3, 1, -4, 0, 2, -1, -3, 1, -4, 0, 2, -1, -3, 1, -4, 0, 2, -1, -3, 1, -4, 0, 2, -1, -3, 1, -4, 0, 2, -1, -3, 1, -4, 0, 2, -1, -3, 1, -4, 0, 2, -1, -3, 1, -4, 0, 2, -1, -3, 1, -4, 0, 2, -1, -3, 1, -4, 0, 2, -1, -3, 1, -4, 0, 2, -1, -3, 1, -4, 0, 2, -1, -3, 1, -4, 0, 2, -1, -3, 1, -4, 0, 2, -1, -3, 1, -4, 0, 2, -1, -3, 1, -4, 0, 2, -1, -3, 1, -4, 0, 2, -1, -3, 1, -4, 0, 2, -1, -3, 1, -4, 0, 2, -1, -3, 1, -4, 0, 2, -1, -3, 1, -4, 0, 2, -1, -3, 1, -4, 0, 2, -1, -3, 1, -4, 0, 2, -1, -3, 1, -4, 0, 2, -1, -3, 1, -4, 0, 2, -1, -3, 1, -4, 0, 2, -1, -3, 1, -4, 0, 2, -1, -3, 1, -4, 0, 2, -1, -3, 1, -4, 0, 2, -1, -3, 1, -4, 0, 2, -1, -3, 1, -4, 0, 2, -1, -3, 1, -4, 0, 2, -1, -3, 1, -4, 0, 2, -1, -3, 1, -4, 0, 2, -1, -3, 1, -4, 0, 2, -1, -3, 1, -4, 0, 2, -1, -3, 1, -4, 0, 2, -1, -3, 1, -4, 0, 2, -1, -3, 1, -4, 0, 2, -1, -3, 1, -4, 0, 2, -1, -3, 1, -4, 0, 2, -1, -3, 1, -4, 0, 2, -1, -3, 1, -4, 0, 2, -1, -3, 1, -4, 0, 2, -1, -3, 1, -4, 0, 2, -1, -3, 1, -4, 0, 2, -1, -3, 1, -4, 0, 2, -1, -3, 1, -4, 0, 2, -1, -3, 1, -4, 0, 2, -1, -3, 1, -4, 0, 2, -1, -3, 1, -4, 0, 2, -1, -3, 1, -4, 0, 2, -1, -3, 1, -4, 0, 2, -1, -3, 1, -4, 0, 2, -1, -3, 1, -4, 0, 2, -1, -3, 1, -4, 0, 2, -1, -3, 1, -4, 0, 2, -1, -3, 1, -4, 0, 2, -1, -3, 1, -4, 0, 2, -1, -3, 1, -4, 0, 2, -1, -3, 1, -4, 0, 2, -1, -3, 1, -4, 0, 2, -1, -3, 1, -4, 0, 2, -1, -3, 1, -4, 0, 2, -1, -3, 1, -4, 0, 2, -1, -3, 1, -4, 0, 2, -1, -3, 1, -4, 0, 2, -1, -3, 1, -4, 0, 2, -1, -3, 1, -4, 0, 2, -1, -3, 1, -4, 0, 2, -1, -3, 1, -4, 0, 2, -1, -3, 1, -4, 0, 2, -1, -3, 1, -4, 0, 2, -1, -3, 1, -4, 0, 2, -1, -3, 1, -4, 0, 2, -1, -3, 1, -4, 0, 2, -1, -3, 1, -4, 0, 2, -1, -3, 1, -4, 0, 2, -1, -3, 1, -4, 0, 2, -1, -3, 1, -4, 0, 2, -1, -3, 1, -4, 0, 2, -1, -3, 1, -4, 0, 2, -1, -3, 1, -4, 0, 2, -1, -3, 1, -4, 0, 2, -1],), {} took 0.0240352000000712 seconds.\n",
      "\n",
      "----------------------------------------------------------------------------------------------------\n",
      "\n",
      "Test Case 6: [3, 0, -2, 1, 5, 0, 4, 3, 0, -2, 1, 5, 0, 4, 3, 0, -2, 1, 5, 0, 4, 3, 0, -2, 1, 5, 0, 4, 3, 0, -2, 1, 5, 0, 4, 3, 0, -2, 1, 5, 0, 4, 3, 0, -2, 1, 5, 0, 4, 3, 0, -2, 1, 5, 0, 4, 3, 0, -2, 1, 5, 0, 4, 3, 0, -2, 1, 5, 0, 4, 3, 0, -2, 1, 5, 0, 4, 3, 0, -2, 1, 5, 0, 4, 3, 0, -2, 1, 5, 0, 4, 3, 0, -2, 1, 5, 0, 4, 3, 0, -2, 1, 5, 0, 4, 3, 0, -2, 1, 5, 0, 4, 3, 0, -2, 1, 5, 0, 4, 3, 0, -2, 1, 5, 0, 4, 3, 0, -2, 1, 5, 0, 4, 3, 0, -2, 1, 5, 0, 4, 3, 0, -2, 1, 5, 0, 4, 3, 0, -2, 1, 5, 0, 4, 3, 0, -2, 1, 5, 0, 4, 3, 0, -2, 1, 5, 0, 4, 3, 0, -2, 1, 5, 0, 4, 3, 0, -2, 1, 5, 0, 4, 3, 0, -2, 1, 5, 0, 4, 3, 0, -2, 1, 5, 0, 4, 3, 0, -2, 1, 5, 0, 4, 3, 0, -2, 1, 5, 0, 4, 3, 0, -2, 1, 5, 0, 4, 3, 0, -2, 1, 5, 0, 4, 3, 0, -2, 1, 5, 0, 4, 3, 0, -2, 1, 5, 0, 4, 3, 0, -2, 1, 5, 0, 4, 3, 0, -2, 1, 5, 0, 4, 3, 0, -2, 1, 5, 0, 4, 3, 0, -2, 1, 5, 0, 4, 3, 0, -2, 1, 5, 0, 4, 3, 0, -2, 1, 5, 0, 4, 3, 0, -2, 1, 5, 0, 4, 3, 0, -2, 1, 5, 0, 4, 3, 0, -2, 1, 5, 0, 4, 3, 0, -2, 1, 5, 0, 4, 3, 0, -2, 1, 5, 0, 4, 3, 0, -2, 1, 5, 0, 4, 3, 0, -2, 1, 5, 0, 4, 3, 0, -2, 1, 5, 0, 4, 3, 0, -2, 1, 5, 0, 4, 3, 0, -2, 1, 5, 0, 4, 3, 0, -2, 1, 5, 0, 4, 3, 0, -2, 1, 5, 0, 4, 3, 0, -2, 1, 5, 0, 4, 3, 0, -2, 1, 5, 0, 4, 3, 0, -2, 1, 5, 0, 4, 3, 0, -2, 1, 5, 0, 4, 3, 0, -2, 1, 5, 0, 4, 3, 0, -2, 1, 5, 0, 4, 3, 0, -2, 1, 5, 0, 4, 3, 0, -2, 1, 5, 0, 4, 3, 0, -2, 1, 5, 0, 4, 3, 0, -2, 1, 5, 0, 4, 3, 0, -2, 1, 5, 0, 4, 3, 0, -2, 1, 5, 0, 4, 3, 0, -2, 1, 5, 0, 4, 3, 0, -2, 1, 5, 0, 4, 3, 0, -2, 1, 5, 0, 4, 3, 0, -2, 1, 5, 0, 4, 3, 0, -2, 1, 5, 0, 4, 3, 0, -2, 1, 5, 0, 4, 3, 0, -2, 1, 5, 0, 4, 3, 0, -2, 1, 5, 0, 4, 3, 0, -2, 1, 5, 0, 4, 3, 0, -2, 1, 5, 0, 4, 3, 0, -2, 1, 5, 0, 4, 3, 0, -2, 1, 5, 0, 4, 3, 0, -2, 1, 5, 0, 4, 3, 0, -2, 1, 5, 0, 4, 3, 0, -2, 1, 5, 0, 4, 3, 0, -2, 1, 5, 0, 4, 3, 0, -2, 1, 5, 0, 4, 3, 0, -2, 1, 5, 0, 4, 3, 0, -2, 1, 5, 0, 4, 3, 0, -2, 1, 5, 0, 4, 3, 0, -2, 1, 5, 0, 4, 3, 0, -2, 1, 5, 0, 4, 3, 0, -2, 1, 5, 0, 4, 3, 0, -2, 1, 5, 0, 4, 3, 0, -2, 1, 5, 0, 4, 3, 0, -2, 1, 5, 0, 4, 3, 0, -2, 1, 5, 0, 4, 3, 0, -2, 1, 5, 0, 4, 3, 0, -2, 1, 5, 0, 4, 3, 0, -2, 1, 5, 0, 4, 3, 0, -2, 1, 5, 0, 4, 3, 0, -2, 1, 5, 0, 4, 3, 0, -2, 1, 5, 0, 4, 3, 0, -2, 1, 5, 0, 4, 3, 0, -2, 1, 5, 0, 4, 3, 0, -2, 1, 5, 0, 4]\n",
      "\n",
      "Bubble Sort:\n",
      "Function bubble_sort called with ([3, 0, -2, 1, 5, 0, 4, 3, 0, -2, 1, 5, 0, 4, 3, 0, -2, 1, 5, 0, 4, 3, 0, -2, 1, 5, 0, 4, 3, 0, -2, 1, 5, 0, 4, 3, 0, -2, 1, 5, 0, 4, 3, 0, -2, 1, 5, 0, 4, 3, 0, -2, 1, 5, 0, 4, 3, 0, -2, 1, 5, 0, 4, 3, 0, -2, 1, 5, 0, 4, 3, 0, -2, 1, 5, 0, 4, 3, 0, -2, 1, 5, 0, 4, 3, 0, -2, 1, 5, 0, 4, 3, 0, -2, 1, 5, 0, 4, 3, 0, -2, 1, 5, 0, 4, 3, 0, -2, 1, 5, 0, 4, 3, 0, -2, 1, 5, 0, 4, 3, 0, -2, 1, 5, 0, 4, 3, 0, -2, 1, 5, 0, 4, 3, 0, -2, 1, 5, 0, 4, 3, 0, -2, 1, 5, 0, 4, 3, 0, -2, 1, 5, 0, 4, 3, 0, -2, 1, 5, 0, 4, 3, 0, -2, 1, 5, 0, 4, 3, 0, -2, 1, 5, 0, 4, 3, 0, -2, 1, 5, 0, 4, 3, 0, -2, 1, 5, 0, 4, 3, 0, -2, 1, 5, 0, 4, 3, 0, -2, 1, 5, 0, 4, 3, 0, -2, 1, 5, 0, 4, 3, 0, -2, 1, 5, 0, 4, 3, 0, -2, 1, 5, 0, 4, 3, 0, -2, 1, 5, 0, 4, 3, 0, -2, 1, 5, 0, 4, 3, 0, -2, 1, 5, 0, 4, 3, 0, -2, 1, 5, 0, 4, 3, 0, -2, 1, 5, 0, 4, 3, 0, -2, 1, 5, 0, 4, 3, 0, -2, 1, 5, 0, 4, 3, 0, -2, 1, 5, 0, 4, 3, 0, -2, 1, 5, 0, 4, 3, 0, -2, 1, 5, 0, 4, 3, 0, -2, 1, 5, 0, 4, 3, 0, -2, 1, 5, 0, 4, 3, 0, -2, 1, 5, 0, 4, 3, 0, -2, 1, 5, 0, 4, 3, 0, -2, 1, 5, 0, 4, 3, 0, -2, 1, 5, 0, 4, 3, 0, -2, 1, 5, 0, 4, 3, 0, -2, 1, 5, 0, 4, 3, 0, -2, 1, 5, 0, 4, 3, 0, -2, 1, 5, 0, 4, 3, 0, -2, 1, 5, 0, 4, 3, 0, -2, 1, 5, 0, 4, 3, 0, -2, 1, 5, 0, 4, 3, 0, -2, 1, 5, 0, 4, 3, 0, -2, 1, 5, 0, 4, 3, 0, -2, 1, 5, 0, 4, 3, 0, -2, 1, 5, 0, 4, 3, 0, -2, 1, 5, 0, 4, 3, 0, -2, 1, 5, 0, 4, 3, 0, -2, 1, 5, 0, 4, 3, 0, -2, 1, 5, 0, 4, 3, 0, -2, 1, 5, 0, 4, 3, 0, -2, 1, 5, 0, 4, 3, 0, -2, 1, 5, 0, 4, 3, 0, -2, 1, 5, 0, 4, 3, 0, -2, 1, 5, 0, 4, 3, 0, -2, 1, 5, 0, 4, 3, 0, -2, 1, 5, 0, 4, 3, 0, -2, 1, 5, 0, 4, 3, 0, -2, 1, 5, 0, 4, 3, 0, -2, 1, 5, 0, 4, 3, 0, -2, 1, 5, 0, 4, 3, 0, -2, 1, 5, 0, 4, 3, 0, -2, 1, 5, 0, 4, 3, 0, -2, 1, 5, 0, 4, 3, 0, -2, 1, 5, 0, 4, 3, 0, -2, 1, 5, 0, 4, 3, 0, -2, 1, 5, 0, 4, 3, 0, -2, 1, 5, 0, 4, 3, 0, -2, 1, 5, 0, 4, 3, 0, -2, 1, 5, 0, 4, 3, 0, -2, 1, 5, 0, 4, 3, 0, -2, 1, 5, 0, 4, 3, 0, -2, 1, 5, 0, 4, 3, 0, -2, 1, 5, 0, 4, 3, 0, -2, 1, 5, 0, 4, 3, 0, -2, 1, 5, 0, 4, 3, 0, -2, 1, 5, 0, 4, 3, 0, -2, 1, 5, 0, 4, 3, 0, -2, 1, 5, 0, 4, 3, 0, -2, 1, 5, 0, 4, 3, 0, -2, 1, 5, 0, 4, 3, 0, -2, 1, 5, 0, 4, 3, 0, -2, 1, 5, 0, 4, 3, 0, -2, 1, 5, 0, 4, 3, 0, -2, 1, 5, 0, 4, 3, 0, -2, 1, 5, 0, 4, 3, 0, -2, 1, 5, 0, 4],), {} took 0.061641800002689706 seconds.\n",
      "\n",
      "Insertion Sort:\n",
      "Function insertion_sort called with ([3, 0, -2, 1, 5, 0, 4, 3, 0, -2, 1, 5, 0, 4, 3, 0, -2, 1, 5, 0, 4, 3, 0, -2, 1, 5, 0, 4, 3, 0, -2, 1, 5, 0, 4, 3, 0, -2, 1, 5, 0, 4, 3, 0, -2, 1, 5, 0, 4, 3, 0, -2, 1, 5, 0, 4, 3, 0, -2, 1, 5, 0, 4, 3, 0, -2, 1, 5, 0, 4, 3, 0, -2, 1, 5, 0, 4, 3, 0, -2, 1, 5, 0, 4, 3, 0, -2, 1, 5, 0, 4, 3, 0, -2, 1, 5, 0, 4, 3, 0, -2, 1, 5, 0, 4, 3, 0, -2, 1, 5, 0, 4, 3, 0, -2, 1, 5, 0, 4, 3, 0, -2, 1, 5, 0, 4, 3, 0, -2, 1, 5, 0, 4, 3, 0, -2, 1, 5, 0, 4, 3, 0, -2, 1, 5, 0, 4, 3, 0, -2, 1, 5, 0, 4, 3, 0, -2, 1, 5, 0, 4, 3, 0, -2, 1, 5, 0, 4, 3, 0, -2, 1, 5, 0, 4, 3, 0, -2, 1, 5, 0, 4, 3, 0, -2, 1, 5, 0, 4, 3, 0, -2, 1, 5, 0, 4, 3, 0, -2, 1, 5, 0, 4, 3, 0, -2, 1, 5, 0, 4, 3, 0, -2, 1, 5, 0, 4, 3, 0, -2, 1, 5, 0, 4, 3, 0, -2, 1, 5, 0, 4, 3, 0, -2, 1, 5, 0, 4, 3, 0, -2, 1, 5, 0, 4, 3, 0, -2, 1, 5, 0, 4, 3, 0, -2, 1, 5, 0, 4, 3, 0, -2, 1, 5, 0, 4, 3, 0, -2, 1, 5, 0, 4, 3, 0, -2, 1, 5, 0, 4, 3, 0, -2, 1, 5, 0, 4, 3, 0, -2, 1, 5, 0, 4, 3, 0, -2, 1, 5, 0, 4, 3, 0, -2, 1, 5, 0, 4, 3, 0, -2, 1, 5, 0, 4, 3, 0, -2, 1, 5, 0, 4, 3, 0, -2, 1, 5, 0, 4, 3, 0, -2, 1, 5, 0, 4, 3, 0, -2, 1, 5, 0, 4, 3, 0, -2, 1, 5, 0, 4, 3, 0, -2, 1, 5, 0, 4, 3, 0, -2, 1, 5, 0, 4, 3, 0, -2, 1, 5, 0, 4, 3, 0, -2, 1, 5, 0, 4, 3, 0, -2, 1, 5, 0, 4, 3, 0, -2, 1, 5, 0, 4, 3, 0, -2, 1, 5, 0, 4, 3, 0, -2, 1, 5, 0, 4, 3, 0, -2, 1, 5, 0, 4, 3, 0, -2, 1, 5, 0, 4, 3, 0, -2, 1, 5, 0, 4, 3, 0, -2, 1, 5, 0, 4, 3, 0, -2, 1, 5, 0, 4, 3, 0, -2, 1, 5, 0, 4, 3, 0, -2, 1, 5, 0, 4, 3, 0, -2, 1, 5, 0, 4, 3, 0, -2, 1, 5, 0, 4, 3, 0, -2, 1, 5, 0, 4, 3, 0, -2, 1, 5, 0, 4, 3, 0, -2, 1, 5, 0, 4, 3, 0, -2, 1, 5, 0, 4, 3, 0, -2, 1, 5, 0, 4, 3, 0, -2, 1, 5, 0, 4, 3, 0, -2, 1, 5, 0, 4, 3, 0, -2, 1, 5, 0, 4, 3, 0, -2, 1, 5, 0, 4, 3, 0, -2, 1, 5, 0, 4, 3, 0, -2, 1, 5, 0, 4, 3, 0, -2, 1, 5, 0, 4, 3, 0, -2, 1, 5, 0, 4, 3, 0, -2, 1, 5, 0, 4, 3, 0, -2, 1, 5, 0, 4, 3, 0, -2, 1, 5, 0, 4, 3, 0, -2, 1, 5, 0, 4, 3, 0, -2, 1, 5, 0, 4, 3, 0, -2, 1, 5, 0, 4, 3, 0, -2, 1, 5, 0, 4, 3, 0, -2, 1, 5, 0, 4, 3, 0, -2, 1, 5, 0, 4, 3, 0, -2, 1, 5, 0, 4, 3, 0, -2, 1, 5, 0, 4, 3, 0, -2, 1, 5, 0, 4, 3, 0, -2, 1, 5, 0, 4, 3, 0, -2, 1, 5, 0, 4, 3, 0, -2, 1, 5, 0, 4, 3, 0, -2, 1, 5, 0, 4, 3, 0, -2, 1, 5, 0, 4, 3, 0, -2, 1, 5, 0, 4, 3, 0, -2, 1, 5, 0, 4, 3, 0, -2, 1, 5, 0, 4],), {} took 0.025476599999819882 seconds.\n",
      "\n",
      "Selection Sort:\n",
      "Function selection_sort called with ([3, 0, -2, 1, 5, 0, 4, 3, 0, -2, 1, 5, 0, 4, 3, 0, -2, 1, 5, 0, 4, 3, 0, -2, 1, 5, 0, 4, 3, 0, -2, 1, 5, 0, 4, 3, 0, -2, 1, 5, 0, 4, 3, 0, -2, 1, 5, 0, 4, 3, 0, -2, 1, 5, 0, 4, 3, 0, -2, 1, 5, 0, 4, 3, 0, -2, 1, 5, 0, 4, 3, 0, -2, 1, 5, 0, 4, 3, 0, -2, 1, 5, 0, 4, 3, 0, -2, 1, 5, 0, 4, 3, 0, -2, 1, 5, 0, 4, 3, 0, -2, 1, 5, 0, 4, 3, 0, -2, 1, 5, 0, 4, 3, 0, -2, 1, 5, 0, 4, 3, 0, -2, 1, 5, 0, 4, 3, 0, -2, 1, 5, 0, 4, 3, 0, -2, 1, 5, 0, 4, 3, 0, -2, 1, 5, 0, 4, 3, 0, -2, 1, 5, 0, 4, 3, 0, -2, 1, 5, 0, 4, 3, 0, -2, 1, 5, 0, 4, 3, 0, -2, 1, 5, 0, 4, 3, 0, -2, 1, 5, 0, 4, 3, 0, -2, 1, 5, 0, 4, 3, 0, -2, 1, 5, 0, 4, 3, 0, -2, 1, 5, 0, 4, 3, 0, -2, 1, 5, 0, 4, 3, 0, -2, 1, 5, 0, 4, 3, 0, -2, 1, 5, 0, 4, 3, 0, -2, 1, 5, 0, 4, 3, 0, -2, 1, 5, 0, 4, 3, 0, -2, 1, 5, 0, 4, 3, 0, -2, 1, 5, 0, 4, 3, 0, -2, 1, 5, 0, 4, 3, 0, -2, 1, 5, 0, 4, 3, 0, -2, 1, 5, 0, 4, 3, 0, -2, 1, 5, 0, 4, 3, 0, -2, 1, 5, 0, 4, 3, 0, -2, 1, 5, 0, 4, 3, 0, -2, 1, 5, 0, 4, 3, 0, -2, 1, 5, 0, 4, 3, 0, -2, 1, 5, 0, 4, 3, 0, -2, 1, 5, 0, 4, 3, 0, -2, 1, 5, 0, 4, 3, 0, -2, 1, 5, 0, 4, 3, 0, -2, 1, 5, 0, 4, 3, 0, -2, 1, 5, 0, 4, 3, 0, -2, 1, 5, 0, 4, 3, 0, -2, 1, 5, 0, 4, 3, 0, -2, 1, 5, 0, 4, 3, 0, -2, 1, 5, 0, 4, 3, 0, -2, 1, 5, 0, 4, 3, 0, -2, 1, 5, 0, 4, 3, 0, -2, 1, 5, 0, 4, 3, 0, -2, 1, 5, 0, 4, 3, 0, -2, 1, 5, 0, 4, 3, 0, -2, 1, 5, 0, 4, 3, 0, -2, 1, 5, 0, 4, 3, 0, -2, 1, 5, 0, 4, 3, 0, -2, 1, 5, 0, 4, 3, 0, -2, 1, 5, 0, 4, 3, 0, -2, 1, 5, 0, 4, 3, 0, -2, 1, 5, 0, 4, 3, 0, -2, 1, 5, 0, 4, 3, 0, -2, 1, 5, 0, 4, 3, 0, -2, 1, 5, 0, 4, 3, 0, -2, 1, 5, 0, 4, 3, 0, -2, 1, 5, 0, 4, 3, 0, -2, 1, 5, 0, 4, 3, 0, -2, 1, 5, 0, 4, 3, 0, -2, 1, 5, 0, 4, 3, 0, -2, 1, 5, 0, 4, 3, 0, -2, 1, 5, 0, 4, 3, 0, -2, 1, 5, 0, 4, 3, 0, -2, 1, 5, 0, 4, 3, 0, -2, 1, 5, 0, 4, 3, 0, -2, 1, 5, 0, 4, 3, 0, -2, 1, 5, 0, 4, 3, 0, -2, 1, 5, 0, 4, 3, 0, -2, 1, 5, 0, 4, 3, 0, -2, 1, 5, 0, 4, 3, 0, -2, 1, 5, 0, 4, 3, 0, -2, 1, 5, 0, 4, 3, 0, -2, 1, 5, 0, 4, 3, 0, -2, 1, 5, 0, 4, 3, 0, -2, 1, 5, 0, 4, 3, 0, -2, 1, 5, 0, 4, 3, 0, -2, 1, 5, 0, 4, 3, 0, -2, 1, 5, 0, 4, 3, 0, -2, 1, 5, 0, 4, 3, 0, -2, 1, 5, 0, 4, 3, 0, -2, 1, 5, 0, 4, 3, 0, -2, 1, 5, 0, 4, 3, 0, -2, 1, 5, 0, 4, 3, 0, -2, 1, 5, 0, 4, 3, 0, -2, 1, 5, 0, 4, 3, 0, -2, 1, 5, 0, 4],), {} took 0.06053460000111954 seconds.\n",
      "\n",
      "----------------------------------------------------------------------------------------------------\n",
      "\n",
      "Test Case 7: [42]\n",
      "\n",
      "Bubble Sort:\n",
      "Function bubble_sort called with ([42],), {} took 9.100000170292333e-06 seconds.\n",
      "\n",
      "Insertion Sort:\n",
      "Function insertion_sort called with ([42],), {} took 5.300000339047983e-06 seconds.\n",
      "\n",
      "Selection Sort:\n",
      "Function selection_sort called with ([42],), {} took 4.300000000512227e-06 seconds.\n",
      "\n",
      "----------------------------------------------------------------------------------------------------\n",
      "\n",
      "Test Case 8: [100, 20, 50, 30, 80, 10, 90, 60, 40, 70, 100, 20, 50, 30, 80, 10, 90, 60, 40, 70, 100, 20, 50, 30, 80, 10, 90, 60, 40, 70, 100, 20, 50, 30, 80, 10, 90, 60, 40, 70, 100, 20, 50, 30, 80, 10, 90, 60, 40, 70, 100, 20, 50, 30, 80, 10, 90, 60, 40, 70, 100, 20, 50, 30, 80, 10, 90, 60, 40, 70, 100, 20, 50, 30, 80, 10, 90, 60, 40, 70, 100, 20, 50, 30, 80, 10, 90, 60, 40, 70, 100, 20, 50, 30, 80, 10, 90, 60, 40, 70, 100, 20, 50, 30, 80, 10, 90, 60, 40, 70, 100, 20, 50, 30, 80, 10, 90, 60, 40, 70, 100, 20, 50, 30, 80, 10, 90, 60, 40, 70, 100, 20, 50, 30, 80, 10, 90, 60, 40, 70, 100, 20, 50, 30, 80, 10, 90, 60, 40, 70, 100, 20, 50, 30, 80, 10, 90, 60, 40, 70, 100, 20, 50, 30, 80, 10, 90, 60, 40, 70, 100, 20, 50, 30, 80, 10, 90, 60, 40, 70, 100, 20, 50, 30, 80, 10, 90, 60, 40, 70, 100, 20, 50, 30, 80, 10, 90, 60, 40, 70, 100, 20, 50, 30, 80, 10, 90, 60, 40, 70, 100, 20, 50, 30, 80, 10, 90, 60, 40, 70, 100, 20, 50, 30, 80, 10, 90, 60, 40, 70, 100, 20, 50, 30, 80, 10, 90, 60, 40, 70, 100, 20, 50, 30, 80, 10, 90, 60, 40, 70, 100, 20, 50, 30, 80, 10, 90, 60, 40, 70, 100, 20, 50, 30, 80, 10, 90, 60, 40, 70, 100, 20, 50, 30, 80, 10, 90, 60, 40, 70, 100, 20, 50, 30, 80, 10, 90, 60, 40, 70, 100, 20, 50, 30, 80, 10, 90, 60, 40, 70, 100, 20, 50, 30, 80, 10, 90, 60, 40, 70, 100, 20, 50, 30, 80, 10, 90, 60, 40, 70, 100, 20, 50, 30, 80, 10, 90, 60, 40, 70, 100, 20, 50, 30, 80, 10, 90, 60, 40, 70, 100, 20, 50, 30, 80, 10, 90, 60, 40, 70, 100, 20, 50, 30, 80, 10, 90, 60, 40, 70, 100, 20, 50, 30, 80, 10, 90, 60, 40, 70, 100, 20, 50, 30, 80, 10, 90, 60, 40, 70, 100, 20, 50, 30, 80, 10, 90, 60, 40, 70, 100, 20, 50, 30, 80, 10, 90, 60, 40, 70, 100, 20, 50, 30, 80, 10, 90, 60, 40, 70, 100, 20, 50, 30, 80, 10, 90, 60, 40, 70, 100, 20, 50, 30, 80, 10, 90, 60, 40, 70, 100, 20, 50, 30, 80, 10, 90, 60, 40, 70, 100, 20, 50, 30, 80, 10, 90, 60, 40, 70, 100, 20, 50, 30, 80, 10, 90, 60, 40, 70, 100, 20, 50, 30, 80, 10, 90, 60, 40, 70, 100, 20, 50, 30, 80, 10, 90, 60, 40, 70, 100, 20, 50, 30, 80, 10, 90, 60, 40, 70, 100, 20, 50, 30, 80, 10, 90, 60, 40, 70, 100, 20, 50, 30, 80, 10, 90, 60, 40, 70, 100, 20, 50, 30, 80, 10, 90, 60, 40, 70, 100, 20, 50, 30, 80, 10, 90, 60, 40, 70, 100, 20, 50, 30, 80, 10, 90, 60, 40, 70, 100, 20, 50, 30, 80, 10, 90, 60, 40, 70, 100, 20, 50, 30, 80, 10, 90, 60, 40, 70, 100, 20, 50, 30, 80, 10, 90, 60, 40, 70, 100, 20, 50, 30, 80, 10, 90, 60, 40, 70, 100, 20, 50, 30, 80, 10, 90, 60, 40, 70, 100, 20, 50, 30, 80, 10, 90, 60, 40, 70, 100, 20, 50, 30, 80, 10, 90, 60, 40, 70, 100, 20, 50, 30, 80, 10, 90, 60, 40, 70, 100, 20, 50, 30, 80, 10, 90, 60, 40, 70, 100, 20, 50, 30, 80, 10, 90, 60, 40, 70, 100, 20, 50, 30, 80, 10, 90, 60, 40, 70, 100, 20, 50, 30, 80, 10, 90, 60, 40, 70, 100, 20, 50, 30, 80, 10, 90, 60, 40, 70, 100, 20, 50, 30, 80, 10, 90, 60, 40, 70, 100, 20, 50, 30, 80, 10, 90, 60, 40, 70, 100, 20, 50, 30, 80, 10, 90, 60, 40, 70, 100, 20, 50, 30, 80, 10, 90, 60, 40, 70, 100, 20, 50, 30, 80, 10, 90, 60, 40, 70, 100, 20, 50, 30, 80, 10, 90, 60, 40, 70, 100, 20, 50, 30, 80, 10, 90, 60, 40, 70, 100, 20, 50, 30, 80, 10, 90, 60, 40, 70, 100, 20, 50, 30, 80, 10, 90, 60, 40, 70, 100, 20, 50, 30, 80, 10, 90, 60, 40, 70, 100, 20, 50, 30, 80, 10, 90, 60, 40, 70, 100, 20, 50, 30, 80, 10, 90, 60, 40, 70, 100, 20, 50, 30, 80, 10, 90, 60, 40, 70, 100, 20, 50, 30, 80, 10, 90, 60, 40, 70, 100, 20, 50, 30, 80, 10, 90, 60, 40, 70, 100, 20, 50, 30, 80, 10, 90, 60, 40, 70, 100, 20, 50, 30, 80, 10, 90, 60, 40, 70, 100, 20, 50, 30, 80, 10, 90, 60, 40, 70, 100, 20, 50, 30, 80, 10, 90, 60, 40, 70, 100, 20, 50, 30, 80, 10, 90, 60, 40, 70, 100, 20, 50, 30, 80, 10, 90, 60, 40, 70, 100, 20, 50, 30, 80, 10, 90, 60, 40, 70, 100, 20, 50, 30, 80, 10, 90, 60, 40, 70, 100, 20, 50, 30, 80, 10, 90, 60, 40, 70, 100, 20, 50, 30, 80, 10, 90, 60, 40, 70, 100, 20, 50, 30, 80, 10, 90, 60, 40, 70, 100, 20, 50, 30, 80, 10, 90, 60, 40, 70, 100, 20, 50, 30, 80, 10, 90, 60, 40, 70, 100, 20, 50, 30, 80, 10, 90, 60, 40, 70, 100, 20, 50, 30, 80, 10, 90, 60, 40, 70, 100, 20, 50, 30, 80, 10, 90, 60, 40, 70, 100, 20, 50, 30, 80, 10, 90, 60, 40, 70, 100, 20, 50, 30, 80, 10, 90, 60, 40, 70]\n",
      "\n",
      "Bubble Sort:\n",
      "Function bubble_sort called with ([100, 20, 50, 30, 80, 10, 90, 60, 40, 70, 100, 20, 50, 30, 80, 10, 90, 60, 40, 70, 100, 20, 50, 30, 80, 10, 90, 60, 40, 70, 100, 20, 50, 30, 80, 10, 90, 60, 40, 70, 100, 20, 50, 30, 80, 10, 90, 60, 40, 70, 100, 20, 50, 30, 80, 10, 90, 60, 40, 70, 100, 20, 50, 30, 80, 10, 90, 60, 40, 70, 100, 20, 50, 30, 80, 10, 90, 60, 40, 70, 100, 20, 50, 30, 80, 10, 90, 60, 40, 70, 100, 20, 50, 30, 80, 10, 90, 60, 40, 70, 100, 20, 50, 30, 80, 10, 90, 60, 40, 70, 100, 20, 50, 30, 80, 10, 90, 60, 40, 70, 100, 20, 50, 30, 80, 10, 90, 60, 40, 70, 100, 20, 50, 30, 80, 10, 90, 60, 40, 70, 100, 20, 50, 30, 80, 10, 90, 60, 40, 70, 100, 20, 50, 30, 80, 10, 90, 60, 40, 70, 100, 20, 50, 30, 80, 10, 90, 60, 40, 70, 100, 20, 50, 30, 80, 10, 90, 60, 40, 70, 100, 20, 50, 30, 80, 10, 90, 60, 40, 70, 100, 20, 50, 30, 80, 10, 90, 60, 40, 70, 100, 20, 50, 30, 80, 10, 90, 60, 40, 70, 100, 20, 50, 30, 80, 10, 90, 60, 40, 70, 100, 20, 50, 30, 80, 10, 90, 60, 40, 70, 100, 20, 50, 30, 80, 10, 90, 60, 40, 70, 100, 20, 50, 30, 80, 10, 90, 60, 40, 70, 100, 20, 50, 30, 80, 10, 90, 60, 40, 70, 100, 20, 50, 30, 80, 10, 90, 60, 40, 70, 100, 20, 50, 30, 80, 10, 90, 60, 40, 70, 100, 20, 50, 30, 80, 10, 90, 60, 40, 70, 100, 20, 50, 30, 80, 10, 90, 60, 40, 70, 100, 20, 50, 30, 80, 10, 90, 60, 40, 70, 100, 20, 50, 30, 80, 10, 90, 60, 40, 70, 100, 20, 50, 30, 80, 10, 90, 60, 40, 70, 100, 20, 50, 30, 80, 10, 90, 60, 40, 70, 100, 20, 50, 30, 80, 10, 90, 60, 40, 70, 100, 20, 50, 30, 80, 10, 90, 60, 40, 70, 100, 20, 50, 30, 80, 10, 90, 60, 40, 70, 100, 20, 50, 30, 80, 10, 90, 60, 40, 70, 100, 20, 50, 30, 80, 10, 90, 60, 40, 70, 100, 20, 50, 30, 80, 10, 90, 60, 40, 70, 100, 20, 50, 30, 80, 10, 90, 60, 40, 70, 100, 20, 50, 30, 80, 10, 90, 60, 40, 70, 100, 20, 50, 30, 80, 10, 90, 60, 40, 70, 100, 20, 50, 30, 80, 10, 90, 60, 40, 70, 100, 20, 50, 30, 80, 10, 90, 60, 40, 70, 100, 20, 50, 30, 80, 10, 90, 60, 40, 70, 100, 20, 50, 30, 80, 10, 90, 60, 40, 70, 100, 20, 50, 30, 80, 10, 90, 60, 40, 70, 100, 20, 50, 30, 80, 10, 90, 60, 40, 70, 100, 20, 50, 30, 80, 10, 90, 60, 40, 70, 100, 20, 50, 30, 80, 10, 90, 60, 40, 70, 100, 20, 50, 30, 80, 10, 90, 60, 40, 70, 100, 20, 50, 30, 80, 10, 90, 60, 40, 70, 100, 20, 50, 30, 80, 10, 90, 60, 40, 70, 100, 20, 50, 30, 80, 10, 90, 60, 40, 70, 100, 20, 50, 30, 80, 10, 90, 60, 40, 70, 100, 20, 50, 30, 80, 10, 90, 60, 40, 70, 100, 20, 50, 30, 80, 10, 90, 60, 40, 70, 100, 20, 50, 30, 80, 10, 90, 60, 40, 70, 100, 20, 50, 30, 80, 10, 90, 60, 40, 70, 100, 20, 50, 30, 80, 10, 90, 60, 40, 70, 100, 20, 50, 30, 80, 10, 90, 60, 40, 70, 100, 20, 50, 30, 80, 10, 90, 60, 40, 70, 100, 20, 50, 30, 80, 10, 90, 60, 40, 70, 100, 20, 50, 30, 80, 10, 90, 60, 40, 70, 100, 20, 50, 30, 80, 10, 90, 60, 40, 70, 100, 20, 50, 30, 80, 10, 90, 60, 40, 70, 100, 20, 50, 30, 80, 10, 90, 60, 40, 70, 100, 20, 50, 30, 80, 10, 90, 60, 40, 70, 100, 20, 50, 30, 80, 10, 90, 60, 40, 70, 100, 20, 50, 30, 80, 10, 90, 60, 40, 70, 100, 20, 50, 30, 80, 10, 90, 60, 40, 70, 100, 20, 50, 30, 80, 10, 90, 60, 40, 70, 100, 20, 50, 30, 80, 10, 90, 60, 40, 70, 100, 20, 50, 30, 80, 10, 90, 60, 40, 70, 100, 20, 50, 30, 80, 10, 90, 60, 40, 70, 100, 20, 50, 30, 80, 10, 90, 60, 40, 70, 100, 20, 50, 30, 80, 10, 90, 60, 40, 70, 100, 20, 50, 30, 80, 10, 90, 60, 40, 70, 100, 20, 50, 30, 80, 10, 90, 60, 40, 70, 100, 20, 50, 30, 80, 10, 90, 60, 40, 70, 100, 20, 50, 30, 80, 10, 90, 60, 40, 70, 100, 20, 50, 30, 80, 10, 90, 60, 40, 70, 100, 20, 50, 30, 80, 10, 90, 60, 40, 70, 100, 20, 50, 30, 80, 10, 90, 60, 40, 70, 100, 20, 50, 30, 80, 10, 90, 60, 40, 70, 100, 20, 50, 30, 80, 10, 90, 60, 40, 70, 100, 20, 50, 30, 80, 10, 90, 60, 40, 70, 100, 20, 50, 30, 80, 10, 90, 60, 40, 70, 100, 20, 50, 30, 80, 10, 90, 60, 40, 70, 100, 20, 50, 30, 80, 10, 90, 60, 40, 70, 100, 20, 50, 30, 80, 10, 90, 60, 40, 70, 100, 20, 50, 30, 80, 10, 90, 60, 40, 70, 100, 20, 50, 30, 80, 10, 90, 60, 40, 70, 100, 20, 50, 30, 80, 10, 90, 60, 40, 70, 100, 20, 50, 30, 80, 10, 90, 60, 40, 70, 100, 20, 50, 30, 80, 10, 90, 60, 40, 70, 100, 20, 50, 30, 80, 10, 90, 60, 40, 70, 100, 20, 50, 30, 80, 10, 90, 60, 40, 70, 100, 20, 50, 30, 80, 10, 90, 60, 40, 70],), {} took 0.13919370000076015 seconds.\n",
      "\n",
      "Insertion Sort:\n",
      "Function insertion_sort called with ([100, 20, 50, 30, 80, 10, 90, 60, 40, 70, 100, 20, 50, 30, 80, 10, 90, 60, 40, 70, 100, 20, 50, 30, 80, 10, 90, 60, 40, 70, 100, 20, 50, 30, 80, 10, 90, 60, 40, 70, 100, 20, 50, 30, 80, 10, 90, 60, 40, 70, 100, 20, 50, 30, 80, 10, 90, 60, 40, 70, 100, 20, 50, 30, 80, 10, 90, 60, 40, 70, 100, 20, 50, 30, 80, 10, 90, 60, 40, 70, 100, 20, 50, 30, 80, 10, 90, 60, 40, 70, 100, 20, 50, 30, 80, 10, 90, 60, 40, 70, 100, 20, 50, 30, 80, 10, 90, 60, 40, 70, 100, 20, 50, 30, 80, 10, 90, 60, 40, 70, 100, 20, 50, 30, 80, 10, 90, 60, 40, 70, 100, 20, 50, 30, 80, 10, 90, 60, 40, 70, 100, 20, 50, 30, 80, 10, 90, 60, 40, 70, 100, 20, 50, 30, 80, 10, 90, 60, 40, 70, 100, 20, 50, 30, 80, 10, 90, 60, 40, 70, 100, 20, 50, 30, 80, 10, 90, 60, 40, 70, 100, 20, 50, 30, 80, 10, 90, 60, 40, 70, 100, 20, 50, 30, 80, 10, 90, 60, 40, 70, 100, 20, 50, 30, 80, 10, 90, 60, 40, 70, 100, 20, 50, 30, 80, 10, 90, 60, 40, 70, 100, 20, 50, 30, 80, 10, 90, 60, 40, 70, 100, 20, 50, 30, 80, 10, 90, 60, 40, 70, 100, 20, 50, 30, 80, 10, 90, 60, 40, 70, 100, 20, 50, 30, 80, 10, 90, 60, 40, 70, 100, 20, 50, 30, 80, 10, 90, 60, 40, 70, 100, 20, 50, 30, 80, 10, 90, 60, 40, 70, 100, 20, 50, 30, 80, 10, 90, 60, 40, 70, 100, 20, 50, 30, 80, 10, 90, 60, 40, 70, 100, 20, 50, 30, 80, 10, 90, 60, 40, 70, 100, 20, 50, 30, 80, 10, 90, 60, 40, 70, 100, 20, 50, 30, 80, 10, 90, 60, 40, 70, 100, 20, 50, 30, 80, 10, 90, 60, 40, 70, 100, 20, 50, 30, 80, 10, 90, 60, 40, 70, 100, 20, 50, 30, 80, 10, 90, 60, 40, 70, 100, 20, 50, 30, 80, 10, 90, 60, 40, 70, 100, 20, 50, 30, 80, 10, 90, 60, 40, 70, 100, 20, 50, 30, 80, 10, 90, 60, 40, 70, 100, 20, 50, 30, 80, 10, 90, 60, 40, 70, 100, 20, 50, 30, 80, 10, 90, 60, 40, 70, 100, 20, 50, 30, 80, 10, 90, 60, 40, 70, 100, 20, 50, 30, 80, 10, 90, 60, 40, 70, 100, 20, 50, 30, 80, 10, 90, 60, 40, 70, 100, 20, 50, 30, 80, 10, 90, 60, 40, 70, 100, 20, 50, 30, 80, 10, 90, 60, 40, 70, 100, 20, 50, 30, 80, 10, 90, 60, 40, 70, 100, 20, 50, 30, 80, 10, 90, 60, 40, 70, 100, 20, 50, 30, 80, 10, 90, 60, 40, 70, 100, 20, 50, 30, 80, 10, 90, 60, 40, 70, 100, 20, 50, 30, 80, 10, 90, 60, 40, 70, 100, 20, 50, 30, 80, 10, 90, 60, 40, 70, 100, 20, 50, 30, 80, 10, 90, 60, 40, 70, 100, 20, 50, 30, 80, 10, 90, 60, 40, 70, 100, 20, 50, 30, 80, 10, 90, 60, 40, 70, 100, 20, 50, 30, 80, 10, 90, 60, 40, 70, 100, 20, 50, 30, 80, 10, 90, 60, 40, 70, 100, 20, 50, 30, 80, 10, 90, 60, 40, 70, 100, 20, 50, 30, 80, 10, 90, 60, 40, 70, 100, 20, 50, 30, 80, 10, 90, 60, 40, 70, 100, 20, 50, 30, 80, 10, 90, 60, 40, 70, 100, 20, 50, 30, 80, 10, 90, 60, 40, 70, 100, 20, 50, 30, 80, 10, 90, 60, 40, 70, 100, 20, 50, 30, 80, 10, 90, 60, 40, 70, 100, 20, 50, 30, 80, 10, 90, 60, 40, 70, 100, 20, 50, 30, 80, 10, 90, 60, 40, 70, 100, 20, 50, 30, 80, 10, 90, 60, 40, 70, 100, 20, 50, 30, 80, 10, 90, 60, 40, 70, 100, 20, 50, 30, 80, 10, 90, 60, 40, 70, 100, 20, 50, 30, 80, 10, 90, 60, 40, 70, 100, 20, 50, 30, 80, 10, 90, 60, 40, 70, 100, 20, 50, 30, 80, 10, 90, 60, 40, 70, 100, 20, 50, 30, 80, 10, 90, 60, 40, 70, 100, 20, 50, 30, 80, 10, 90, 60, 40, 70, 100, 20, 50, 30, 80, 10, 90, 60, 40, 70, 100, 20, 50, 30, 80, 10, 90, 60, 40, 70, 100, 20, 50, 30, 80, 10, 90, 60, 40, 70, 100, 20, 50, 30, 80, 10, 90, 60, 40, 70, 100, 20, 50, 30, 80, 10, 90, 60, 40, 70, 100, 20, 50, 30, 80, 10, 90, 60, 40, 70, 100, 20, 50, 30, 80, 10, 90, 60, 40, 70, 100, 20, 50, 30, 80, 10, 90, 60, 40, 70, 100, 20, 50, 30, 80, 10, 90, 60, 40, 70, 100, 20, 50, 30, 80, 10, 90, 60, 40, 70, 100, 20, 50, 30, 80, 10, 90, 60, 40, 70, 100, 20, 50, 30, 80, 10, 90, 60, 40, 70, 100, 20, 50, 30, 80, 10, 90, 60, 40, 70, 100, 20, 50, 30, 80, 10, 90, 60, 40, 70, 100, 20, 50, 30, 80, 10, 90, 60, 40, 70, 100, 20, 50, 30, 80, 10, 90, 60, 40, 70, 100, 20, 50, 30, 80, 10, 90, 60, 40, 70, 100, 20, 50, 30, 80, 10, 90, 60, 40, 70, 100, 20, 50, 30, 80, 10, 90, 60, 40, 70, 100, 20, 50, 30, 80, 10, 90, 60, 40, 70, 100, 20, 50, 30, 80, 10, 90, 60, 40, 70, 100, 20, 50, 30, 80, 10, 90, 60, 40, 70, 100, 20, 50, 30, 80, 10, 90, 60, 40, 70, 100, 20, 50, 30, 80, 10, 90, 60, 40, 70, 100, 20, 50, 30, 80, 10, 90, 60, 40, 70, 100, 20, 50, 30, 80, 10, 90, 60, 40, 70],), {} took 0.05723279999801889 seconds.\n",
      "\n",
      "Selection Sort:\n",
      "Function selection_sort called with ([100, 20, 50, 30, 80, 10, 90, 60, 40, 70, 100, 20, 50, 30, 80, 10, 90, 60, 40, 70, 100, 20, 50, 30, 80, 10, 90, 60, 40, 70, 100, 20, 50, 30, 80, 10, 90, 60, 40, 70, 100, 20, 50, 30, 80, 10, 90, 60, 40, 70, 100, 20, 50, 30, 80, 10, 90, 60, 40, 70, 100, 20, 50, 30, 80, 10, 90, 60, 40, 70, 100, 20, 50, 30, 80, 10, 90, 60, 40, 70, 100, 20, 50, 30, 80, 10, 90, 60, 40, 70, 100, 20, 50, 30, 80, 10, 90, 60, 40, 70, 100, 20, 50, 30, 80, 10, 90, 60, 40, 70, 100, 20, 50, 30, 80, 10, 90, 60, 40, 70, 100, 20, 50, 30, 80, 10, 90, 60, 40, 70, 100, 20, 50, 30, 80, 10, 90, 60, 40, 70, 100, 20, 50, 30, 80, 10, 90, 60, 40, 70, 100, 20, 50, 30, 80, 10, 90, 60, 40, 70, 100, 20, 50, 30, 80, 10, 90, 60, 40, 70, 100, 20, 50, 30, 80, 10, 90, 60, 40, 70, 100, 20, 50, 30, 80, 10, 90, 60, 40, 70, 100, 20, 50, 30, 80, 10, 90, 60, 40, 70, 100, 20, 50, 30, 80, 10, 90, 60, 40, 70, 100, 20, 50, 30, 80, 10, 90, 60, 40, 70, 100, 20, 50, 30, 80, 10, 90, 60, 40, 70, 100, 20, 50, 30, 80, 10, 90, 60, 40, 70, 100, 20, 50, 30, 80, 10, 90, 60, 40, 70, 100, 20, 50, 30, 80, 10, 90, 60, 40, 70, 100, 20, 50, 30, 80, 10, 90, 60, 40, 70, 100, 20, 50, 30, 80, 10, 90, 60, 40, 70, 100, 20, 50, 30, 80, 10, 90, 60, 40, 70, 100, 20, 50, 30, 80, 10, 90, 60, 40, 70, 100, 20, 50, 30, 80, 10, 90, 60, 40, 70, 100, 20, 50, 30, 80, 10, 90, 60, 40, 70, 100, 20, 50, 30, 80, 10, 90, 60, 40, 70, 100, 20, 50, 30, 80, 10, 90, 60, 40, 70, 100, 20, 50, 30, 80, 10, 90, 60, 40, 70, 100, 20, 50, 30, 80, 10, 90, 60, 40, 70, 100, 20, 50, 30, 80, 10, 90, 60, 40, 70, 100, 20, 50, 30, 80, 10, 90, 60, 40, 70, 100, 20, 50, 30, 80, 10, 90, 60, 40, 70, 100, 20, 50, 30, 80, 10, 90, 60, 40, 70, 100, 20, 50, 30, 80, 10, 90, 60, 40, 70, 100, 20, 50, 30, 80, 10, 90, 60, 40, 70, 100, 20, 50, 30, 80, 10, 90, 60, 40, 70, 100, 20, 50, 30, 80, 10, 90, 60, 40, 70, 100, 20, 50, 30, 80, 10, 90, 60, 40, 70, 100, 20, 50, 30, 80, 10, 90, 60, 40, 70, 100, 20, 50, 30, 80, 10, 90, 60, 40, 70, 100, 20, 50, 30, 80, 10, 90, 60, 40, 70, 100, 20, 50, 30, 80, 10, 90, 60, 40, 70, 100, 20, 50, 30, 80, 10, 90, 60, 40, 70, 100, 20, 50, 30, 80, 10, 90, 60, 40, 70, 100, 20, 50, 30, 80, 10, 90, 60, 40, 70, 100, 20, 50, 30, 80, 10, 90, 60, 40, 70, 100, 20, 50, 30, 80, 10, 90, 60, 40, 70, 100, 20, 50, 30, 80, 10, 90, 60, 40, 70, 100, 20, 50, 30, 80, 10, 90, 60, 40, 70, 100, 20, 50, 30, 80, 10, 90, 60, 40, 70, 100, 20, 50, 30, 80, 10, 90, 60, 40, 70, 100, 20, 50, 30, 80, 10, 90, 60, 40, 70, 100, 20, 50, 30, 80, 10, 90, 60, 40, 70, 100, 20, 50, 30, 80, 10, 90, 60, 40, 70, 100, 20, 50, 30, 80, 10, 90, 60, 40, 70, 100, 20, 50, 30, 80, 10, 90, 60, 40, 70, 100, 20, 50, 30, 80, 10, 90, 60, 40, 70, 100, 20, 50, 30, 80, 10, 90, 60, 40, 70, 100, 20, 50, 30, 80, 10, 90, 60, 40, 70, 100, 20, 50, 30, 80, 10, 90, 60, 40, 70, 100, 20, 50, 30, 80, 10, 90, 60, 40, 70, 100, 20, 50, 30, 80, 10, 90, 60, 40, 70, 100, 20, 50, 30, 80, 10, 90, 60, 40, 70, 100, 20, 50, 30, 80, 10, 90, 60, 40, 70, 100, 20, 50, 30, 80, 10, 90, 60, 40, 70, 100, 20, 50, 30, 80, 10, 90, 60, 40, 70, 100, 20, 50, 30, 80, 10, 90, 60, 40, 70, 100, 20, 50, 30, 80, 10, 90, 60, 40, 70, 100, 20, 50, 30, 80, 10, 90, 60, 40, 70, 100, 20, 50, 30, 80, 10, 90, 60, 40, 70, 100, 20, 50, 30, 80, 10, 90, 60, 40, 70, 100, 20, 50, 30, 80, 10, 90, 60, 40, 70, 100, 20, 50, 30, 80, 10, 90, 60, 40, 70, 100, 20, 50, 30, 80, 10, 90, 60, 40, 70, 100, 20, 50, 30, 80, 10, 90, 60, 40, 70, 100, 20, 50, 30, 80, 10, 90, 60, 40, 70, 100, 20, 50, 30, 80, 10, 90, 60, 40, 70, 100, 20, 50, 30, 80, 10, 90, 60, 40, 70, 100, 20, 50, 30, 80, 10, 90, 60, 40, 70, 100, 20, 50, 30, 80, 10, 90, 60, 40, 70, 100, 20, 50, 30, 80, 10, 90, 60, 40, 70, 100, 20, 50, 30, 80, 10, 90, 60, 40, 70, 100, 20, 50, 30, 80, 10, 90, 60, 40, 70, 100, 20, 50, 30, 80, 10, 90, 60, 40, 70, 100, 20, 50, 30, 80, 10, 90, 60, 40, 70, 100, 20, 50, 30, 80, 10, 90, 60, 40, 70, 100, 20, 50, 30, 80, 10, 90, 60, 40, 70, 100, 20, 50, 30, 80, 10, 90, 60, 40, 70, 100, 20, 50, 30, 80, 10, 90, 60, 40, 70, 100, 20, 50, 30, 80, 10, 90, 60, 40, 70, 100, 20, 50, 30, 80, 10, 90, 60, 40, 70, 100, 20, 50, 30, 80, 10, 90, 60, 40, 70, 100, 20, 50, 30, 80, 10, 90, 60, 40, 70],), {} took 0.07356169999911799 seconds.\n",
      "\n",
      "----------------------------------------------------------------------------------------------------\n",
      "\n",
      "Test Case 9: [None, 3, None, 1, 2, None, None, 3, None, 1, 2, None, None, 3, None, 1, 2, None, None, 3, None, 1, 2, None, None, 3, None, 1, 2, None, None, 3, None, 1, 2, None, None, 3, None, 1, 2, None, None, 3, None, 1, 2, None, None, 3, None, 1, 2, None, None, 3, None, 1, 2, None, None, 3, None, 1, 2, None, None, 3, None, 1, 2, None, None, 3, None, 1, 2, None, None, 3, None, 1, 2, None, None, 3, None, 1, 2, None, None, 3, None, 1, 2, None, None, 3, None, 1, 2, None, None, 3, None, 1, 2, None, None, 3, None, 1, 2, None, None, 3, None, 1, 2, None, None, 3, None, 1, 2, None, None, 3, None, 1, 2, None, None, 3, None, 1, 2, None, None, 3, None, 1, 2, None, None, 3, None, 1, 2, None, None, 3, None, 1, 2, None, None, 3, None, 1, 2, None, None, 3, None, 1, 2, None, None, 3, None, 1, 2, None, None, 3, None, 1, 2, None, None, 3, None, 1, 2, None, None, 3, None, 1, 2, None, None, 3, None, 1, 2, None, None, 3, None, 1, 2, None, None, 3, None, 1, 2, None, None, 3, None, 1, 2, None, None, 3, None, 1, 2, None, None, 3, None, 1, 2, None, None, 3, None, 1, 2, None, None, 3, None, 1, 2, None, None, 3, None, 1, 2, None, None, 3, None, 1, 2, None, None, 3, None, 1, 2, None, None, 3, None, 1, 2, None, None, 3, None, 1, 2, None, None, 3, None, 1, 2, None, None, 3, None, 1, 2, None, None, 3, None, 1, 2, None, None, 3, None, 1, 2, None, None, 3, None, 1, 2, None, None, 3, None, 1, 2, None, None, 3, None, 1, 2, None, None, 3, None, 1, 2, None, None, 3, None, 1, 2, None, None, 3, None, 1, 2, None, None, 3, None, 1, 2, None, None, 3, None, 1, 2, None, None, 3, None, 1, 2, None, None, 3, None, 1, 2, None, None, 3, None, 1, 2, None, None, 3, None, 1, 2, None, None, 3, None, 1, 2, None, None, 3, None, 1, 2, None, None, 3, None, 1, 2, None, None, 3, None, 1, 2, None, None, 3, None, 1, 2, None, None, 3, None, 1, 2, None, None, 3, None, 1, 2, None, None, 3, None, 1, 2, None, None, 3, None, 1, 2, None, None, 3, None, 1, 2, None, None, 3, None, 1, 2, None, None, 3, None, 1, 2, None, None, 3, None, 1, 2, None, None, 3, None, 1, 2, None, None, 3, None, 1, 2, None, None, 3, None, 1, 2, None, None, 3, None, 1, 2, None, None, 3, None, 1, 2, None, None, 3, None, 1, 2, None, None, 3, None, 1, 2, None, None, 3, None, 1, 2, None, None, 3, None, 1, 2, None, None, 3, None, 1, 2, None, None, 3, None, 1, 2, None, None, 3, None, 1, 2, None, None, 3, None, 1, 2, None, None, 3, None, 1, 2, None, None, 3, None, 1, 2, None, None, 3, None, 1, 2, None, None, 3, None, 1, 2, None, None, 3, None, 1, 2, None, None, 3, None, 1, 2, None, None, 3, None, 1, 2, None, None, 3, None, 1, 2, None, None, 3, None, 1, 2, None, None, 3, None, 1, 2, None, None, 3, None, 1, 2, None, None, 3, None, 1, 2, None, None, 3, None, 1, 2, None]\n",
      "\n",
      "Bubble Sort:\n",
      "Function bubble_sort called with ([None, 3, None, 1, 2, None, None, 3, None, 1, 2, None, None, 3, None, 1, 2, None, None, 3, None, 1, 2, None, None, 3, None, 1, 2, None, None, 3, None, 1, 2, None, None, 3, None, 1, 2, None, None, 3, None, 1, 2, None, None, 3, None, 1, 2, None, None, 3, None, 1, 2, None, None, 3, None, 1, 2, None, None, 3, None, 1, 2, None, None, 3, None, 1, 2, None, None, 3, None, 1, 2, None, None, 3, None, 1, 2, None, None, 3, None, 1, 2, None, None, 3, None, 1, 2, None, None, 3, None, 1, 2, None, None, 3, None, 1, 2, None, None, 3, None, 1, 2, None, None, 3, None, 1, 2, None, None, 3, None, 1, 2, None, None, 3, None, 1, 2, None, None, 3, None, 1, 2, None, None, 3, None, 1, 2, None, None, 3, None, 1, 2, None, None, 3, None, 1, 2, None, None, 3, None, 1, 2, None, None, 3, None, 1, 2, None, None, 3, None, 1, 2, None, None, 3, None, 1, 2, None, None, 3, None, 1, 2, None, None, 3, None, 1, 2, None, None, 3, None, 1, 2, None, None, 3, None, 1, 2, None, None, 3, None, 1, 2, None, None, 3, None, 1, 2, None, None, 3, None, 1, 2, None, None, 3, None, 1, 2, None, None, 3, None, 1, 2, None, None, 3, None, 1, 2, None, None, 3, None, 1, 2, None, None, 3, None, 1, 2, None, None, 3, None, 1, 2, None, None, 3, None, 1, 2, None, None, 3, None, 1, 2, None, None, 3, None, 1, 2, None, None, 3, None, 1, 2, None, None, 3, None, 1, 2, None, None, 3, None, 1, 2, None, None, 3, None, 1, 2, None, None, 3, None, 1, 2, None, None, 3, None, 1, 2, None, None, 3, None, 1, 2, None, None, 3, None, 1, 2, None, None, 3, None, 1, 2, None, None, 3, None, 1, 2, None, None, 3, None, 1, 2, None, None, 3, None, 1, 2, None, None, 3, None, 1, 2, None, None, 3, None, 1, 2, None, None, 3, None, 1, 2, None, None, 3, None, 1, 2, None, None, 3, None, 1, 2, None, None, 3, None, 1, 2, None, None, 3, None, 1, 2, None, None, 3, None, 1, 2, None, None, 3, None, 1, 2, None, None, 3, None, 1, 2, None, None, 3, None, 1, 2, None, None, 3, None, 1, 2, None, None, 3, None, 1, 2, None, None, 3, None, 1, 2, None, None, 3, None, 1, 2, None, None, 3, None, 1, 2, None, None, 3, None, 1, 2, None, None, 3, None, 1, 2, None, None, 3, None, 1, 2, None, None, 3, None, 1, 2, None, None, 3, None, 1, 2, None, None, 3, None, 1, 2, None, None, 3, None, 1, 2, None, None, 3, None, 1, 2, None, None, 3, None, 1, 2, None, None, 3, None, 1, 2, None, None, 3, None, 1, 2, None, None, 3, None, 1, 2, None, None, 3, None, 1, 2, None, None, 3, None, 1, 2, None, None, 3, None, 1, 2, None, None, 3, None, 1, 2, None, None, 3, None, 1, 2, None, None, 3, None, 1, 2, None, None, 3, None, 1, 2, None, None, 3, None, 1, 2, None, None, 3, None, 1, 2, None, None, 3, None, 1, 2, None, None, 3, None, 1, 2, None, None, 3, None, 1, 2, None, None, 3, None, 1, 2, None],), {} took 0.012086700000509154 seconds.\n",
      "\n",
      "Insertion Sort:\n",
      "Function insertion_sort called with ([None, 3, None, 1, 2, None, None, 3, None, 1, 2, None, None, 3, None, 1, 2, None, None, 3, None, 1, 2, None, None, 3, None, 1, 2, None, None, 3, None, 1, 2, None, None, 3, None, 1, 2, None, None, 3, None, 1, 2, None, None, 3, None, 1, 2, None, None, 3, None, 1, 2, None, None, 3, None, 1, 2, None, None, 3, None, 1, 2, None, None, 3, None, 1, 2, None, None, 3, None, 1, 2, None, None, 3, None, 1, 2, None, None, 3, None, 1, 2, None, None, 3, None, 1, 2, None, None, 3, None, 1, 2, None, None, 3, None, 1, 2, None, None, 3, None, 1, 2, None, None, 3, None, 1, 2, None, None, 3, None, 1, 2, None, None, 3, None, 1, 2, None, None, 3, None, 1, 2, None, None, 3, None, 1, 2, None, None, 3, None, 1, 2, None, None, 3, None, 1, 2, None, None, 3, None, 1, 2, None, None, 3, None, 1, 2, None, None, 3, None, 1, 2, None, None, 3, None, 1, 2, None, None, 3, None, 1, 2, None, None, 3, None, 1, 2, None, None, 3, None, 1, 2, None, None, 3, None, 1, 2, None, None, 3, None, 1, 2, None, None, 3, None, 1, 2, None, None, 3, None, 1, 2, None, None, 3, None, 1, 2, None, None, 3, None, 1, 2, None, None, 3, None, 1, 2, None, None, 3, None, 1, 2, None, None, 3, None, 1, 2, None, None, 3, None, 1, 2, None, None, 3, None, 1, 2, None, None, 3, None, 1, 2, None, None, 3, None, 1, 2, None, None, 3, None, 1, 2, None, None, 3, None, 1, 2, None, None, 3, None, 1, 2, None, None, 3, None, 1, 2, None, None, 3, None, 1, 2, None, None, 3, None, 1, 2, None, None, 3, None, 1, 2, None, None, 3, None, 1, 2, None, None, 3, None, 1, 2, None, None, 3, None, 1, 2, None, None, 3, None, 1, 2, None, None, 3, None, 1, 2, None, None, 3, None, 1, 2, None, None, 3, None, 1, 2, None, None, 3, None, 1, 2, None, None, 3, None, 1, 2, None, None, 3, None, 1, 2, None, None, 3, None, 1, 2, None, None, 3, None, 1, 2, None, None, 3, None, 1, 2, None, None, 3, None, 1, 2, None, None, 3, None, 1, 2, None, None, 3, None, 1, 2, None, None, 3, None, 1, 2, None, None, 3, None, 1, 2, None, None, 3, None, 1, 2, None, None, 3, None, 1, 2, None, None, 3, None, 1, 2, None, None, 3, None, 1, 2, None, None, 3, None, 1, 2, None, None, 3, None, 1, 2, None, None, 3, None, 1, 2, None, None, 3, None, 1, 2, None, None, 3, None, 1, 2, None, None, 3, None, 1, 2, None, None, 3, None, 1, 2, None, None, 3, None, 1, 2, None, None, 3, None, 1, 2, None, None, 3, None, 1, 2, None, None, 3, None, 1, 2, None, None, 3, None, 1, 2, None, None, 3, None, 1, 2, None, None, 3, None, 1, 2, None, None, 3, None, 1, 2, None, None, 3, None, 1, 2, None, None, 3, None, 1, 2, None, None, 3, None, 1, 2, None, None, 3, None, 1, 2, None, None, 3, None, 1, 2, None, None, 3, None, 1, 2, None, None, 3, None, 1, 2, None, None, 3, None, 1, 2, None, None, 3, None, 1, 2, None],), {} took 0.004224899999826448 seconds.\n",
      "\n",
      "Selection Sort:\n",
      "Function selection_sort called with ([None, 3, None, 1, 2, None, None, 3, None, 1, 2, None, None, 3, None, 1, 2, None, None, 3, None, 1, 2, None, None, 3, None, 1, 2, None, None, 3, None, 1, 2, None, None, 3, None, 1, 2, None, None, 3, None, 1, 2, None, None, 3, None, 1, 2, None, None, 3, None, 1, 2, None, None, 3, None, 1, 2, None, None, 3, None, 1, 2, None, None, 3, None, 1, 2, None, None, 3, None, 1, 2, None, None, 3, None, 1, 2, None, None, 3, None, 1, 2, None, None, 3, None, 1, 2, None, None, 3, None, 1, 2, None, None, 3, None, 1, 2, None, None, 3, None, 1, 2, None, None, 3, None, 1, 2, None, None, 3, None, 1, 2, None, None, 3, None, 1, 2, None, None, 3, None, 1, 2, None, None, 3, None, 1, 2, None, None, 3, None, 1, 2, None, None, 3, None, 1, 2, None, None, 3, None, 1, 2, None, None, 3, None, 1, 2, None, None, 3, None, 1, 2, None, None, 3, None, 1, 2, None, None, 3, None, 1, 2, None, None, 3, None, 1, 2, None, None, 3, None, 1, 2, None, None, 3, None, 1, 2, None, None, 3, None, 1, 2, None, None, 3, None, 1, 2, None, None, 3, None, 1, 2, None, None, 3, None, 1, 2, None, None, 3, None, 1, 2, None, None, 3, None, 1, 2, None, None, 3, None, 1, 2, None, None, 3, None, 1, 2, None, None, 3, None, 1, 2, None, None, 3, None, 1, 2, None, None, 3, None, 1, 2, None, None, 3, None, 1, 2, None, None, 3, None, 1, 2, None, None, 3, None, 1, 2, None, None, 3, None, 1, 2, None, None, 3, None, 1, 2, None, None, 3, None, 1, 2, None, None, 3, None, 1, 2, None, None, 3, None, 1, 2, None, None, 3, None, 1, 2, None, None, 3, None, 1, 2, None, None, 3, None, 1, 2, None, None, 3, None, 1, 2, None, None, 3, None, 1, 2, None, None, 3, None, 1, 2, None, None, 3, None, 1, 2, None, None, 3, None, 1, 2, None, None, 3, None, 1, 2, None, None, 3, None, 1, 2, None, None, 3, None, 1, 2, None, None, 3, None, 1, 2, None, None, 3, None, 1, 2, None, None, 3, None, 1, 2, None, None, 3, None, 1, 2, None, None, 3, None, 1, 2, None, None, 3, None, 1, 2, None, None, 3, None, 1, 2, None, None, 3, None, 1, 2, None, None, 3, None, 1, 2, None, None, 3, None, 1, 2, None, None, 3, None, 1, 2, None, None, 3, None, 1, 2, None, None, 3, None, 1, 2, None, None, 3, None, 1, 2, None, None, 3, None, 1, 2, None, None, 3, None, 1, 2, None, None, 3, None, 1, 2, None, None, 3, None, 1, 2, None, None, 3, None, 1, 2, None, None, 3, None, 1, 2, None, None, 3, None, 1, 2, None, None, 3, None, 1, 2, None, None, 3, None, 1, 2, None, None, 3, None, 1, 2, None, None, 3, None, 1, 2, None, None, 3, None, 1, 2, None, None, 3, None, 1, 2, None, None, 3, None, 1, 2, None, None, 3, None, 1, 2, None, None, 3, None, 1, 2, None, None, 3, None, 1, 2, None, None, 3, None, 1, 2, None, None, 3, None, 1, 2, None, None, 3, None, 1, 2, None, None, 3, None, 1, 2, None],), {} took 0.006642900003498653 seconds.\n",
      "\n",
      "----------------------------------------------------------------------------------------------------\n",
      "\n",
      "Test Case 10: [-4, 7, 9, 0, 14, None, None, 5, 2, 10, None, -101, -5, None, 3, 1, 35, -4, 7, 9, 0, 14, None, None, 5, 2, 10, None, -101, -5, None, 3, 1, 35, -4, 7, 9, 0, 14, None, None, 5, 2, 10, None, -101, -5, None, 3, 1, 35, -4, 7, 9, 0, 14, None, None, 5, 2, 10, None, -101, -5, None, 3, 1, 35, -4, 7, 9, 0, 14, None, None, 5, 2, 10, None, -101, -5, None, 3, 1, 35, -4, 7, 9, 0, 14, None, None, 5, 2, 10, None, -101, -5, None, 3, 1, 35, -4, 7, 9, 0, 14, None, None, 5, 2, 10, None, -101, -5, None, 3, 1, 35, -4, 7, 9, 0, 14, None, None, 5, 2, 10, None, -101, -5, None, 3, 1, 35, -4, 7, 9, 0, 14, None, None, 5, 2, 10, None, -101, -5, None, 3, 1, 35, -4, 7, 9, 0, 14, None, None, 5, 2, 10, None, -101, -5, None, 3, 1, 35, -4, 7, 9, 0, 14, None, None, 5, 2, 10, None, -101, -5, None, 3, 1, 35, -4, 7, 9, 0, 14, None, None, 5, 2, 10, None, -101, -5, None, 3, 1, 35, -4, 7, 9, 0, 14, None, None, 5, 2, 10, None, -101, -5, None, 3, 1, 35, -4, 7, 9, 0, 14, None, None, 5, 2, 10, None, -101, -5, None, 3, 1, 35, -4, 7, 9, 0, 14, None, None, 5, 2, 10, None, -101, -5, None, 3, 1, 35, -4, 7, 9, 0, 14, None, None, 5, 2, 10, None, -101, -5, None, 3, 1, 35, -4, 7, 9, 0, 14, None, None, 5, 2, 10, None, -101, -5, None, 3, 1, 35, -4, 7, 9, 0, 14, None, None, 5, 2, 10, None, -101, -5, None, 3, 1, 35, -4, 7, 9, 0, 14, None, None, 5, 2, 10, None, -101, -5, None, 3, 1, 35, -4, 7, 9, 0, 14, None, None, 5, 2, 10, None, -101, -5, None, 3, 1, 35, -4, 7, 9, 0, 14, None, None, 5, 2, 10, None, -101, -5, None, 3, 1, 35, -4, 7, 9, 0, 14, None, None, 5, 2, 10, None, -101, -5, None, 3, 1, 35, -4, 7, 9, 0, 14, None, None, 5, 2, 10, None, -101, -5, None, 3, 1, 35, -4, 7, 9, 0, 14, None, None, 5, 2, 10, None, -101, -5, None, 3, 1, 35, -4, 7, 9, 0, 14, None, None, 5, 2, 10, None, -101, -5, None, 3, 1, 35, -4, 7, 9, 0, 14, None, None, 5, 2, 10, None, -101, -5, None, 3, 1, 35, -4, 7, 9, 0, 14, None, None, 5, 2, 10, None, -101, -5, None, 3, 1, 35, -4, 7, 9, 0, 14, None, None, 5, 2, 10, None, -101, -5, None, 3, 1, 35, -4, 7, 9, 0, 14, None, None, 5, 2, 10, None, -101, -5, None, 3, 1, 35, -4, 7, 9, 0, 14, None, None, 5, 2, 10, None, -101, -5, None, 3, 1, 35, -4, 7, 9, 0, 14, None, None, 5, 2, 10, None, -101, -5, None, 3, 1, 35, -4, 7, 9, 0, 14, None, None, 5, 2, 10, None, -101, -5, None, 3, 1, 35, -4, 7, 9, 0, 14, None, None, 5, 2, 10, None, -101, -5, None, 3, 1, 35, -4, 7, 9, 0, 14, None, None, 5, 2, 10, None, -101, -5, None, 3, 1, 35, -4, 7, 9, 0, 14, None, None, 5, 2, 10, None, -101, -5, None, 3, 1, 35, -4, 7, 9, 0, 14, None, None, 5, 2, 10, None, -101, -5, None, 3, 1, 35, -4, 7, 9, 0, 14, None, None, 5, 2, 10, None, -101, -5, None, 3, 1, 35, -4, 7, 9, 0, 14, None, None, 5, 2, 10, None, -101, -5, None, 3, 1, 35, -4, 7, 9, 0, 14, None, None, 5, 2, 10, None, -101, -5, None, 3, 1, 35, -4, 7, 9, 0, 14, None, None, 5, 2, 10, None, -101, -5, None, 3, 1, 35, -4, 7, 9, 0, 14, None, None, 5, 2, 10, None, -101, -5, None, 3, 1, 35, -4, 7, 9, 0, 14, None, None, 5, 2, 10, None, -101, -5, None, 3, 1, 35, -4, 7, 9, 0, 14, None, None, 5, 2, 10, None, -101, -5, None, 3, 1, 35, -4, 7, 9, 0, 14, None, None, 5, 2, 10, None, -101, -5, None, 3, 1, 35, -4, 7, 9, 0, 14, None, None, 5, 2, 10, None, -101, -5, None, 3, 1, 35, -4, 7, 9, 0, 14, None, None, 5, 2, 10, None, -101, -5, None, 3, 1, 35, -4, 7, 9, 0, 14, None, None, 5, 2, 10, None, -101, -5, None, 3, 1, 35, -4, 7, 9, 0, 14, None, None, 5, 2, 10, None, -101, -5, None, 3, 1, 35, -4, 7, 9, 0, 14, None, None, 5, 2, 10, None, -101, -5, None, 3, 1, 35, -4, 7, 9, 0, 14, None, None, 5, 2, 10, None, -101, -5, None, 3, 1, 35, -4, 7, 9, 0, 14, None, None, 5, 2, 10, None, -101, -5, None, 3, 1, 35, -4, 7, 9, 0, 14, None, None, 5, 2, 10, None, -101, -5, None, 3, 1, 35, -4, 7, 9, 0, 14, None, None, 5, 2, 10, None, -101, -5, None, 3, 1, 35, -4, 7, 9, 0, 14, None, None, 5, 2, 10, None, -101, -5, None, 3, 1, 35, -4, 7, 9, 0, 14, None, None, 5, 2, 10, None, -101, -5, None, 3, 1, 35, -4, 7, 9, 0, 14, None, None, 5, 2, 10, None, -101, -5, None, 3, 1, 35, -4, 7, 9, 0, 14, None, None, 5, 2, 10, None, -101, -5, None, 3, 1, 35, -4, 7, 9, 0, 14, None, None, 5, 2, 10, None, -101, -5, None, 3, 1, 35, -4, 7, 9, 0, 14, None, None, 5, 2, 10, None, -101, -5, None, 3, 1, 35, -4, 7, 9, 0, 14, None, None, 5, 2, 10, None, -101, -5, None, 3, 1, 35, -4, 7, 9, 0, 14, None, None, 5, 2, 10, None, -101, -5, None, 3, 1, 35, -4, 7, 9, 0, 14, None, None, 5, 2, 10, None, -101, -5, None, 3, 1, 35, -4, 7, 9, 0, 14, None, None, 5, 2, 10, None, -101, -5, None, 3, 1, 35, -4, 7, 9, 0, 14, None, None, 5, 2, 10, None, -101, -5, None, 3, 1, 35, -4, 7, 9, 0, 14, None, None, 5, 2, 10, None, -101, -5, None, 3, 1, 35, -4, 7, 9, 0, 14, None, None, 5, 2, 10, None, -101, -5, None, 3, 1, 35, -4, 7, 9, 0, 14, None, None, 5, 2, 10, None, -101, -5, None, 3, 1, 35, -4, 7, 9, 0, 14, None, None, 5, 2, 10, None, -101, -5, None, 3, 1, 35, -4, 7, 9, 0, 14, None, None, 5, 2, 10, None, -101, -5, None, 3, 1, 35, -4, 7, 9, 0, 14, None, None, 5, 2, 10, None, -101, -5, None, 3, 1, 35, -4, 7, 9, 0, 14, None, None, 5, 2, 10, None, -101, -5, None, 3, 1, 35, -4, 7, 9, 0, 14, None, None, 5, 2, 10, None, -101, -5, None, 3, 1, 35, -4, 7, 9, 0, 14, None, None, 5, 2, 10, None, -101, -5, None, 3, 1, 35, -4, 7, 9, 0, 14, None, None, 5, 2, 10, None, -101, -5, None, 3, 1, 35, -4, 7, 9, 0, 14, None, None, 5, 2, 10, None, -101, -5, None, 3, 1, 35, -4, 7, 9, 0, 14, None, None, 5, 2, 10, None, -101, -5, None, 3, 1, 35, -4, 7, 9, 0, 14, None, None, 5, 2, 10, None, -101, -5, None, 3, 1, 35, -4, 7, 9, 0, 14, None, None, 5, 2, 10, None, -101, -5, None, 3, 1, 35, -4, 7, 9, 0, 14, None, None, 5, 2, 10, None, -101, -5, None, 3, 1, 35, -4, 7, 9, 0, 14, None, None, 5, 2, 10, None, -101, -5, None, 3, 1, 35, -4, 7, 9, 0, 14, None, None, 5, 2, 10, None, -101, -5, None, 3, 1, 35, -4, 7, 9, 0, 14, None, None, 5, 2, 10, None, -101, -5, None, 3, 1, 35, -4, 7, 9, 0, 14, None, None, 5, 2, 10, None, -101, -5, None, 3, 1, 35, -4, 7, 9, 0, 14, None, None, 5, 2, 10, None, -101, -5, None, 3, 1, 35, -4, 7, 9, 0, 14, None, None, 5, 2, 10, None, -101, -5, None, 3, 1, 35, -4, 7, 9, 0, 14, None, None, 5, 2, 10, None, -101, -5, None, 3, 1, 35, -4, 7, 9, 0, 14, None, None, 5, 2, 10, None, -101, -5, None, 3, 1, 35, -4, 7, 9, 0, 14, None, None, 5, 2, 10, None, -101, -5, None, 3, 1, 35, -4, 7, 9, 0, 14, None, None, 5, 2, 10, None, -101, -5, None, 3, 1, 35, -4, 7, 9, 0, 14, None, None, 5, 2, 10, None, -101, -5, None, 3, 1, 35, -4, 7, 9, 0, 14, None, None, 5, 2, 10, None, -101, -5, None, 3, 1, 35, -4, 7, 9, 0, 14, None, None, 5, 2, 10, None, -101, -5, None, 3, 1, 35, -4, 7, 9, 0, 14, None, None, 5, 2, 10, None, -101, -5, None, 3, 1, 35, -4, 7, 9, 0, 14, None, None, 5, 2, 10, None, -101, -5, None, 3, 1, 35, -4, 7, 9, 0, 14, None, None, 5, 2, 10, None, -101, -5, None, 3, 1, 35, -4, 7, 9, 0, 14, None, None, 5, 2, 10, None, -101, -5, None, 3, 1, 35, -4, 7, 9, 0, 14, None, None, 5, 2, 10, None, -101, -5, None, 3, 1, 35, -4, 7, 9, 0, 14, None, None, 5, 2, 10, None, -101, -5, None, 3, 1, 35, -4, 7, 9, 0, 14, None, None, 5, 2, 10, None, -101, -5, None, 3, 1, 35, -4, 7, 9, 0, 14, None, None, 5, 2, 10, None, -101, -5, None, 3, 1, 35]\n",
      "\n",
      "Bubble Sort:\n",
      "Function bubble_sort called with ([-4, 7, 9, 0, 14, None, None, 5, 2, 10, None, -101, -5, None, 3, 1, 35, -4, 7, 9, 0, 14, None, None, 5, 2, 10, None, -101, -5, None, 3, 1, 35, -4, 7, 9, 0, 14, None, None, 5, 2, 10, None, -101, -5, None, 3, 1, 35, -4, 7, 9, 0, 14, None, None, 5, 2, 10, None, -101, -5, None, 3, 1, 35, -4, 7, 9, 0, 14, None, None, 5, 2, 10, None, -101, -5, None, 3, 1, 35, -4, 7, 9, 0, 14, None, None, 5, 2, 10, None, -101, -5, None, 3, 1, 35, -4, 7, 9, 0, 14, None, None, 5, 2, 10, None, -101, -5, None, 3, 1, 35, -4, 7, 9, 0, 14, None, None, 5, 2, 10, None, -101, -5, None, 3, 1, 35, -4, 7, 9, 0, 14, None, None, 5, 2, 10, None, -101, -5, None, 3, 1, 35, -4, 7, 9, 0, 14, None, None, 5, 2, 10, None, -101, -5, None, 3, 1, 35, -4, 7, 9, 0, 14, None, None, 5, 2, 10, None, -101, -5, None, 3, 1, 35, -4, 7, 9, 0, 14, None, None, 5, 2, 10, None, -101, -5, None, 3, 1, 35, -4, 7, 9, 0, 14, None, None, 5, 2, 10, None, -101, -5, None, 3, 1, 35, -4, 7, 9, 0, 14, None, None, 5, 2, 10, None, -101, -5, None, 3, 1, 35, -4, 7, 9, 0, 14, None, None, 5, 2, 10, None, -101, -5, None, 3, 1, 35, -4, 7, 9, 0, 14, None, None, 5, 2, 10, None, -101, -5, None, 3, 1, 35, -4, 7, 9, 0, 14, None, None, 5, 2, 10, None, -101, -5, None, 3, 1, 35, -4, 7, 9, 0, 14, None, None, 5, 2, 10, None, -101, -5, None, 3, 1, 35, -4, 7, 9, 0, 14, None, None, 5, 2, 10, None, -101, -5, None, 3, 1, 35, -4, 7, 9, 0, 14, None, None, 5, 2, 10, None, -101, -5, None, 3, 1, 35, -4, 7, 9, 0, 14, None, None, 5, 2, 10, None, -101, -5, None, 3, 1, 35, -4, 7, 9, 0, 14, None, None, 5, 2, 10, None, -101, -5, None, 3, 1, 35, -4, 7, 9, 0, 14, None, None, 5, 2, 10, None, -101, -5, None, 3, 1, 35, -4, 7, 9, 0, 14, None, None, 5, 2, 10, None, -101, -5, None, 3, 1, 35, -4, 7, 9, 0, 14, None, None, 5, 2, 10, None, -101, -5, None, 3, 1, 35, -4, 7, 9, 0, 14, None, None, 5, 2, 10, None, -101, -5, None, 3, 1, 35, -4, 7, 9, 0, 14, None, None, 5, 2, 10, None, -101, -5, None, 3, 1, 35, -4, 7, 9, 0, 14, None, None, 5, 2, 10, None, -101, -5, None, 3, 1, 35, -4, 7, 9, 0, 14, None, None, 5, 2, 10, None, -101, -5, None, 3, 1, 35, -4, 7, 9, 0, 14, None, None, 5, 2, 10, None, -101, -5, None, 3, 1, 35, -4, 7, 9, 0, 14, None, None, 5, 2, 10, None, -101, -5, None, 3, 1, 35, -4, 7, 9, 0, 14, None, None, 5, 2, 10, None, -101, -5, None, 3, 1, 35, -4, 7, 9, 0, 14, None, None, 5, 2, 10, None, -101, -5, None, 3, 1, 35, -4, 7, 9, 0, 14, None, None, 5, 2, 10, None, -101, -5, None, 3, 1, 35, -4, 7, 9, 0, 14, None, None, 5, 2, 10, None, -101, -5, None, 3, 1, 35, -4, 7, 9, 0, 14, None, None, 5, 2, 10, None, -101, -5, None, 3, 1, 35, -4, 7, 9, 0, 14, None, None, 5, 2, 10, None, -101, -5, None, 3, 1, 35, -4, 7, 9, 0, 14, None, None, 5, 2, 10, None, -101, -5, None, 3, 1, 35, -4, 7, 9, 0, 14, None, None, 5, 2, 10, None, -101, -5, None, 3, 1, 35, -4, 7, 9, 0, 14, None, None, 5, 2, 10, None, -101, -5, None, 3, 1, 35, -4, 7, 9, 0, 14, None, None, 5, 2, 10, None, -101, -5, None, 3, 1, 35, -4, 7, 9, 0, 14, None, None, 5, 2, 10, None, -101, -5, None, 3, 1, 35, -4, 7, 9, 0, 14, None, None, 5, 2, 10, None, -101, -5, None, 3, 1, 35, -4, 7, 9, 0, 14, None, None, 5, 2, 10, None, -101, -5, None, 3, 1, 35, -4, 7, 9, 0, 14, None, None, 5, 2, 10, None, -101, -5, None, 3, 1, 35, -4, 7, 9, 0, 14, None, None, 5, 2, 10, None, -101, -5, None, 3, 1, 35, -4, 7, 9, 0, 14, None, None, 5, 2, 10, None, -101, -5, None, 3, 1, 35, -4, 7, 9, 0, 14, None, None, 5, 2, 10, None, -101, -5, None, 3, 1, 35, -4, 7, 9, 0, 14, None, None, 5, 2, 10, None, -101, -5, None, 3, 1, 35, -4, 7, 9, 0, 14, None, None, 5, 2, 10, None, -101, -5, None, 3, 1, 35, -4, 7, 9, 0, 14, None, None, 5, 2, 10, None, -101, -5, None, 3, 1, 35, -4, 7, 9, 0, 14, None, None, 5, 2, 10, None, -101, -5, None, 3, 1, 35, -4, 7, 9, 0, 14, None, None, 5, 2, 10, None, -101, -5, None, 3, 1, 35, -4, 7, 9, 0, 14, None, None, 5, 2, 10, None, -101, -5, None, 3, 1, 35, -4, 7, 9, 0, 14, None, None, 5, 2, 10, None, -101, -5, None, 3, 1, 35, -4, 7, 9, 0, 14, None, None, 5, 2, 10, None, -101, -5, None, 3, 1, 35, -4, 7, 9, 0, 14, None, None, 5, 2, 10, None, -101, -5, None, 3, 1, 35, -4, 7, 9, 0, 14, None, None, 5, 2, 10, None, -101, -5, None, 3, 1, 35, -4, 7, 9, 0, 14, None, None, 5, 2, 10, None, -101, -5, None, 3, 1, 35, -4, 7, 9, 0, 14, None, None, 5, 2, 10, None, -101, -5, None, 3, 1, 35, -4, 7, 9, 0, 14, None, None, 5, 2, 10, None, -101, -5, None, 3, 1, 35, -4, 7, 9, 0, 14, None, None, 5, 2, 10, None, -101, -5, None, 3, 1, 35, -4, 7, 9, 0, 14, None, None, 5, 2, 10, None, -101, -5, None, 3, 1, 35, -4, 7, 9, 0, 14, None, None, 5, 2, 10, None, -101, -5, None, 3, 1, 35, -4, 7, 9, 0, 14, None, None, 5, 2, 10, None, -101, -5, None, 3, 1, 35, -4, 7, 9, 0, 14, None, None, 5, 2, 10, None, -101, -5, None, 3, 1, 35, -4, 7, 9, 0, 14, None, None, 5, 2, 10, None, -101, -5, None, 3, 1, 35, -4, 7, 9, 0, 14, None, None, 5, 2, 10, None, -101, -5, None, 3, 1, 35, -4, 7, 9, 0, 14, None, None, 5, 2, 10, None, -101, -5, None, 3, 1, 35, -4, 7, 9, 0, 14, None, None, 5, 2, 10, None, -101, -5, None, 3, 1, 35, -4, 7, 9, 0, 14, None, None, 5, 2, 10, None, -101, -5, None, 3, 1, 35, -4, 7, 9, 0, 14, None, None, 5, 2, 10, None, -101, -5, None, 3, 1, 35, -4, 7, 9, 0, 14, None, None, 5, 2, 10, None, -101, -5, None, 3, 1, 35, -4, 7, 9, 0, 14, None, None, 5, 2, 10, None, -101, -5, None, 3, 1, 35, -4, 7, 9, 0, 14, None, None, 5, 2, 10, None, -101, -5, None, 3, 1, 35, -4, 7, 9, 0, 14, None, None, 5, 2, 10, None, -101, -5, None, 3, 1, 35, -4, 7, 9, 0, 14, None, None, 5, 2, 10, None, -101, -5, None, 3, 1, 35, -4, 7, 9, 0, 14, None, None, 5, 2, 10, None, -101, -5, None, 3, 1, 35, -4, 7, 9, 0, 14, None, None, 5, 2, 10, None, -101, -5, None, 3, 1, 35, -4, 7, 9, 0, 14, None, None, 5, 2, 10, None, -101, -5, None, 3, 1, 35, -4, 7, 9, 0, 14, None, None, 5, 2, 10, None, -101, -5, None, 3, 1, 35, -4, 7, 9, 0, 14, None, None, 5, 2, 10, None, -101, -5, None, 3, 1, 35, -4, 7, 9, 0, 14, None, None, 5, 2, 10, None, -101, -5, None, 3, 1, 35, -4, 7, 9, 0, 14, None, None, 5, 2, 10, None, -101, -5, None, 3, 1, 35, -4, 7, 9, 0, 14, None, None, 5, 2, 10, None, -101, -5, None, 3, 1, 35, -4, 7, 9, 0, 14, None, None, 5, 2, 10, None, -101, -5, None, 3, 1, 35, -4, 7, 9, 0, 14, None, None, 5, 2, 10, None, -101, -5, None, 3, 1, 35, -4, 7, 9, 0, 14, None, None, 5, 2, 10, None, -101, -5, None, 3, 1, 35, -4, 7, 9, 0, 14, None, None, 5, 2, 10, None, -101, -5, None, 3, 1, 35, -4, 7, 9, 0, 14, None, None, 5, 2, 10, None, -101, -5, None, 3, 1, 35, -4, 7, 9, 0, 14, None, None, 5, 2, 10, None, -101, -5, None, 3, 1, 35, -4, 7, 9, 0, 14, None, None, 5, 2, 10, None, -101, -5, None, 3, 1, 35, -4, 7, 9, 0, 14, None, None, 5, 2, 10, None, -101, -5, None, 3, 1, 35, -4, 7, 9, 0, 14, None, None, 5, 2, 10, None, -101, -5, None, 3, 1, 35, -4, 7, 9, 0, 14, None, None, 5, 2, 10, None, -101, -5, None, 3, 1, 35, -4, 7, 9, 0, 14, None, None, 5, 2, 10, None, -101, -5, None, 3, 1, 35, -4, 7, 9, 0, 14, None, None, 5, 2, 10, None, -101, -5, None, 3, 1, 35, -4, 7, 9, 0, 14, None, None, 5, 2, 10, None, -101, -5, None, 3, 1, 35, -4, 7, 9, 0, 14, None, None, 5, 2, 10, None, -101, -5, None, 3, 1, 35, -4, 7, 9, 0, 14, None, None, 5, 2, 10, None, -101, -5, None, 3, 1, 35],), {} took 0.2867259999984526 seconds.\n",
      "\n",
      "Insertion Sort:\n",
      "Function insertion_sort called with ([-4, 7, 9, 0, 14, None, None, 5, 2, 10, None, -101, -5, None, 3, 1, 35, -4, 7, 9, 0, 14, None, None, 5, 2, 10, None, -101, -5, None, 3, 1, 35, -4, 7, 9, 0, 14, None, None, 5, 2, 10, None, -101, -5, None, 3, 1, 35, -4, 7, 9, 0, 14, None, None, 5, 2, 10, None, -101, -5, None, 3, 1, 35, -4, 7, 9, 0, 14, None, None, 5, 2, 10, None, -101, -5, None, 3, 1, 35, -4, 7, 9, 0, 14, None, None, 5, 2, 10, None, -101, -5, None, 3, 1, 35, -4, 7, 9, 0, 14, None, None, 5, 2, 10, None, -101, -5, None, 3, 1, 35, -4, 7, 9, 0, 14, None, None, 5, 2, 10, None, -101, -5, None, 3, 1, 35, -4, 7, 9, 0, 14, None, None, 5, 2, 10, None, -101, -5, None, 3, 1, 35, -4, 7, 9, 0, 14, None, None, 5, 2, 10, None, -101, -5, None, 3, 1, 35, -4, 7, 9, 0, 14, None, None, 5, 2, 10, None, -101, -5, None, 3, 1, 35, -4, 7, 9, 0, 14, None, None, 5, 2, 10, None, -101, -5, None, 3, 1, 35, -4, 7, 9, 0, 14, None, None, 5, 2, 10, None, -101, -5, None, 3, 1, 35, -4, 7, 9, 0, 14, None, None, 5, 2, 10, None, -101, -5, None, 3, 1, 35, -4, 7, 9, 0, 14, None, None, 5, 2, 10, None, -101, -5, None, 3, 1, 35, -4, 7, 9, 0, 14, None, None, 5, 2, 10, None, -101, -5, None, 3, 1, 35, -4, 7, 9, 0, 14, None, None, 5, 2, 10, None, -101, -5, None, 3, 1, 35, -4, 7, 9, 0, 14, None, None, 5, 2, 10, None, -101, -5, None, 3, 1, 35, -4, 7, 9, 0, 14, None, None, 5, 2, 10, None, -101, -5, None, 3, 1, 35, -4, 7, 9, 0, 14, None, None, 5, 2, 10, None, -101, -5, None, 3, 1, 35, -4, 7, 9, 0, 14, None, None, 5, 2, 10, None, -101, -5, None, 3, 1, 35, -4, 7, 9, 0, 14, None, None, 5, 2, 10, None, -101, -5, None, 3, 1, 35, -4, 7, 9, 0, 14, None, None, 5, 2, 10, None, -101, -5, None, 3, 1, 35, -4, 7, 9, 0, 14, None, None, 5, 2, 10, None, -101, -5, None, 3, 1, 35, -4, 7, 9, 0, 14, None, None, 5, 2, 10, None, -101, -5, None, 3, 1, 35, -4, 7, 9, 0, 14, None, None, 5, 2, 10, None, -101, -5, None, 3, 1, 35, -4, 7, 9, 0, 14, None, None, 5, 2, 10, None, -101, -5, None, 3, 1, 35, -4, 7, 9, 0, 14, None, None, 5, 2, 10, None, -101, -5, None, 3, 1, 35, -4, 7, 9, 0, 14, None, None, 5, 2, 10, None, -101, -5, None, 3, 1, 35, -4, 7, 9, 0, 14, None, None, 5, 2, 10, None, -101, -5, None, 3, 1, 35, -4, 7, 9, 0, 14, None, None, 5, 2, 10, None, -101, -5, None, 3, 1, 35, -4, 7, 9, 0, 14, None, None, 5, 2, 10, None, -101, -5, None, 3, 1, 35, -4, 7, 9, 0, 14, None, None, 5, 2, 10, None, -101, -5, None, 3, 1, 35, -4, 7, 9, 0, 14, None, None, 5, 2, 10, None, -101, -5, None, 3, 1, 35, -4, 7, 9, 0, 14, None, None, 5, 2, 10, None, -101, -5, None, 3, 1, 35, -4, 7, 9, 0, 14, None, None, 5, 2, 10, None, -101, -5, None, 3, 1, 35, -4, 7, 9, 0, 14, None, None, 5, 2, 10, None, -101, -5, None, 3, 1, 35, -4, 7, 9, 0, 14, None, None, 5, 2, 10, None, -101, -5, None, 3, 1, 35, -4, 7, 9, 0, 14, None, None, 5, 2, 10, None, -101, -5, None, 3, 1, 35, -4, 7, 9, 0, 14, None, None, 5, 2, 10, None, -101, -5, None, 3, 1, 35, -4, 7, 9, 0, 14, None, None, 5, 2, 10, None, -101, -5, None, 3, 1, 35, -4, 7, 9, 0, 14, None, None, 5, 2, 10, None, -101, -5, None, 3, 1, 35, -4, 7, 9, 0, 14, None, None, 5, 2, 10, None, -101, -5, None, 3, 1, 35, -4, 7, 9, 0, 14, None, None, 5, 2, 10, None, -101, -5, None, 3, 1, 35, -4, 7, 9, 0, 14, None, None, 5, 2, 10, None, -101, -5, None, 3, 1, 35, -4, 7, 9, 0, 14, None, None, 5, 2, 10, None, -101, -5, None, 3, 1, 35, -4, 7, 9, 0, 14, None, None, 5, 2, 10, None, -101, -5, None, 3, 1, 35, -4, 7, 9, 0, 14, None, None, 5, 2, 10, None, -101, -5, None, 3, 1, 35, -4, 7, 9, 0, 14, None, None, 5, 2, 10, None, -101, -5, None, 3, 1, 35, -4, 7, 9, 0, 14, None, None, 5, 2, 10, None, -101, -5, None, 3, 1, 35, -4, 7, 9, 0, 14, None, None, 5, 2, 10, None, -101, -5, None, 3, 1, 35, -4, 7, 9, 0, 14, None, None, 5, 2, 10, None, -101, -5, None, 3, 1, 35, -4, 7, 9, 0, 14, None, None, 5, 2, 10, None, -101, -5, None, 3, 1, 35, -4, 7, 9, 0, 14, None, None, 5, 2, 10, None, -101, -5, None, 3, 1, 35, -4, 7, 9, 0, 14, None, None, 5, 2, 10, None, -101, -5, None, 3, 1, 35, -4, 7, 9, 0, 14, None, None, 5, 2, 10, None, -101, -5, None, 3, 1, 35, -4, 7, 9, 0, 14, None, None, 5, 2, 10, None, -101, -5, None, 3, 1, 35, -4, 7, 9, 0, 14, None, None, 5, 2, 10, None, -101, -5, None, 3, 1, 35, -4, 7, 9, 0, 14, None, None, 5, 2, 10, None, -101, -5, None, 3, 1, 35, -4, 7, 9, 0, 14, None, None, 5, 2, 10, None, -101, -5, None, 3, 1, 35, -4, 7, 9, 0, 14, None, None, 5, 2, 10, None, -101, -5, None, 3, 1, 35, -4, 7, 9, 0, 14, None, None, 5, 2, 10, None, -101, -5, None, 3, 1, 35, -4, 7, 9, 0, 14, None, None, 5, 2, 10, None, -101, -5, None, 3, 1, 35, -4, 7, 9, 0, 14, None, None, 5, 2, 10, None, -101, -5, None, 3, 1, 35, -4, 7, 9, 0, 14, None, None, 5, 2, 10, None, -101, -5, None, 3, 1, 35, -4, 7, 9, 0, 14, None, None, 5, 2, 10, None, -101, -5, None, 3, 1, 35, -4, 7, 9, 0, 14, None, None, 5, 2, 10, None, -101, -5, None, 3, 1, 35, -4, 7, 9, 0, 14, None, None, 5, 2, 10, None, -101, -5, None, 3, 1, 35, -4, 7, 9, 0, 14, None, None, 5, 2, 10, None, -101, -5, None, 3, 1, 35, -4, 7, 9, 0, 14, None, None, 5, 2, 10, None, -101, -5, None, 3, 1, 35, -4, 7, 9, 0, 14, None, None, 5, 2, 10, None, -101, -5, None, 3, 1, 35, -4, 7, 9, 0, 14, None, None, 5, 2, 10, None, -101, -5, None, 3, 1, 35, -4, 7, 9, 0, 14, None, None, 5, 2, 10, None, -101, -5, None, 3, 1, 35, -4, 7, 9, 0, 14, None, None, 5, 2, 10, None, -101, -5, None, 3, 1, 35, -4, 7, 9, 0, 14, None, None, 5, 2, 10, None, -101, -5, None, 3, 1, 35, -4, 7, 9, 0, 14, None, None, 5, 2, 10, None, -101, -5, None, 3, 1, 35, -4, 7, 9, 0, 14, None, None, 5, 2, 10, None, -101, -5, None, 3, 1, 35, -4, 7, 9, 0, 14, None, None, 5, 2, 10, None, -101, -5, None, 3, 1, 35, -4, 7, 9, 0, 14, None, None, 5, 2, 10, None, -101, -5, None, 3, 1, 35, -4, 7, 9, 0, 14, None, None, 5, 2, 10, None, -101, -5, None, 3, 1, 35, -4, 7, 9, 0, 14, None, None, 5, 2, 10, None, -101, -5, None, 3, 1, 35, -4, 7, 9, 0, 14, None, None, 5, 2, 10, None, -101, -5, None, 3, 1, 35, -4, 7, 9, 0, 14, None, None, 5, 2, 10, None, -101, -5, None, 3, 1, 35, -4, 7, 9, 0, 14, None, None, 5, 2, 10, None, -101, -5, None, 3, 1, 35, -4, 7, 9, 0, 14, None, None, 5, 2, 10, None, -101, -5, None, 3, 1, 35, -4, 7, 9, 0, 14, None, None, 5, 2, 10, None, -101, -5, None, 3, 1, 35, -4, 7, 9, 0, 14, None, None, 5, 2, 10, None, -101, -5, None, 3, 1, 35, -4, 7, 9, 0, 14, None, None, 5, 2, 10, None, -101, -5, None, 3, 1, 35, -4, 7, 9, 0, 14, None, None, 5, 2, 10, None, -101, -5, None, 3, 1, 35, -4, 7, 9, 0, 14, None, None, 5, 2, 10, None, -101, -5, None, 3, 1, 35, -4, 7, 9, 0, 14, None, None, 5, 2, 10, None, -101, -5, None, 3, 1, 35, -4, 7, 9, 0, 14, None, None, 5, 2, 10, None, -101, -5, None, 3, 1, 35, -4, 7, 9, 0, 14, None, None, 5, 2, 10, None, -101, -5, None, 3, 1, 35, -4, 7, 9, 0, 14, None, None, 5, 2, 10, None, -101, -5, None, 3, 1, 35, -4, 7, 9, 0, 14, None, None, 5, 2, 10, None, -101, -5, None, 3, 1, 35, -4, 7, 9, 0, 14, None, None, 5, 2, 10, None, -101, -5, None, 3, 1, 35, -4, 7, 9, 0, 14, None, None, 5, 2, 10, None, -101, -5, None, 3, 1, 35, -4, 7, 9, 0, 14, None, None, 5, 2, 10, None, -101, -5, None, 3, 1, 35, -4, 7, 9, 0, 14, None, None, 5, 2, 10, None, -101, -5, None, 3, 1, 35, -4, 7, 9, 0, 14, None, None, 5, 2, 10, None, -101, -5, None, 3, 1, 35],), {} took 0.11905939999996917 seconds.\n",
      "\n",
      "Selection Sort:\n",
      "Function selection_sort called with ([-4, 7, 9, 0, 14, None, None, 5, 2, 10, None, -101, -5, None, 3, 1, 35, -4, 7, 9, 0, 14, None, None, 5, 2, 10, None, -101, -5, None, 3, 1, 35, -4, 7, 9, 0, 14, None, None, 5, 2, 10, None, -101, -5, None, 3, 1, 35, -4, 7, 9, 0, 14, None, None, 5, 2, 10, None, -101, -5, None, 3, 1, 35, -4, 7, 9, 0, 14, None, None, 5, 2, 10, None, -101, -5, None, 3, 1, 35, -4, 7, 9, 0, 14, None, None, 5, 2, 10, None, -101, -5, None, 3, 1, 35, -4, 7, 9, 0, 14, None, None, 5, 2, 10, None, -101, -5, None, 3, 1, 35, -4, 7, 9, 0, 14, None, None, 5, 2, 10, None, -101, -5, None, 3, 1, 35, -4, 7, 9, 0, 14, None, None, 5, 2, 10, None, -101, -5, None, 3, 1, 35, -4, 7, 9, 0, 14, None, None, 5, 2, 10, None, -101, -5, None, 3, 1, 35, -4, 7, 9, 0, 14, None, None, 5, 2, 10, None, -101, -5, None, 3, 1, 35, -4, 7, 9, 0, 14, None, None, 5, 2, 10, None, -101, -5, None, 3, 1, 35, -4, 7, 9, 0, 14, None, None, 5, 2, 10, None, -101, -5, None, 3, 1, 35, -4, 7, 9, 0, 14, None, None, 5, 2, 10, None, -101, -5, None, 3, 1, 35, -4, 7, 9, 0, 14, None, None, 5, 2, 10, None, -101, -5, None, 3, 1, 35, -4, 7, 9, 0, 14, None, None, 5, 2, 10, None, -101, -5, None, 3, 1, 35, -4, 7, 9, 0, 14, None, None, 5, 2, 10, None, -101, -5, None, 3, 1, 35, -4, 7, 9, 0, 14, None, None, 5, 2, 10, None, -101, -5, None, 3, 1, 35, -4, 7, 9, 0, 14, None, None, 5, 2, 10, None, -101, -5, None, 3, 1, 35, -4, 7, 9, 0, 14, None, None, 5, 2, 10, None, -101, -5, None, 3, 1, 35, -4, 7, 9, 0, 14, None, None, 5, 2, 10, None, -101, -5, None, 3, 1, 35, -4, 7, 9, 0, 14, None, None, 5, 2, 10, None, -101, -5, None, 3, 1, 35, -4, 7, 9, 0, 14, None, None, 5, 2, 10, None, -101, -5, None, 3, 1, 35, -4, 7, 9, 0, 14, None, None, 5, 2, 10, None, -101, -5, None, 3, 1, 35, -4, 7, 9, 0, 14, None, None, 5, 2, 10, None, -101, -5, None, 3, 1, 35, -4, 7, 9, 0, 14, None, None, 5, 2, 10, None, -101, -5, None, 3, 1, 35, -4, 7, 9, 0, 14, None, None, 5, 2, 10, None, -101, -5, None, 3, 1, 35, -4, 7, 9, 0, 14, None, None, 5, 2, 10, None, -101, -5, None, 3, 1, 35, -4, 7, 9, 0, 14, None, None, 5, 2, 10, None, -101, -5, None, 3, 1, 35, -4, 7, 9, 0, 14, None, None, 5, 2, 10, None, -101, -5, None, 3, 1, 35, -4, 7, 9, 0, 14, None, None, 5, 2, 10, None, -101, -5, None, 3, 1, 35, -4, 7, 9, 0, 14, None, None, 5, 2, 10, None, -101, -5, None, 3, 1, 35, -4, 7, 9, 0, 14, None, None, 5, 2, 10, None, -101, -5, None, 3, 1, 35, -4, 7, 9, 0, 14, None, None, 5, 2, 10, None, -101, -5, None, 3, 1, 35, -4, 7, 9, 0, 14, None, None, 5, 2, 10, None, -101, -5, None, 3, 1, 35, -4, 7, 9, 0, 14, None, None, 5, 2, 10, None, -101, -5, None, 3, 1, 35, -4, 7, 9, 0, 14, None, None, 5, 2, 10, None, -101, -5, None, 3, 1, 35, -4, 7, 9, 0, 14, None, None, 5, 2, 10, None, -101, -5, None, 3, 1, 35, -4, 7, 9, 0, 14, None, None, 5, 2, 10, None, -101, -5, None, 3, 1, 35, -4, 7, 9, 0, 14, None, None, 5, 2, 10, None, -101, -5, None, 3, 1, 35, -4, 7, 9, 0, 14, None, None, 5, 2, 10, None, -101, -5, None, 3, 1, 35, -4, 7, 9, 0, 14, None, None, 5, 2, 10, None, -101, -5, None, 3, 1, 35, -4, 7, 9, 0, 14, None, None, 5, 2, 10, None, -101, -5, None, 3, 1, 35, -4, 7, 9, 0, 14, None, None, 5, 2, 10, None, -101, -5, None, 3, 1, 35, -4, 7, 9, 0, 14, None, None, 5, 2, 10, None, -101, -5, None, 3, 1, 35, -4, 7, 9, 0, 14, None, None, 5, 2, 10, None, -101, -5, None, 3, 1, 35, -4, 7, 9, 0, 14, None, None, 5, 2, 10, None, -101, -5, None, 3, 1, 35, -4, 7, 9, 0, 14, None, None, 5, 2, 10, None, -101, -5, None, 3, 1, 35, -4, 7, 9, 0, 14, None, None, 5, 2, 10, None, -101, -5, None, 3, 1, 35, -4, 7, 9, 0, 14, None, None, 5, 2, 10, None, -101, -5, None, 3, 1, 35, -4, 7, 9, 0, 14, None, None, 5, 2, 10, None, -101, -5, None, 3, 1, 35, -4, 7, 9, 0, 14, None, None, 5, 2, 10, None, -101, -5, None, 3, 1, 35, -4, 7, 9, 0, 14, None, None, 5, 2, 10, None, -101, -5, None, 3, 1, 35, -4, 7, 9, 0, 14, None, None, 5, 2, 10, None, -101, -5, None, 3, 1, 35, -4, 7, 9, 0, 14, None, None, 5, 2, 10, None, -101, -5, None, 3, 1, 35, -4, 7, 9, 0, 14, None, None, 5, 2, 10, None, -101, -5, None, 3, 1, 35, -4, 7, 9, 0, 14, None, None, 5, 2, 10, None, -101, -5, None, 3, 1, 35, -4, 7, 9, 0, 14, None, None, 5, 2, 10, None, -101, -5, None, 3, 1, 35, -4, 7, 9, 0, 14, None, None, 5, 2, 10, None, -101, -5, None, 3, 1, 35, -4, 7, 9, 0, 14, None, None, 5, 2, 10, None, -101, -5, None, 3, 1, 35, -4, 7, 9, 0, 14, None, None, 5, 2, 10, None, -101, -5, None, 3, 1, 35, -4, 7, 9, 0, 14, None, None, 5, 2, 10, None, -101, -5, None, 3, 1, 35, -4, 7, 9, 0, 14, None, None, 5, 2, 10, None, -101, -5, None, 3, 1, 35, -4, 7, 9, 0, 14, None, None, 5, 2, 10, None, -101, -5, None, 3, 1, 35, -4, 7, 9, 0, 14, None, None, 5, 2, 10, None, -101, -5, None, 3, 1, 35, -4, 7, 9, 0, 14, None, None, 5, 2, 10, None, -101, -5, None, 3, 1, 35, -4, 7, 9, 0, 14, None, None, 5, 2, 10, None, -101, -5, None, 3, 1, 35, -4, 7, 9, 0, 14, None, None, 5, 2, 10, None, -101, -5, None, 3, 1, 35, -4, 7, 9, 0, 14, None, None, 5, 2, 10, None, -101, -5, None, 3, 1, 35, -4, 7, 9, 0, 14, None, None, 5, 2, 10, None, -101, -5, None, 3, 1, 35, -4, 7, 9, 0, 14, None, None, 5, 2, 10, None, -101, -5, None, 3, 1, 35, -4, 7, 9, 0, 14, None, None, 5, 2, 10, None, -101, -5, None, 3, 1, 35, -4, 7, 9, 0, 14, None, None, 5, 2, 10, None, -101, -5, None, 3, 1, 35, -4, 7, 9, 0, 14, None, None, 5, 2, 10, None, -101, -5, None, 3, 1, 35, -4, 7, 9, 0, 14, None, None, 5, 2, 10, None, -101, -5, None, 3, 1, 35, -4, 7, 9, 0, 14, None, None, 5, 2, 10, None, -101, -5, None, 3, 1, 35, -4, 7, 9, 0, 14, None, None, 5, 2, 10, None, -101, -5, None, 3, 1, 35, -4, 7, 9, 0, 14, None, None, 5, 2, 10, None, -101, -5, None, 3, 1, 35, -4, 7, 9, 0, 14, None, None, 5, 2, 10, None, -101, -5, None, 3, 1, 35, -4, 7, 9, 0, 14, None, None, 5, 2, 10, None, -101, -5, None, 3, 1, 35, -4, 7, 9, 0, 14, None, None, 5, 2, 10, None, -101, -5, None, 3, 1, 35, -4, 7, 9, 0, 14, None, None, 5, 2, 10, None, -101, -5, None, 3, 1, 35, -4, 7, 9, 0, 14, None, None, 5, 2, 10, None, -101, -5, None, 3, 1, 35, -4, 7, 9, 0, 14, None, None, 5, 2, 10, None, -101, -5, None, 3, 1, 35, -4, 7, 9, 0, 14, None, None, 5, 2, 10, None, -101, -5, None, 3, 1, 35, -4, 7, 9, 0, 14, None, None, 5, 2, 10, None, -101, -5, None, 3, 1, 35, -4, 7, 9, 0, 14, None, None, 5, 2, 10, None, -101, -5, None, 3, 1, 35, -4, 7, 9, 0, 14, None, None, 5, 2, 10, None, -101, -5, None, 3, 1, 35, -4, 7, 9, 0, 14, None, None, 5, 2, 10, None, -101, -5, None, 3, 1, 35, -4, 7, 9, 0, 14, None, None, 5, 2, 10, None, -101, -5, None, 3, 1, 35, -4, 7, 9, 0, 14, None, None, 5, 2, 10, None, -101, -5, None, 3, 1, 35, -4, 7, 9, 0, 14, None, None, 5, 2, 10, None, -101, -5, None, 3, 1, 35, -4, 7, 9, 0, 14, None, None, 5, 2, 10, None, -101, -5, None, 3, 1, 35, -4, 7, 9, 0, 14, None, None, 5, 2, 10, None, -101, -5, None, 3, 1, 35, -4, 7, 9, 0, 14, None, None, 5, 2, 10, None, -101, -5, None, 3, 1, 35, -4, 7, 9, 0, 14, None, None, 5, 2, 10, None, -101, -5, None, 3, 1, 35, -4, 7, 9, 0, 14, None, None, 5, 2, 10, None, -101, -5, None, 3, 1, 35, -4, 7, 9, 0, 14, None, None, 5, 2, 10, None, -101, -5, None, 3, 1, 35, -4, 7, 9, 0, 14, None, None, 5, 2, 10, None, -101, -5, None, 3, 1, 35, -4, 7, 9, 0, 14, None, None, 5, 2, 10, None, -101, -5, None, 3, 1, 35],), {} took 0.13176199999725213 seconds.\n",
      "\n",
      "----------------------------------------------------------------------------------------------------\n",
      "\n",
      "Test Case 11: ['banana', 'apple', 'orange', 'grape', 'mango']\n",
      "\n",
      "Bubble Sort:\n",
      "Function bubble_sort called with (['banana', 'apple', 'orange', 'grape', 'mango'],), {} took 1.5000001440057531e-05 seconds.\n",
      "\n",
      "Insertion Sort:\n",
      "Function insertion_sort called with (['banana', 'apple', 'orange', 'grape', 'mango'],), {} took 8.39999847812578e-06 seconds.\n",
      "\n",
      "Selection Sort:\n",
      "Function selection_sort called with (['banana', 'apple', 'orange', 'grape', 'mango'],), {} took 1.0700001439545304e-05 seconds.\n",
      "\n",
      "----------------------------------------------------------------------------------------------------\n"
     ]
    }
   ],
   "source": [
    "test_cases = [\n",
    "    [] * 100,  # Empty list\n",
    "    [1, 2, 3, 4, 5] * 100,  # Already sorted list\n",
    "    [5, 4, 3, 2, 1] * 100,  # Reverse sorted list\n",
    "    [3, 1, 4, 1, 5, 9, 2, 6, 5] * 100,  # List with duplicates\n",
    "    [-3, 1, -4, 0, 2, -1] * 100,  # List with negative numbers\n",
    "    [3, 0, -2, 1, 5, 0, 4] * 100,  # List with zero\n",
    "    [42],  # Single element list\n",
    "    [100, 20, 50, 30, 80, 10, 90, 60, 40, 70] * 100,  # Large list\n",
    "    [None, 3, None, 1, 2, None] * 100,  # List with None values\n",
    "    [-4, 7, 9, 0, 14, None, None, 5, 2, 10, None, -101, -5, None, 3, 1, 35] * 100, # Combination of positive, negative, zero and None values\n",
    "    ['banana', 'apple', 'orange', 'grape', 'mango']  # List with strings\n",
    "]\n",
    "\n",
    "for idx, case in enumerate(test_cases):\n",
    "    print(f\"\\nTest Case {idx + 1}: {case}\")\n",
    "    print()\n",
    "    print(\"Bubble Sort:\")\n",
    "    bubble_sort(case.copy())\n",
    "    print()\n",
    "    print(\"Insertion Sort:\")\n",
    "    insertion_sort(case.copy())\n",
    "    print()\n",
    "    print(\"Selection Sort:\")\n",
    "    selection_sort(case.copy())\n",
    "    print()\n",
    "    print('-' * 100)"
   ]
  },
  {
   "cell_type": "markdown",
   "id": "9cd49c47-dd4d-4078-802b-ad474434b8e9",
   "metadata": {},
   "source": [
    "In the above code, inside the `log_execution(func)` function, observe that the `wrapper(*args, **kwargs)` function is decorated with `@functool.wraps(func)`.\n",
    "\n",
    "What is `@functools.wraps(func)`? Let us first try to understand it by writing another piece of code."
   ]
  },
  {
   "cell_type": "markdown",
   "id": "791f9f8a-0d21-49d2-98ca-db7124ab4f5b",
   "metadata": {},
   "source": [
    "```Python\n",
    "def outer(func):\n",
    "    def wrapper(*args, **kwargs):\n",
    "        print(func.__name__ + ' will be called after printing this particular line!')\n",
    "        result = func(*args, **kwargs)\n",
    "        print(func.__name__ + ' has been called and executed! The result will be printed on the next line.')\n",
    "        return result\n",
    "    return wrapper\n",
    "\n",
    "@outer\n",
    "def foo(x):\n",
    "    '''\n",
    "    Docstring of foo: This function foo computes the factorial of a number.\n",
    "    '''\n",
    "    fact = 1\n",
    "    for i in range(1, x + 1):\n",
    "        fact = fact * i\n",
    "    return fact\n",
    "\n",
    "print(foo(5))\n",
    "```"
   ]
  },
  {
   "cell_type": "markdown",
   "id": "5a35744d-5d36-4c72-893f-1fe2caed78f1",
   "metadata": {},
   "source": [
    "\n",
    "\n",
    "The output of the `print` statement will be: <br>\n",
    "```\n",
    "foo will be called after printing this particular line!\n",
    "foo has been called and executed! The result will be printed on the next line.\n",
    "120\n",
    "```"
   ]
  },
  {
   "cell_type": "markdown",
   "id": "c0593e68-691e-4cd1-9a8c-fcf54b5b5a27",
   "metadata": {},
   "source": [
    "Let us now print the name and the docstring of the function directly and observe what we get."
   ]
  },
  {
   "cell_type": "markdown",
   "id": "e069ad9d-7c79-4825-8475-e7908c0cd87c",
   "metadata": {},
   "source": [
    "```Python\n",
    "print(foo.__name__) # Let us try to find out what output we will get when we try to print the name of foo using the __name__ dunder method.\n",
    "\n",
    "print(foo.__doc__) # Let us try to find out what output we will get when we try to print the docstring using the __doc__ dunder method.\n",
    "```"
   ]
  },
  {
   "cell_type": "markdown",
   "id": "1653c827-959e-49d6-8151-71d8bfbe93a8",
   "metadata": {},
   "source": [
    "\n",
    "The output of the above `print` statements will be: <br>\n",
    "```\n",
    "wrapper\n",
    "None\n",
    "```"
   ]
  },
  {
   "cell_type": "markdown",
   "id": "bf31b7b5-417b-4945-82cd-f89bc19057e8",
   "metadata": {},
   "source": [
    "Let us now try to view the documentation of the function `foo(x)` by using the `help()` function.\n",
    "\n",
    "```Python\n",
    "help(foo)\n",
    "```\n",
    "\n",
    "The output will be:\n",
    "\n",
    "```\n",
    "Help on function wrapper in module __main__:\n",
    "\n",
    "wrapper(*args, **kwargs)\n",
    "```"
   ]
  },
  {
   "cell_type": "markdown",
   "id": "39dee1f7-07a0-4402-a0e1-56c20fe04ff8",
   "metadata": {},
   "source": [
    "Why are we not able to retrieve the name, docstring and the documentation of the function `foo(x)` even when we are using explicit dunder methods to do so?\n",
    "\n",
    "The reason is, the function `foo(x)` has been replaced with the function `wrapper(*args, **kwargs)` because the function `foo(x)` has been decorated with `@outer`.\n",
    "\n",
    "In Python, decorators are used to modify the behavior of a function or method. When a decorator wraps a function, it essentially replaces the original function with a new function (`foo(x)` is replaced by the `wrapper(*args, **kwargs)` function in this case) that adds additional functionality.\n",
    "\n",
    "Hence we are not able retrieve the name, docstring and the documentation of `foo(x)`.\n",
    "\n",
    "What if we want to preserve all the above mentioned details of the function `foo(x)`?\n",
    "\n",
    "This is where `@functools.wraps(func)` comes in. \n",
    "\n",
    "`@functools.wraps(func)` is a decorator applied to the wrapper function. Its purpose is to update the wrapper function to look more like the original `func` function by copying attributes such as `__name__`, `__doc__`, etc., from `func` to `wrapper`. This helps in preserving metadata of the original function, which is useful for debugging and introspection.\n",
    "\n",
    "By using `@functools.wraps(func)`, methods like `help()` and tools such as IDEs, can correctly identify the decorated function's signature and documentation.\n",
    "\n",
    "Without `@functools.wraps(func)`, the wrapper function would not retain the name and docstring of the original func, which can be confusing and less informative when debugging or using documentation tools.\n",
    "\n",
    "The output of the code given in this section with and without the use of `@functools.wraps(func)` has been demonstrated below:"
   ]
  },
  {
   "cell_type": "markdown",
   "id": "85c1d574-9ff2-4fa7-8c61-374503caa7cb",
   "metadata": {},
   "source": [
    "### Without `@functools.wraps(func)`"
   ]
  },
  {
   "cell_type": "code",
   "execution_count": 14,
   "id": "95b7ba12-dee6-4afd-8fe7-0f015889c2f1",
   "metadata": {},
   "outputs": [
    {
     "name": "stdout",
     "output_type": "stream",
     "text": [
      "foo will be called after printing this particular line!\n",
      "foo has been called and executed! The result will be printed on the next line.\n",
      "120\n",
      "--------------------------------------------------\n",
      "wrapper\n",
      "None\n",
      "--------------------------------------------------\n",
      "Help on function wrapper in module __main__:\n",
      "\n",
      "wrapper(*args, **kwargs)\n",
      "\n"
     ]
    }
   ],
   "source": [
    "def outer(func):\n",
    "    def wrapper(*args, **kwargs):\n",
    "        print(func.__name__ + ' will be called after printing this particular line!')\n",
    "        result = func(*args, **kwargs)\n",
    "        print(func.__name__ + ' has been called and executed! The result will be printed on the next line.')\n",
    "        return result\n",
    "    return wrapper\n",
    "\n",
    "@outer\n",
    "def foo(x):\n",
    "    '''\n",
    "    Docstring of foo: This function foo computes the factorial of a number.\n",
    "    '''\n",
    "    fact = 1\n",
    "    for i in range(1, x + 1):\n",
    "        fact = fact * i\n",
    "    return fact\n",
    "    \n",
    "print(foo(5))\n",
    "print('-' * 50)\n",
    "print(foo.__name__)\n",
    "print(foo.__doc__)\n",
    "print('-' * 50)\n",
    "help(foo)"
   ]
  },
  {
   "cell_type": "markdown",
   "id": "4496e0e8-5157-47b1-a781-5ffa87b16b5d",
   "metadata": {},
   "source": [
    "### With `@functools.wraps(func)`"
   ]
  },
  {
   "cell_type": "code",
   "execution_count": 15,
   "id": "24cf0af3-4d90-4812-8b61-6dfb92658c79",
   "metadata": {},
   "outputs": [
    {
     "name": "stdout",
     "output_type": "stream",
     "text": [
      "foo will be called after printing this particular line!\n",
      "foo has been called and executed! The result will be printed on the next line.\n",
      "120\n",
      "--------------------------------------------------\n",
      "foo\n",
      "\n",
      "    Docstring of foo: This function foo computes the factorial of a number.\n",
      "    \n",
      "--------------------------------------------------\n",
      "Help on function foo in module __main__:\n",
      "\n",
      "foo(x)\n",
      "    Docstring of foo: This function foo computes the factorial of a number.\n",
      "\n"
     ]
    }
   ],
   "source": [
    "def outer(func):\n",
    "    @functools.wraps(func)\n",
    "    def wrapper(*args, **kwargs):\n",
    "        print(func.__name__ + ' will be called after printing this particular line!')\n",
    "        result = func(*args, **kwargs)\n",
    "        print(func.__name__ + ' has been called and executed! The result will be printed on the next line.')\n",
    "        return result\n",
    "    return wrapper\n",
    "\n",
    "@outer\n",
    "def foo(x):\n",
    "    '''\n",
    "    Docstring of foo: This function foo computes the factorial of a number.\n",
    "    '''\n",
    "    fact = 1\n",
    "    for i in range(1, x + 1):\n",
    "        fact = fact * i\n",
    "    return fact\n",
    "    \n",
    "print(foo(5))\n",
    "print('-' * 50)\n",
    "print(foo.__name__)\n",
    "print(foo.__doc__)\n",
    "print('-' * 50)\n",
    "help(foo)"
   ]
  },
  {
   "cell_type": "markdown",
   "id": "1f273249-c9cc-4e6f-aff6-42b6f230f1fb",
   "metadata": {},
   "source": [
    "## Problem 6: Access Control Decorator\n",
    "\n",
    "<span style=\"font-size:20px;\">Create a decorator that restricts access to a function based on a user role.</span>"
   ]
  },
  {
   "cell_type": "code",
   "execution_count": 16,
   "id": "77513284-79fb-4e47-a786-9b5a5c28f031",
   "metadata": {},
   "outputs": [],
   "source": [
    "class ItemNotFoundError(Exception):\n",
    "    def __init__(self, item, message = 'Item not found in dictionary'):\n",
    "        self.item = item\n",
    "        self.message = message\n",
    "        super().__init__(self.message)\n",
    "\n",
    "    def __str__(self):\n",
    "        return f'{self.message}: {self.item}'\n",
    "\n",
    "# Declare a sample database to work with.\n",
    "users_database = {\n",
    "    'Alice': 'Admin',\n",
    "    'Bob': 'Moderator',\n",
    "    'Charlie': 'Guest',\n",
    "    'Mark': 'Editor',\n",
    "    'John': 'Contributor',\n",
    "    'Jane': 'Subscriber',\n",
    "    'Smith': 'Admin',\n",
    "    'Ford': 'Moderator',\n",
    "    'Miller': 'Guest'\n",
    "}\n",
    "\n",
    "# Solution to the problem starts here.\n",
    "def get_user_role(username):\n",
    "    return users_database.get(username)\n",
    "\n",
    "def restrict_access(allowed_roles):\n",
    "    def decorator(func):\n",
    "        @functools.wraps(func)\n",
    "        def wrapper(*args, **kwargs):\n",
    "            username = kwargs.get('username')\n",
    "            given_user_role = kwargs.get('role')\n",
    "            stored_user_role = get_user_role(username)\n",
    "\n",
    "            if username not in users_database.keys():\n",
    "                raise ItemNotFoundError(username)\n",
    "\n",
    "            if (username in users_database.keys()) and (given_user_role != stored_user_role):\n",
    "                raise ValueError(f'User \\'{username}\\' does not have the role of \\'{given_user_role}\\' in the database.')\n",
    "\n",
    "            if stored_user_role not in allowed_roles:\n",
    "                raise PermissionError(f'User \\'{username}\\' with role \\'{stored_user_role}\\' is not allowed to carry out this operation.')\n",
    "\n",
    "            return func(*args, **kwargs)\n",
    "        return wrapper\n",
    "    return decorator"
   ]
  },
  {
   "cell_type": "code",
   "execution_count": 17,
   "id": "b980d902-4178-4b5e-bf28-9d4c230e26e2",
   "metadata": {},
   "outputs": [],
   "source": [
    "@restrict_access('Admin')\n",
    "def add_user(username = None, role = None):\n",
    "    new_username = input('Enter the name of the new user: ')\n",
    "    new_role = input('Enter the role of the new user: ')\n",
    "    users_database[new_username] = new_role\n",
    "    print('New User Added' + '\\n')\n",
    "    return users_database"
   ]
  },
  {
   "cell_type": "code",
   "execution_count": 18,
   "id": "04e7de0c-d924-4074-8d8d-8caf7a0e8206",
   "metadata": {},
   "outputs": [],
   "source": [
    "@restrict_access(['Admin', 'Moderator'])\n",
    "def delete_user(username = None, role = None):\n",
    "    to_del_user = input('Enter the name of the user to be deleted: ')\n",
    "\n",
    "    if to_del_user not in users_database.keys():\n",
    "        return f'{to_del_user} not found in the database.'\n",
    "\n",
    "    if to_del_user == username:\n",
    "        return f'You cannot delete yourself.'\n",
    "\n",
    "    if role == 'Moderator' and users_database[to_del_user] == 'Admin':\n",
    "        return f'A moderator cannot delete an admin.'\n",
    "\n",
    "    print('User Deleted!' + '\\n')\n",
    "\n",
    "    users_database.pop(to_del_user)\n",
    "\n",
    "    return users_database"
   ]
  },
  {
   "cell_type": "code",
   "execution_count": 19,
   "id": "aeee85e7-8091-4ff1-9cc6-b7f56baea6f6",
   "metadata": {},
   "outputs": [
    {
     "name": "stdin",
     "output_type": "stream",
     "text": [
      "Enter the name of the new user:  Steve\n",
      "Enter the role of the new user:  Moderator\n"
     ]
    },
    {
     "name": "stdout",
     "output_type": "stream",
     "text": [
      "New User Added\n",
      "\n"
     ]
    },
    {
     "data": {
      "text/plain": [
       "{'Alice': 'Admin',\n",
       " 'Bob': 'Moderator',\n",
       " 'Charlie': 'Guest',\n",
       " 'Mark': 'Editor',\n",
       " 'John': 'Contributor',\n",
       " 'Jane': 'Subscriber',\n",
       " 'Smith': 'Admin',\n",
       " 'Ford': 'Moderator',\n",
       " 'Miller': 'Guest',\n",
       " 'Steve': 'Moderator'}"
      ]
     },
     "execution_count": 19,
     "metadata": {},
     "output_type": "execute_result"
    }
   ],
   "source": [
    "add_user(username = 'Smith', role = 'Admin')"
   ]
  },
  {
   "cell_type": "code",
   "execution_count": 20,
   "id": "fc251963-59af-415f-b221-76a9656360d8",
   "metadata": {},
   "outputs": [
    {
     "name": "stdin",
     "output_type": "stream",
     "text": [
      "Enter the name of the new user:  Amy\n",
      "Enter the role of the new user:  Guest\n"
     ]
    },
    {
     "name": "stdout",
     "output_type": "stream",
     "text": [
      "New User Added\n",
      "\n"
     ]
    },
    {
     "data": {
      "text/plain": [
       "{'Alice': 'Admin',\n",
       " 'Bob': 'Moderator',\n",
       " 'Charlie': 'Guest',\n",
       " 'Mark': 'Editor',\n",
       " 'John': 'Contributor',\n",
       " 'Jane': 'Subscriber',\n",
       " 'Smith': 'Admin',\n",
       " 'Ford': 'Moderator',\n",
       " 'Miller': 'Guest',\n",
       " 'Steve': 'Moderator',\n",
       " 'Amy': 'Guest'}"
      ]
     },
     "execution_count": 20,
     "metadata": {},
     "output_type": "execute_result"
    }
   ],
   "source": [
    "add_user(username = 'Alice', role = 'Admin')"
   ]
  },
  {
   "cell_type": "code",
   "execution_count": 21,
   "id": "029f12ef-6630-4361-ba08-b382e64ac99a",
   "metadata": {},
   "outputs": [
    {
     "name": "stdin",
     "output_type": "stream",
     "text": [
      "Enter the name of the user to be deleted:  Mark\n"
     ]
    },
    {
     "name": "stdout",
     "output_type": "stream",
     "text": [
      "User Deleted!\n",
      "\n"
     ]
    },
    {
     "data": {
      "text/plain": [
       "{'Alice': 'Admin',\n",
       " 'Bob': 'Moderator',\n",
       " 'Charlie': 'Guest',\n",
       " 'John': 'Contributor',\n",
       " 'Jane': 'Subscriber',\n",
       " 'Smith': 'Admin',\n",
       " 'Ford': 'Moderator',\n",
       " 'Miller': 'Guest',\n",
       " 'Steve': 'Moderator',\n",
       " 'Amy': 'Guest'}"
      ]
     },
     "execution_count": 21,
     "metadata": {},
     "output_type": "execute_result"
    }
   ],
   "source": [
    "delete_user(username = 'Ford', role = 'Moderator')"
   ]
  },
  {
   "cell_type": "code",
   "execution_count": null,
   "id": "5a9d3591-9b69-4f43-a993-1ca27c319239",
   "metadata": {},
   "outputs": [],
   "source": []
  }
 ],
 "metadata": {
  "kernelspec": {
   "display_name": "Python 3 (ipykernel)",
   "language": "python",
   "name": "python3"
  },
  "language_info": {
   "codemirror_mode": {
    "name": "ipython",
    "version": 3
   },
   "file_extension": ".py",
   "mimetype": "text/x-python",
   "name": "python",
   "nbconvert_exporter": "python",
   "pygments_lexer": "ipython3",
   "version": "3.11.5"
  }
 },
 "nbformat": 4,
 "nbformat_minor": 5
}
