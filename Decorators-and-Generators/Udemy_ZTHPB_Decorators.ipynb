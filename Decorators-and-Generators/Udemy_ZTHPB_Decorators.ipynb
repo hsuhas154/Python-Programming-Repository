{
 "cells": [
  {
   "cell_type": "markdown",
   "id": "293ec0d3-f7f1-4c8c-b337-90330b6f939f",
   "metadata": {},
   "source": [
    "Decorators are a very powerful and useful tool in Python since it allows programmers to modify the behaviour of a function or class. Decorators allow us to wrap another function in order to extend the behaviour of the wrapped function, without permanently modifying it."
   ]
  },
  {
   "cell_type": "markdown",
   "id": "5f0a8292-ede7-49b7-a322-cd7afbc6c5ef",
   "metadata": {},
   "source": [
    "### Treating functions as objects"
   ]
  },
  {
   "cell_type": "code",
   "execution_count": 1,
   "id": "601dd11e-c800-475f-93fe-fc009c786c3e",
   "metadata": {},
   "outputs": [],
   "source": [
    "def inverter(number):\n",
    "     return ~number"
   ]
  },
  {
   "cell_type": "code",
   "execution_count": 2,
   "id": "b0c70faa-9e1f-4761-a891-1b2186cf1bc8",
   "metadata": {},
   "outputs": [
    {
     "data": {
      "text/plain": [
       "-11"
      ]
     },
     "execution_count": 2,
     "metadata": {},
     "output_type": "execute_result"
    }
   ],
   "source": [
    "inverter(10)"
   ]
  },
  {
   "cell_type": "code",
   "execution_count": 3,
   "id": "46728e5a-34b2-4450-8e7f-0e73e4520b43",
   "metadata": {},
   "outputs": [
    {
     "data": {
      "text/plain": [
       "-11"
      ]
     },
     "execution_count": 3,
     "metadata": {},
     "output_type": "execute_result"
    }
   ],
   "source": [
    "bitwise_not = inverter\n",
    "\n",
    "bitwise_not(10)"
   ]
  },
  {
   "cell_type": "markdown",
   "id": "1570534d-302f-4235-86ac-7e88bf9fb14b",
   "metadata": {},
   "source": [
    "### Passing a function as an argument"
   ]
  },
  {
   "cell_type": "code",
   "execution_count": 4,
   "id": "efad735a-6617-4d0b-a6eb-6daa54284e1c",
   "metadata": {},
   "outputs": [
    {
     "name": "stdout",
     "output_type": "stream",
     "text": [
      "390625\n",
      "25.0\n"
     ]
    }
   ],
   "source": [
    "def square(val):\n",
    "    return val ** 2\n",
    "\n",
    "def square_root(val):\n",
    "    return val ** 0.5\n",
    "\n",
    "def exponentiation(func):\n",
    "    result = func(625)\n",
    "    print(result)\n",
    "\n",
    "exponentiation(square)\n",
    "exponentiation(square_root)"
   ]
  },
  {
   "cell_type": "markdown",
   "id": "cc7c79b4-710e-4ecc-b0b2-7687961f33d2",
   "metadata": {},
   "source": [
    "### Returning functions from another function"
   ]
  },
  {
   "cell_type": "code",
   "execution_count": 5,
   "id": "aba51d62-d94d-46fd-992a-44447d5e43df",
   "metadata": {},
   "outputs": [
    {
     "name": "stdout",
     "output_type": "stream",
     "text": [
      "500\n"
     ]
    }
   ],
   "source": [
    "def arithmetic(a):\n",
    "    def addition(b):\n",
    "        return a + b\n",
    "\n",
    "    return addition\n",
    "\n",
    "sum_with_a_300 = arithmetic(300)\n",
    "\n",
    "print(sum_with_a_300(200))"
   ]
  },
  {
   "cell_type": "code",
   "execution_count": 6,
   "id": "cfa78c2b-8f78-4623-9d9c-3317a82a9401",
   "metadata": {},
   "outputs": [
    {
     "data": {
      "text/plain": [
       "1000"
      ]
     },
     "execution_count": 6,
     "metadata": {},
     "output_type": "execute_result"
    }
   ],
   "source": [
    "# Notice that the below two statements are equivalent to the single statement arithmetic(300)(200)\n",
    "# sum_with_a_300 = arithmetic(300)\n",
    "# print(sum_with_a_300(200))\n",
    "# Let us demonstrate it with different values of a and b\n",
    "\n",
    "arithmetic(750)(250)"
   ]
  },
  {
   "cell_type": "markdown",
   "id": "895d03e4-12f8-4dfc-8b98-ea59a861992a",
   "metadata": {},
   "source": [
    "### Let us now construct a Decorator"
   ]
  },
  {
   "cell_type": "code",
   "execution_count": 7,
   "id": "ea7eabe8-af7b-4728-b9d0-4a35b091fd4a",
   "metadata": {},
   "outputs": [
    {
     "name": "stdout",
     "output_type": "stream",
     "text": [
      "Inside the inner_product function and before the execution of the function passed as the argument to the outside function.\n",
      "The product of 150 and 200 is 30000\n",
      "Inside the inner_product function. Execution of the function passed as the argument to the outside function completed.\n"
     ]
    }
   ],
   "source": [
    "import time\n",
    "\n",
    "# Defining a decorator.\n",
    "def product_decorator(func):\n",
    "\n",
    "    # The function inner_product() is called wrapper function.\n",
    "    # A wrapper function is a function in which the argument passed to the outer function is called.\n",
    "    # Wrapper function can access the functions passed as arguments, in this case, func.\n",
    "    def inner_product():\n",
    "        print('Inside the inner_product function and before the execution of the function passed as the argument to the outside function.')\n",
    "        time.sleep(3)\n",
    "\n",
    "        func()\n",
    "\n",
    "        time.sleep(3)\n",
    "        print('Inside the inner_product function. Execution of the function passed as the argument to the outside function completed.')\n",
    "\n",
    "    return inner_product\n",
    "\n",
    "\n",
    "# Defining the function to be called inside the wrapper function.\n",
    "def multiply():\n",
    "    print(f'The product of 150 and 200 is {150 * 200}') \n",
    "\n",
    "# We are first passing the multiply function as an argument to product_decorator()\n",
    "# Next we assign the same to the label 'multiply' so that we can call multiply() later which in turn gets executed in the wrapper function.\n",
    "multiply = product_decorator(multiply)\n",
    "\n",
    "# Calling the multiply function.\n",
    "multiply()"
   ]
  },
  {
   "cell_type": "code",
   "execution_count": 8,
   "id": "2c3f742f-5bee-4771-bb3a-08025483ab75",
   "metadata": {},
   "outputs": [
    {
     "name": "stdout",
     "output_type": "stream",
     "text": [
      "Inside the inner_product function and before the execution of the function passed as the argument to the outside function.\n",
      "The product of 150 and 200 is 30000\n",
      "Inside the inner_product function. Execution of the function passed as the argument to the outside function completed.\n"
     ]
    }
   ],
   "source": [
    "# We can achieve the above tasks performed by assignment and calling operations by the use of a decorator, like this:\n",
    "\n",
    "@product_decorator\n",
    "def multiply():\n",
    "    print(f'The product of 150 and 200 is {150 * 200}') \n",
    "\n",
    "multiply()"
   ]
  },
  {
   "cell_type": "code",
   "execution_count": 9,
   "id": "ba75bc53-1eb9-4f75-ac10-5f82a0013f63",
   "metadata": {},
   "outputs": [],
   "source": [
    "# Example from GeeksForGeeks\n",
    "import math\n",
    "\n",
    "def calculate_time(func):\n",
    "\n",
    "    def inner1(*args):\n",
    "\n",
    "        # Store the time before execution\n",
    "        begin = time.time()\n",
    "\n",
    "        func(*args)\n",
    "\n",
    "        # Storing time after execution\n",
    "        end = time.time()\n",
    "\n",
    "        print(f'Total time taken for executing {func.__name__} = {end - begin}.')\n",
    "\n",
    "    return inner1\n",
    "\n",
    "# Using decorator:\n",
    "@calculate_time\n",
    "def factorial(num):\n",
    "    # Sleep for 2 seconds as the calculation is very quick, hence the time difference computed in wrapper function is significant.\n",
    "    time.sleep(2)\n",
    "    print(f'The factorial of {num} is {math.factorial(num)}.')"
   ]
  },
  {
   "cell_type": "code",
   "execution_count": 10,
   "id": "207e2db1-8d65-4f20-b819-7158ca39ced8",
   "metadata": {},
   "outputs": [
    {
     "name": "stdout",
     "output_type": "stream",
     "text": [
      "The factorial of 10 is 3628800.\n",
      "Total time taken for executing factorial = 2.00991153717041.\n"
     ]
    }
   ],
   "source": [
    "factorial(10)"
   ]
  },
  {
   "cell_type": "markdown",
   "id": "77eaccb1-82bb-4b1f-9faa-3dc71cc70f53",
   "metadata": {},
   "source": [
    "### What if a function returns something or an argument is passed to the function?"
   ]
  },
  {
   "cell_type": "code",
   "execution_count": 11,
   "id": "aacb4a5a-ae34-4b1a-b3a0-257188ff55b8",
   "metadata": {},
   "outputs": [],
   "source": [
    "# Example from GeeksForGeeks\n",
    "\n",
    "def decorator_function(func):\n",
    "\n",
    "    def inner1(*args, **kwargs):\n",
    "        print('Before Execution of func().')\n",
    "\n",
    "        # Getting the returned value\n",
    "        returned_value = func(*args, **kwargs)\n",
    "        \n",
    "        print('After Execution of func().')\n",
    "\n",
    "        return returned_value\n",
    "\n",
    "    return inner1\n",
    "\n",
    "# Using decorator:\n",
    "@decorator_function\n",
    "def addition(a, b):\n",
    "    print('Inside the wrapper function.')\n",
    "    return a + b"
   ]
  },
  {
   "cell_type": "code",
   "execution_count": 12,
   "id": "48957842-343b-40e2-a09b-994c7e93fb07",
   "metadata": {},
   "outputs": [
    {
     "name": "stdout",
     "output_type": "stream",
     "text": [
      "Before Execution of func().\n",
      "Inside the wrapper function.\n",
      "After Execution of func().\n",
      "Sum = 334.\n"
     ]
    }
   ],
   "source": [
    "print(f'Sum = {addition(234, 100)}.')"
   ]
  },
  {
   "cell_type": "markdown",
   "id": "e5d1d920-5a67-41dd-b670-35e91c13b949",
   "metadata": {},
   "source": [
    "In the above examples, you may notice a keen difference in the parameters of the inner function. The inner function takes the argument as `*args` and `**kwargs` which means that a tuple of positional arguments or a dictionary of keyword arguments can be passed of any length. This makes it a general decorator that can decorate a function having any number of arguments."
   ]
  },
  {
   "cell_type": "markdown",
   "id": "f208b6bc-4245-40ea-9502-0b2af9d1a0ca",
   "metadata": {},
   "source": [
    "### Chaining Decorators"
   ]
  },
  {
   "cell_type": "code",
   "execution_count": 13,
   "id": "3834aa96-568d-4076-a15a-72e2ae852c03",
   "metadata": {},
   "outputs": [
    {
     "name": "stdout",
     "output_type": "stream",
     "text": [
      "400\n",
      "200\n"
     ]
    }
   ],
   "source": [
    "def decor1(func):\n",
    "    def inner1():\n",
    "        x = func()\n",
    "        return x * x\n",
    "    \n",
    "    return inner1\n",
    "\n",
    "def decor(func):\n",
    "    def inner():\n",
    "        x = func()\n",
    "        return 2 * x\n",
    "\n",
    "    return inner\n",
    "\n",
    "@decor1\n",
    "@decor\n",
    "def num1():\n",
    "    return 10\n",
    "\n",
    "@decor\n",
    "@decor1\n",
    "def num2():\n",
    "    return 10\n",
    "\n",
    "print(num1())\n",
    "print(num2())"
   ]
  },
  {
   "cell_type": "code",
   "execution_count": null,
   "id": "5e93a00d-490d-49d7-9e87-903c75c645ec",
   "metadata": {},
   "outputs": [],
   "source": []
  }
 ],
 "metadata": {
  "kernelspec": {
   "display_name": "Python 3 (ipykernel)",
   "language": "python",
   "name": "python3"
  },
  "language_info": {
   "codemirror_mode": {
    "name": "ipython",
    "version": 3
   },
   "file_extension": ".py",
   "mimetype": "text/x-python",
   "name": "python",
   "nbconvert_exporter": "python",
   "pygments_lexer": "ipython3",
   "version": "3.11.5"
  }
 },
 "nbformat": 4,
 "nbformat_minor": 5
}
