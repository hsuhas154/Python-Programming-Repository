{
 "cells": [
  {
   "cell_type": "code",
   "execution_count": 1,
   "id": "0b834f04-8633-4f22-9abc-3029dfaefef4",
   "metadata": {},
   "outputs": [],
   "source": [
    "def insertion_sort(arr):\n",
    "    # First, move all None values to the front\n",
    "    none_count = arr.count(None)\n",
    "    arr = [x for x in arr if x is not None]\n",
    "    arr = [None] * none_count + arr\n",
    "\n",
    "    length = len(arr) # Compute the length of the list\n",
    "    \n",
    "    # Now, apply insertion sort to the non-None part.\n",
    "    for i in range(none_count + 1, length):\n",
    "        temp = arr[i] \n",
    "        j = i - 1\n",
    "\n",
    "        while (j >= none_count and arr[j] > temp):\n",
    "            arr[j + 1] = arr[j] # Right shift the greater element by 1 place.\n",
    "            j -= 1 # Decrement j by 1\n",
    "\n",
    "        arr[j + 1] = temp\n",
    "\n",
    "    return arr"
   ]
  },
  {
   "cell_type": "code",
   "execution_count": 2,
   "id": "ec055d17-75a8-4d75-96e7-8602906a5769",
   "metadata": {},
   "outputs": [],
   "source": [
    "test_cases = [\n",
    "    [],  # Empty list\n",
    "    [1, 2, 3, 4, 5],  # Already sorted list\n",
    "    [5, 4, 3, 2, 1],  # Reverse sorted list\n",
    "    [3, 1, 4, 1, 5, 9, 2, 6, 5],  # List with duplicates\n",
    "    [-3, 1, -4, 0, 2, -1],  # List with negative numbers\n",
    "    [3, 0, -2, 1, 5, 0, 4],  # List with zero\n",
    "    [42],  # Single element list\n",
    "    [100, 20, 50, 30, 80, 10, 90, 60, 40, 70],  # Large list\n",
    "    [None, 3, None, 1, 2, None],  # List with None values\n",
    "    [-4, 7, 9, 0, 14, None, None, 5, 2, 10, None, -101, -5, None, 3, 1, 35], # Combination of positive, negative, zero and None values\n",
    "    ['banana', 'apple', 'orange', 'grape']  # List with strings\n",
    "]"
   ]
  },
  {
   "cell_type": "code",
   "execution_count": 3,
   "id": "66949e1b-abcc-4909-b47b-5779416280f1",
   "metadata": {},
   "outputs": [
    {
     "name": "stdout",
     "output_type": "stream",
     "text": [
      "Original: []\n",
      "Sorted: []\n",
      "----------------------------------------\n",
      "Original: [1, 2, 3, 4, 5]\n",
      "Sorted: [1, 2, 3, 4, 5]\n",
      "----------------------------------------\n",
      "Original: [5, 4, 3, 2, 1]\n",
      "Sorted: [1, 2, 3, 4, 5]\n",
      "----------------------------------------\n",
      "Original: [3, 1, 4, 1, 5, 9, 2, 6, 5]\n",
      "Sorted: [1, 1, 2, 3, 4, 5, 5, 6, 9]\n",
      "----------------------------------------\n",
      "Original: [-3, 1, -4, 0, 2, -1]\n",
      "Sorted: [-4, -3, -1, 0, 1, 2]\n",
      "----------------------------------------\n",
      "Original: [3, 0, -2, 1, 5, 0, 4]\n",
      "Sorted: [-2, 0, 0, 1, 3, 4, 5]\n",
      "----------------------------------------\n",
      "Original: [42]\n",
      "Sorted: [42]\n",
      "----------------------------------------\n",
      "Original: [100, 20, 50, 30, 80, 10, 90, 60, 40, 70]\n",
      "Sorted: [10, 20, 30, 40, 50, 60, 70, 80, 90, 100]\n",
      "----------------------------------------\n",
      "Original: [None, 3, None, 1, 2, None]\n",
      "Sorted: [None, None, None, 1, 2, 3]\n",
      "----------------------------------------\n",
      "Original: [-4, 7, 9, 0, 14, None, None, 5, 2, 10, None, -101, -5, None, 3, 1, 35]\n",
      "Sorted: [None, None, None, None, -101, -5, -4, 0, 1, 2, 3, 5, 7, 9, 10, 14, 35]\n",
      "----------------------------------------\n",
      "Original: ['banana', 'apple', 'orange', 'grape']\n",
      "Sorted: ['apple', 'banana', 'grape', 'orange']\n",
      "----------------------------------------\n"
     ]
    }
   ],
   "source": [
    "for test in test_cases:\n",
    "    print(f'Original: {test}')\n",
    "    result = insertion_sort(test.copy())\n",
    "    print(f'Sorted: {result}')\n",
    "    print('-' * 40)"
   ]
  },
  {
   "cell_type": "code",
   "execution_count": null,
   "id": "5c06164c-3014-4149-abf6-e2ed0f0c0399",
   "metadata": {},
   "outputs": [],
   "source": []
  }
 ],
 "metadata": {
  "kernelspec": {
   "display_name": "Python 3 (ipykernel)",
   "language": "python",
   "name": "python3"
  },
  "language_info": {
   "codemirror_mode": {
    "name": "ipython",
    "version": 3
   },
   "file_extension": ".py",
   "mimetype": "text/x-python",
   "name": "python",
   "nbconvert_exporter": "python",
   "pygments_lexer": "ipython3",
   "version": "3.11.5"
  }
 },
 "nbformat": 4,
 "nbformat_minor": 5
}
