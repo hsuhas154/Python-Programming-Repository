{
 "cells": [
  {
   "cell_type": "code",
   "execution_count": 1,
   "id": "6299c6f7-eb7d-4be8-baf6-ae1ceac336fd",
   "metadata": {},
   "outputs": [],
   "source": [
    "def bubble_sort(arr):\n",
    "\n",
    "    none_count = arr.count(None)\n",
    "    arr = [x for x in arr if x is not None]\n",
    "    arr = [None] * none_count + arr\n",
    "\n",
    "    k = len(arr) - 1\n",
    "\n",
    "    for i in range(none_count, k, 1):\n",
    "        swapped = False\n",
    "        \n",
    "        for j in range(none_count, k - i + none_count, 1):\n",
    "            if arr[j] > arr[j + 1]:\n",
    "                arr[j], arr[j + 1] = arr[j + 1], arr[j]\n",
    "                swapped = True\n",
    "                \n",
    "        if not swapped:\n",
    "            break\n",
    "\n",
    "    return arr"
   ]
  },
  {
   "cell_type": "code",
   "execution_count": 2,
   "id": "e42fb928-3ad4-476c-85f9-56ef7163c0bb",
   "metadata": {},
   "outputs": [
    {
     "name": "stdout",
     "output_type": "stream",
     "text": [
      "Original: []\n",
      "Sorted: []\n",
      "----------------------------------------\n",
      "Original: [1, 2, 3, 4, 5]\n",
      "Sorted: [1, 2, 3, 4, 5]\n",
      "----------------------------------------\n",
      "Original: [5, 4, 3, 2, 1]\n",
      "Sorted: [1, 2, 3, 4, 5]\n",
      "----------------------------------------\n",
      "Original: [3, 1, 4, 1, 5, 9, 2, 6, 5]\n",
      "Sorted: [1, 1, 2, 3, 4, 5, 5, 6, 9]\n",
      "----------------------------------------\n",
      "Original: [-3, 1, -4, 0, 2, -1]\n",
      "Sorted: [-4, -3, -1, 0, 1, 2]\n",
      "----------------------------------------\n",
      "Original: [3, 0, -2, 1, 5, 0, 4]\n",
      "Sorted: [-2, 0, 0, 1, 3, 4, 5]\n",
      "----------------------------------------\n",
      "Original: [42]\n",
      "Sorted: [42]\n",
      "----------------------------------------\n",
      "Original: [100, 20, 50, 30, 80, 10, 90, 60, 40, 70]\n",
      "Sorted: [10, 20, 30, 40, 50, 60, 70, 80, 90, 100]\n",
      "----------------------------------------\n",
      "Original: [None, 3, None, 1, 2, None]\n",
      "Sorted: [None, None, None, 1, 2, 3]\n",
      "----------------------------------------\n",
      "Original: [-4, 7, 9, 0, 14, None, None, 5, 2, 10, None, -101, -5, None, 3, 1, 35]\n",
      "Sorted: [None, None, None, None, -101, -5, -4, 0, 1, 2, 3, 5, 7, 9, 10, 14, 35]\n",
      "----------------------------------------\n",
      "Original: ['banana', 'apple', 'orange', 'grape']\n",
      "Sorted: ['apple', 'banana', 'grape', 'orange']\n",
      "----------------------------------------\n"
     ]
    }
   ],
   "source": [
    "# Test cases\n",
    "test_cases = [\n",
    "    [], # Empty list\n",
    "    [1, 2, 3, 4, 5], # Already sorted list\n",
    "    [5, 4, 3, 2, 1], # Reverse sorted list\n",
    "    [3, 1, 4, 1, 5, 9, 2, 6, 5], # List with duplicates\n",
    "    [-3, 1, -4, 0, 2, -1], # List with negative numbers\n",
    "    [3, 0, -2, 1, 5, 0, 4], # List with zero\n",
    "    [42], # Single element list\n",
    "    [100, 20, 50, 30, 80, 10, 90, 60, 40, 70], # Large list\n",
    "    [None, 3, None, 1, 2, None], # List with None values\n",
    "    [-4, 7, 9, 0, 14, None, None, 5, 2, 10, None, -101, -5, None, 3, 1, 35], # Combination of positive, negative, zero and None values\n",
    "    ['banana', 'apple', 'orange', 'grape'] # List with strings\n",
    "]\n",
    "\n",
    "for test in test_cases:\n",
    "    print(f\"Original: {test}\")\n",
    "    sorted_test = bubble_sort(test.copy())\n",
    "    print(f\"Sorted: {sorted_test}\")\n",
    "    print('-' * 40)\n"
   ]
  },
  {
   "cell_type": "markdown",
   "id": "bcf5a0b8-64d9-4626-80b6-c779cae3b988",
   "metadata": {},
   "source": [
    "### Shallow copy and Deep copy"
   ]
  },
  {
   "cell_type": "markdown",
   "id": "0c04ea5b-46f8-4710-a750-667c9593498e",
   "metadata": {},
   "source": [
    "### Shallow copy"
   ]
  },
  {
   "cell_type": "markdown",
   "id": "258bd7f1-7be0-4264-86c7-7d59c7ef2ef6",
   "metadata": {},
   "source": [
    "A shallow copy creates a new object, but inserts references into it to the objects found in the original. This means that the shallow copy is not fully independent of the original object. If the original object contains other objects (like lists within lists), the references to those inner objects are copied, not the objects themselves.\n",
    "\n",
    "In summary, shallow copy copies the object but not the nested objects. Any modification to nested objects will be reflected in both the original and the copy."
   ]
  },
  {
   "cell_type": "code",
   "execution_count": 3,
   "id": "a8a93de9-f3eb-4638-9d46-f1eb6e112f21",
   "metadata": {},
   "outputs": [
    {
     "name": "stdout",
     "output_type": "stream",
     "text": [
      "Original List: [1, 2, [3, 4], 5, 6]\n",
      "Shallow Copied List: [1, 2, [3, 4], 5, 6]\n",
      "\n",
      "Modified Original List: [1, 2, ['a', 4], 5, 6]\n",
      "Modified Shallow Copied List: [1, 99, ['a', 4], 5, 6]\n"
     ]
    }
   ],
   "source": [
    "import copy\n",
    "\n",
    "original_list = [1, 2, [3, 4], 5, 6]\n",
    "shallow_copied_list = copy.copy(original_list)\n",
    "\n",
    "print(\"Original List:\", original_list)\n",
    "print(\"Shallow Copied List:\", shallow_copied_list)\n",
    "\n",
    "# Modify a random immutable integer in the shallow copy\n",
    "shallow_copied_list[1] = 99\n",
    "\n",
    "# Modify the nested list in the shallow copy\n",
    "shallow_copied_list[2][0] = 'a'\n",
    "\n",
    "print()\n",
    "print(\"Modified Original List:\", original_list)\n",
    "print(\"Modified Shallow Copied List:\", shallow_copied_list) "
   ]
  },
  {
   "cell_type": "code",
   "execution_count": 4,
   "id": "f3b6e7cf-9633-4189-8869-221f1510b1e8",
   "metadata": {},
   "outputs": [
    {
     "name": "stdout",
     "output_type": "stream",
     "text": [
      "Original Dict: {'a': 1, 'b': [2, 3], 'c': 4095, 'd': 999}\n",
      "Shallow Copied Dict: {'a': 1, 'b': [2, 3], 'c': 4095, 'd': 999}\n",
      "\n",
      "Modified Original Dict: {'a': 1, 'b': ['x', 3], 'c': 4095, 'd': 999}\n",
      "Modified Shallow Copied Dict: {'a': 100, 'b': ['x', 3], 'c': 4095, 'd': 999}\n"
     ]
    }
   ],
   "source": [
    "original_dict = {'a': 1, 'b': [2, 3], 'c': 0XFFF, 'd': 999}\n",
    "shallow_copied_dict = copy.copy(original_dict)\n",
    "\n",
    "print(\"Original Dict:\", original_dict)\n",
    "print(\"Shallow Copied Dict:\", shallow_copied_dict)\n",
    "\n",
    "# Modify the value of a key which has a simple immutable value\n",
    "shallow_copied_dict['a'] = 100\n",
    "\n",
    "# Modify the list in the shallow copy\n",
    "shallow_copied_dict['b'][0] = 'x'\n",
    "\n",
    "print()\n",
    "print(\"Modified Original Dict:\", original_dict)\n",
    "print(\"Modified Shallow Copied Dict:\", shallow_copied_dict)\n"
   ]
  },
  {
   "cell_type": "markdown",
   "id": "d2289b2b-0087-4fc6-8a32-5f767773027c",
   "metadata": {},
   "source": [
    "### Deep copy"
   ]
  },
  {
   "cell_type": "markdown",
   "id": "d24c5194-12ca-4f2f-ba3c-ebfbe153c40c",
   "metadata": {},
   "source": [
    "A deep copy creates a new object and recursively adds copies of the objects found in the original. This means that the deep copy is fully independent of the original object, including all nested objects.\n",
    "\n",
    "In summary, Deep Copy recursively copies all nested objects. Modifications to the copy do not affect the original object."
   ]
  },
  {
   "cell_type": "code",
   "execution_count": 5,
   "id": "599ca4b6-4876-4630-a236-b598bec531c3",
   "metadata": {},
   "outputs": [
    {
     "name": "stdout",
     "output_type": "stream",
     "text": [
      "Original List: [1, 2, [3, 4], 5, 6]\n",
      "Deep Copied List: [1, 2, [3, 4], 5, 6]\n",
      "\n",
      "Modified Original List: [1, 2, [3, 4], 5, 6]\n",
      "Modified Deep Copied List: [1, 99, ['a', 4], 5, 6]\n"
     ]
    }
   ],
   "source": [
    "original_list = [1, 2, [3, 4], 5, 6]\n",
    "deep_copied_list = copy.deepcopy(original_list)\n",
    "\n",
    "print(\"Original List:\", original_list)\n",
    "print(\"Deep Copied List:\", deep_copied_list)\n",
    "\n",
    "# Modify a random immutable integer in the shallow copy\n",
    "deep_copied_list[1] = 99\n",
    "\n",
    "# Modify the nested list in the shallow copy\n",
    "deep_copied_list[2][0] = 'a'\n",
    "\n",
    "print()\n",
    "print(\"Modified Original List:\", original_list)\n",
    "print(\"Modified Deep Copied List:\", deep_copied_list) "
   ]
  },
  {
   "cell_type": "code",
   "execution_count": 6,
   "id": "7ded4de7-6c09-494a-87b3-2b8d84036eea",
   "metadata": {},
   "outputs": [
    {
     "name": "stdout",
     "output_type": "stream",
     "text": [
      "Original Dict: {'a': 1, 'b': [2, 3], 'c': 43690, 'd': 2457}\n",
      "Deep Copied Dict: {'a': 1, 'b': [2, 3], 'c': 43690, 'd': 2457}\n",
      "\n",
      "Modified Original Dict: {'a': 1, 'b': [2, 3], 'c': 43690, 'd': 2457}\n",
      "Modified Deep Copied Dict: {'a': 100, 'b': ['x', 3], 'c': 43690, 'd': 2457}\n"
     ]
    }
   ],
   "source": [
    "original_dict = {'a': 1, 'b': [2, 3], 'c': 0XAAAA, 'd': 0X999}\n",
    "deep_copied_dict = copy.deepcopy(original_dict)\n",
    "\n",
    "print(\"Original Dict:\", original_dict)\n",
    "print(\"Deep Copied Dict:\", deep_copied_dict)\n",
    "\n",
    "# Modify the value of a key which has a simple immutable value\n",
    "deep_copied_dict['a'] = 100\n",
    "\n",
    "# Modify the list in the shallow copy\n",
    "deep_copied_dict['b'][0] = 'x'\n",
    "\n",
    "print()\n",
    "print(\"Modified Original Dict:\", original_dict)\n",
    "print(\"Modified Deep Copied Dict:\", deep_copied_dict)"
   ]
  },
  {
   "cell_type": "markdown",
   "id": "cb952ca0-7dcf-408f-a94f-17481d49c2ec",
   "metadata": {},
   "source": [
    "### Determining the time complexities using the Big - $\\mathcal{O}$ notation"
   ]
  },
  {
   "cell_type": "code",
   "execution_count": 7,
   "id": "43764c3b-a669-49f5-84a2-e78396dbc7e1",
   "metadata": {},
   "outputs": [
    {
     "name": "stdout",
     "output_type": "stream",
     "text": [
      "Value of i = 0\n",
      "\n",
      "Value of i = 1\n",
      "count = 1\n",
      "\n",
      "Value of i = 2\n",
      "count = 2\n",
      "count = 3\n",
      "\n",
      "Value of i = 3\n",
      "count = 4\n",
      "count = 5\n",
      "count = 6\n",
      "\n",
      "Value of i = 4\n",
      "count = 7\n",
      "count = 8\n",
      "count = 9\n",
      "count = 10\n",
      "\n"
     ]
    }
   ],
   "source": [
    "count = 0\n",
    "\n",
    "for i in range(0, 5):\n",
    "    print(f'Value of i = {i}')\n",
    "    for j in range(0, i):\n",
    "        count += 1\n",
    "        print(f'count = {count}')\n",
    "    print()"
   ]
  },
  {
   "cell_type": "markdown",
   "id": "59b24969-639a-4dee-9105-343e825fd98a",
   "metadata": {},
   "source": [
    "Let us examine above, how many times the statement `count += 1` ran. <br><br>\n",
    "As we can see from the output above,  <br>\n",
    "when $i = 0$, the statement runs 0 times, <br>\n",
    "when $i = 1$, the statement runs 1 time, <br>\n",
    "when $i = 2$, the statement runs 2 times, <br>\n",
    "when $i = 3$, the statement runs 3 times, <br>\n",
    "when $i = 4$, the statement runs 4 times and so on.\n",
    "\n",
    "Hence the statement `count += 1` runs $0 + 1 + 2 + 3 + 4 + ... + (n - 1)$ times.\n",
    "\n",
    "So we have, <br><br> \n",
    "$f(n) = \\frac{n(n - 1)}{2}$ <br><br>\n",
    "$f(n) = \\frac{1}{2} n^2 - \\frac{1}{2} n$\n",
    "\n",
    "Hence, the time complexity is $ \\mathcal{O}(n^2)$\n"
   ]
  },
  {
   "cell_type": "code",
   "execution_count": 8,
   "id": "90d521b5-dda6-4731-b0e1-b1b4bbf165f6",
   "metadata": {},
   "outputs": [
    {
     "name": "stdout",
     "output_type": "stream",
     "text": [
      "Value of i = 16\n",
      "1\n",
      "2\n",
      "3\n",
      "4\n",
      "5\n",
      "6\n",
      "7\n",
      "8\n",
      "9\n",
      "10\n",
      "11\n",
      "12\n",
      "13\n",
      "14\n",
      "15\n",
      "16\n",
      "\n",
      "Value of i = 8\n",
      "17\n",
      "18\n",
      "19\n",
      "20\n",
      "21\n",
      "22\n",
      "23\n",
      "24\n",
      "\n",
      "Value of i = 4\n",
      "25\n",
      "26\n",
      "27\n",
      "28\n",
      "\n",
      "Value of i = 2\n",
      "29\n",
      "30\n",
      "\n",
      "Value of i = 1\n",
      "31\n",
      "\n"
     ]
    }
   ],
   "source": [
    "count = 0\n",
    "N = 16\n",
    "i = N\n",
    "while i > 0:\n",
    "    print(f'Value of i = {i}')\n",
    "    for j in range(0, i):\n",
    "        count += 1\n",
    "        print(count)\n",
    "    print()\n",
    "    i //= 2"
   ]
  },
  {
   "cell_type": "markdown",
   "id": "f5773c11-ac9d-4307-ac66-6932273984a6",
   "metadata": {},
   "source": [
    "Let us examine above, how many times the statement `count += 1` ran. <br><br>\n",
    "As we can see from the output above,  <br>\n",
    "when $i = 16$, the statement runs 16 times, <br>\n",
    "when $i = \\frac{16}{2} = 8$, the statement runs 8 times, <br>\n",
    "when $i = \\frac{16}{4} = 4$, the statement runs 4 times, <br>\n",
    "when $i = \\frac{16}{8} = 2$, the statement runs 2 times, <br>\n",
    "when $i = \\frac{16}{16} = 1$, the statement runs 1 time and so on.\n",
    "\n",
    "Hence the statement `count += 1` runs $n + \\frac{n}{2} + \\frac{n}{4} + \\frac{n}{8} + ... + 1$ times.\n",
    "\n",
    "So we have, <br><br> \n",
    "$f(n) = 2n$ <br><br>\n",
    "Hence, the time complexity is $ \\mathcal{O}(n)$"
   ]
  },
  {
   "cell_type": "code",
   "execution_count": 9,
   "id": "e19b2728-b64e-4f32-a307-30adb9da8b00",
   "metadata": {},
   "outputs": [
    {
     "name": "stdout",
     "output_type": "stream",
     "text": [
      "55\n"
     ]
    }
   ],
   "source": [
    "sum = 0\n",
    "for i in range(0, 11):\n",
    "    sum = sum + i\n",
    "print(sum)"
   ]
  },
  {
   "cell_type": "markdown",
   "id": "2e913812-11c2-44a6-bae2-6f0a3be85621",
   "metadata": {},
   "source": [
    "Time complexity: $\\mathcal{O}(n)$"
   ]
  },
  {
   "cell_type": "code",
   "execution_count": 10,
   "id": "cec2bd09-aacc-4504-a1f8-eca43fa9f603",
   "metadata": {},
   "outputs": [
    {
     "name": "stdout",
     "output_type": "stream",
     "text": [
      "55\n",
      "110\n",
      "165\n",
      "220\n",
      "275\n",
      "330\n",
      "385\n",
      "440\n",
      "495\n",
      "550\n",
      "605\n",
      "\n"
     ]
    },
    {
     "data": {
      "text/plain": [
       "605"
      ]
     },
     "execution_count": 10,
     "metadata": {},
     "output_type": "execute_result"
    }
   ],
   "source": [
    "sum = 0\n",
    "\n",
    "for i in range(0, 11):\n",
    "    for j in range(0, 11):\n",
    "        sum = sum + j\n",
    "    print(sum)\n",
    "print()\n",
    "sum"
   ]
  },
  {
   "cell_type": "markdown",
   "id": "74b8508c-084f-4c0e-8034-becda9f0713d",
   "metadata": {},
   "source": [
    "Time complexity: $\\mathcal{O}(n^2)$"
   ]
  },
  {
   "cell_type": "markdown",
   "id": "2aef13e7-593e-451d-8ab0-7fc153612125",
   "metadata": {},
   "source": [
    "Now let us try to determine the time complexity of the Bubble Sort algorithm implementation. <br>\n",
    "The code for Bubble Sort algorithm is: <br>\n",
    "\n",
    "```Python\n",
    "def bubble_sort(arr):\n",
    "    k = len(arr) - 1\n",
    "\n",
    "    for i in range(0, k, 1):\n",
    "        swapped = False\n",
    "        \n",
    "        for j in range(0, k - i, 1):\n",
    "            if arr[j] > arr[j + 1]:\n",
    "                arr[j], arr[j + 1] = arr[j + 1], arr[j]\n",
    "                swapped = True\n",
    "                \n",
    "        if not swapped:\n",
    "            break\n",
    "\n",
    "    return arr\n",
    "```\n",
    "\n",
    "Consider the <b>worst case scenario</b> wherein the input array is completely in reverse order and no elements are `None`. The $(n - 1)$ times where $n$ is the length of the array.\n",
    "\n",
    "Outer Loop: The outer loop runs from `i = 0` to `i = k - 1` (where `k = n - 1`), so it runs $n − 1$ times.\n",
    "\n",
    "Inner Loop: For each iteration of the outer loop, the inner loop runs from `j = 0` to `j = k - i`. This means:\n",
    "* First iteration: runs $n − 1$ times\n",
    "* Second iteration: runs $n − 2$ times\n",
    "* ...\n",
    "* Last iteration: runs 1 time\n",
    "\n",
    "Summing these iterations gives:\n",
    "$(n - 1) + (n - 2) + (n - 3) + ... + 1 = \\frac{n(n - 1)}{2}$\n",
    "\n",
    "Thus the number of comparisons and (potential swaps),<b> in the worst case scenario</b> is $\\mathcal{O}(n^2)$."
   ]
  },
  {
   "cell_type": "markdown",
   "id": "1d720ba2-0b55-40ca-bb58-98248602ac07",
   "metadata": {},
   "source": [
    "Similarly, in the <b>best case scenario</b>, we can consider the input array to be fully sorted. The outer loop runs once, and in the first pass of the outer loop, i.e, when `i = 0`, the inner loop runs from `j = 0` to `j = n - 1 - i`. Here since `i = 0`, the inner loop runs from `j = 0` to `j = n - 1`. But notice that the token `swapped` never becomes `True` as the given array is already sorted. Hence the program breaks out of the outer loop. \n",
    "\n",
    "Thus the <b>best case time complexity</b> is $\\mathcal{O}(n)$"
   ]
  },
  {
   "cell_type": "code",
   "execution_count": null,
   "id": "2bab5709-fe21-4e37-8fa7-142c90a87435",
   "metadata": {},
   "outputs": [],
   "source": []
  }
 ],
 "metadata": {
  "kernelspec": {
   "display_name": "Python 3 (ipykernel)",
   "language": "python",
   "name": "python3"
  },
  "language_info": {
   "codemirror_mode": {
    "name": "ipython",
    "version": 3
   },
   "file_extension": ".py",
   "mimetype": "text/x-python",
   "name": "python",
   "nbconvert_exporter": "python",
   "pygments_lexer": "ipython3",
   "version": "3.11.5"
  }
 },
 "nbformat": 4,
 "nbformat_minor": 5
}
