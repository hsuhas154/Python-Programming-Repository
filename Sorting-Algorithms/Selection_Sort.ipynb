{
 "cells": [
  {
   "cell_type": "code",
   "execution_count": 1,
   "id": "0a5fd212-3b54-4614-8efd-cc2733847a4a",
   "metadata": {},
   "outputs": [],
   "source": [
    "def selection_sort(data):\n",
    "    # First, shift all the None elements (if any) to the front of the list\n",
    "    none_count = data.count(None)\n",
    "    data = [x for x in data if x is not None]\n",
    "    data = [None] * none_count + data\n",
    "    \n",
    "    for i in range(none_count, len(data) - 1):\n",
    "        min_idx = i\n",
    "\n",
    "        for j in range(i + 1, len(data)):\n",
    "            if data[j] < data[min_idx]:\n",
    "                min_idx = j\n",
    "\n",
    "        if min_idx != i:\n",
    "            data[i], data[min_idx] = data[min_idx], data[i]\n",
    "\n",
    "    return data"
   ]
  },
  {
   "cell_type": "code",
   "execution_count": 2,
   "id": "c165e25c-c50a-406a-9aa0-9e746c419a54",
   "metadata": {},
   "outputs": [],
   "source": [
    "test_cases = [\n",
    "    [],  # Empty list\n",
    "    [1, 2, 3, 4, 5],  # Already sorted list\n",
    "    [5, 4, 3, 2, 1],  # Reverse sorted list\n",
    "    [3, 1, 4, 1, 5, 9, 2, 6, 5],  # List with duplicates\n",
    "    [-3, 1, -4, 0, 2, -1],  # List with negative numbers\n",
    "    [3, 0, -2, 1, 5, 0, 4],  # List with zero\n",
    "    [42],  # Single element list\n",
    "    [100, 20, 50, 30, 80, 10, 90, 60, 40, 70],  # Large list\n",
    "    [None, 3, None, 1, 2, None],  # List with None values\n",
    "    [-4, 7, 9, 0, 14, None, None, 5, 2, 10, None, -101, -5, None, 3, 1, 35], # Combination of positive, negative, zero and None values\n",
    "    ['banana', 'apple', 'orange', 'grape', 'mango']  # List with strings\n",
    "]"
   ]
  },
  {
   "cell_type": "code",
   "execution_count": 3,
   "id": "b3556c34-e3ba-4109-b5aa-dc257e59b231",
   "metadata": {},
   "outputs": [
    {
     "name": "stdout",
     "output_type": "stream",
     "text": [
      "Original: []\n",
      "Sorted: []\n",
      "----------------------------------------\n",
      "Original: [1, 2, 3, 4, 5]\n",
      "Sorted: [1, 2, 3, 4, 5]\n",
      "----------------------------------------\n",
      "Original: [5, 4, 3, 2, 1]\n",
      "Sorted: [1, 2, 3, 4, 5]\n",
      "----------------------------------------\n",
      "Original: [3, 1, 4, 1, 5, 9, 2, 6, 5]\n",
      "Sorted: [1, 1, 2, 3, 4, 5, 5, 6, 9]\n",
      "----------------------------------------\n",
      "Original: [-3, 1, -4, 0, 2, -1]\n",
      "Sorted: [-4, -3, -1, 0, 1, 2]\n",
      "----------------------------------------\n",
      "Original: [3, 0, -2, 1, 5, 0, 4]\n",
      "Sorted: [-2, 0, 0, 1, 3, 4, 5]\n",
      "----------------------------------------\n",
      "Original: [42]\n",
      "Sorted: [42]\n",
      "----------------------------------------\n",
      "Original: [100, 20, 50, 30, 80, 10, 90, 60, 40, 70]\n",
      "Sorted: [10, 20, 30, 40, 50, 60, 70, 80, 90, 100]\n",
      "----------------------------------------\n",
      "Original: [None, 3, None, 1, 2, None]\n",
      "Sorted: [None, None, None, 1, 2, 3]\n",
      "----------------------------------------\n",
      "Original: [-4, 7, 9, 0, 14, None, None, 5, 2, 10, None, -101, -5, None, 3, 1, 35]\n",
      "Sorted: [None, None, None, None, -101, -5, -4, 0, 1, 2, 3, 5, 7, 9, 10, 14, 35]\n",
      "----------------------------------------\n",
      "Original: ['banana', 'apple', 'orange', 'grape', 'mango']\n",
      "Sorted: ['apple', 'banana', 'grape', 'mango', 'orange']\n",
      "----------------------------------------\n"
     ]
    }
   ],
   "source": [
    "for test in test_cases:\n",
    "    print(f\"Original: {test}\")\n",
    "    sorted_test = selection_sort(test.copy())\n",
    "    print(f\"Sorted: {sorted_test}\")\n",
    "    print('-' * 40)"
   ]
  },
  {
   "cell_type": "code",
   "execution_count": null,
   "id": "b3c67d48-3435-4f30-9b16-3cc26b3bdbae",
   "metadata": {},
   "outputs": [],
   "source": []
  }
 ],
 "metadata": {
  "kernelspec": {
   "display_name": "Python 3 (ipykernel)",
   "language": "python",
   "name": "python3"
  },
  "language_info": {
   "codemirror_mode": {
    "name": "ipython",
    "version": 3
   },
   "file_extension": ".py",
   "mimetype": "text/x-python",
   "name": "python",
   "nbconvert_exporter": "python",
   "pygments_lexer": "ipython3",
   "version": "3.11.5"
  }
 },
 "nbformat": 4,
 "nbformat_minor": 5
}
