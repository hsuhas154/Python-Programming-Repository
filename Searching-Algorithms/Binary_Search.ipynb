{
 "cells": [
  {
   "cell_type": "code",
   "execution_count": 1,
   "id": "a092fe18-d895-4a24-8283-6dc17138fa48",
   "metadata": {},
   "outputs": [
    {
     "name": "stdout",
     "output_type": "stream",
     "text": [
      "7 found at index 6\n",
      "14 found at index 13\n",
      "99 not found in the list\n"
     ]
    }
   ],
   "source": [
    "def binary_search_algorithm(search_list, search_item):\n",
    "    # Ensure the list is sorted\n",
    "    search_list.sort()\n",
    "    \n",
    "    first_index = 0\n",
    "    last_index = len(search_list) - 1\n",
    "    \n",
    "    while first_index <= last_index:\n",
    "        middle_index = (first_index + last_index) // 2\n",
    "        middle_element = search_list[middle_index]\n",
    "        \n",
    "        if search_item == middle_element:\n",
    "            return f'{search_item} found at index {middle_index}'\n",
    "        elif search_item < middle_element:\n",
    "            last_index = middle_index - 1\n",
    "        else:\n",
    "            first_index = middle_index + 1\n",
    "    else:\n",
    "        return f'{search_item} not found in the list'\n",
    "\n",
    "\n",
    "# Calling the function with suitable arguments:\n",
    "search_list = [14, 12, 10, 1, 3, 4, 6, 13, 11, 9, 2, 5, 8, 7]\n",
    "print(binary_search_algorithm(search_list, 7)) \n",
    "print(binary_search_algorithm(search_list, 14))\n",
    "print(binary_search_algorithm(search_list, 99)) "
   ]
  },
  {
   "cell_type": "code",
   "execution_count": null,
   "id": "cd19c748-6dbc-49a7-a69f-766782a93f2e",
   "metadata": {},
   "outputs": [],
   "source": []
  }
 ],
 "metadata": {
  "kernelspec": {
   "display_name": "Python 3 (ipykernel)",
   "language": "python",
   "name": "python3"
  },
  "language_info": {
   "codemirror_mode": {
    "name": "ipython",
    "version": 3
   },
   "file_extension": ".py",
   "mimetype": "text/x-python",
   "name": "python",
   "nbconvert_exporter": "python",
   "pygments_lexer": "ipython3",
   "version": "3.11.5"
  }
 },
 "nbformat": 4,
 "nbformat_minor": 5
}
