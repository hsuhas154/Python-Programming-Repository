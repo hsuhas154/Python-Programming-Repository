# This algorithm is also known as Sequential Search.

def linear_search(src_lst, src_item):
  length = len(src_lst)

  for i in range(0, length):
    if src_lst[i] == src_item:
      return f'Element {src_item} found at the index {i}'
  else:
    return f'Element {src_item} does not exist in the list {src_lst}'

print(linear_src([23, 1, 54, 22, 10, 9, 5, -4, -3, -1, 19], -4))
