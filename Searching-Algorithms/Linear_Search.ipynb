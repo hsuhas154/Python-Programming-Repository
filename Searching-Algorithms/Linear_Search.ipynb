{
 "cells": [
  {
   "cell_type": "code",
   "execution_count": 1,
   "metadata": {},
   "outputs": [
    {
     "name": "stdout",
     "output_type": "stream",
     "text": [
      "Element -4 found at the index 7\n"
     ]
    }
   ],
   "source": [
    "# This algorithm is also knowns as Sequential Search.\n",
    "def linear_search(src_lst, src_item):\n",
    "    length = len(src_lst)\n",
    "    \n",
    "    for i in range(0, length):\n",
    "        if src_lst[i] == src_item:\n",
    "            return f'Element {src_item} found at the index {i}'\n",
    "    else:\n",
    "        return f'Element {src_item} does not exist in the list {src_lst}'\n",
    "\n",
    "print(linear_search([23, 1, 54, 22, 10, 9, 5, -4, -3, -1, 19], -4))\n"
   ]
  }
 ],
 "metadata": {},
 "nbformat": 4,
 "nbformat_minor": 2
}
