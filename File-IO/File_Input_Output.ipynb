{
 "cells": [
  {
   "cell_type": "markdown",
   "metadata": {},
   "source": [
    "# Practicing File I/O"
   ]
  },
  {
   "cell_type": "markdown",
   "metadata": {},
   "source": [
    "## 1. Reading a file"
   ]
  },
  {
   "cell_type": "code",
   "execution_count": 2,
   "metadata": {},
   "outputs": [
    {
     "data": {
      "text/plain": [
       "\"This is a sample file which is being used for learning basic Python File I/O operations. \\nThe following topics will be understood:\\n1.\\tReading a file\\n2.\\tWriting to a file\\n3.\\tAppending text to a file\\n4.\\tUsing 'with' command\\n5.\\tOverwriting a file\\n\""
      ]
     },
     "execution_count": 2,
     "metadata": {},
     "output_type": "execute_result"
    }
   ],
   "source": [
    "# Reading a file already saved in the directory in which Jupyter notebook is currently operating from:\n",
    "\n",
    "varfile = open('sample1.txt')\n",
    "varfile.read()"
   ]
  },
  {
   "cell_type": "code",
   "execution_count": 3,
   "metadata": {},
   "outputs": [
    {
     "data": {
      "text/plain": [
       "''"
      ]
     },
     "execution_count": 3,
     "metadata": {},
     "output_type": "execute_result"
    }
   ],
   "source": [
    "# The file has been opened and read already once. Let's try reading it again and see what happens. \n",
    "varfile.read()"
   ]
  },
  {
   "cell_type": "code",
   "execution_count": 4,
   "metadata": {},
   "outputs": [
    {
     "data": {
      "text/plain": [
       "\"This is a sample file which is being used for learning basic Python File I/O operations. \\nThe following topics will be understood:\\n1.\\tReading a file\\n2.\\tWriting to a file\\n3.\\tAppending text to a file\\n4.\\tUsing 'with' command\\n5.\\tOverwriting a file\\n\""
      ]
     },
     "execution_count": 4,
     "metadata": {},
     "output_type": "execute_result"
    }
   ],
   "source": [
    "# Notice that the ouput we get is an empty string. The reason this is happening is because while reading a file, there is a \n",
    "# cursor at the very beginning of the file located just before the very first character.\n",
    "# While reading the file the cursor traverses from the first character to the last character of the file. \n",
    "# Then it outputs the entire contents of the file as a string representation.\n",
    "# Once this process is complete, the cursor is at the very end of the file after the last character.\n",
    "# So if we try to read the file again, it will output an empty string because there are no more characters to parse after EOF.\n",
    "# EOF means End Of File.\n",
    "# In order to read the file again, we need to reset the cursor position to the beginning of the file once again.\n",
    "# That is achieved by using the seek() function. After resetting the position of the cursor, we can read the file again. \n",
    "\n",
    "varfile.seek(0)\n",
    "varfile.read()"
   ]
  },
  {
   "cell_type": "code",
   "execution_count": 6,
   "metadata": {},
   "outputs": [
    {
     "data": {
      "text/plain": [
       "['This is a sample file which is being used for learning basic Python File I/O operations. \\n',\n",
       " 'The following topics will be understood:\\n',\n",
       " '1.\\tReading a file\\n',\n",
       " '2.\\tWriting to a file\\n',\n",
       " '3.\\tAppending text to a file\\n',\n",
       " \"4.\\tUsing 'with' command\\n\",\n",
       " '5.\\tOverwriting a file\\n']"
      ]
     },
     "execution_count": 6,
     "metadata": {},
     "output_type": "execute_result"
    }
   ],
   "source": [
    "# If we want to view all the elements or contents of a file in a list, we have to use the readlines() function. \n",
    "# Notice that each line will be converted to a separate element in the list. \n",
    "# This is useful because we can loop through the list and can use indexing to retrieve some specific elements of the list. \n",
    "\n",
    "varfile.seek(0)\n",
    "varfile.readlines()"
   ]
  },
  {
   "cell_type": "markdown",
   "metadata": {},
   "source": [
    "## 2. File Locations"
   ]
  },
  {
   "cell_type": "code",
   "execution_count": 7,
   "metadata": {},
   "outputs": [
    {
     "data": {
      "text/plain": [
       "'# print(\"Hello, World!\")\\n\\n# name = \"Alice\"\\n# age = 30\\n# print(\"My name is \" + name + \" and I am \" + str(age) + \" years old.\")\\n\\n# name = \"Bob\"\\n# age = 25\\n# print(f\"My name is {name} and I am {age} years old.\")\\n\\n# name = \"Charlie\"\\n# age = 40\\n# print(\"My name is %s and I am %d years old.\" % (name, age))\\n\\n# name = \"Dave\"\\n# age = 35\\n# print(\"My name is {} and I am {} years old.\".format(name, age))\\n\\n\\n\\n\\n\\n'"
      ]
     },
     "execution_count": 7,
     "metadata": {},
     "output_type": "execute_result"
    }
   ],
   "source": [
    "# If we want to open a particular file from another location on the hard disk, \n",
    "# then we just pass the entire path of the said file as an argument to the open() function. \n",
    "\n",
    "# Illustration:\n",
    "\n",
    "# varfile2 = open('C:\\\\Users\\\\hsuha\\\\Desktop\\\\Python Aliter Path\\\\SampleAliter1.txt')\n",
    "\n",
    "# Notice that we are using \\\\ instead of \\ because we have to escape the backward slash (\\) character for the Python \n",
    "# to interpret as a backward slash. Hence we use the escape sequence \\\\.\n",
    "\n",
    "# Let us open the file 'SampleAliter1.txt' and read it.\n",
    "\n",
    "varfile2 = open('C:\\\\Users\\\\hsuha\\\\Desktop\\\\Python Aliter Path\\\\SampleAliter1.txt')\n",
    "varfile2.read()"
   ]
  },
  {
   "cell_type": "markdown",
   "metadata": {},
   "source": [
    "## 3. Closing a file"
   ]
  },
  {
   "cell_type": "code",
   "execution_count": 8,
   "metadata": {},
   "outputs": [],
   "source": [
    "# We have opened two files above. They are: sample1.txt and SampleAliter1.txt\n",
    "# Once we open files, we also have to close them in order to avoid any runtime errors and other extraneous errors.\n",
    "# For example: If we try to delete this file from the directory using ordinary Windows OS operations, \n",
    "# we will get an error that this file is still in use by Jupyter. Hence we have to close the files as well. \n",
    "\n",
    "varfile.close()\n",
    "varfile2.close()"
   ]
  },
  {
   "cell_type": "markdown",
   "metadata": {},
   "source": [
    "## 4. 'with' Statement"
   ]
  },
  {
   "cell_type": "code",
   "execution_count": 10,
   "metadata": {},
   "outputs": [],
   "source": [
    "# In order to overcome the above problem of getting an error when a file is opened and not closed whilst performing some \n",
    "# operations on a file, we can perform File I/O operations using a 'with' statement. \n",
    "# Using 'with' statement we don't have to worry about closing a file, the file gets closed after the operation.\n",
    "\n",
    "with open('sample1.txt') as file_var:\n",
    "    file_con = file_var.read()\n",
    "    \n",
    "with open('C:\\\\Users\\\\hsuha\\\\Desktop\\\\Python Aliter Path\\\\SampleAliter1.txt') as file_var2:\n",
    "    file_con2 = file_var2.read()"
   ]
  },
  {
   "cell_type": "code",
   "execution_count": 12,
   "metadata": {},
   "outputs": [
    {
     "data": {
      "text/plain": [
       "\"This is a sample file which is being used for learning basic Python File I/O operations. \\nThe following topics will be understood:\\n1.\\tReading a file\\n2.\\tWriting to a file\\n3.\\tAppending text to a file\\n4.\\tUsing 'with' command\\n5.\\tOverwriting a file\\n\""
      ]
     },
     "execution_count": 12,
     "metadata": {},
     "output_type": "execute_result"
    }
   ],
   "source": [
    "file_con"
   ]
  },
  {
   "cell_type": "code",
   "execution_count": 13,
   "metadata": {},
   "outputs": [
    {
     "data": {
      "text/plain": [
       "'# print(\"Hello, World!\")\\n\\n# name = \"Alice\"\\n# age = 30\\n# print(\"My name is \" + name + \" and I am \" + str(age) + \" years old.\")\\n\\n# name = \"Bob\"\\n# age = 25\\n# print(f\"My name is {name} and I am {age} years old.\")\\n\\n# name = \"Charlie\"\\n# age = 40\\n# print(\"My name is %s and I am %d years old.\" % (name, age))\\n\\n# name = \"Dave\"\\n# age = 35\\n# print(\"My name is {} and I am {} years old.\".format(name, age))\\n\\n\\n\\n\\n\\n'"
      ]
     },
     "execution_count": 13,
     "metadata": {},
     "output_type": "execute_result"
    }
   ],
   "source": [
    "file_con2"
   ]
  },
  {
   "cell_type": "markdown",
   "metadata": {},
   "source": [
    "## 5. Writing to a file"
   ]
  },
  {
   "cell_type": "code",
   "execution_count": 16,
   "metadata": {},
   "outputs": [],
   "source": [
    "# In this section we describe how to write to a file and overwrite files.\n",
    "# Here mode = 'r' denotes that the file is set to 'read only' mode.\n",
    "\n",
    "with open('sample1.txt', mode = 'r') as file_var:\n",
    "    file_con = file_var.read()"
   ]
  },
  {
   "cell_type": "code",
   "execution_count": 17,
   "metadata": {},
   "outputs": [
    {
     "data": {
      "text/plain": [
       "\"This is a sample file which is being used for learning basic Python File I/O operations. \\nThe following topics will be understood:\\n1.\\tReading a file\\n2.\\tWriting to a file\\n3.\\tAppending text to a file\\n4.\\tUsing 'with' command\\n5.\\tOverwriting a file\\n\""
      ]
     },
     "execution_count": 17,
     "metadata": {},
     "output_type": "execute_result"
    }
   ],
   "source": [
    "file_con"
   ]
  },
  {
   "cell_type": "code",
   "execution_count": 21,
   "metadata": {},
   "outputs": [
    {
     "name": "stdout",
     "output_type": "stream",
     "text": [
      "Writing sample2.txt\n"
     ]
    }
   ],
   "source": [
    "%%writefile sample2.txt\n",
    "Push ups\n",
    "Pull ups\n",
    "Squat\n",
    "Bench Press\n",
    "Deadlift"
   ]
  },
  {
   "cell_type": "code",
   "execution_count": 22,
   "metadata": {},
   "outputs": [],
   "source": [
    "# The above command wrote a new file named sample2.txt in the directory where sample1.txt is saved. \n",
    "# Let us make the u in Push ups and Pull ups to an uppercase character by overwriting the file as shown below:"
   ]
  },
  {
   "cell_type": "code",
   "execution_count": 23,
   "metadata": {},
   "outputs": [
    {
     "name": "stdout",
     "output_type": "stream",
     "text": [
      "Overwriting sample2.txt\n"
     ]
    }
   ],
   "source": [
    "%%writefile sample2.txt\n",
    "Push Ups\n",
    "Pull Ups\n",
    "Squat\n",
    "Bench Press\n",
    "Deadlift"
   ]
  },
  {
   "cell_type": "markdown",
   "metadata": {},
   "source": [
    "In Python, when you open a file, you can specify the mode in which you want to interact with the file. The file modes dictate whether you can read, write, or append to the file. Here are the most commonly used file modes:\n",
    "\n",
    "1. Reading Modes:\n",
    "   - `\"r\"`: Read mode (default). Opens the file for reading. If the file does not exist or an error occurs while opening, it raises a `FileNotFoundError`. You can read the file's contents but cannot write or modify it.\n",
    "\n",
    "   - `\"rb\"`: Read in binary mode. Opens the file for binary reading. It's used when working with binary files like images, audio, or non-text files.\n",
    "\n",
    "2. Writing Modes:\n",
    "   - `\"w\"`: Write mode. Opens the file for writing. If the file already exists, it will be truncated (its content will be deleted). If the file does not exist, a new file will be created.\n",
    "\n",
    "   - `\"wb\"`: Write in binary mode. Opens the file for binary writing. Used when working with binary files.\n",
    "\n",
    "   - `\"x\"`: Exclusive creation. Opens the file for exclusive creation. If the file already exists, the operation will fail. This mode is used to ensure you don't accidentally overwrite an existing file.\n",
    "\n",
    "3. Appending Modes:\n",
    "   - `\"a\"`: Append mode. Opens the file for writing, but data is added to the end of the file without overwriting existing content. If the file does not exist, a new file will be created.\n",
    "\n",
    "   - `\"ab\"`: Append in binary mode. Opens the file for binary appending.\n",
    "\n",
    "4. Reading and Writing Modes:\n",
    "   - `\"r+\"`: Read and write mode. Opens the file for both reading and writing. If the file does not exist, it will raise a `FileNotFoundError`.\n",
    "\n",
    "   - `\"rb+\"`: Read and write in binary mode.\n",
    "\n",
    "   - `\"w+\"`: Write and read mode. Opens the file for both reading and writing. If the file already exists, it will be truncated; if not, a new file is created.\n",
    "\n",
    "   - `\"wb+\"`: Write and read in binary mode.\n",
    "\n",
    "   - `\"a+\"`: Append and read mode. Opens the file for both reading and writing, with data added to the end of the file without overwriting existing content. If the file does not exist, a new file will be created.\n",
    "\n",
    "   - `\"ab+\"`: Append and read in binary mode.\n",
    "\n",
    "These modes give you control over how you interact with files in Python, whether you want to read, write, or append to them, and whether you're working with text or binary data. When opening a file, you specify the mode as the second argument to the `open()` function, like this:\n",
    "\n",
    "```python\n",
    "with open(\"example.txt\", \"r\") as file:\n",
    "    # Read from the file\n",
    "```\n",
    "\n",
    "Or for writing:\n",
    "\n",
    "```python\n",
    "with open(\"example.txt\", \"w\") as file:\n",
    "    # Write to the file\n",
    "```\n",
    "\n",
    "Choose the appropriate mode based on the specific operation you want to perform on the file."
   ]
  },
  {
   "cell_type": "code",
   "execution_count": 25,
   "metadata": {},
   "outputs": [
    {
     "name": "stdout",
     "output_type": "stream",
     "text": [
      "Push Ups\n",
      "Pull Ups\n",
      "Squat\n",
      "Bench Press\n",
      "Deadlift\n",
      "\n"
     ]
    }
   ],
   "source": [
    "with open('sample2.txt', mode = 'r') as fs2:\n",
    "    print(fs2.read()) # Using read() as an argument to the print function outputs the contents of the file as string."
   ]
  },
  {
   "cell_type": "code",
   "execution_count": 26,
   "metadata": {},
   "outputs": [],
   "source": [
    "with open('sample2.txt', mode = 'a') as fs2:\n",
    "    fs2.write('\\nStrict Overhead Press')\n",
    "    fs2.write('\\nBent Over Rows')"
   ]
  },
  {
   "cell_type": "code",
   "execution_count": 27,
   "metadata": {},
   "outputs": [
    {
     "name": "stdout",
     "output_type": "stream",
     "text": [
      "Push Ups\n",
      "Pull Ups\n",
      "Squat\n",
      "Bench Press\n",
      "Deadlift\n",
      "\n",
      "Strict Overhead Press\n",
      "Bent Over Rows\n"
     ]
    }
   ],
   "source": [
    "with open('sample2.txt', mode = 'r') as fs2:\n",
    "    print(fs2.read())"
   ]
  },
  {
   "cell_type": "code",
   "execution_count": 28,
   "metadata": {},
   "outputs": [],
   "source": [
    "# Let us overwrite the file sample2.txt in order to eliminate the extra newline character\n",
    "\n",
    "with open('sample2.txt', mode = 'w') as fs2:\n",
    "    fs2.write('Push Ups\\n')\n",
    "    fs2.write('Pull Ups\\n')\n",
    "    fs2.write('Squat\\n')\n",
    "    fs2.write('Bench Press\\n')\n",
    "    fs2.write('Deadlift\\n')\n",
    "    fs2.write('Strict Overhead Press\\n')\n",
    "    fs2.write('Bent Over Rows')"
   ]
  },
  {
   "cell_type": "code",
   "execution_count": 29,
   "metadata": {},
   "outputs": [
    {
     "name": "stdout",
     "output_type": "stream",
     "text": [
      "Push Ups\n",
      "Pull Ups\n",
      "Squat\n",
      "Bench Press\n",
      "Deadlift\n",
      "Strict Overhead Press\n",
      "Bent Over Rows\n"
     ]
    }
   ],
   "source": [
    "# Now let us read the file again\n",
    "\n",
    "with open('sample2.txt', mode = 'r') as fs2:\n",
    "    print(fs2.read())"
   ]
  },
  {
   "cell_type": "code",
   "execution_count": 30,
   "metadata": {},
   "outputs": [],
   "source": [
    "# Now let us use the mode 'w' to create a file\n",
    "\n",
    "with open('weightlifting.txt', mode = 'w') as wl:\n",
    "    wl.write('Snatch\\n')\n",
    "    wl.write('Clean and Jerk\\n')"
   ]
  },
  {
   "cell_type": "code",
   "execution_count": 31,
   "metadata": {},
   "outputs": [
    {
     "name": "stdout",
     "output_type": "stream",
     "text": [
      "Snatch\n",
      "Clean and Jerk\n",
      "\n"
     ]
    }
   ],
   "source": [
    "# Let us read the file\n",
    "\n",
    "with open('weightlifting.txt', mode = 'r') as wl:\n",
    "    print(wl.read())"
   ]
  },
  {
   "cell_type": "code",
   "execution_count": null,
   "metadata": {},
   "outputs": [],
   "source": []
  }
 ],
 "metadata": {
  "kernelspec": {
   "display_name": "Python 3 (ipykernel)",
   "language": "python",
   "name": "python3"
  },
  "language_info": {
   "codemirror_mode": {
    "name": "ipython",
    "version": 3
   },
   "file_extension": ".py",
   "mimetype": "text/x-python",
   "name": "python",
   "nbconvert_exporter": "python",
   "pygments_lexer": "ipython3",
   "version": "3.11.5"
  }
 },
 "nbformat": 4,
 "nbformat_minor": 4
}
