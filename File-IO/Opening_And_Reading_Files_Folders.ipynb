{
 "cells": [
  {
   "cell_type": "code",
   "execution_count": 1,
   "id": "22b9e658-b34a-46da-b7a3-3201f76795b6",
   "metadata": {},
   "outputs": [
    {
     "data": {
      "text/plain": [
       "'C:\\\\ProgramData\\\\Python Coding\\\\Advanced_Python_Modules'"
      ]
     },
     "execution_count": 1,
     "metadata": {},
     "output_type": "execute_result"
    }
   ],
   "source": [
    "pwd"
   ]
  },
  {
   "cell_type": "code",
   "execution_count": 2,
   "id": "b9a9bc4f-ffc7-4056-8962-7008f25d387b",
   "metadata": {},
   "outputs": [],
   "source": [
    "with open('Practice.txt', mode = 'w+') as pr:\n",
    "    pr.write('This is a sample text file being created called \"Practice.txt\" and this is a test string.')"
   ]
  },
  {
   "cell_type": "code",
   "execution_count": 3,
   "id": "b9e71016-9a32-4e75-8aba-54b22772d6d8",
   "metadata": {},
   "outputs": [
    {
     "name": "stdout",
     "output_type": "stream",
     "text": [
      "This is a sample text file being created called \"Practice.txt\" and this is a test string.\n"
     ]
    }
   ],
   "source": [
    "with open('Practice.txt', mode = 'r') as pr:\n",
    "    print(pr.read())"
   ]
  },
  {
   "cell_type": "code",
   "execution_count": 4,
   "id": "a3368aec-6e1f-4b9d-b92b-c466e8f838a5",
   "metadata": {},
   "outputs": [],
   "source": [
    "import os"
   ]
  },
  {
   "cell_type": "code",
   "execution_count": 5,
   "id": "5f3908d8-a1dd-4405-854a-7362bdf1720d",
   "metadata": {},
   "outputs": [
    {
     "data": {
      "text/plain": [
       "'C:\\\\ProgramData\\\\Python Coding\\\\Advanced_Python_Modules'"
      ]
     },
     "execution_count": 5,
     "metadata": {},
     "output_type": "execute_result"
    }
   ],
   "source": [
    "os.getcwd()"
   ]
  },
  {
   "cell_type": "code",
   "execution_count": 6,
   "id": "ce9b1a1b-c1a7-491e-a0c7-a60062144161",
   "metadata": {},
   "outputs": [
    {
     "data": {
      "text/plain": [
       "['.ipynb_checkpoints',\n",
       " 'Example_Top_Level',\n",
       " 'Opening_And_Reading_Files_Folders.ipynb',\n",
       " 'Practice.txt']"
      ]
     },
     "execution_count": 6,
     "metadata": {},
     "output_type": "execute_result"
    }
   ],
   "source": [
    "os.listdir()"
   ]
  },
  {
   "cell_type": "code",
   "execution_count": 7,
   "id": "f8675f7e-8931-4137-a163-c3428d538a11",
   "metadata": {},
   "outputs": [
    {
     "data": {
      "text/plain": [
       "['.ipynb_checkpoints',\n",
       " '100_Numpy_exercises.ipynb',\n",
       " '2425770-Absenteeism_at_work.xls',\n",
       " 'account.csv',\n",
       " 'Advanced_Python_Modules',\n",
       " 'air_quality.csv',\n",
       " 'air_quality.pkl',\n",
       " 'application_record.csv',\n",
       " 'Applied_Statistics_with_EDA_W2D1_CT (SEC21).ipynb',\n",
       " 'Applied_Statistics_with_EDA_W2D2_CT (SEC22).ipynb',\n",
       " 'Applied_Statistics_with_EDA_W2_Assignment_Solution.ipynb',\n",
       " 'arrtxt.txt',\n",
       " 'athlete_events.csv',\n",
       " 'Binomial Distribution Example.ipynb',\n",
       " 'Copy of ML101_class notes_18_Unsupervised_machine_learning.ipynb',\n",
       " 'Copy of ML101_class_notes_11_Logistic_regression.ipynb',\n",
       " 'Copy of ML101_class_notes_13_Decision_Tree.ipynb',\n",
       " 'Copy of ML101_class_notes_15_Random_Forest.ipynb',\n",
       " 'Copy of ML101_class_notes_17_SVM_hyperparameter_tuning.ipynb',\n",
       " 'Copy of ML_Week1_day2_CT_MLC12.ipynb',\n",
       " 'Copy_of_ML101_class_notes_15_Random_Forest.ipynb',\n",
       " 'credit_record.csv',\n",
       " 'data.CSV',\n",
       " 'database.xlsx',\n",
       " 'Dataset - Data Analysis v2.xlsx',\n",
       " 'dc_heroes.csv',\n",
       " 'dc_heroes.pkl',\n",
       " 'district.csv',\n",
       " 'EDA_Mandatory_Project_S6237.ipynb',\n",
       " 'EDA_W2D1_CT.ipynb',\n",
       " 'emp.xlsx',\n",
       " 'ETH_1h.csv',\n",
       " 'ExperimentWithDicts.ipynb',\n",
       " 'Exploring data manipulation 2.ipynb',\n",
       " 'Exploring data manipulation(1).ipynb',\n",
       " 'File_Input_Output.ipynb',\n",
       " 'Foundation Project (Part 1).ipynb',\n",
       " 'Foundation Project (Part 2).ipynb',\n",
       " 'Foundation Project (Part 3).ipynb',\n",
       " 'FreeCodeCamp_NumPy_Questions.ipynb',\n",
       " 'games.csv',\n",
       " 'games_without_index.csv',\n",
       " 'games_with_index.csv',\n",
       " 'hero_df.pkl',\n",
       " 'housing.xlsx',\n",
       " 'housing_dataset.csv',\n",
       " 'Importing+data.ipynb',\n",
       " 'insurance.csv',\n",
       " 'iris.csv',\n",
       " 'laptop.csv',\n",
       " 'Laptops_price_prediction.ipynb',\n",
       " 'Lecture1.ipynb',\n",
       " 'Linear Regression (Elementary).ipynb',\n",
       " 'Linear_Regression_from_scratch.ipynb',\n",
       " 'map(), filter() and lambda expressions.ipynb',\n",
       " 'marvel_heroes.csv',\n",
       " 'marvel_heroes.pkl',\n",
       " 'Mathematical_Programs_1.ipynb',\n",
       " 'Milestone Project - 1.ipynb',\n",
       " 'Milestone Project - 2 (Blackjack).ipynb',\n",
       " 'Milestone Project - 2 (Code along).ipynb',\n",
       " 'missions.xlsx',\n",
       " 'ML101 Dataset_8 Mall_Customers.xlsx',\n",
       " 'ML101_class notes_12_Machine_learning_and_Linear_regression.ipynb',\n",
       " 'ML_W2D1_CT_MLC21.ipynb',\n",
       " 'ML_W2D2_CT_MLC22.ipynb',\n",
       " 'ML_Week1_day2_CT_MLC12.ipynb',\n",
       " 'ML_Week1_day_1_CT_MLC11_.ipynb',\n",
       " 'ML_Week_1_Assignment_solution.ipynb',\n",
       " 'mtcars.csv',\n",
       " 'netflix_titles.csv',\n",
       " 'New_ML_Week_2_Assignment_Solutions_.ipynb',\n",
       " 'Normal Distribution Problem.xlsx',\n",
       " 'NumPy_Basics_Part_1.ipynb',\n",
       " 'NumPy_Basics_Part_2.ipynb',\n",
       " 'NumPy_intro.ipynb',\n",
       " 'Numpy_Python_Cheat_Sheet.pdf',\n",
       " 'nyc_federal_taxi.csv',\n",
       " 'Pandas_Basics_1.ipynb',\n",
       " 'Pandas_Basics_10.ipynb',\n",
       " 'Pandas_Basics_11.ipynb',\n",
       " 'Pandas_Basics_12.ipynb',\n",
       " 'Pandas_Basics_2.ipynb',\n",
       " 'Pandas_Basics_3.ipynb',\n",
       " 'Pandas_Basics_4.ipynb',\n",
       " 'Pandas_Basics_5.ipynb',\n",
       " 'Pandas_Basics_6.ipynb',\n",
       " 'Pandas_Basics_7.ipynb',\n",
       " 'Pandas_Basics_8.ipynb',\n",
       " 'Pandas_Basics_9.ipynb',\n",
       " 'Pattern Printing 1.ipynb',\n",
       " 'Pattern Printing 2.ipynb',\n",
       " 'PA_Week3_Day1.ipynb',\n",
       " 'Python Advanced -W3D1-CT (PAC31).ipynb',\n",
       " 'python-cheat-sheet-final-compressed.pdf',\n",
       " 'Python_Advanced_Module_Test_Solutions.ipynb',\n",
       " 'Python_Advanced_W3D1_CT.ipynb',\n",
       " 'Python_Advanced_W3D1_HT.ipynb',\n",
       " 'Python_Advanced_Week3_Assignment.ipynb',\n",
       " 'Python_W5D1_CT.ipynb',\n",
       " 'Python_W5D1_HT.ipynb',\n",
       " 'PY_Advanced_Project_S6237.ipynb',\n",
       " 'PY_Advanced_Project_S6237.zip',\n",
       " 'Question_practice_exercise(importing_manipulation).ipynb',\n",
       " 'Question_practice_exercise+(eda).ipynb',\n",
       " 'Question_practice_exercise_cleaning_transforming.ipynb',\n",
       " 'Recursion.ipynb',\n",
       " 'S6237 (Suhas H) Python Foundation Project.zip',\n",
       " 'sales_data.csv',\n",
       " 'sample1.txt',\n",
       " 'sample2.txt',\n",
       " 'sample_text_file.txt',\n",
       " 'simple1.py',\n",
       " 'Solution_practice_exercise(importing_manipulation).ipynb',\n",
       " 'Solution_practice_exercise+(eda).ipynb',\n",
       " 'Solution_practice_exercise_cleaning_transforming.ipynb',\n",
       " 'sp500.csv',\n",
       " 'sp500_reindexed.pkl',\n",
       " 'stack-overflow-developer-survey-2022',\n",
       " 'Statistics for Business and Economics by David R. Anderson.pdf',\n",
       " 'student.csv',\n",
       " 'SUHAS H_S6237_Capstone_Project1_File1.ipynb',\n",
       " 'SUHAS H_S6237_Capstone_Project1_File2.ipynb',\n",
       " 'superhero_info.xlsx',\n",
       " 'superhero_powers.csv',\n",
       " 'teams.csv',\n",
       " 'Telco_Customer_Churn_DT.ipynb',\n",
       " 'test_file.py',\n",
       " 'tf141.xlsx',\n",
       " 'titanic.csv',\n",
       " 'titled_text.py',\n",
       " 'train.csv',\n",
       " 'trans.csv',\n",
       " 'Udemy_EDA_Aggregating_Statistics.ipynb',\n",
       " 'Udemy_EDA_Applying_Functions.ipynb',\n",
       " 'Udemy_EDA_Cleaning_Text.ipynb',\n",
       " 'Udemy_EDA_Datetime_Extraction_and_Binning.ipynb',\n",
       " 'Udemy_EDA_Datetime_Index.ipynb',\n",
       " 'Udemy_EDA_Distributing_One_Feature.ipynb',\n",
       " 'Udemy_EDA_Downsampling.ipynb',\n",
       " 'Udemy_EDA_Dropping_Missing_Data.ipynb',\n",
       " 'Udemy_EDA_GroupBy.ipynb',\n",
       " 'Udemy_EDA_Imputing_fillna.ipynb',\n",
       " 'Udemy_EDA_Imputing_SKLearn.ipynb',\n",
       " 'Udemy_EDA_Imputing_Statistics.ipynb',\n",
       " 'Udemy_EDA_Mapping_to_new_values.ipynb',\n",
       " 'Udemy_EDA_Missing_Values_Overview.ipynb',\n",
       " 'Udemy_EDA_Model_Imputer.ipynb',\n",
       " 'Udemy_EDA_Outliers.ipynb',\n",
       " 'Udemy_EDA_Pivot_Tables.ipynb',\n",
       " 'Udemy_EDA_Relationship_of_multiple_features.ipynb',\n",
       " 'Udemy_EDA_Relationship_Two_Features_Part1_and_2.ipynb',\n",
       " 'Udemy_EDA_Removing_Duplicates.ipynb',\n",
       " 'Udemy_EDA_Rolling_Shifting.ipynb',\n",
       " 'Udemy_EDA_Seaborn_Overview.ipynb',\n",
       " 'Udemy_EDA_Time_Series.ipynb',\n",
       " 'Udemy_EDA_Upsampling_Time_Series.ipynb',\n",
       " 'Udemy_Errors_Exceptions_HW.ipynb',\n",
       " 'Udemy_OOP_Challenge.ipynb',\n",
       " 'Udemy_OOP_HW.ipynb',\n",
       " 'Udemy_ZTHPB_Decorators.ipynb',\n",
       " 'Udemy_ZTHPB_Functions_and_Methods_HW.ipynb',\n",
       " 'Udemy_ZTHPB_Generators.ipynb',\n",
       " 'Udemy_ZTHPB_Generators_HW.ipynb',\n",
       " 'Udemy_ZTHPB_Test_1.ipynb',\n",
       " 'Udemy_ZTHPB_Test_2.ipynb',\n",
       " 'Vivify_Python_Assignment.ipynb',\n",
       " 'W1D1-SESSION-FILE.xlsx',\n",
       " 'W2D1.xlsx',\n",
       " 'W2D1_Adult_data.ipynb',\n",
       " 'W2D2 - Feature Engineering.ipynb',\n",
       " 'W2D2_SOLUTIONS.ipynb',\n",
       " 'W2_SOLUTIONS.ipynb',\n",
       " 'wdi_duplicates_removed.pkl',\n",
       " 'wdi_imp.pkl',\n",
       " 'wdi_outliers_treated.pkl',\n",
       " 'weather.csv',\n",
       " 'weightlifting.txt',\n",
       " 'world_development_indicators.csv',\n",
       " '__pycache__']"
      ]
     },
     "execution_count": 7,
     "metadata": {},
     "output_type": "execute_result"
    }
   ],
   "source": [
    "os.listdir(path = 'C:\\\\ProgramData\\\\Python Coding')"
   ]
  },
  {
   "cell_type": "code",
   "execution_count": 8,
   "id": "4259de96-f3dc-40a3-94c5-9ebcfa9a9a0b",
   "metadata": {},
   "outputs": [],
   "source": [
    "import shutil"
   ]
  },
  {
   "cell_type": "code",
   "execution_count": 9,
   "id": "7f877b3d-aada-4f7a-810a-2c38025ac85c",
   "metadata": {},
   "outputs": [
    {
     "data": {
      "text/plain": [
       "'C:\\\\ProgramData\\\\Python Coding\\\\Advanced_Python_Modules\\\\Example_Top_Level\\\\Practice.txt'"
      ]
     },
     "execution_count": 9,
     "metadata": {},
     "output_type": "execute_result"
    }
   ],
   "source": [
    "shutil.move(src = 'Practice.txt', dst = 'C:\\\\ProgramData\\\\Python Coding\\\\Advanced_Python_Modules\\\\Example_Top_Level')"
   ]
  },
  {
   "cell_type": "code",
   "execution_count": 10,
   "id": "933f564e-8182-403c-9c27-e04be159cce9",
   "metadata": {},
   "outputs": [
    {
     "data": {
      "text/plain": [
       "['Mid_Example.txt', 'Mid_Example_One', 'Mid_Example_Two', 'Practice.txt']"
      ]
     },
     "execution_count": 10,
     "metadata": {},
     "output_type": "execute_result"
    }
   ],
   "source": [
    "os.listdir(path = 'C:\\\\ProgramData\\\\Python Coding\\\\Advanced_Python_Modules\\\\Example_Top_Level')"
   ]
  },
  {
   "cell_type": "code",
   "execution_count": 11,
   "id": "0c3ac2ea-8330-4532-8e3f-437ef5d55544",
   "metadata": {},
   "outputs": [],
   "source": [
    "import send2trash"
   ]
  },
  {
   "cell_type": "code",
   "execution_count": 12,
   "id": "4c545f43-a5d9-455a-a675-ea1bed32ce3b",
   "metadata": {},
   "outputs": [
    {
     "data": {
      "text/plain": [
       "'C:\\\\ProgramData\\\\Python Coding\\\\Advanced_Python_Modules\\\\Practice.txt'"
      ]
     },
     "execution_count": 12,
     "metadata": {},
     "output_type": "execute_result"
    }
   ],
   "source": [
    "shutil.move(\n",
    "    src = 'C:\\\\ProgramData\\\\Python Coding\\\\Advanced_Python_Modules\\\\Example_Top_Level\\\\Practice.txt',\n",
    "    dst = os.getcwd() \n",
    ")"
   ]
  },
  {
   "cell_type": "code",
   "execution_count": 13,
   "id": "cde703f9-4efc-49f2-8195-cfc42f7101c1",
   "metadata": {},
   "outputs": [
    {
     "data": {
      "text/plain": [
       "['.ipynb_checkpoints',\n",
       " 'Example_Top_Level',\n",
       " 'Opening_And_Reading_Files_Folders.ipynb',\n",
       " 'Practice.txt']"
      ]
     },
     "execution_count": 13,
     "metadata": {},
     "output_type": "execute_result"
    }
   ],
   "source": [
    "os.listdir()"
   ]
  },
  {
   "cell_type": "code",
   "execution_count": 14,
   "id": "03203535-9b9c-41b8-a90f-860c5ec5abda",
   "metadata": {},
   "outputs": [],
   "source": [
    "send2trash.send2trash('Practice.txt')"
   ]
  },
  {
   "cell_type": "code",
   "execution_count": 15,
   "id": "00096ba2-07a6-4f53-97b4-4f7840ef4dbf",
   "metadata": {},
   "outputs": [
    {
     "data": {
      "text/plain": [
       "['.ipynb_checkpoints',\n",
       " 'Example_Top_Level',\n",
       " 'Opening_And_Reading_Files_Folders.ipynb']"
      ]
     },
     "execution_count": 15,
     "metadata": {},
     "output_type": "execute_result"
    }
   ],
   "source": [
    "os.listdir()"
   ]
  },
  {
   "cell_type": "code",
   "execution_count": 16,
   "id": "e0e2aff0-8190-43c1-aa4e-5b9c836d9e27",
   "metadata": {},
   "outputs": [],
   "source": [
    "path = 'C:\\\\ProgramData\\\\Python Coding\\\\Advanced_Python_Modules\\\\Example_Top_Level'"
   ]
  },
  {
   "cell_type": "code",
   "execution_count": 17,
   "id": "ec9bb25d-36fa-4aef-a781-7d995c096491",
   "metadata": {},
   "outputs": [
    {
     "name": "stdout",
     "output_type": "stream",
     "text": [
      "Currently inside the directory: C:\\ProgramData\\Python Coding\\Advanced_Python_Modules\\Example_Top_Level\n",
      "\n",
      "The sub-directories inside the C:\\ProgramData\\Python Coding\\Advanced_Python_Modules\\Example_Top_Level are: \n",
      "\tMid_Example_One\n",
      "\tMid_Example_Two\n",
      "\n",
      "The files inside the C:\\ProgramData\\Python Coding\\Advanced_Python_Modules\\Example_Top_Level are: \n",
      "\tMid_Example.txt\n",
      "\n",
      "--------------------------------------------------------------------------------------------------------------------------------\n",
      "\n",
      "Currently inside the directory: C:\\ProgramData\\Python Coding\\Advanced_Python_Modules\\Example_Top_Level\\Mid_Example_One\n",
      "\n",
      "The sub-directories inside the C:\\ProgramData\\Python Coding\\Advanced_Python_Modules\\Example_Top_Level\\Mid_Example_One are: \n",
      "\tBottom_Level_One\n",
      "\tBottom_Level_Two\n",
      "\n",
      "The files inside the C:\\ProgramData\\Python Coding\\Advanced_Python_Modules\\Example_Top_Level\\Mid_Example_One are: \n",
      "\tMid_Level_Doc.txt\n",
      "\n",
      "--------------------------------------------------------------------------------------------------------------------------------\n",
      "\n",
      "Currently inside the directory: C:\\ProgramData\\Python Coding\\Advanced_Python_Modules\\Example_Top_Level\\Mid_Example_One\\Bottom_Level_One\n",
      "\n",
      "The sub-directories inside the C:\\ProgramData\\Python Coding\\Advanced_Python_Modules\\Example_Top_Level\\Mid_Example_One\\Bottom_Level_One are: \n",
      "\n",
      "The files inside the C:\\ProgramData\\Python Coding\\Advanced_Python_Modules\\Example_Top_Level\\Mid_Example_One\\Bottom_Level_One are: \n",
      "\tOne_Text.txt\n",
      "\n",
      "--------------------------------------------------------------------------------------------------------------------------------\n",
      "\n",
      "Currently inside the directory: C:\\ProgramData\\Python Coding\\Advanced_Python_Modules\\Example_Top_Level\\Mid_Example_One\\Bottom_Level_Two\n",
      "\n",
      "The sub-directories inside the C:\\ProgramData\\Python Coding\\Advanced_Python_Modules\\Example_Top_Level\\Mid_Example_One\\Bottom_Level_Two are: \n",
      "\n",
      "The files inside the C:\\ProgramData\\Python Coding\\Advanced_Python_Modules\\Example_Top_Level\\Mid_Example_One\\Bottom_Level_Two are: \n",
      "\tBottom_Text_Two.txt\n",
      "\n",
      "--------------------------------------------------------------------------------------------------------------------------------\n",
      "\n",
      "Currently inside the directory: C:\\ProgramData\\Python Coding\\Advanced_Python_Modules\\Example_Top_Level\\Mid_Example_Two\n",
      "\n",
      "The sub-directories inside the C:\\ProgramData\\Python Coding\\Advanced_Python_Modules\\Example_Top_Level\\Mid_Example_Two are: \n",
      "\n",
      "The files inside the C:\\ProgramData\\Python Coding\\Advanced_Python_Modules\\Example_Top_Level\\Mid_Example_Two are: \n",
      "\n",
      "--------------------------------------------------------------------------------------------------------------------------------\n",
      "\n"
     ]
    }
   ],
   "source": [
    "for folder, subfolders, files in os.walk(top = path):\n",
    "    print(f'Currently inside the directory: {folder}')\n",
    "    print()\n",
    "\n",
    "    print(f'The sub-directories inside the {folder} are: ')\n",
    "    for subfolder in subfolders:\n",
    "        print(f'\\t{subfolder}')\n",
    "\n",
    "    print()\n",
    "    print(f'The files inside the {folder} are: ')\n",
    "    for file in files:\n",
    "        print(f'\\t{file}')\n",
    "\n",
    "    print()\n",
    "    print('--------------------------------------------------------------------------------------------------------------------------------')\n",
    "    print()"
   ]
  },
  {
   "cell_type": "code",
   "execution_count": 21,
   "id": "5b2594ec-b921-4dda-ad6c-7e40489885e7",
   "metadata": {},
   "outputs": [
    {
     "data": {
      "text/plain": [
       "['3007C12.pdf',\n",
       " 'cs_2022.pdf',\n",
       " 'ga.pdf',\n",
       " 'Invendis Documents',\n",
       " 'New Text Document.txt',\n",
       " 'SQL Tracker.txt']"
      ]
     },
     "execution_count": 21,
     "metadata": {},
     "output_type": "execute_result"
    }
   ],
   "source": [
    "# To delete a file, we must import the OS module, and run its os.remove() function.\n",
    "# We will use the methods to delete files and folders on a newly created folder called 'Deleting Using Python' on the desktop.\n",
    "\n",
    "path = 'C:\\\\ProgramData\\\\Python Coding\\\\Deleting Using Python'\n",
    "\n",
    "# Let us examine the contents of this folder.\n",
    "\n",
    "os.listdir(path)"
   ]
  },
  {
   "cell_type": "code",
   "execution_count": 22,
   "id": "31c554e0-50b8-43b3-9aa1-6c9bb8a19ab0",
   "metadata": {},
   "outputs": [],
   "source": [
    "# Let us remove SQL Tracker.txt file.\n",
    "\n",
    "os.remove('C:\\\\ProgramData\\\\Python Coding\\\\Deleting Using Python\\\\SQL Tracker.txt')"
   ]
  },
  {
   "cell_type": "code",
   "execution_count": 23,
   "id": "3b9af6cb-1923-4566-b723-1de323e23793",
   "metadata": {},
   "outputs": [
    {
     "data": {
      "text/plain": [
       "['3007C12.pdf',\n",
       " 'cs_2022.pdf',\n",
       " 'ga.pdf',\n",
       " 'Invendis Documents',\n",
       " 'New Text Document.txt']"
      ]
     },
     "execution_count": 23,
     "metadata": {},
     "output_type": "execute_result"
    }
   ],
   "source": [
    "# Let us check if our file is deleted or not.\n",
    "os.listdir(path)"
   ]
  },
  {
   "cell_type": "code",
   "execution_count": 25,
   "id": "99963ec7-df5a-4098-8885-7e172da6a0f5",
   "metadata": {},
   "outputs": [
    {
     "name": "stdout",
     "output_type": "stream",
     "text": [
      "The file does not exist.\n"
     ]
    }
   ],
   "source": [
    "# Let us use an if-else construct to check the existence of a file before deleting it.\n",
    "\n",
    "if os.path.exists('C:\\\\ProgramData\\\\Python Coding\\\\Deleting Using Python\\\\SQL Tracker.txt'):\n",
    "    os.remove('C:\\\\ProgramData\\\\Python Coding\\\\Deleting Using Python\\\\SQL Tracker.txt')\n",
    "else:\n",
    "    print('The file does not exist.')"
   ]
  },
  {
   "cell_type": "code",
   "execution_count": 26,
   "id": "2406cc28-b608-4397-a52d-21236352f2f3",
   "metadata": {},
   "outputs": [],
   "source": [
    "if os.path.exists('C:\\\\ProgramData\\\\Python Coding\\\\Deleting Using Python\\\\New Text Document.txt'):\n",
    "    os.remove('C:\\\\ProgramData\\\\Python Coding\\\\Deleting Using Python\\\\New Text Document.txt')\n",
    "else:\n",
    "    print('The file does not exist.')"
   ]
  },
  {
   "cell_type": "code",
   "execution_count": 27,
   "id": "d1ca8a4f-717e-460e-90a5-b02ad3355b49",
   "metadata": {},
   "outputs": [
    {
     "data": {
      "text/plain": [
       "['3007C12.pdf', 'cs_2022.pdf', 'ga.pdf', 'Invendis Documents']"
      ]
     },
     "execution_count": 27,
     "metadata": {},
     "output_type": "execute_result"
    }
   ],
   "source": [
    "os.listdir(path)"
   ]
  },
  {
   "cell_type": "code",
   "execution_count": 28,
   "id": "19c683ba-4b9f-4362-b0b0-c91e95e23258",
   "metadata": {},
   "outputs": [
    {
     "data": {
      "text/plain": [
       "['10th Marks Card (Suhas H).jpg',\n",
       " '12th Marks Card (Suhas H).jpg',\n",
       " 'Aadhaar (Suhas H).pdf',\n",
       " 'Consolidated Marks Sheet All Semesters (Suhas H).jpg',\n",
       " 'Degree Certificate (Suhas H).jpg',\n",
       " 'PAN (Suhas H).jpg']"
      ]
     },
     "execution_count": 28,
     "metadata": {},
     "output_type": "execute_result"
    }
   ],
   "source": [
    "os.listdir('C:\\\\ProgramData\\\\Python Coding\\\\Deleting Using Python\\\\Invendis Documents')"
   ]
  },
  {
   "cell_type": "code",
   "execution_count": 29,
   "id": "8e8540ec-a07d-4c12-be00-6e15c88c86f5",
   "metadata": {},
   "outputs": [],
   "source": [
    "# Let us try to remove everything in the folder Invendis Documents and the folder itself.\n",
    "# We will use the shutil.rmtree() command.\n",
    "\n",
    "shutil.rmtree('C:\\\\ProgramData\\\\Python Coding\\\\Deleting Using Python\\\\Invendis Documents')"
   ]
  },
  {
   "cell_type": "code",
   "execution_count": 30,
   "id": "152989d3-9714-4569-87f8-997138e8c036",
   "metadata": {},
   "outputs": [
    {
     "data": {
      "text/plain": [
       "['3007C12.pdf', 'cs_2022.pdf', 'ga.pdf']"
      ]
     },
     "execution_count": 30,
     "metadata": {},
     "output_type": "execute_result"
    }
   ],
   "source": [
    "os.listdir(path)"
   ]
  },
  {
   "cell_type": "code",
   "execution_count": 31,
   "id": "3ebed777-20e9-474b-a7cb-91a36612bb57",
   "metadata": {},
   "outputs": [],
   "source": [
    "# Now let us delete an empty folder. \n",
    "# First we will make the folder, 'Deleting Using Python', empty and then delete the folder.\n",
    "\n",
    "os.remove('C:\\\\ProgramData\\\\Python Coding\\\\Deleting Using Python\\\\3007C12.pdf')\n",
    "os.remove('C:\\\\ProgramData\\\\Python Coding\\\\Deleting Using Python\\\\cs_2022.pdf')\n",
    "os.remove('C:\\\\ProgramData\\\\Python Coding\\\\Deleting Using Python\\\\ga.pdf')"
   ]
  },
  {
   "cell_type": "code",
   "execution_count": 32,
   "id": "679a0c9a-7961-43be-a547-21d144fcd235",
   "metadata": {},
   "outputs": [
    {
     "data": {
      "text/plain": [
       "[]"
      ]
     },
     "execution_count": 32,
     "metadata": {},
     "output_type": "execute_result"
    }
   ],
   "source": [
    "os.listdir(path)"
   ]
  },
  {
   "cell_type": "code",
   "execution_count": 33,
   "id": "e566a657-c3b6-4cd0-8067-6616c675ead0",
   "metadata": {},
   "outputs": [],
   "source": [
    "# Notice that the above folder is empty. Let us delete it now. \n",
    "\n",
    "os.rmdir(path)"
   ]
  },
  {
   "cell_type": "code",
   "execution_count": 35,
   "id": "af2e3bc2-48ab-45ff-a793-9fbf40a86ebc",
   "metadata": {},
   "outputs": [
    {
     "name": "stdout",
     "output_type": "stream",
     "text": [
      "The folder does not exist.\n"
     ]
    }
   ],
   "source": [
    "# Let us check if the folder has been deleted or not.\n",
    "\n",
    "if os.path.exists(path):\n",
    "    print('The folder exists.')\n",
    "else:\n",
    "    print('The folder does not exist.')"
   ]
  },
  {
   "cell_type": "code",
   "execution_count": 36,
   "id": "aa23bbfa-a8de-4261-93ff-c1d9657ff457",
   "metadata": {},
   "outputs": [
    {
     "data": {
      "text/plain": [
       "['.ipynb_checkpoints',\n",
       " '100_Numpy_exercises.ipynb',\n",
       " '2425770-Absenteeism_at_work.xls',\n",
       " 'account.csv',\n",
       " 'Advanced_Python_Modules',\n",
       " 'air_quality.csv',\n",
       " 'air_quality.pkl',\n",
       " 'application_record.csv',\n",
       " 'Applied_Statistics_with_EDA_W2D1_CT (SEC21).ipynb',\n",
       " 'Applied_Statistics_with_EDA_W2D2_CT (SEC22).ipynb',\n",
       " 'Applied_Statistics_with_EDA_W2_Assignment_Solution.ipynb',\n",
       " 'arrtxt.txt',\n",
       " 'athlete_events.csv',\n",
       " 'Binomial Distribution Example.ipynb',\n",
       " 'Copy of ML101_class notes_18_Unsupervised_machine_learning.ipynb',\n",
       " 'Copy of ML101_class_notes_11_Logistic_regression.ipynb',\n",
       " 'Copy of ML101_class_notes_13_Decision_Tree.ipynb',\n",
       " 'Copy of ML101_class_notes_15_Random_Forest.ipynb',\n",
       " 'Copy of ML101_class_notes_17_SVM_hyperparameter_tuning.ipynb',\n",
       " 'Copy of ML_Week1_day2_CT_MLC12.ipynb',\n",
       " 'Copy_of_ML101_class_notes_15_Random_Forest.ipynb',\n",
       " 'credit_record.csv',\n",
       " 'data.CSV',\n",
       " 'database.xlsx',\n",
       " 'Dataset - Data Analysis v2.xlsx',\n",
       " 'dc_heroes.csv',\n",
       " 'dc_heroes.pkl',\n",
       " 'district.csv',\n",
       " 'EDA_Mandatory_Project_S6237.ipynb',\n",
       " 'EDA_W2D1_CT.ipynb',\n",
       " 'emp.xlsx',\n",
       " 'ETH_1h.csv',\n",
       " 'ExperimentWithDicts.ipynb',\n",
       " 'Exploring data manipulation 2.ipynb',\n",
       " 'Exploring data manipulation(1).ipynb',\n",
       " 'File_Input_Output.ipynb',\n",
       " 'Foundation Project (Part 1).ipynb',\n",
       " 'Foundation Project (Part 2).ipynb',\n",
       " 'Foundation Project (Part 3).ipynb',\n",
       " 'FreeCodeCamp_NumPy_Questions.ipynb',\n",
       " 'games.csv',\n",
       " 'games_without_index.csv',\n",
       " 'games_with_index.csv',\n",
       " 'hero_df.pkl',\n",
       " 'housing.xlsx',\n",
       " 'housing_dataset.csv',\n",
       " 'Importing+data.ipynb',\n",
       " 'insurance.csv',\n",
       " 'iris.csv',\n",
       " 'laptop.csv',\n",
       " 'Laptops_price_prediction.ipynb',\n",
       " 'Lecture1.ipynb',\n",
       " 'Linear Regression (Elementary).ipynb',\n",
       " 'Linear_Regression_from_scratch.ipynb',\n",
       " 'map(), filter() and lambda expressions.ipynb',\n",
       " 'marvel_heroes.csv',\n",
       " 'marvel_heroes.pkl',\n",
       " 'Mathematical_Programs_1.ipynb',\n",
       " 'Milestone Project - 1.ipynb',\n",
       " 'Milestone Project - 2 (Blackjack).ipynb',\n",
       " 'Milestone Project - 2 (Code along).ipynb',\n",
       " 'missions.xlsx',\n",
       " 'ML101 Dataset_8 Mall_Customers.xlsx',\n",
       " 'ML101_class notes_12_Machine_learning_and_Linear_regression.ipynb',\n",
       " 'ML_W2D1_CT_MLC21.ipynb',\n",
       " 'ML_W2D2_CT_MLC22.ipynb',\n",
       " 'ML_Week1_day2_CT_MLC12.ipynb',\n",
       " 'ML_Week1_day_1_CT_MLC11_.ipynb',\n",
       " 'ML_Week_1_Assignment_solution.ipynb',\n",
       " 'mtcars.csv',\n",
       " 'netflix_titles.csv',\n",
       " 'New_ML_Week_2_Assignment_Solutions_.ipynb',\n",
       " 'Normal Distribution Problem.xlsx',\n",
       " 'NumPy_Basics_Part_1.ipynb',\n",
       " 'NumPy_Basics_Part_2.ipynb',\n",
       " 'NumPy_intro.ipynb',\n",
       " 'Numpy_Python_Cheat_Sheet.pdf',\n",
       " 'nyc_federal_taxi.csv',\n",
       " 'Pandas_Basics_1.ipynb',\n",
       " 'Pandas_Basics_10.ipynb',\n",
       " 'Pandas_Basics_11.ipynb',\n",
       " 'Pandas_Basics_12.ipynb',\n",
       " 'Pandas_Basics_2.ipynb',\n",
       " 'Pandas_Basics_3.ipynb',\n",
       " 'Pandas_Basics_4.ipynb',\n",
       " 'Pandas_Basics_5.ipynb',\n",
       " 'Pandas_Basics_6.ipynb',\n",
       " 'Pandas_Basics_7.ipynb',\n",
       " 'Pandas_Basics_8.ipynb',\n",
       " 'Pandas_Basics_9.ipynb',\n",
       " 'Pattern Printing 1.ipynb',\n",
       " 'Pattern Printing 2.ipynb',\n",
       " 'PA_Week3_Day1.ipynb',\n",
       " 'Python Advanced -W3D1-CT (PAC31).ipynb',\n",
       " 'python-cheat-sheet-final-compressed.pdf',\n",
       " 'Python_Advanced_Module_Test_Solutions.ipynb',\n",
       " 'Python_Advanced_W3D1_CT.ipynb',\n",
       " 'Python_Advanced_W3D1_HT.ipynb',\n",
       " 'Python_Advanced_Week3_Assignment.ipynb',\n",
       " 'Python_W5D1_CT.ipynb',\n",
       " 'Python_W5D1_HT.ipynb',\n",
       " 'PY_Advanced_Project_S6237.ipynb',\n",
       " 'PY_Advanced_Project_S6237.zip',\n",
       " 'Question_practice_exercise(importing_manipulation).ipynb',\n",
       " 'Question_practice_exercise+(eda).ipynb',\n",
       " 'Question_practice_exercise_cleaning_transforming.ipynb',\n",
       " 'Recursion.ipynb',\n",
       " 'S6237 (Suhas H) Python Foundation Project.zip',\n",
       " 'sales_data.csv',\n",
       " 'sample1.txt',\n",
       " 'sample2.txt',\n",
       " 'sample_text_file.txt',\n",
       " 'simple1.py',\n",
       " 'Solution_practice_exercise(importing_manipulation).ipynb',\n",
       " 'Solution_practice_exercise+(eda).ipynb',\n",
       " 'Solution_practice_exercise_cleaning_transforming.ipynb',\n",
       " 'sp500.csv',\n",
       " 'sp500_reindexed.pkl',\n",
       " 'stack-overflow-developer-survey-2022',\n",
       " 'Statistics for Business and Economics by David R. Anderson.pdf',\n",
       " 'student.csv',\n",
       " 'SUHAS H_S6237_Capstone_Project1_File1.ipynb',\n",
       " 'SUHAS H_S6237_Capstone_Project1_File2.ipynb',\n",
       " 'superhero_info.xlsx',\n",
       " 'superhero_powers.csv',\n",
       " 'teams.csv',\n",
       " 'Telco_Customer_Churn_DT.ipynb',\n",
       " 'test_file.py',\n",
       " 'tf141.xlsx',\n",
       " 'titanic.csv',\n",
       " 'titled_text.py',\n",
       " 'train.csv',\n",
       " 'trans.csv',\n",
       " 'Udemy_EDA_Aggregating_Statistics.ipynb',\n",
       " 'Udemy_EDA_Applying_Functions.ipynb',\n",
       " 'Udemy_EDA_Cleaning_Text.ipynb',\n",
       " 'Udemy_EDA_Datetime_Extraction_and_Binning.ipynb',\n",
       " 'Udemy_EDA_Datetime_Index.ipynb',\n",
       " 'Udemy_EDA_Distributing_One_Feature.ipynb',\n",
       " 'Udemy_EDA_Downsampling.ipynb',\n",
       " 'Udemy_EDA_Dropping_Missing_Data.ipynb',\n",
       " 'Udemy_EDA_GroupBy.ipynb',\n",
       " 'Udemy_EDA_Imputing_fillna.ipynb',\n",
       " 'Udemy_EDA_Imputing_SKLearn.ipynb',\n",
       " 'Udemy_EDA_Imputing_Statistics.ipynb',\n",
       " 'Udemy_EDA_Mapping_to_new_values.ipynb',\n",
       " 'Udemy_EDA_Missing_Values_Overview.ipynb',\n",
       " 'Udemy_EDA_Model_Imputer.ipynb',\n",
       " 'Udemy_EDA_Outliers.ipynb',\n",
       " 'Udemy_EDA_Pivot_Tables.ipynb',\n",
       " 'Udemy_EDA_Relationship_of_multiple_features.ipynb',\n",
       " 'Udemy_EDA_Relationship_Two_Features_Part1_and_2.ipynb',\n",
       " 'Udemy_EDA_Removing_Duplicates.ipynb',\n",
       " 'Udemy_EDA_Rolling_Shifting.ipynb',\n",
       " 'Udemy_EDA_Seaborn_Overview.ipynb',\n",
       " 'Udemy_EDA_Time_Series.ipynb',\n",
       " 'Udemy_EDA_Upsampling_Time_Series.ipynb',\n",
       " 'Udemy_Errors_Exceptions_HW.ipynb',\n",
       " 'Udemy_OOP_Challenge.ipynb',\n",
       " 'Udemy_OOP_HW.ipynb',\n",
       " 'Udemy_ZTHPB_Decorators.ipynb',\n",
       " 'Udemy_ZTHPB_Functions_and_Methods_HW.ipynb',\n",
       " 'Udemy_ZTHPB_Generators.ipynb',\n",
       " 'Udemy_ZTHPB_Generators_HW.ipynb',\n",
       " 'Udemy_ZTHPB_Test_1.ipynb',\n",
       " 'Udemy_ZTHPB_Test_2.ipynb',\n",
       " 'Vivify_Python_Assignment.ipynb',\n",
       " 'W1D1-SESSION-FILE.xlsx',\n",
       " 'W2D1.xlsx',\n",
       " 'W2D1_Adult_data.ipynb',\n",
       " 'W2D2 - Feature Engineering.ipynb',\n",
       " 'W2D2_SOLUTIONS.ipynb',\n",
       " 'W2_SOLUTIONS.ipynb',\n",
       " 'wdi_duplicates_removed.pkl',\n",
       " 'wdi_imp.pkl',\n",
       " 'wdi_outliers_treated.pkl',\n",
       " 'weather.csv',\n",
       " 'weightlifting.txt',\n",
       " 'world_development_indicators.csv',\n",
       " '__pycache__']"
      ]
     },
     "execution_count": 36,
     "metadata": {},
     "output_type": "execute_result"
    }
   ],
   "source": [
    "os.listdir('C:\\\\ProgramData\\\\Python Coding')"
   ]
  },
  {
   "cell_type": "code",
   "execution_count": null,
   "id": "a5aab595-2fa1-498d-9f94-68a6702cd85b",
   "metadata": {},
   "outputs": [],
   "source": []
  }
 ],
 "metadata": {
  "kernelspec": {
   "display_name": "Python 3 (ipykernel)",
   "language": "python",
   "name": "python3"
  },
  "language_info": {
   "codemirror_mode": {
    "name": "ipython",
    "version": 3
   },
   "file_extension": ".py",
   "mimetype": "text/x-python",
   "name": "python",
   "nbconvert_exporter": "python",
   "pygments_lexer": "ipython3",
   "version": "3.11.5"
  }
 },
 "nbformat": 4,
 "nbformat_minor": 5
}
